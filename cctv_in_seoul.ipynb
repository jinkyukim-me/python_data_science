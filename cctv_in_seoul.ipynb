{
 "cells": [
  {
   "cell_type": "markdown",
   "metadata": {},
   "source": [
    "# 프로젝트 개요"
   ]
  },
  {
   "cell_type": "markdown",
   "metadata": {},
   "source": [
    "데이터 출처\n",
    "* 서울 열린데이터 광장 (data.seoul.go.kr)\n",
    "\n",
    "수집 데이터 내용\n",
    "* 서울시 주민등록 인구 (동별) 통계\n",
    "* 서울시 자치구 년도별 CCTV 설치 현황 \n",
    "\n",
    "문제 인식\n",
    "* 서울시의 cctv개수와 서울시 범죄율 간의 상관관계\n",
    "* cctv 배치 기준 모호\n",
    "\n",
    "분석 목적\n",
    "* 서울시 cctv 설치 현황과 운영 파악 및 자치구 수요 수치화를 통한 cctv 우선 배치 및 선정"
   ]
  },
  {
   "cell_type": "markdown",
   "metadata": {},
   "source": [
    "# 데이터 파일 불러오기"
   ]
  },
  {
   "cell_type": "markdown",
   "metadata": {
    "hide_input": false
   },
   "source": [
    "## csv"
   ]
  },
  {
   "cell_type": "markdown",
   "metadata": {},
   "source": [
    "### 컬럼"
   ]
  },
  {
   "cell_type": "code",
   "execution_count": 4,
   "metadata": {
    "ExecuteTime": {
     "end_time": "2020-03-01T17:05:00.455601Z",
     "start_time": "2020-03-01T17:05:00.452832Z"
    }
   },
   "outputs": [
    {
     "data": {
      "text/plain": [
       "Index(['기관명', '소계', '2013년 이전', '2014년', '2015년', '2016년', '2017년', '2018년'], dtype='object')"
      ]
     },
     "execution_count": 4,
     "metadata": {},
     "output_type": "execute_result"
    }
   ],
   "source": [
    "cctv_seoul.columns"
   ]
  },
  {
   "cell_type": "code",
   "execution_count": 5,
   "metadata": {
    "ExecuteTime": {
     "end_time": "2020-03-01T17:05:00.459845Z",
     "start_time": "2020-03-01T17:05:00.456953Z"
    },
    "scrolled": true
   },
   "outputs": [
    {
     "data": {
      "text/plain": [
       "'기관명'"
      ]
     },
     "execution_count": 5,
     "metadata": {},
     "output_type": "execute_result"
    }
   ],
   "source": [
    "cctv_seoul.columns[0]"
   ]
  },
  {
   "cell_type": "code",
   "execution_count": 6,
   "metadata": {
    "ExecuteTime": {
     "end_time": "2020-03-01T17:05:00.464372Z",
     "start_time": "2020-03-01T17:05:00.461243Z"
    }
   },
   "outputs": [
    {
     "data": {
      "text/plain": [
       "Index(['소계', '2013년 이전'], dtype='object')"
      ]
     },
     "execution_count": 6,
     "metadata": {},
     "output_type": "execute_result"
    }
   ],
   "source": [
    "cctv_seoul.columns[1:3]"
   ]
  },
  {
   "cell_type": "code",
   "execution_count": 7,
   "metadata": {
    "ExecuteTime": {
     "end_time": "2020-03-01T17:05:00.468609Z",
     "start_time": "2020-03-01T17:05:00.465610Z"
    }
   },
   "outputs": [
    {
     "data": {
      "text/plain": [
       "Index(['기관명', '소계', '2013년 이전', '2014년', '2015년', '2016년', '2017년', '2018년'], dtype='object')"
      ]
     },
     "execution_count": 7,
     "metadata": {},
     "output_type": "execute_result"
    }
   ],
   "source": [
    "cctv_seoul.columns[:]"
   ]
  },
  {
   "cell_type": "code",
   "execution_count": 8,
   "metadata": {
    "ExecuteTime": {
     "end_time": "2020-03-01T17:05:00.474229Z",
     "start_time": "2020-03-01T17:05:00.471395Z"
    }
   },
   "outputs": [
    {
     "data": {
      "text/plain": [
       "'2018년'"
      ]
     },
     "execution_count": 8,
     "metadata": {},
     "output_type": "execute_result"
    }
   ],
   "source": [
    "cctv_seoul.columns[-1]"
   ]
  },
  {
   "cell_type": "markdown",
   "metadata": {},
   "source": [
    "### 이름 바꾸기\n",
    "\n",
    "* 칼럼 이름 바꾸기\n",
    "\n",
    ": df.columns = ['a', 'b']\n",
    "\n",
    ": df.rename(columns = {'old_nm' : 'new_nm'), inplace = True)\n",
    "\n",
    "\n",
    "* 인덱스 이름 바꾸기\n",
    "\n",
    ": df.index = ['a', 'b']\n",
    "\n",
    ": df.rename(index = {'old_nm': 'new_nm'), inplace = True)\n",
    "\n",
    "inplace=True는 데이터 변수의 내용을 갱신하라는 의미"
   ]
  },
  {
   "cell_type": "code",
   "execution_count": 9,
   "metadata": {
    "ExecuteTime": {
     "end_time": "2020-03-01T17:05:00.487892Z",
     "start_time": "2020-03-01T17:05:00.476496Z"
    }
   },
   "outputs": [
    {
     "data": {
      "text/html": [
       "<div>\n",
       "<style>\n",
       "    .dataframe thead tr:only-child th {\n",
       "        text-align: right;\n",
       "    }\n",
       "\n",
       "    .dataframe thead th {\n",
       "        text-align: left;\n",
       "    }\n",
       "\n",
       "    .dataframe tbody tr th {\n",
       "        vertical-align: top;\n",
       "    }\n",
       "</style>\n",
       "<table border=\"1\" class=\"dataframe\">\n",
       "  <thead>\n",
       "    <tr style=\"text-align: right;\">\n",
       "      <th></th>\n",
       "      <th>지역구</th>\n",
       "      <th>소계</th>\n",
       "      <th>2013년 이전</th>\n",
       "      <th>2014년</th>\n",
       "      <th>2015년</th>\n",
       "      <th>2016년</th>\n",
       "      <th>2017년</th>\n",
       "      <th>2018년</th>\n",
       "    </tr>\n",
       "  </thead>\n",
       "  <tbody>\n",
       "    <tr>\n",
       "      <th>0</th>\n",
       "      <td>강 남 구</td>\n",
       "      <td>5221</td>\n",
       "      <td>2455</td>\n",
       "      <td>430</td>\n",
       "      <td>546</td>\n",
       "      <td>765</td>\n",
       "      <td>577</td>\n",
       "      <td>448</td>\n",
       "    </tr>\n",
       "    <tr>\n",
       "      <th>1</th>\n",
       "      <td>강 동 구</td>\n",
       "      <td>1879</td>\n",
       "      <td>824</td>\n",
       "      <td>59</td>\n",
       "      <td>144</td>\n",
       "      <td>194</td>\n",
       "      <td>273</td>\n",
       "      <td>385</td>\n",
       "    </tr>\n",
       "    <tr>\n",
       "      <th>2</th>\n",
       "      <td>강 북 구</td>\n",
       "      <td>1265</td>\n",
       "      <td>472</td>\n",
       "      <td>74</td>\n",
       "      <td>145</td>\n",
       "      <td>254</td>\n",
       "      <td>1</td>\n",
       "      <td>319</td>\n",
       "    </tr>\n",
       "    <tr>\n",
       "      <th>3</th>\n",
       "      <td>강 서 구</td>\n",
       "      <td>1617</td>\n",
       "      <td>492</td>\n",
       "      <td>230</td>\n",
       "      <td>187</td>\n",
       "      <td>190</td>\n",
       "      <td>264</td>\n",
       "      <td>254</td>\n",
       "    </tr>\n",
       "    <tr>\n",
       "      <th>4</th>\n",
       "      <td>관 악 구</td>\n",
       "      <td>3985</td>\n",
       "      <td>905</td>\n",
       "      <td>487</td>\n",
       "      <td>609</td>\n",
       "      <td>619</td>\n",
       "      <td>694</td>\n",
       "      <td>671</td>\n",
       "    </tr>\n",
       "    <tr>\n",
       "      <th>5</th>\n",
       "      <td>광 진 구</td>\n",
       "      <td>1581</td>\n",
       "      <td>595</td>\n",
       "      <td>87</td>\n",
       "      <td>64</td>\n",
       "      <td>21</td>\n",
       "      <td>468</td>\n",
       "      <td>346</td>\n",
       "    </tr>\n",
       "    <tr>\n",
       "      <th>6</th>\n",
       "      <td>구 로 구</td>\n",
       "      <td>3227</td>\n",
       "      <td>1420</td>\n",
       "      <td>187</td>\n",
       "      <td>268</td>\n",
       "      <td>326</td>\n",
       "      <td>540</td>\n",
       "      <td>486</td>\n",
       "    </tr>\n",
       "    <tr>\n",
       "      <th>7</th>\n",
       "      <td>금 천 구</td>\n",
       "      <td>1634</td>\n",
       "      <td>286</td>\n",
       "      <td>101</td>\n",
       "      <td>382</td>\n",
       "      <td>136</td>\n",
       "      <td>199</td>\n",
       "      <td>530</td>\n",
       "    </tr>\n",
       "    <tr>\n",
       "      <th>8</th>\n",
       "      <td>노 원 구</td>\n",
       "      <td>1906</td>\n",
       "      <td>801</td>\n",
       "      <td>80</td>\n",
       "      <td>461</td>\n",
       "      <td>298</td>\n",
       "      <td>110</td>\n",
       "      <td>156</td>\n",
       "    </tr>\n",
       "    <tr>\n",
       "      <th>9</th>\n",
       "      <td>도 봉 구</td>\n",
       "      <td>858</td>\n",
       "      <td>271</td>\n",
       "      <td>185</td>\n",
       "      <td>59</td>\n",
       "      <td>155</td>\n",
       "      <td>117</td>\n",
       "      <td>71</td>\n",
       "    </tr>\n",
       "    <tr>\n",
       "      <th>10</th>\n",
       "      <td>동대문구</td>\n",
       "      <td>3073</td>\n",
       "      <td>1070</td>\n",
       "      <td>1326</td>\n",
       "      <td>111</td>\n",
       "      <td>233</td>\n",
       "      <td>136</td>\n",
       "      <td>197</td>\n",
       "    </tr>\n",
       "    <tr>\n",
       "      <th>11</th>\n",
       "      <td>동 작 구</td>\n",
       "      <td>1780</td>\n",
       "      <td>360</td>\n",
       "      <td>503</td>\n",
       "      <td>130</td>\n",
       "      <td>254</td>\n",
       "      <td>278</td>\n",
       "      <td>255</td>\n",
       "    </tr>\n",
       "    <tr>\n",
       "      <th>12</th>\n",
       "      <td>마 포 구</td>\n",
       "      <td>1935</td>\n",
       "      <td>762</td>\n",
       "      <td>70</td>\n",
       "      <td>177</td>\n",
       "      <td>359</td>\n",
       "      <td>372</td>\n",
       "      <td>195</td>\n",
       "    </tr>\n",
       "    <tr>\n",
       "      <th>13</th>\n",
       "      <td>서대문구</td>\n",
       "      <td>2121</td>\n",
       "      <td>1012</td>\n",
       "      <td>114</td>\n",
       "      <td>109</td>\n",
       "      <td>277</td>\n",
       "      <td>415</td>\n",
       "      <td>194</td>\n",
       "    </tr>\n",
       "    <tr>\n",
       "      <th>14</th>\n",
       "      <td>서 초 구</td>\n",
       "      <td>2835</td>\n",
       "      <td>1491</td>\n",
       "      <td>134</td>\n",
       "      <td>215</td>\n",
       "      <td>352</td>\n",
       "      <td>247</td>\n",
       "      <td>396</td>\n",
       "    </tr>\n",
       "    <tr>\n",
       "      <th>15</th>\n",
       "      <td>성 동 구</td>\n",
       "      <td>2679</td>\n",
       "      <td>892</td>\n",
       "      <td>101</td>\n",
       "      <td>258</td>\n",
       "      <td>201</td>\n",
       "      <td>933</td>\n",
       "      <td>294</td>\n",
       "    </tr>\n",
       "    <tr>\n",
       "      <th>16</th>\n",
       "      <td>성 북 구</td>\n",
       "      <td>3003</td>\n",
       "      <td>1167</td>\n",
       "      <td>241</td>\n",
       "      <td>279</td>\n",
       "      <td>388</td>\n",
       "      <td>285</td>\n",
       "      <td>643</td>\n",
       "    </tr>\n",
       "    <tr>\n",
       "      <th>17</th>\n",
       "      <td>송 파 구</td>\n",
       "      <td>1586</td>\n",
       "      <td>787</td>\n",
       "      <td>21</td>\n",
       "      <td>166</td>\n",
       "      <td>100</td>\n",
       "      <td>116</td>\n",
       "      <td>396</td>\n",
       "    </tr>\n",
       "    <tr>\n",
       "      <th>18</th>\n",
       "      <td>양 천 구</td>\n",
       "      <td>2775</td>\n",
       "      <td>1118</td>\n",
       "      <td>169</td>\n",
       "      <td>172</td>\n",
       "      <td>349</td>\n",
       "      <td>137</td>\n",
       "      <td>830</td>\n",
       "    </tr>\n",
       "    <tr>\n",
       "      <th>19</th>\n",
       "      <td>영등포구</td>\n",
       "      <td>2495</td>\n",
       "      <td>459</td>\n",
       "      <td>217</td>\n",
       "      <td>366</td>\n",
       "      <td>289</td>\n",
       "      <td>371</td>\n",
       "      <td>793</td>\n",
       "    </tr>\n",
       "    <tr>\n",
       "      <th>20</th>\n",
       "      <td>용 산 구</td>\n",
       "      <td>2063</td>\n",
       "      <td>1632</td>\n",
       "      <td>107</td>\n",
       "      <td>102</td>\n",
       "      <td>89</td>\n",
       "      <td>60</td>\n",
       "      <td>73</td>\n",
       "    </tr>\n",
       "    <tr>\n",
       "      <th>21</th>\n",
       "      <td>은 평 구</td>\n",
       "      <td>2962</td>\n",
       "      <td>1547</td>\n",
       "      <td>343</td>\n",
       "      <td>180</td>\n",
       "      <td>296</td>\n",
       "      <td>229</td>\n",
       "      <td>367</td>\n",
       "    </tr>\n",
       "    <tr>\n",
       "      <th>22</th>\n",
       "      <td>종 로 구</td>\n",
       "      <td>1471</td>\n",
       "      <td>614</td>\n",
       "      <td>132</td>\n",
       "      <td>195</td>\n",
       "      <td>148</td>\n",
       "      <td>281</td>\n",
       "      <td>101</td>\n",
       "    </tr>\n",
       "    <tr>\n",
       "      <th>23</th>\n",
       "      <td>중     구</td>\n",
       "      <td>1544</td>\n",
       "      <td>304</td>\n",
       "      <td>80</td>\n",
       "      <td>245</td>\n",
       "      <td>270</td>\n",
       "      <td>317</td>\n",
       "      <td>328</td>\n",
       "    </tr>\n",
       "    <tr>\n",
       "      <th>24</th>\n",
       "      <td>중 랑 구</td>\n",
       "      <td>1577</td>\n",
       "      <td>509</td>\n",
       "      <td>770</td>\n",
       "      <td>102</td>\n",
       "      <td>121</td>\n",
       "      <td>66</td>\n",
       "      <td>9</td>\n",
       "    </tr>\n",
       "  </tbody>\n",
       "</table>\n",
       "</div>"
      ],
      "text/plain": [
       "        지역구    소계  2013년 이전  2014년  2015년  2016년  2017년  2018년\n",
       "0     강 남 구  5221      2455    430    546    765    577    448\n",
       "1     강 동 구  1879       824     59    144    194    273    385\n",
       "2     강 북 구  1265       472     74    145    254      1    319\n",
       "3     강 서 구  1617       492    230    187    190    264    254\n",
       "4     관 악 구  3985       905    487    609    619    694    671\n",
       "5     광 진 구  1581       595     87     64     21    468    346\n",
       "6     구 로 구  3227      1420    187    268    326    540    486\n",
       "7     금 천 구  1634       286    101    382    136    199    530\n",
       "8     노 원 구  1906       801     80    461    298    110    156\n",
       "9     도 봉 구   858       271    185     59    155    117     71\n",
       "10     동대문구  3073      1070   1326    111    233    136    197\n",
       "11    동 작 구  1780       360    503    130    254    278    255\n",
       "12    마 포 구  1935       762     70    177    359    372    195\n",
       "13     서대문구  2121      1012    114    109    277    415    194\n",
       "14    서 초 구  2835      1491    134    215    352    247    396\n",
       "15    성 동 구  2679       892    101    258    201    933    294\n",
       "16    성 북 구  3003      1167    241    279    388    285    643\n",
       "17    송 파 구  1586       787     21    166    100    116    396\n",
       "18    양 천 구  2775      1118    169    172    349    137    830\n",
       "19     영등포구  2495       459    217    366    289    371    793\n",
       "20    용 산 구  2063      1632    107    102     89     60     73\n",
       "21    은 평 구  2962      1547    343    180    296    229    367\n",
       "22    종 로 구  1471       614    132    195    148    281    101\n",
       "23  중     구  1544       304     80    245    270    317    328\n",
       "24    중 랑 구  1577       509    770    102    121     66      9"
      ]
     },
     "execution_count": 9,
     "metadata": {},
     "output_type": "execute_result"
    }
   ],
   "source": [
    "cctv_seoul.rename(columns={'기관명':'지역구'}, inplace=True)\n",
    "cctv_seoul"
   ]
  },
  {
   "cell_type": "code",
   "execution_count": 10,
   "metadata": {
    "ExecuteTime": {
     "end_time": "2020-03-01T17:05:00.494403Z",
     "start_time": "2020-03-01T17:05:00.489451Z"
    },
    "hide_input": false
   },
   "outputs": [],
   "source": [
    "import pandas as pd\n",
    "cctv_seoul = pd.read_csv('./data/cctv_in_seoul.csv', encoding='utf-8')\n",
    "cctv_seoul.dropna(inplace=True)"
   ]
  },
  {
   "cell_type": "markdown",
   "metadata": {},
   "source": [
    "## excel"
   ]
  },
  {
   "cell_type": "code",
   "execution_count": 11,
   "metadata": {
    "ExecuteTime": {
     "end_time": "2020-03-01T17:05:00.538268Z",
     "start_time": "2020-03-01T17:05:00.495813Z"
    }
   },
   "outputs": [
    {
     "data": {
      "text/html": [
       "<div>\n",
       "<style>\n",
       "    .dataframe thead tr:only-child th {\n",
       "        text-align: right;\n",
       "    }\n",
       "\n",
       "    .dataframe thead th {\n",
       "        text-align: left;\n",
       "    }\n",
       "\n",
       "    .dataframe tbody tr th {\n",
       "        vertical-align: top;\n",
       "    }\n",
       "</style>\n",
       "<table border=\"1\" class=\"dataframe\">\n",
       "  <thead>\n",
       "    <tr style=\"text-align: right;\">\n",
       "      <th></th>\n",
       "      <th>기간</th>\n",
       "      <th>자치구</th>\n",
       "      <th>세대</th>\n",
       "      <th>인구</th>\n",
       "      <th>인구.1</th>\n",
       "      <th>인구.2</th>\n",
       "      <th>인구.3</th>\n",
       "      <th>인구.4</th>\n",
       "      <th>인구.5</th>\n",
       "      <th>인구.6</th>\n",
       "      <th>인구.7</th>\n",
       "      <th>인구.8</th>\n",
       "      <th>세대당인구</th>\n",
       "      <th>65세이상고령자</th>\n",
       "    </tr>\n",
       "  </thead>\n",
       "  <tbody>\n",
       "    <tr>\n",
       "      <th>0</th>\n",
       "      <td>기간</td>\n",
       "      <td>자치구</td>\n",
       "      <td>세대</td>\n",
       "      <td>합계</td>\n",
       "      <td>합계</td>\n",
       "      <td>합계</td>\n",
       "      <td>한국인</td>\n",
       "      <td>한국인</td>\n",
       "      <td>한국인</td>\n",
       "      <td>등록외국인</td>\n",
       "      <td>등록외국인</td>\n",
       "      <td>등록외국인</td>\n",
       "      <td>세대당인구</td>\n",
       "      <td>65세이상고령자</td>\n",
       "    </tr>\n",
       "    <tr>\n",
       "      <th>1</th>\n",
       "      <td>기간</td>\n",
       "      <td>자치구</td>\n",
       "      <td>세대</td>\n",
       "      <td>계</td>\n",
       "      <td>남자</td>\n",
       "      <td>여자</td>\n",
       "      <td>계</td>\n",
       "      <td>남자</td>\n",
       "      <td>여자</td>\n",
       "      <td>계</td>\n",
       "      <td>남자</td>\n",
       "      <td>여자</td>\n",
       "      <td>세대당인구</td>\n",
       "      <td>65세이상고령자</td>\n",
       "    </tr>\n",
       "    <tr>\n",
       "      <th>2</th>\n",
       "      <td>2019.1/4</td>\n",
       "      <td>합계</td>\n",
       "      <td>4290922</td>\n",
       "      <td>10054979</td>\n",
       "      <td>4909387</td>\n",
       "      <td>5145592</td>\n",
       "      <td>9770216</td>\n",
       "      <td>4772134</td>\n",
       "      <td>4998082</td>\n",
       "      <td>284763</td>\n",
       "      <td>137253</td>\n",
       "      <td>147510</td>\n",
       "      <td>2.28</td>\n",
       "      <td>1436125</td>\n",
       "    </tr>\n",
       "    <tr>\n",
       "      <th>3</th>\n",
       "      <td>2019.1/4</td>\n",
       "      <td>종로구</td>\n",
       "      <td>73914</td>\n",
       "      <td>162913</td>\n",
       "      <td>78963</td>\n",
       "      <td>83950</td>\n",
       "      <td>152778</td>\n",
       "      <td>74536</td>\n",
       "      <td>78242</td>\n",
       "      <td>10135</td>\n",
       "      <td>4427</td>\n",
       "      <td>5708</td>\n",
       "      <td>2.07</td>\n",
       "      <td>26981</td>\n",
       "    </tr>\n",
       "    <tr>\n",
       "      <th>4</th>\n",
       "      <td>2019.1/4</td>\n",
       "      <td>중구</td>\n",
       "      <td>61800</td>\n",
       "      <td>135836</td>\n",
       "      <td>66720</td>\n",
       "      <td>69116</td>\n",
       "      <td>125942</td>\n",
       "      <td>61992</td>\n",
       "      <td>63950</td>\n",
       "      <td>9894</td>\n",
       "      <td>4728</td>\n",
       "      <td>5166</td>\n",
       "      <td>2.04</td>\n",
       "      <td>22421</td>\n",
       "    </tr>\n",
       "  </tbody>\n",
       "</table>\n",
       "</div>"
      ],
      "text/plain": [
       "         기간  자치구       세대        인구     인구.1     인구.2     인구.3     인구.4  \\\n",
       "0        기간  자치구       세대        합계       합계       합계      한국인      한국인   \n",
       "1        기간  자치구       세대         계       남자       여자        계       남자   \n",
       "2  2019.1/4   합계  4290922  10054979  4909387  5145592  9770216  4772134   \n",
       "3  2019.1/4  종로구    73914    162913    78963    83950   152778    74536   \n",
       "4  2019.1/4   중구    61800    135836    66720    69116   125942    61992   \n",
       "\n",
       "      인구.5    인구.6    인구.7    인구.8  세대당인구  65세이상고령자  \n",
       "0      한국인   등록외국인   등록외국인   등록외국인  세대당인구  65세이상고령자  \n",
       "1       여자       계      남자      여자  세대당인구  65세이상고령자  \n",
       "2  4998082  284763  137253  147510   2.28   1436125  \n",
       "3    78242   10135    4427    5708   2.07     26981  \n",
       "4    63950    9894    4728    5166   2.04     22421  "
      ]
     },
     "execution_count": 11,
     "metadata": {},
     "output_type": "execute_result"
    }
   ],
   "source": [
    "pop_seoul = pd.read_excel('./data/population_in_seoul.xlsx', encoding='utf-8', thousands=',')\n",
    "pop_seoul.head()"
   ]
  },
  {
   "cell_type": "markdown",
   "metadata": {},
   "source": [
    "### 불필요한 헤더 제거"
   ]
  },
  {
   "cell_type": "markdown",
   "metadata": {},
   "source": [
    "##### 불필요한 hearder를 제거"
   ]
  },
  {
   "cell_type": "code",
   "execution_count": 12,
   "metadata": {
    "ExecuteTime": {
     "end_time": "2020-03-01T17:05:00.556642Z",
     "start_time": "2020-03-01T17:05:00.539756Z"
    }
   },
   "outputs": [
    {
     "data": {
      "text/html": [
       "<div>\n",
       "<style>\n",
       "    .dataframe thead tr:only-child th {\n",
       "        text-align: right;\n",
       "    }\n",
       "\n",
       "    .dataframe thead th {\n",
       "        text-align: left;\n",
       "    }\n",
       "\n",
       "    .dataframe tbody tr th {\n",
       "        vertical-align: top;\n",
       "    }\n",
       "</style>\n",
       "<table border=\"1\" class=\"dataframe\">\n",
       "  <thead>\n",
       "    <tr style=\"text-align: right;\">\n",
       "      <th></th>\n",
       "      <th>기간</th>\n",
       "      <th>자치구</th>\n",
       "      <th>세대</th>\n",
       "      <th>계</th>\n",
       "      <th>남자</th>\n",
       "      <th>여자</th>\n",
       "      <th>계.1</th>\n",
       "      <th>남자.1</th>\n",
       "      <th>여자.1</th>\n",
       "      <th>계.2</th>\n",
       "      <th>남자.2</th>\n",
       "      <th>여자.2</th>\n",
       "      <th>세대당인구</th>\n",
       "      <th>65세이상고령자</th>\n",
       "    </tr>\n",
       "  </thead>\n",
       "  <tbody>\n",
       "    <tr>\n",
       "      <th>0</th>\n",
       "      <td>2019.1/4</td>\n",
       "      <td>합계</td>\n",
       "      <td>4290922</td>\n",
       "      <td>10054979</td>\n",
       "      <td>4909387</td>\n",
       "      <td>5145592</td>\n",
       "      <td>9770216</td>\n",
       "      <td>4772134</td>\n",
       "      <td>4998082</td>\n",
       "      <td>284763</td>\n",
       "      <td>137253</td>\n",
       "      <td>147510</td>\n",
       "      <td>2.28</td>\n",
       "      <td>1436125</td>\n",
       "    </tr>\n",
       "    <tr>\n",
       "      <th>1</th>\n",
       "      <td>2019.1/4</td>\n",
       "      <td>종로구</td>\n",
       "      <td>73914</td>\n",
       "      <td>162913</td>\n",
       "      <td>78963</td>\n",
       "      <td>83950</td>\n",
       "      <td>152778</td>\n",
       "      <td>74536</td>\n",
       "      <td>78242</td>\n",
       "      <td>10135</td>\n",
       "      <td>4427</td>\n",
       "      <td>5708</td>\n",
       "      <td>2.07</td>\n",
       "      <td>26981</td>\n",
       "    </tr>\n",
       "    <tr>\n",
       "      <th>2</th>\n",
       "      <td>2019.1/4</td>\n",
       "      <td>중구</td>\n",
       "      <td>61800</td>\n",
       "      <td>135836</td>\n",
       "      <td>66720</td>\n",
       "      <td>69116</td>\n",
       "      <td>125942</td>\n",
       "      <td>61992</td>\n",
       "      <td>63950</td>\n",
       "      <td>9894</td>\n",
       "      <td>4728</td>\n",
       "      <td>5166</td>\n",
       "      <td>2.04</td>\n",
       "      <td>22421</td>\n",
       "    </tr>\n",
       "    <tr>\n",
       "      <th>3</th>\n",
       "      <td>2019.1/4</td>\n",
       "      <td>용산구</td>\n",
       "      <td>109413</td>\n",
       "      <td>245139</td>\n",
       "      <td>119597</td>\n",
       "      <td>125542</td>\n",
       "      <td>229168</td>\n",
       "      <td>110626</td>\n",
       "      <td>118542</td>\n",
       "      <td>15971</td>\n",
       "      <td>8971</td>\n",
       "      <td>7000</td>\n",
       "      <td>2.09</td>\n",
       "      <td>38049</td>\n",
       "    </tr>\n",
       "    <tr>\n",
       "      <th>4</th>\n",
       "      <td>2019.1/4</td>\n",
       "      <td>성동구</td>\n",
       "      <td>137247</td>\n",
       "      <td>314608</td>\n",
       "      <td>154011</td>\n",
       "      <td>160597</td>\n",
       "      <td>306404</td>\n",
       "      <td>150287</td>\n",
       "      <td>156117</td>\n",
       "      <td>8204</td>\n",
       "      <td>3724</td>\n",
       "      <td>4480</td>\n",
       "      <td>2.23</td>\n",
       "      <td>43076</td>\n",
       "    </tr>\n",
       "  </tbody>\n",
       "</table>\n",
       "</div>"
      ],
      "text/plain": [
       "         기간  자치구       세대         계       남자       여자      계.1     남자.1  \\\n",
       "0  2019.1/4   합계  4290922  10054979  4909387  5145592  9770216  4772134   \n",
       "1  2019.1/4  종로구    73914    162913    78963    83950   152778    74536   \n",
       "2  2019.1/4   중구    61800    135836    66720    69116   125942    61992   \n",
       "3  2019.1/4  용산구   109413    245139   119597   125542   229168   110626   \n",
       "4  2019.1/4  성동구   137247    314608   154011   160597   306404   150287   \n",
       "\n",
       "      여자.1     계.2    남자.2    여자.2  세대당인구  65세이상고령자  \n",
       "0  4998082  284763  137253  147510   2.28   1436125  \n",
       "1    78242   10135    4427    5708   2.07     26981  \n",
       "2    63950    9894    4728    5166   2.04     22421  \n",
       "3   118542   15971    8971    7000   2.09     38049  \n",
       "4   156117    8204    3724    4480   2.23     43076  "
      ]
     },
     "execution_count": 12,
     "metadata": {},
     "output_type": "execute_result"
    }
   ],
   "source": [
    "pop_seoul = pd.read_excel('./data/population_in_seoul.xlsx', \n",
    "                          header = 2,\n",
    "                          encoding='utf-8', \n",
    "                          thousands=',')\n",
    "pop_seoul.head()"
   ]
  },
  {
   "cell_type": "markdown",
   "metadata": {},
   "source": [
    "### 필요한 컬럼만 선택"
   ]
  },
  {
   "cell_type": "markdown",
   "metadata": {},
   "source": [
    "##### 필요한 컬럼만 선택"
   ]
  },
  {
   "cell_type": "code",
   "execution_count": 13,
   "metadata": {
    "ExecuteTime": {
     "end_time": "2020-03-01T17:05:00.571284Z",
     "start_time": "2020-03-01T17:05:00.558312Z"
    }
   },
   "outputs": [
    {
     "data": {
      "text/html": [
       "<div>\n",
       "<style>\n",
       "    .dataframe thead tr:only-child th {\n",
       "        text-align: right;\n",
       "    }\n",
       "\n",
       "    .dataframe thead th {\n",
       "        text-align: left;\n",
       "    }\n",
       "\n",
       "    .dataframe tbody tr th {\n",
       "        vertical-align: top;\n",
       "    }\n",
       "</style>\n",
       "<table border=\"1\" class=\"dataframe\">\n",
       "  <thead>\n",
       "    <tr style=\"text-align: right;\">\n",
       "      <th></th>\n",
       "      <th>자치구</th>\n",
       "      <th>계</th>\n",
       "      <th>계.1</th>\n",
       "      <th>계.2</th>\n",
       "      <th>65세이상고령자</th>\n",
       "    </tr>\n",
       "  </thead>\n",
       "  <tbody>\n",
       "    <tr>\n",
       "      <th>0</th>\n",
       "      <td>합계</td>\n",
       "      <td>10054979</td>\n",
       "      <td>9770216</td>\n",
       "      <td>284763</td>\n",
       "      <td>1436125</td>\n",
       "    </tr>\n",
       "    <tr>\n",
       "      <th>1</th>\n",
       "      <td>종로구</td>\n",
       "      <td>162913</td>\n",
       "      <td>152778</td>\n",
       "      <td>10135</td>\n",
       "      <td>26981</td>\n",
       "    </tr>\n",
       "    <tr>\n",
       "      <th>2</th>\n",
       "      <td>중구</td>\n",
       "      <td>135836</td>\n",
       "      <td>125942</td>\n",
       "      <td>9894</td>\n",
       "      <td>22421</td>\n",
       "    </tr>\n",
       "    <tr>\n",
       "      <th>3</th>\n",
       "      <td>용산구</td>\n",
       "      <td>245139</td>\n",
       "      <td>229168</td>\n",
       "      <td>15971</td>\n",
       "      <td>38049</td>\n",
       "    </tr>\n",
       "    <tr>\n",
       "      <th>4</th>\n",
       "      <td>성동구</td>\n",
       "      <td>314608</td>\n",
       "      <td>306404</td>\n",
       "      <td>8204</td>\n",
       "      <td>43076</td>\n",
       "    </tr>\n",
       "  </tbody>\n",
       "</table>\n",
       "</div>"
      ],
      "text/plain": [
       "   자치구         계      계.1     계.2  65세이상고령자\n",
       "0   합계  10054979  9770216  284763   1436125\n",
       "1  종로구    162913   152778   10135     26981\n",
       "2   중구    135836   125942    9894     22421\n",
       "3  용산구    245139   229168   15971     38049\n",
       "4  성동구    314608   306404    8204     43076"
      ]
     },
     "execution_count": 13,
     "metadata": {},
     "output_type": "execute_result"
    }
   ],
   "source": [
    "pop_seoul = pd.read_excel('./data/population_in_seoul.xlsx', \n",
    "                          header = 2,\n",
    "                          parse_cols = 'B, D, G, J, N',\n",
    "                          encoding='utf-8', \n",
    "                          thousands=',')\n",
    "pop_seoul.head()"
   ]
  },
  {
   "cell_type": "markdown",
   "metadata": {},
   "source": [
    "### 컬럼 이름 변경"
   ]
  },
  {
   "cell_type": "markdown",
   "metadata": {},
   "source": [
    "##### rename을 이용, 컬럼 이름 변경"
   ]
  },
  {
   "cell_type": "code",
   "execution_count": 14,
   "metadata": {
    "ExecuteTime": {
     "end_time": "2020-03-01T17:05:00.581177Z",
     "start_time": "2020-03-01T17:05:00.572913Z"
    }
   },
   "outputs": [
    {
     "data": {
      "text/html": [
       "<div>\n",
       "<style>\n",
       "    .dataframe thead tr:only-child th {\n",
       "        text-align: right;\n",
       "    }\n",
       "\n",
       "    .dataframe thead th {\n",
       "        text-align: left;\n",
       "    }\n",
       "\n",
       "    .dataframe tbody tr th {\n",
       "        vertical-align: top;\n",
       "    }\n",
       "</style>\n",
       "<table border=\"1\" class=\"dataframe\">\n",
       "  <thead>\n",
       "    <tr style=\"text-align: right;\">\n",
       "      <th></th>\n",
       "      <th>지역별</th>\n",
       "      <th>인구수</th>\n",
       "      <th>한국인</th>\n",
       "      <th>외국인</th>\n",
       "      <th>고령자</th>\n",
       "    </tr>\n",
       "  </thead>\n",
       "  <tbody>\n",
       "    <tr>\n",
       "      <th>0</th>\n",
       "      <td>합계</td>\n",
       "      <td>10054979</td>\n",
       "      <td>9770216</td>\n",
       "      <td>284763</td>\n",
       "      <td>1436125</td>\n",
       "    </tr>\n",
       "    <tr>\n",
       "      <th>1</th>\n",
       "      <td>종로구</td>\n",
       "      <td>162913</td>\n",
       "      <td>152778</td>\n",
       "      <td>10135</td>\n",
       "      <td>26981</td>\n",
       "    </tr>\n",
       "    <tr>\n",
       "      <th>2</th>\n",
       "      <td>중구</td>\n",
       "      <td>135836</td>\n",
       "      <td>125942</td>\n",
       "      <td>9894</td>\n",
       "      <td>22421</td>\n",
       "    </tr>\n",
       "    <tr>\n",
       "      <th>3</th>\n",
       "      <td>용산구</td>\n",
       "      <td>245139</td>\n",
       "      <td>229168</td>\n",
       "      <td>15971</td>\n",
       "      <td>38049</td>\n",
       "    </tr>\n",
       "    <tr>\n",
       "      <th>4</th>\n",
       "      <td>성동구</td>\n",
       "      <td>314608</td>\n",
       "      <td>306404</td>\n",
       "      <td>8204</td>\n",
       "      <td>43076</td>\n",
       "    </tr>\n",
       "  </tbody>\n",
       "</table>\n",
       "</div>"
      ],
      "text/plain": [
       "   지역별       인구수      한국인     외국인      고령자\n",
       "0   합계  10054979  9770216  284763  1436125\n",
       "1  종로구    162913   152778   10135    26981\n",
       "2   중구    135836   125942    9894    22421\n",
       "3  용산구    245139   229168   15971    38049\n",
       "4  성동구    314608   306404    8204    43076"
      ]
     },
     "execution_count": 14,
     "metadata": {},
     "output_type": "execute_result"
    }
   ],
   "source": [
    "pop_seoul.rename(columns={pop_seoul.columns[0] : '지역별',\n",
    "                          pop_seoul.columns[1] : '인구수',\n",
    "                          pop_seoul.columns[2] : '한국인',\n",
    "                          pop_seoul.columns[3] : '외국인',\n",
    "                          pop_seoul.columns[4] : '고령자'},\n",
    "                          inplace = True)\n",
    "pop_seoul.head()"
   ]
  },
  {
   "cell_type": "markdown",
   "metadata": {},
   "source": [
    "# pandas 기초"
   ]
  },
  {
   "cell_type": "code",
   "execution_count": 15,
   "metadata": {
    "ExecuteTime": {
     "end_time": "2020-03-01T17:05:00.585866Z",
     "start_time": "2020-03-01T17:05:00.583975Z"
    }
   },
   "outputs": [],
   "source": [
    "import pandas as pd\n",
    "import numpy as np"
   ]
  },
  {
   "cell_type": "markdown",
   "metadata": {},
   "source": [
    "## Series : pandas의 데이터 유형 중 기초"
   ]
  },
  {
   "cell_type": "code",
   "execution_count": 16,
   "metadata": {
    "ExecuteTime": {
     "end_time": "2020-03-01T17:05:00.591195Z",
     "start_time": "2020-03-01T17:05:00.587135Z"
    }
   },
   "outputs": [
    {
     "data": {
      "text/plain": [
       "0    1.0\n",
       "1    3.0\n",
       "2    5.0\n",
       "3    NaN\n",
       "4    6.0\n",
       "5    8.0\n",
       "dtype: float64"
      ]
     },
     "execution_count": 16,
     "metadata": {},
     "output_type": "execute_result"
    }
   ],
   "source": [
    "s = pd.Series([1, 3, 5, np.nan, 6, 8]) # NaN(Not A Number)\n",
    "s"
   ]
  },
  {
   "cell_type": "code",
   "execution_count": 17,
   "metadata": {
    "ExecuteTime": {
     "end_time": "2020-03-01T17:05:00.596124Z",
     "start_time": "2020-03-01T17:05:00.592458Z"
    }
   },
   "outputs": [
    {
     "data": {
      "text/plain": [
       "0     10\n",
       "1     20\n",
       "2     30\n",
       "3     40\n",
       "4     50\n",
       "5    100\n",
       "dtype: int64"
      ]
     },
     "execution_count": 17,
     "metadata": {},
     "output_type": "execute_result"
    }
   ],
   "source": [
    "s1 = pd.Series([10, 20, 30, 40, 50, 100])\n",
    "s1"
   ]
  },
  {
   "cell_type": "markdown",
   "metadata": {},
   "source": [
    "## 날짜형 데이터"
   ]
  },
  {
   "cell_type": "code",
   "execution_count": 18,
   "metadata": {
    "ExecuteTime": {
     "end_time": "2020-03-01T17:05:00.600814Z",
     "start_time": "2020-03-01T17:05:00.597458Z"
    }
   },
   "outputs": [
    {
     "data": {
      "text/plain": [
       "DatetimeIndex(['2020-03-01', '2020-03-02', '2020-03-03', '2020-03-04',\n",
       "               '2020-03-05', '2020-03-06'],\n",
       "              dtype='datetime64[ns]', freq='D')"
      ]
     },
     "execution_count": 18,
     "metadata": {},
     "output_type": "execute_result"
    }
   ],
   "source": [
    "dates = pd.date_range('20200301', periods=6)\n",
    "dates"
   ]
  },
  {
   "cell_type": "code",
   "execution_count": 19,
   "metadata": {
    "ExecuteTime": {
     "end_time": "2020-03-01T17:05:00.605756Z",
     "start_time": "2020-03-01T17:05:00.602258Z"
    }
   },
   "outputs": [
    {
     "data": {
      "text/plain": [
       "DatetimeIndex(['2020-12-24', '2020-12-25', '2020-12-26', '2020-12-27',\n",
       "               '2020-12-28', '2020-12-29', '2020-12-30', '2020-12-31'],\n",
       "              dtype='datetime64[ns]', freq='D')"
      ]
     },
     "execution_count": 19,
     "metadata": {},
     "output_type": "execute_result"
    }
   ],
   "source": [
    "dates_xmas = pd.date_range('20201224', periods=8)\n",
    "dates_xmas"
   ]
  },
  {
   "cell_type": "markdown",
   "metadata": {
    "ExecuteTime": {
     "end_time": "2020-02-29T13:42:09.281954Z",
     "start_time": "2020-02-29T13:42:09.275462Z"
    }
   },
   "source": [
    "## DataFrame 만들어보기"
   ]
  },
  {
   "cell_type": "code",
   "execution_count": 20,
   "metadata": {
    "ExecuteTime": {
     "end_time": "2020-03-01T17:05:00.614938Z",
     "start_time": "2020-03-01T17:05:00.607143Z"
    }
   },
   "outputs": [
    {
     "data": {
      "text/html": [
       "<div>\n",
       "<style>\n",
       "    .dataframe thead tr:only-child th {\n",
       "        text-align: right;\n",
       "    }\n",
       "\n",
       "    .dataframe thead th {\n",
       "        text-align: left;\n",
       "    }\n",
       "\n",
       "    .dataframe tbody tr th {\n",
       "        vertical-align: top;\n",
       "    }\n",
       "</style>\n",
       "<table border=\"1\" class=\"dataframe\">\n",
       "  <thead>\n",
       "    <tr style=\"text-align: right;\">\n",
       "      <th></th>\n",
       "      <th>A</th>\n",
       "      <th>B</th>\n",
       "      <th>C</th>\n",
       "      <th>D</th>\n",
       "    </tr>\n",
       "  </thead>\n",
       "  <tbody>\n",
       "    <tr>\n",
       "      <th>2020-12-24</th>\n",
       "      <td>-0.740713</td>\n",
       "      <td>-0.695086</td>\n",
       "      <td>0.255775</td>\n",
       "      <td>-1.299827</td>\n",
       "    </tr>\n",
       "    <tr>\n",
       "      <th>2020-12-25</th>\n",
       "      <td>-0.238852</td>\n",
       "      <td>-0.258937</td>\n",
       "      <td>-0.846127</td>\n",
       "      <td>0.365356</td>\n",
       "    </tr>\n",
       "    <tr>\n",
       "      <th>2020-12-26</th>\n",
       "      <td>-0.403194</td>\n",
       "      <td>-0.614242</td>\n",
       "      <td>-0.418047</td>\n",
       "      <td>0.980536</td>\n",
       "    </tr>\n",
       "  </tbody>\n",
       "</table>\n",
       "</div>"
      ],
      "text/plain": [
       "                   A         B         C         D\n",
       "2020-12-24 -0.740713 -0.695086  0.255775 -1.299827\n",
       "2020-12-25 -0.238852 -0.258937 -0.846127  0.365356\n",
       "2020-12-26 -0.403194 -0.614242 -0.418047  0.980536"
      ]
     },
     "execution_count": 20,
     "metadata": {},
     "output_type": "execute_result"
    }
   ],
   "source": [
    "# rand: 0부터 1사이의 균일 분포\n",
    "# randn: 가우시안 표준 정규 분포\n",
    "# randint: 균일 분포의 정수 난수\n",
    "df = pd.DataFrame(np.random.randn(8,4),\n",
    "                  index=dates_xmas,\n",
    "                  columns=['A','B','C','D']\n",
    "                 )\n",
    "df.head(3)"
   ]
  },
  {
   "cell_type": "markdown",
   "metadata": {},
   "source": [
    "## 인덱스 확인"
   ]
  },
  {
   "cell_type": "code",
   "execution_count": 21,
   "metadata": {
    "ExecuteTime": {
     "end_time": "2020-03-01T17:05:00.619471Z",
     "start_time": "2020-03-01T17:05:00.616452Z"
    }
   },
   "outputs": [
    {
     "data": {
      "text/plain": [
       "DatetimeIndex(['2020-12-24', '2020-12-25', '2020-12-26', '2020-12-27',\n",
       "               '2020-12-28', '2020-12-29', '2020-12-30', '2020-12-31'],\n",
       "              dtype='datetime64[ns]', freq='D')"
      ]
     },
     "execution_count": 21,
     "metadata": {},
     "output_type": "execute_result"
    }
   ],
   "source": [
    "df.index"
   ]
  },
  {
   "cell_type": "markdown",
   "metadata": {},
   "source": [
    "## 컬럼 확인"
   ]
  },
  {
   "cell_type": "code",
   "execution_count": 22,
   "metadata": {
    "ExecuteTime": {
     "end_time": "2020-03-01T17:05:00.623789Z",
     "start_time": "2020-03-01T17:05:00.621020Z"
    }
   },
   "outputs": [
    {
     "data": {
      "text/plain": [
       "Index(['A', 'B', 'C', 'D'], dtype='object')"
      ]
     },
     "execution_count": 22,
     "metadata": {},
     "output_type": "execute_result"
    }
   ],
   "source": [
    "df.columns"
   ]
  },
  {
   "cell_type": "markdown",
   "metadata": {},
   "source": [
    "## 내용 확인"
   ]
  },
  {
   "cell_type": "code",
   "execution_count": 23,
   "metadata": {
    "ExecuteTime": {
     "end_time": "2020-03-01T17:05:00.632543Z",
     "start_time": "2020-03-01T17:05:00.629213Z"
    },
    "scrolled": true
   },
   "outputs": [
    {
     "data": {
      "text/plain": [
       "array([[-0.740713  , -0.69508564,  0.25577492, -1.29982729],\n",
       "       [-0.23885178, -0.25893705, -0.84612734,  0.36535602],\n",
       "       [-0.40319428, -0.61424187, -0.41804723,  0.98053633],\n",
       "       [ 0.89484423, -2.78881061,  0.10295139,  0.67539441],\n",
       "       [ 1.52549682, -1.05144196,  0.01683752,  1.73987082],\n",
       "       [-0.0175691 ,  0.62286138, -0.8270699 , -0.0036266 ],\n",
       "       [-0.46684094, -0.42770617,  1.80507327, -1.45540419],\n",
       "       [ 1.20565203, -0.74311471,  0.04489536, -0.39025868]])"
      ]
     },
     "execution_count": 23,
     "metadata": {},
     "output_type": "execute_result"
    }
   ],
   "source": [
    "df.values"
   ]
  },
  {
   "cell_type": "markdown",
   "metadata": {},
   "source": [
    "## 개요 확인"
   ]
  },
  {
   "cell_type": "code",
   "execution_count": 24,
   "metadata": {
    "ExecuteTime": {
     "end_time": "2020-03-01T17:05:00.639546Z",
     "start_time": "2020-03-01T17:05:00.635866Z"
    }
   },
   "outputs": [
    {
     "name": "stdout",
     "output_type": "stream",
     "text": [
      "<class 'pandas.core.frame.DataFrame'>\n",
      "DatetimeIndex: 8 entries, 2020-12-24 to 2020-12-31\n",
      "Freq: D\n",
      "Data columns (total 4 columns):\n",
      "A    8 non-null float64\n",
      "B    8 non-null float64\n",
      "C    8 non-null float64\n",
      "D    8 non-null float64\n",
      "dtypes: float64(4)\n",
      "memory usage: 320.0 bytes\n"
     ]
    }
   ],
   "source": [
    "df.info()"
   ]
  },
  {
   "cell_type": "markdown",
   "metadata": {},
   "source": [
    "## 통계적 개요 확인"
   ]
  },
  {
   "cell_type": "code",
   "execution_count": 25,
   "metadata": {
    "ExecuteTime": {
     "end_time": "2020-03-01T17:05:00.653299Z",
     "start_time": "2020-03-01T17:05:00.640908Z"
    }
   },
   "outputs": [
    {
     "data": {
      "text/html": [
       "<div>\n",
       "<style>\n",
       "    .dataframe thead tr:only-child th {\n",
       "        text-align: right;\n",
       "    }\n",
       "\n",
       "    .dataframe thead th {\n",
       "        text-align: left;\n",
       "    }\n",
       "\n",
       "    .dataframe tbody tr th {\n",
       "        vertical-align: top;\n",
       "    }\n",
       "</style>\n",
       "<table border=\"1\" class=\"dataframe\">\n",
       "  <thead>\n",
       "    <tr style=\"text-align: right;\">\n",
       "      <th></th>\n",
       "      <th>A</th>\n",
       "      <th>B</th>\n",
       "      <th>C</th>\n",
       "      <th>D</th>\n",
       "    </tr>\n",
       "  </thead>\n",
       "  <tbody>\n",
       "    <tr>\n",
       "      <th>count</th>\n",
       "      <td>8.000000</td>\n",
       "      <td>8.000000</td>\n",
       "      <td>8.000000</td>\n",
       "      <td>8.000000</td>\n",
       "    </tr>\n",
       "    <tr>\n",
       "      <th>mean</th>\n",
       "      <td>0.219853</td>\n",
       "      <td>-0.744560</td>\n",
       "      <td>0.016786</td>\n",
       "      <td>0.076505</td>\n",
       "    </tr>\n",
       "    <tr>\n",
       "      <th>std</th>\n",
       "      <td>0.860342</td>\n",
       "      <td>0.963523</td>\n",
       "      <td>0.837436</td>\n",
       "      <td>1.101394</td>\n",
       "    </tr>\n",
       "    <tr>\n",
       "      <th>min</th>\n",
       "      <td>-0.740713</td>\n",
       "      <td>-2.788811</td>\n",
       "      <td>-0.846127</td>\n",
       "      <td>-1.455404</td>\n",
       "    </tr>\n",
       "    <tr>\n",
       "      <th>25%</th>\n",
       "      <td>-0.419106</td>\n",
       "      <td>-0.820197</td>\n",
       "      <td>-0.520303</td>\n",
       "      <td>-0.617651</td>\n",
       "    </tr>\n",
       "    <tr>\n",
       "      <th>50%</th>\n",
       "      <td>-0.128210</td>\n",
       "      <td>-0.654664</td>\n",
       "      <td>0.030866</td>\n",
       "      <td>0.180865</td>\n",
       "    </tr>\n",
       "    <tr>\n",
       "      <th>75%</th>\n",
       "      <td>0.972546</td>\n",
       "      <td>-0.385514</td>\n",
       "      <td>0.141157</td>\n",
       "      <td>0.751680</td>\n",
       "    </tr>\n",
       "    <tr>\n",
       "      <th>max</th>\n",
       "      <td>1.525497</td>\n",
       "      <td>0.622861</td>\n",
       "      <td>1.805073</td>\n",
       "      <td>1.739871</td>\n",
       "    </tr>\n",
       "  </tbody>\n",
       "</table>\n",
       "</div>"
      ],
      "text/plain": [
       "              A         B         C         D\n",
       "count  8.000000  8.000000  8.000000  8.000000\n",
       "mean   0.219853 -0.744560  0.016786  0.076505\n",
       "std    0.860342  0.963523  0.837436  1.101394\n",
       "min   -0.740713 -2.788811 -0.846127 -1.455404\n",
       "25%   -0.419106 -0.820197 -0.520303 -0.617651\n",
       "50%   -0.128210 -0.654664  0.030866  0.180865\n",
       "75%    0.972546 -0.385514  0.141157  0.751680\n",
       "max    1.525497  0.622861  1.805073  1.739871"
      ]
     },
     "execution_count": 25,
     "metadata": {},
     "output_type": "execute_result"
    }
   ],
   "source": [
    "df.describe()"
   ]
  },
  {
   "cell_type": "markdown",
   "metadata": {},
   "source": [
    "## 컬럼 기준 정렬"
   ]
  },
  {
   "cell_type": "code",
   "execution_count": 26,
   "metadata": {
    "ExecuteTime": {
     "end_time": "2020-03-01T17:05:00.656882Z",
     "start_time": "2020-03-01T17:05:00.654552Z"
    }
   },
   "outputs": [],
   "source": [
    "df_sort = df.sort_values(by='B', ascending=False)"
   ]
  },
  {
   "cell_type": "code",
   "execution_count": 27,
   "metadata": {
    "ExecuteTime": {
     "end_time": "2020-03-01T17:05:00.664671Z",
     "start_time": "2020-03-01T17:05:00.658601Z"
    }
   },
   "outputs": [
    {
     "data": {
      "text/html": [
       "<div>\n",
       "<style>\n",
       "    .dataframe thead tr:only-child th {\n",
       "        text-align: right;\n",
       "    }\n",
       "\n",
       "    .dataframe thead th {\n",
       "        text-align: left;\n",
       "    }\n",
       "\n",
       "    .dataframe tbody tr th {\n",
       "        vertical-align: top;\n",
       "    }\n",
       "</style>\n",
       "<table border=\"1\" class=\"dataframe\">\n",
       "  <thead>\n",
       "    <tr style=\"text-align: right;\">\n",
       "      <th></th>\n",
       "      <th>A</th>\n",
       "      <th>B</th>\n",
       "      <th>C</th>\n",
       "      <th>D</th>\n",
       "    </tr>\n",
       "  </thead>\n",
       "  <tbody>\n",
       "    <tr>\n",
       "      <th>2020-12-29</th>\n",
       "      <td>-0.017569</td>\n",
       "      <td>0.622861</td>\n",
       "      <td>-0.827070</td>\n",
       "      <td>-0.003627</td>\n",
       "    </tr>\n",
       "    <tr>\n",
       "      <th>2020-12-25</th>\n",
       "      <td>-0.238852</td>\n",
       "      <td>-0.258937</td>\n",
       "      <td>-0.846127</td>\n",
       "      <td>0.365356</td>\n",
       "    </tr>\n",
       "    <tr>\n",
       "      <th>2020-12-30</th>\n",
       "      <td>-0.466841</td>\n",
       "      <td>-0.427706</td>\n",
       "      <td>1.805073</td>\n",
       "      <td>-1.455404</td>\n",
       "    </tr>\n",
       "    <tr>\n",
       "      <th>2020-12-26</th>\n",
       "      <td>-0.403194</td>\n",
       "      <td>-0.614242</td>\n",
       "      <td>-0.418047</td>\n",
       "      <td>0.980536</td>\n",
       "    </tr>\n",
       "    <tr>\n",
       "      <th>2020-12-24</th>\n",
       "      <td>-0.740713</td>\n",
       "      <td>-0.695086</td>\n",
       "      <td>0.255775</td>\n",
       "      <td>-1.299827</td>\n",
       "    </tr>\n",
       "    <tr>\n",
       "      <th>2020-12-31</th>\n",
       "      <td>1.205652</td>\n",
       "      <td>-0.743115</td>\n",
       "      <td>0.044895</td>\n",
       "      <td>-0.390259</td>\n",
       "    </tr>\n",
       "    <tr>\n",
       "      <th>2020-12-28</th>\n",
       "      <td>1.525497</td>\n",
       "      <td>-1.051442</td>\n",
       "      <td>0.016838</td>\n",
       "      <td>1.739871</td>\n",
       "    </tr>\n",
       "    <tr>\n",
       "      <th>2020-12-27</th>\n",
       "      <td>0.894844</td>\n",
       "      <td>-2.788811</td>\n",
       "      <td>0.102951</td>\n",
       "      <td>0.675394</td>\n",
       "    </tr>\n",
       "  </tbody>\n",
       "</table>\n",
       "</div>"
      ],
      "text/plain": [
       "                   A         B         C         D\n",
       "2020-12-29 -0.017569  0.622861 -0.827070 -0.003627\n",
       "2020-12-25 -0.238852 -0.258937 -0.846127  0.365356\n",
       "2020-12-30 -0.466841 -0.427706  1.805073 -1.455404\n",
       "2020-12-26 -0.403194 -0.614242 -0.418047  0.980536\n",
       "2020-12-24 -0.740713 -0.695086  0.255775 -1.299827\n",
       "2020-12-31  1.205652 -0.743115  0.044895 -0.390259\n",
       "2020-12-28  1.525497 -1.051442  0.016838  1.739871\n",
       "2020-12-27  0.894844 -2.788811  0.102951  0.675394"
      ]
     },
     "execution_count": 27,
     "metadata": {},
     "output_type": "execute_result"
    }
   ],
   "source": [
    "df_sort"
   ]
  },
  {
   "cell_type": "markdown",
   "metadata": {},
   "source": [
    "## 행의 범위 지정"
   ]
  },
  {
   "cell_type": "code",
   "execution_count": 28,
   "metadata": {
    "ExecuteTime": {
     "end_time": "2020-03-01T17:05:00.675345Z",
     "start_time": "2020-03-01T17:05:00.666419Z"
    }
   },
   "outputs": [
    {
     "data": {
      "text/plain": [
       "2020-12-24   -0.740713\n",
       "2020-12-25   -0.238852\n",
       "2020-12-26   -0.403194\n",
       "2020-12-27    0.894844\n",
       "2020-12-28    1.525497\n",
       "2020-12-29   -0.017569\n",
       "2020-12-30   -0.466841\n",
       "2020-12-31    1.205652\n",
       "Freq: D, Name: A, dtype: float64"
      ]
     },
     "execution_count": 28,
     "metadata": {},
     "output_type": "execute_result"
    }
   ],
   "source": [
    "df['A']"
   ]
  },
  {
   "cell_type": "code",
   "execution_count": 29,
   "metadata": {
    "ExecuteTime": {
     "end_time": "2020-03-01T17:05:00.682995Z",
     "start_time": "2020-03-01T17:05:00.676844Z"
    }
   },
   "outputs": [
    {
     "data": {
      "text/html": [
       "<div>\n",
       "<style>\n",
       "    .dataframe thead tr:only-child th {\n",
       "        text-align: right;\n",
       "    }\n",
       "\n",
       "    .dataframe thead th {\n",
       "        text-align: left;\n",
       "    }\n",
       "\n",
       "    .dataframe tbody tr th {\n",
       "        vertical-align: top;\n",
       "    }\n",
       "</style>\n",
       "<table border=\"1\" class=\"dataframe\">\n",
       "  <thead>\n",
       "    <tr style=\"text-align: right;\">\n",
       "      <th></th>\n",
       "      <th>A</th>\n",
       "      <th>B</th>\n",
       "      <th>C</th>\n",
       "      <th>D</th>\n",
       "    </tr>\n",
       "  </thead>\n",
       "  <tbody>\n",
       "    <tr>\n",
       "      <th>2020-12-26</th>\n",
       "      <td>-0.403194</td>\n",
       "      <td>-0.614242</td>\n",
       "      <td>-0.418047</td>\n",
       "      <td>0.980536</td>\n",
       "    </tr>\n",
       "    <tr>\n",
       "      <th>2020-12-27</th>\n",
       "      <td>0.894844</td>\n",
       "      <td>-2.788811</td>\n",
       "      <td>0.102951</td>\n",
       "      <td>0.675394</td>\n",
       "    </tr>\n",
       "    <tr>\n",
       "      <th>2020-12-28</th>\n",
       "      <td>1.525497</td>\n",
       "      <td>-1.051442</td>\n",
       "      <td>0.016838</td>\n",
       "      <td>1.739871</td>\n",
       "    </tr>\n",
       "    <tr>\n",
       "      <th>2020-12-29</th>\n",
       "      <td>-0.017569</td>\n",
       "      <td>0.622861</td>\n",
       "      <td>-0.827070</td>\n",
       "      <td>-0.003627</td>\n",
       "    </tr>\n",
       "  </tbody>\n",
       "</table>\n",
       "</div>"
      ],
      "text/plain": [
       "                   A         B         C         D\n",
       "2020-12-26 -0.403194 -0.614242 -0.418047  0.980536\n",
       "2020-12-27  0.894844 -2.788811  0.102951  0.675394\n",
       "2020-12-28  1.525497 -1.051442  0.016838  1.739871\n",
       "2020-12-29 -0.017569  0.622861 -0.827070 -0.003627"
      ]
     },
     "execution_count": 29,
     "metadata": {},
     "output_type": "execute_result"
    }
   ],
   "source": [
    "df[2:6]"
   ]
  },
  {
   "cell_type": "code",
   "execution_count": 30,
   "metadata": {
    "ExecuteTime": {
     "end_time": "2020-03-01T17:05:00.691377Z",
     "start_time": "2020-03-01T17:05:00.684554Z"
    }
   },
   "outputs": [
    {
     "data": {
      "text/html": [
       "<div>\n",
       "<style>\n",
       "    .dataframe thead tr:only-child th {\n",
       "        text-align: right;\n",
       "    }\n",
       "\n",
       "    .dataframe thead th {\n",
       "        text-align: left;\n",
       "    }\n",
       "\n",
       "    .dataframe tbody tr th {\n",
       "        vertical-align: top;\n",
       "    }\n",
       "</style>\n",
       "<table border=\"1\" class=\"dataframe\">\n",
       "  <thead>\n",
       "    <tr style=\"text-align: right;\">\n",
       "      <th></th>\n",
       "      <th>A</th>\n",
       "      <th>B</th>\n",
       "      <th>C</th>\n",
       "      <th>D</th>\n",
       "    </tr>\n",
       "  </thead>\n",
       "  <tbody>\n",
       "    <tr>\n",
       "      <th>2020-12-27</th>\n",
       "      <td>0.894844</td>\n",
       "      <td>-2.788811</td>\n",
       "      <td>0.102951</td>\n",
       "      <td>0.675394</td>\n",
       "    </tr>\n",
       "    <tr>\n",
       "      <th>2020-12-28</th>\n",
       "      <td>1.525497</td>\n",
       "      <td>-1.051442</td>\n",
       "      <td>0.016838</td>\n",
       "      <td>1.739871</td>\n",
       "    </tr>\n",
       "    <tr>\n",
       "      <th>2020-12-29</th>\n",
       "      <td>-0.017569</td>\n",
       "      <td>0.622861</td>\n",
       "      <td>-0.827070</td>\n",
       "      <td>-0.003627</td>\n",
       "    </tr>\n",
       "    <tr>\n",
       "      <th>2020-12-30</th>\n",
       "      <td>-0.466841</td>\n",
       "      <td>-0.427706</td>\n",
       "      <td>1.805073</td>\n",
       "      <td>-1.455404</td>\n",
       "    </tr>\n",
       "    <tr>\n",
       "      <th>2020-12-31</th>\n",
       "      <td>1.205652</td>\n",
       "      <td>-0.743115</td>\n",
       "      <td>0.044895</td>\n",
       "      <td>-0.390259</td>\n",
       "    </tr>\n",
       "  </tbody>\n",
       "</table>\n",
       "</div>"
      ],
      "text/plain": [
       "                   A         B         C         D\n",
       "2020-12-27  0.894844 -2.788811  0.102951  0.675394\n",
       "2020-12-28  1.525497 -1.051442  0.016838  1.739871\n",
       "2020-12-29 -0.017569  0.622861 -0.827070 -0.003627\n",
       "2020-12-30 -0.466841 -0.427706  1.805073 -1.455404\n",
       "2020-12-31  1.205652 -0.743115  0.044895 -0.390259"
      ]
     },
     "execution_count": 30,
     "metadata": {},
     "output_type": "execute_result"
    }
   ],
   "source": [
    "df['20201227':'20201231']"
   ]
  },
  {
   "cell_type": "code",
   "execution_count": 31,
   "metadata": {
    "ExecuteTime": {
     "end_time": "2020-03-01T17:05:00.699261Z",
     "start_time": "2020-03-01T17:05:00.692909Z"
    }
   },
   "outputs": [
    {
     "data": {
      "text/html": [
       "<div>\n",
       "<style>\n",
       "    .dataframe thead tr:only-child th {\n",
       "        text-align: right;\n",
       "    }\n",
       "\n",
       "    .dataframe thead th {\n",
       "        text-align: left;\n",
       "    }\n",
       "\n",
       "    .dataframe tbody tr th {\n",
       "        vertical-align: top;\n",
       "    }\n",
       "</style>\n",
       "<table border=\"1\" class=\"dataframe\">\n",
       "  <thead>\n",
       "    <tr style=\"text-align: right;\">\n",
       "      <th></th>\n",
       "      <th>A</th>\n",
       "      <th>B</th>\n",
       "      <th>C</th>\n",
       "      <th>D</th>\n",
       "    </tr>\n",
       "  </thead>\n",
       "  <tbody>\n",
       "    <tr>\n",
       "      <th>2020-12-27</th>\n",
       "      <td>0.894844</td>\n",
       "      <td>-2.788811</td>\n",
       "      <td>0.102951</td>\n",
       "      <td>0.675394</td>\n",
       "    </tr>\n",
       "    <tr>\n",
       "      <th>2020-12-28</th>\n",
       "      <td>1.525497</td>\n",
       "      <td>-1.051442</td>\n",
       "      <td>0.016838</td>\n",
       "      <td>1.739871</td>\n",
       "    </tr>\n",
       "    <tr>\n",
       "      <th>2020-12-29</th>\n",
       "      <td>-0.017569</td>\n",
       "      <td>0.622861</td>\n",
       "      <td>-0.827070</td>\n",
       "      <td>-0.003627</td>\n",
       "    </tr>\n",
       "    <tr>\n",
       "      <th>2020-12-30</th>\n",
       "      <td>-0.466841</td>\n",
       "      <td>-0.427706</td>\n",
       "      <td>1.805073</td>\n",
       "      <td>-1.455404</td>\n",
       "    </tr>\n",
       "    <tr>\n",
       "      <th>2020-12-31</th>\n",
       "      <td>1.205652</td>\n",
       "      <td>-0.743115</td>\n",
       "      <td>0.044895</td>\n",
       "      <td>-0.390259</td>\n",
       "    </tr>\n",
       "  </tbody>\n",
       "</table>\n",
       "</div>"
      ],
      "text/plain": [
       "                   A         B         C         D\n",
       "2020-12-27  0.894844 -2.788811  0.102951  0.675394\n",
       "2020-12-28  1.525497 -1.051442  0.016838  1.739871\n",
       "2020-12-29 -0.017569  0.622861 -0.827070 -0.003627\n",
       "2020-12-30 -0.466841 -0.427706  1.805073 -1.455404\n",
       "2020-12-31  1.205652 -0.743115  0.044895 -0.390259"
      ]
     },
     "execution_count": 31,
     "metadata": {},
     "output_type": "execute_result"
    }
   ],
   "source": [
    "df['20201227':]"
   ]
  },
  {
   "cell_type": "markdown",
   "metadata": {},
   "source": [
    "## 변수를 이용해서 특정 날짜의 데이터만 보기"
   ]
  },
  {
   "cell_type": "code",
   "execution_count": 32,
   "metadata": {
    "ExecuteTime": {
     "end_time": "2020-03-01T17:05:00.704481Z",
     "start_time": "2020-03-01T17:05:00.700704Z"
    }
   },
   "outputs": [
    {
     "data": {
      "text/plain": [
       "A   -0.740713\n",
       "B   -0.695086\n",
       "C    0.255775\n",
       "D   -1.299827\n",
       "Name: 2020-12-24 00:00:00, dtype: float64"
      ]
     },
     "execution_count": 32,
     "metadata": {},
     "output_type": "execute_result"
    }
   ],
   "source": [
    "df.loc[dates_xmas[0]]"
   ]
  },
  {
   "cell_type": "code",
   "execution_count": 33,
   "metadata": {
    "ExecuteTime": {
     "end_time": "2020-03-01T17:05:00.713050Z",
     "start_time": "2020-03-01T17:05:00.706164Z"
    }
   },
   "outputs": [
    {
     "data": {
      "text/html": [
       "<div>\n",
       "<style>\n",
       "    .dataframe thead tr:only-child th {\n",
       "        text-align: right;\n",
       "    }\n",
       "\n",
       "    .dataframe thead th {\n",
       "        text-align: left;\n",
       "    }\n",
       "\n",
       "    .dataframe tbody tr th {\n",
       "        vertical-align: top;\n",
       "    }\n",
       "</style>\n",
       "<table border=\"1\" class=\"dataframe\">\n",
       "  <thead>\n",
       "    <tr style=\"text-align: right;\">\n",
       "      <th></th>\n",
       "      <th>A</th>\n",
       "      <th>B</th>\n",
       "      <th>C</th>\n",
       "      <th>D</th>\n",
       "    </tr>\n",
       "  </thead>\n",
       "  <tbody>\n",
       "    <tr>\n",
       "      <th>2020-12-27</th>\n",
       "      <td>0.894844</td>\n",
       "      <td>-2.788811</td>\n",
       "      <td>0.102951</td>\n",
       "      <td>0.675394</td>\n",
       "    </tr>\n",
       "    <tr>\n",
       "      <th>2020-12-28</th>\n",
       "      <td>1.525497</td>\n",
       "      <td>-1.051442</td>\n",
       "      <td>0.016838</td>\n",
       "      <td>1.739871</td>\n",
       "    </tr>\n",
       "    <tr>\n",
       "      <th>2020-12-29</th>\n",
       "      <td>-0.017569</td>\n",
       "      <td>0.622861</td>\n",
       "      <td>-0.827070</td>\n",
       "      <td>-0.003627</td>\n",
       "    </tr>\n",
       "  </tbody>\n",
       "</table>\n",
       "</div>"
      ],
      "text/plain": [
       "                   A         B         C         D\n",
       "2020-12-27  0.894844 -2.788811  0.102951  0.675394\n",
       "2020-12-28  1.525497 -1.051442  0.016838  1.739871\n",
       "2020-12-29 -0.017569  0.622861 -0.827070 -0.003627"
      ]
     },
     "execution_count": 33,
     "metadata": {},
     "output_type": "execute_result"
    }
   ],
   "source": [
    "df.loc[dates_xmas[3:6]]"
   ]
  },
  {
   "cell_type": "code",
   "execution_count": 34,
   "metadata": {
    "ExecuteTime": {
     "end_time": "2020-03-01T17:05:00.721973Z",
     "start_time": "2020-03-01T17:05:00.714723Z"
    }
   },
   "outputs": [
    {
     "data": {
      "text/html": [
       "<div>\n",
       "<style>\n",
       "    .dataframe thead tr:only-child th {\n",
       "        text-align: right;\n",
       "    }\n",
       "\n",
       "    .dataframe thead th {\n",
       "        text-align: left;\n",
       "    }\n",
       "\n",
       "    .dataframe tbody tr th {\n",
       "        vertical-align: top;\n",
       "    }\n",
       "</style>\n",
       "<table border=\"1\" class=\"dataframe\">\n",
       "  <thead>\n",
       "    <tr style=\"text-align: right;\">\n",
       "      <th></th>\n",
       "      <th>A</th>\n",
       "      <th>B</th>\n",
       "      <th>C</th>\n",
       "      <th>D</th>\n",
       "    </tr>\n",
       "  </thead>\n",
       "  <tbody>\n",
       "    <tr>\n",
       "      <th>2020-12-24</th>\n",
       "      <td>-0.740713</td>\n",
       "      <td>-0.695086</td>\n",
       "      <td>0.255775</td>\n",
       "      <td>-1.299827</td>\n",
       "    </tr>\n",
       "    <tr>\n",
       "      <th>2020-12-25</th>\n",
       "      <td>-0.238852</td>\n",
       "      <td>-0.258937</td>\n",
       "      <td>-0.846127</td>\n",
       "      <td>0.365356</td>\n",
       "    </tr>\n",
       "    <tr>\n",
       "      <th>2020-12-26</th>\n",
       "      <td>-0.403194</td>\n",
       "      <td>-0.614242</td>\n",
       "      <td>-0.418047</td>\n",
       "      <td>0.980536</td>\n",
       "    </tr>\n",
       "    <tr>\n",
       "      <th>2020-12-27</th>\n",
       "      <td>0.894844</td>\n",
       "      <td>-2.788811</td>\n",
       "      <td>0.102951</td>\n",
       "      <td>0.675394</td>\n",
       "    </tr>\n",
       "    <tr>\n",
       "      <th>2020-12-28</th>\n",
       "      <td>1.525497</td>\n",
       "      <td>-1.051442</td>\n",
       "      <td>0.016838</td>\n",
       "      <td>1.739871</td>\n",
       "    </tr>\n",
       "    <tr>\n",
       "      <th>2020-12-29</th>\n",
       "      <td>-0.017569</td>\n",
       "      <td>0.622861</td>\n",
       "      <td>-0.827070</td>\n",
       "      <td>-0.003627</td>\n",
       "    </tr>\n",
       "    <tr>\n",
       "      <th>2020-12-30</th>\n",
       "      <td>-0.466841</td>\n",
       "      <td>-0.427706</td>\n",
       "      <td>1.805073</td>\n",
       "      <td>-1.455404</td>\n",
       "    </tr>\n",
       "    <tr>\n",
       "      <th>2020-12-31</th>\n",
       "      <td>1.205652</td>\n",
       "      <td>-0.743115</td>\n",
       "      <td>0.044895</td>\n",
       "      <td>-0.390259</td>\n",
       "    </tr>\n",
       "  </tbody>\n",
       "</table>\n",
       "</div>"
      ],
      "text/plain": [
       "                   A         B         C         D\n",
       "2020-12-24 -0.740713 -0.695086  0.255775 -1.299827\n",
       "2020-12-25 -0.238852 -0.258937 -0.846127  0.365356\n",
       "2020-12-26 -0.403194 -0.614242 -0.418047  0.980536\n",
       "2020-12-27  0.894844 -2.788811  0.102951  0.675394\n",
       "2020-12-28  1.525497 -1.051442  0.016838  1.739871\n",
       "2020-12-29 -0.017569  0.622861 -0.827070 -0.003627\n",
       "2020-12-30 -0.466841 -0.427706  1.805073 -1.455404\n",
       "2020-12-31  1.205652 -0.743115  0.044895 -0.390259"
      ]
     },
     "execution_count": 34,
     "metadata": {},
     "output_type": "execute_result"
    }
   ],
   "source": [
    "df.loc[dates_xmas[:]]"
   ]
  },
  {
   "cell_type": "code",
   "execution_count": 35,
   "metadata": {
    "ExecuteTime": {
     "end_time": "2020-03-01T17:05:00.729845Z",
     "start_time": "2020-03-01T17:05:00.723506Z"
    }
   },
   "outputs": [
    {
     "data": {
      "text/html": [
       "<div>\n",
       "<style>\n",
       "    .dataframe thead tr:only-child th {\n",
       "        text-align: right;\n",
       "    }\n",
       "\n",
       "    .dataframe thead th {\n",
       "        text-align: left;\n",
       "    }\n",
       "\n",
       "    .dataframe tbody tr th {\n",
       "        vertical-align: top;\n",
       "    }\n",
       "</style>\n",
       "<table border=\"1\" class=\"dataframe\">\n",
       "  <thead>\n",
       "    <tr style=\"text-align: right;\">\n",
       "      <th></th>\n",
       "      <th>A</th>\n",
       "      <th>B</th>\n",
       "      <th>C</th>\n",
       "      <th>D</th>\n",
       "    </tr>\n",
       "  </thead>\n",
       "  <tbody>\n",
       "    <tr>\n",
       "      <th>2020-12-24</th>\n",
       "      <td>-0.740713</td>\n",
       "      <td>-0.695086</td>\n",
       "      <td>0.255775</td>\n",
       "      <td>-1.299827</td>\n",
       "    </tr>\n",
       "    <tr>\n",
       "      <th>2020-12-25</th>\n",
       "      <td>-0.238852</td>\n",
       "      <td>-0.258937</td>\n",
       "      <td>-0.846127</td>\n",
       "      <td>0.365356</td>\n",
       "    </tr>\n",
       "    <tr>\n",
       "      <th>2020-12-26</th>\n",
       "      <td>-0.403194</td>\n",
       "      <td>-0.614242</td>\n",
       "      <td>-0.418047</td>\n",
       "      <td>0.980536</td>\n",
       "    </tr>\n",
       "    <tr>\n",
       "      <th>2020-12-27</th>\n",
       "      <td>0.894844</td>\n",
       "      <td>-2.788811</td>\n",
       "      <td>0.102951</td>\n",
       "      <td>0.675394</td>\n",
       "    </tr>\n",
       "  </tbody>\n",
       "</table>\n",
       "</div>"
      ],
      "text/plain": [
       "                   A         B         C         D\n",
       "2020-12-24 -0.740713 -0.695086  0.255775 -1.299827\n",
       "2020-12-25 -0.238852 -0.258937 -0.846127  0.365356\n",
       "2020-12-26 -0.403194 -0.614242 -0.418047  0.980536\n",
       "2020-12-27  0.894844 -2.788811  0.102951  0.675394"
      ]
     },
     "execution_count": 35,
     "metadata": {},
     "output_type": "execute_result"
    }
   ],
   "source": [
    "df.loc['20201224':'20201227']"
   ]
  },
  {
   "cell_type": "code",
   "execution_count": 36,
   "metadata": {
    "ExecuteTime": {
     "end_time": "2020-03-01T17:05:00.736123Z",
     "start_time": "2020-03-01T17:05:00.731449Z"
    }
   },
   "outputs": [
    {
     "data": {
      "text/plain": [
       "A   -0.740713\n",
       "B   -0.695086\n",
       "Name: 2020-12-24 00:00:00, dtype: float64"
      ]
     },
     "execution_count": 36,
     "metadata": {},
     "output_type": "execute_result"
    }
   ],
   "source": [
    "df.loc[dates_xmas[0],['A','B']]"
   ]
  },
  {
   "cell_type": "code",
   "execution_count": 37,
   "metadata": {
    "ExecuteTime": {
     "end_time": "2020-03-01T17:05:00.743654Z",
     "start_time": "2020-03-01T17:05:00.737668Z"
    }
   },
   "outputs": [
    {
     "data": {
      "text/html": [
       "<div>\n",
       "<style>\n",
       "    .dataframe thead tr:only-child th {\n",
       "        text-align: right;\n",
       "    }\n",
       "\n",
       "    .dataframe thead th {\n",
       "        text-align: left;\n",
       "    }\n",
       "\n",
       "    .dataframe tbody tr th {\n",
       "        vertical-align: top;\n",
       "    }\n",
       "</style>\n",
       "<table border=\"1\" class=\"dataframe\">\n",
       "  <thead>\n",
       "    <tr style=\"text-align: right;\">\n",
       "      <th></th>\n",
       "      <th>A</th>\n",
       "      <th>B</th>\n",
       "    </tr>\n",
       "  </thead>\n",
       "  <tbody>\n",
       "    <tr>\n",
       "      <th>2020-12-27</th>\n",
       "      <td>0.894844</td>\n",
       "      <td>-2.788811</td>\n",
       "    </tr>\n",
       "    <tr>\n",
       "      <th>2020-12-28</th>\n",
       "      <td>1.525497</td>\n",
       "      <td>-1.051442</td>\n",
       "    </tr>\n",
       "    <tr>\n",
       "      <th>2020-12-29</th>\n",
       "      <td>-0.017569</td>\n",
       "      <td>0.622861</td>\n",
       "    </tr>\n",
       "  </tbody>\n",
       "</table>\n",
       "</div>"
      ],
      "text/plain": [
       "                   A         B\n",
       "2020-12-27  0.894844 -2.788811\n",
       "2020-12-28  1.525497 -1.051442\n",
       "2020-12-29 -0.017569  0.622861"
      ]
     },
     "execution_count": 37,
     "metadata": {},
     "output_type": "execute_result"
    }
   ],
   "source": [
    "df.loc[dates_xmas[3:6],['A','B']]"
   ]
  },
  {
   "cell_type": "code",
   "execution_count": 38,
   "metadata": {
    "ExecuteTime": {
     "end_time": "2020-03-01T17:05:00.754825Z",
     "start_time": "2020-03-01T17:05:00.745884Z"
    }
   },
   "outputs": [
    {
     "data": {
      "text/html": [
       "<div>\n",
       "<style>\n",
       "    .dataframe thead tr:only-child th {\n",
       "        text-align: right;\n",
       "    }\n",
       "\n",
       "    .dataframe thead th {\n",
       "        text-align: left;\n",
       "    }\n",
       "\n",
       "    .dataframe tbody tr th {\n",
       "        vertical-align: top;\n",
       "    }\n",
       "</style>\n",
       "<table border=\"1\" class=\"dataframe\">\n",
       "  <thead>\n",
       "    <tr style=\"text-align: right;\">\n",
       "      <th></th>\n",
       "      <th>A</th>\n",
       "      <th>B</th>\n",
       "    </tr>\n",
       "  </thead>\n",
       "  <tbody>\n",
       "    <tr>\n",
       "      <th>2020-12-24</th>\n",
       "      <td>-0.740713</td>\n",
       "      <td>-0.695086</td>\n",
       "    </tr>\n",
       "    <tr>\n",
       "      <th>2020-12-25</th>\n",
       "      <td>-0.238852</td>\n",
       "      <td>-0.258937</td>\n",
       "    </tr>\n",
       "    <tr>\n",
       "      <th>2020-12-26</th>\n",
       "      <td>-0.403194</td>\n",
       "      <td>-0.614242</td>\n",
       "    </tr>\n",
       "    <tr>\n",
       "      <th>2020-12-27</th>\n",
       "      <td>0.894844</td>\n",
       "      <td>-2.788811</td>\n",
       "    </tr>\n",
       "    <tr>\n",
       "      <th>2020-12-28</th>\n",
       "      <td>1.525497</td>\n",
       "      <td>-1.051442</td>\n",
       "    </tr>\n",
       "    <tr>\n",
       "      <th>2020-12-29</th>\n",
       "      <td>-0.017569</td>\n",
       "      <td>0.622861</td>\n",
       "    </tr>\n",
       "    <tr>\n",
       "      <th>2020-12-30</th>\n",
       "      <td>-0.466841</td>\n",
       "      <td>-0.427706</td>\n",
       "    </tr>\n",
       "    <tr>\n",
       "      <th>2020-12-31</th>\n",
       "      <td>1.205652</td>\n",
       "      <td>-0.743115</td>\n",
       "    </tr>\n",
       "  </tbody>\n",
       "</table>\n",
       "</div>"
      ],
      "text/plain": [
       "                   A         B\n",
       "2020-12-24 -0.740713 -0.695086\n",
       "2020-12-25 -0.238852 -0.258937\n",
       "2020-12-26 -0.403194 -0.614242\n",
       "2020-12-27  0.894844 -2.788811\n",
       "2020-12-28  1.525497 -1.051442\n",
       "2020-12-29 -0.017569  0.622861\n",
       "2020-12-30 -0.466841 -0.427706\n",
       "2020-12-31  1.205652 -0.743115"
      ]
     },
     "execution_count": 38,
     "metadata": {},
     "output_type": "execute_result"
    }
   ],
   "source": [
    "df.loc[dates_xmas[:],['A','B']]"
   ]
  },
  {
   "cell_type": "code",
   "execution_count": 39,
   "metadata": {
    "ExecuteTime": {
     "end_time": "2020-03-01T17:05:00.763782Z",
     "start_time": "2020-03-01T17:05:00.757184Z"
    }
   },
   "outputs": [
    {
     "data": {
      "text/html": [
       "<div>\n",
       "<style>\n",
       "    .dataframe thead tr:only-child th {\n",
       "        text-align: right;\n",
       "    }\n",
       "\n",
       "    .dataframe thead th {\n",
       "        text-align: left;\n",
       "    }\n",
       "\n",
       "    .dataframe tbody tr th {\n",
       "        vertical-align: top;\n",
       "    }\n",
       "</style>\n",
       "<table border=\"1\" class=\"dataframe\">\n",
       "  <thead>\n",
       "    <tr style=\"text-align: right;\">\n",
       "      <th></th>\n",
       "      <th>A</th>\n",
       "      <th>B</th>\n",
       "    </tr>\n",
       "  </thead>\n",
       "  <tbody>\n",
       "    <tr>\n",
       "      <th>2020-12-24</th>\n",
       "      <td>-0.740713</td>\n",
       "      <td>-0.695086</td>\n",
       "    </tr>\n",
       "    <tr>\n",
       "      <th>2020-12-25</th>\n",
       "      <td>-0.238852</td>\n",
       "      <td>-0.258937</td>\n",
       "    </tr>\n",
       "    <tr>\n",
       "      <th>2020-12-26</th>\n",
       "      <td>-0.403194</td>\n",
       "      <td>-0.614242</td>\n",
       "    </tr>\n",
       "    <tr>\n",
       "      <th>2020-12-27</th>\n",
       "      <td>0.894844</td>\n",
       "      <td>-2.788811</td>\n",
       "    </tr>\n",
       "  </tbody>\n",
       "</table>\n",
       "</div>"
      ],
      "text/plain": [
       "                   A         B\n",
       "2020-12-24 -0.740713 -0.695086\n",
       "2020-12-25 -0.238852 -0.258937\n",
       "2020-12-26 -0.403194 -0.614242\n",
       "2020-12-27  0.894844 -2.788811"
      ]
     },
     "execution_count": 39,
     "metadata": {},
     "output_type": "execute_result"
    }
   ],
   "source": [
    "df.loc['20201224':'20201227',['A','B']]"
   ]
  },
  {
   "cell_type": "markdown",
   "metadata": {},
   "source": [
    "## 행과 열의 번호를 이용해서 데이터에 접근"
   ]
  },
  {
   "cell_type": "code",
   "execution_count": 40,
   "metadata": {
    "ExecuteTime": {
     "end_time": "2020-03-01T17:05:00.768731Z",
     "start_time": "2020-03-01T17:05:00.765264Z"
    }
   },
   "outputs": [
    {
     "data": {
      "text/plain": [
       "A    0.894844\n",
       "B   -2.788811\n",
       "C    0.102951\n",
       "D    0.675394\n",
       "Name: 2020-12-27 00:00:00, dtype: float64"
      ]
     },
     "execution_count": 40,
     "metadata": {},
     "output_type": "execute_result"
    }
   ],
   "source": [
    "df.iloc[3]"
   ]
  },
  {
   "cell_type": "code",
   "execution_count": 41,
   "metadata": {
    "ExecuteTime": {
     "end_time": "2020-03-01T17:05:00.776671Z",
     "start_time": "2020-03-01T17:05:00.770036Z"
    }
   },
   "outputs": [
    {
     "data": {
      "text/html": [
       "<div>\n",
       "<style>\n",
       "    .dataframe thead tr:only-child th {\n",
       "        text-align: right;\n",
       "    }\n",
       "\n",
       "    .dataframe thead th {\n",
       "        text-align: left;\n",
       "    }\n",
       "\n",
       "    .dataframe tbody tr th {\n",
       "        vertical-align: top;\n",
       "    }\n",
       "</style>\n",
       "<table border=\"1\" class=\"dataframe\">\n",
       "  <thead>\n",
       "    <tr style=\"text-align: right;\">\n",
       "      <th></th>\n",
       "      <th>A</th>\n",
       "      <th>B</th>\n",
       "      <th>C</th>\n",
       "      <th>D</th>\n",
       "    </tr>\n",
       "  </thead>\n",
       "  <tbody>\n",
       "    <tr>\n",
       "      <th>2020-12-25</th>\n",
       "      <td>-0.238852</td>\n",
       "      <td>-0.258937</td>\n",
       "      <td>-0.846127</td>\n",
       "      <td>0.365356</td>\n",
       "    </tr>\n",
       "    <tr>\n",
       "      <th>2020-12-26</th>\n",
       "      <td>-0.403194</td>\n",
       "      <td>-0.614242</td>\n",
       "      <td>-0.418047</td>\n",
       "      <td>0.980536</td>\n",
       "    </tr>\n",
       "    <tr>\n",
       "      <th>2020-12-27</th>\n",
       "      <td>0.894844</td>\n",
       "      <td>-2.788811</td>\n",
       "      <td>0.102951</td>\n",
       "      <td>0.675394</td>\n",
       "    </tr>\n",
       "  </tbody>\n",
       "</table>\n",
       "</div>"
      ],
      "text/plain": [
       "                   A         B         C         D\n",
       "2020-12-25 -0.238852 -0.258937 -0.846127  0.365356\n",
       "2020-12-26 -0.403194 -0.614242 -0.418047  0.980536\n",
       "2020-12-27  0.894844 -2.788811  0.102951  0.675394"
      ]
     },
     "execution_count": 41,
     "metadata": {},
     "output_type": "execute_result"
    }
   ],
   "source": [
    "df.iloc[1:4]"
   ]
  },
  {
   "cell_type": "code",
   "execution_count": 42,
   "metadata": {
    "ExecuteTime": {
     "end_time": "2020-03-01T17:05:00.783768Z",
     "start_time": "2020-03-01T17:05:00.778123Z"
    }
   },
   "outputs": [
    {
     "data": {
      "text/html": [
       "<div>\n",
       "<style>\n",
       "    .dataframe thead tr:only-child th {\n",
       "        text-align: right;\n",
       "    }\n",
       "\n",
       "    .dataframe thead th {\n",
       "        text-align: left;\n",
       "    }\n",
       "\n",
       "    .dataframe tbody tr th {\n",
       "        vertical-align: top;\n",
       "    }\n",
       "</style>\n",
       "<table border=\"1\" class=\"dataframe\">\n",
       "  <thead>\n",
       "    <tr style=\"text-align: right;\">\n",
       "      <th></th>\n",
       "      <th>B</th>\n",
       "      <th>C</th>\n",
       "    </tr>\n",
       "  </thead>\n",
       "  <tbody>\n",
       "    <tr>\n",
       "      <th>2020-12-25</th>\n",
       "      <td>-0.258937</td>\n",
       "      <td>-0.846127</td>\n",
       "    </tr>\n",
       "    <tr>\n",
       "      <th>2020-12-26</th>\n",
       "      <td>-0.614242</td>\n",
       "      <td>-0.418047</td>\n",
       "    </tr>\n",
       "    <tr>\n",
       "      <th>2020-12-27</th>\n",
       "      <td>-2.788811</td>\n",
       "      <td>0.102951</td>\n",
       "    </tr>\n",
       "  </tbody>\n",
       "</table>\n",
       "</div>"
      ],
      "text/plain": [
       "                   B         C\n",
       "2020-12-25 -0.258937 -0.846127\n",
       "2020-12-26 -0.614242 -0.418047\n",
       "2020-12-27 -2.788811  0.102951"
      ]
     },
     "execution_count": 42,
     "metadata": {},
     "output_type": "execute_result"
    }
   ],
   "source": [
    "df.iloc[1:4,1:3]"
   ]
  },
  {
   "cell_type": "code",
   "execution_count": 43,
   "metadata": {
    "ExecuteTime": {
     "end_time": "2020-03-01T17:05:00.791512Z",
     "start_time": "2020-03-01T17:05:00.785178Z"
    }
   },
   "outputs": [
    {
     "data": {
      "text/html": [
       "<div>\n",
       "<style>\n",
       "    .dataframe thead tr:only-child th {\n",
       "        text-align: right;\n",
       "    }\n",
       "\n",
       "    .dataframe thead th {\n",
       "        text-align: left;\n",
       "    }\n",
       "\n",
       "    .dataframe tbody tr th {\n",
       "        vertical-align: top;\n",
       "    }\n",
       "</style>\n",
       "<table border=\"1\" class=\"dataframe\">\n",
       "  <thead>\n",
       "    <tr style=\"text-align: right;\">\n",
       "      <th></th>\n",
       "      <th>A</th>\n",
       "      <th>D</th>\n",
       "    </tr>\n",
       "  </thead>\n",
       "  <tbody>\n",
       "    <tr>\n",
       "      <th>2020-12-25</th>\n",
       "      <td>-0.238852</td>\n",
       "      <td>0.365356</td>\n",
       "    </tr>\n",
       "    <tr>\n",
       "      <th>2020-12-27</th>\n",
       "      <td>0.894844</td>\n",
       "      <td>0.675394</td>\n",
       "    </tr>\n",
       "    <tr>\n",
       "      <th>2020-12-31</th>\n",
       "      <td>1.205652</td>\n",
       "      <td>-0.390259</td>\n",
       "    </tr>\n",
       "  </tbody>\n",
       "</table>\n",
       "</div>"
      ],
      "text/plain": [
       "                   A         D\n",
       "2020-12-25 -0.238852  0.365356\n",
       "2020-12-27  0.894844  0.675394\n",
       "2020-12-31  1.205652 -0.390259"
      ]
     },
     "execution_count": 43,
     "metadata": {},
     "output_type": "execute_result"
    }
   ],
   "source": [
    "df.iloc[[1,3,7],[0,3]]"
   ]
  },
  {
   "cell_type": "markdown",
   "metadata": {},
   "source": [
    "## 특정 조건 만족하는 데이터"
   ]
  },
  {
   "cell_type": "code",
   "execution_count": 44,
   "metadata": {
    "ExecuteTime": {
     "end_time": "2020-03-01T17:05:00.800091Z",
     "start_time": "2020-03-01T17:05:00.792740Z"
    }
   },
   "outputs": [
    {
     "data": {
      "text/html": [
       "<div>\n",
       "<style>\n",
       "    .dataframe thead tr:only-child th {\n",
       "        text-align: right;\n",
       "    }\n",
       "\n",
       "    .dataframe thead th {\n",
       "        text-align: left;\n",
       "    }\n",
       "\n",
       "    .dataframe tbody tr th {\n",
       "        vertical-align: top;\n",
       "    }\n",
       "</style>\n",
       "<table border=\"1\" class=\"dataframe\">\n",
       "  <thead>\n",
       "    <tr style=\"text-align: right;\">\n",
       "      <th></th>\n",
       "      <th>A</th>\n",
       "      <th>B</th>\n",
       "      <th>C</th>\n",
       "      <th>D</th>\n",
       "    </tr>\n",
       "  </thead>\n",
       "  <tbody>\n",
       "    <tr>\n",
       "      <th>2020-12-27</th>\n",
       "      <td>0.894844</td>\n",
       "      <td>-2.788811</td>\n",
       "      <td>0.102951</td>\n",
       "      <td>0.675394</td>\n",
       "    </tr>\n",
       "    <tr>\n",
       "      <th>2020-12-28</th>\n",
       "      <td>1.525497</td>\n",
       "      <td>-1.051442</td>\n",
       "      <td>0.016838</td>\n",
       "      <td>1.739871</td>\n",
       "    </tr>\n",
       "    <tr>\n",
       "      <th>2020-12-31</th>\n",
       "      <td>1.205652</td>\n",
       "      <td>-0.743115</td>\n",
       "      <td>0.044895</td>\n",
       "      <td>-0.390259</td>\n",
       "    </tr>\n",
       "  </tbody>\n",
       "</table>\n",
       "</div>"
      ],
      "text/plain": [
       "                   A         B         C         D\n",
       "2020-12-27  0.894844 -2.788811  0.102951  0.675394\n",
       "2020-12-28  1.525497 -1.051442  0.016838  1.739871\n",
       "2020-12-31  1.205652 -0.743115  0.044895 -0.390259"
      ]
     },
     "execution_count": 44,
     "metadata": {},
     "output_type": "execute_result"
    }
   ],
   "source": [
    "df[df.A > 0.5]"
   ]
  },
  {
   "cell_type": "code",
   "execution_count": 45,
   "metadata": {
    "ExecuteTime": {
     "end_time": "2020-03-01T17:05:00.808960Z",
     "start_time": "2020-03-01T17:05:00.801485Z"
    }
   },
   "outputs": [
    {
     "data": {
      "text/html": [
       "<div>\n",
       "<style>\n",
       "    .dataframe thead tr:only-child th {\n",
       "        text-align: right;\n",
       "    }\n",
       "\n",
       "    .dataframe thead th {\n",
       "        text-align: left;\n",
       "    }\n",
       "\n",
       "    .dataframe tbody tr th {\n",
       "        vertical-align: top;\n",
       "    }\n",
       "</style>\n",
       "<table border=\"1\" class=\"dataframe\">\n",
       "  <thead>\n",
       "    <tr style=\"text-align: right;\">\n",
       "      <th></th>\n",
       "      <th>A</th>\n",
       "      <th>B</th>\n",
       "      <th>C</th>\n",
       "      <th>D</th>\n",
       "    </tr>\n",
       "  </thead>\n",
       "  <tbody>\n",
       "    <tr>\n",
       "      <th>2020-12-27</th>\n",
       "      <td>0.894844</td>\n",
       "      <td>-2.788811</td>\n",
       "      <td>0.102951</td>\n",
       "      <td>0.675394</td>\n",
       "    </tr>\n",
       "    <tr>\n",
       "      <th>2020-12-28</th>\n",
       "      <td>1.525497</td>\n",
       "      <td>-1.051442</td>\n",
       "      <td>0.016838</td>\n",
       "      <td>1.739871</td>\n",
       "    </tr>\n",
       "    <tr>\n",
       "      <th>2020-12-31</th>\n",
       "      <td>1.205652</td>\n",
       "      <td>-0.743115</td>\n",
       "      <td>0.044895</td>\n",
       "      <td>-0.390259</td>\n",
       "    </tr>\n",
       "  </tbody>\n",
       "</table>\n",
       "</div>"
      ],
      "text/plain": [
       "                   A         B         C         D\n",
       "2020-12-27  0.894844 -2.788811  0.102951  0.675394\n",
       "2020-12-28  1.525497 -1.051442  0.016838  1.739871\n",
       "2020-12-31  1.205652 -0.743115  0.044895 -0.390259"
      ]
     },
     "execution_count": 45,
     "metadata": {},
     "output_type": "execute_result"
    }
   ],
   "source": [
    "df[df['A'] > 0.5]"
   ]
  },
  {
   "cell_type": "code",
   "execution_count": 46,
   "metadata": {
    "ExecuteTime": {
     "end_time": "2020-03-01T17:05:00.818970Z",
     "start_time": "2020-03-01T17:05:00.810329Z"
    }
   },
   "outputs": [
    {
     "data": {
      "text/html": [
       "<div>\n",
       "<style>\n",
       "    .dataframe thead tr:only-child th {\n",
       "        text-align: right;\n",
       "    }\n",
       "\n",
       "    .dataframe thead th {\n",
       "        text-align: left;\n",
       "    }\n",
       "\n",
       "    .dataframe tbody tr th {\n",
       "        vertical-align: top;\n",
       "    }\n",
       "</style>\n",
       "<table border=\"1\" class=\"dataframe\">\n",
       "  <thead>\n",
       "    <tr style=\"text-align: right;\">\n",
       "      <th></th>\n",
       "      <th>A</th>\n",
       "      <th>B</th>\n",
       "      <th>C</th>\n",
       "      <th>D</th>\n",
       "    </tr>\n",
       "  </thead>\n",
       "  <tbody>\n",
       "    <tr>\n",
       "      <th>2020-12-24</th>\n",
       "      <td>NaN</td>\n",
       "      <td>NaN</td>\n",
       "      <td>NaN</td>\n",
       "      <td>NaN</td>\n",
       "    </tr>\n",
       "    <tr>\n",
       "      <th>2020-12-25</th>\n",
       "      <td>NaN</td>\n",
       "      <td>NaN</td>\n",
       "      <td>NaN</td>\n",
       "      <td>NaN</td>\n",
       "    </tr>\n",
       "    <tr>\n",
       "      <th>2020-12-26</th>\n",
       "      <td>NaN</td>\n",
       "      <td>NaN</td>\n",
       "      <td>NaN</td>\n",
       "      <td>0.980536</td>\n",
       "    </tr>\n",
       "    <tr>\n",
       "      <th>2020-12-27</th>\n",
       "      <td>0.894844</td>\n",
       "      <td>NaN</td>\n",
       "      <td>NaN</td>\n",
       "      <td>0.675394</td>\n",
       "    </tr>\n",
       "    <tr>\n",
       "      <th>2020-12-28</th>\n",
       "      <td>1.525497</td>\n",
       "      <td>NaN</td>\n",
       "      <td>NaN</td>\n",
       "      <td>1.739871</td>\n",
       "    </tr>\n",
       "    <tr>\n",
       "      <th>2020-12-29</th>\n",
       "      <td>NaN</td>\n",
       "      <td>0.622861</td>\n",
       "      <td>NaN</td>\n",
       "      <td>NaN</td>\n",
       "    </tr>\n",
       "    <tr>\n",
       "      <th>2020-12-30</th>\n",
       "      <td>NaN</td>\n",
       "      <td>NaN</td>\n",
       "      <td>1.805073</td>\n",
       "      <td>NaN</td>\n",
       "    </tr>\n",
       "    <tr>\n",
       "      <th>2020-12-31</th>\n",
       "      <td>1.205652</td>\n",
       "      <td>NaN</td>\n",
       "      <td>NaN</td>\n",
       "      <td>NaN</td>\n",
       "    </tr>\n",
       "  </tbody>\n",
       "</table>\n",
       "</div>"
      ],
      "text/plain": [
       "                   A         B         C         D\n",
       "2020-12-24       NaN       NaN       NaN       NaN\n",
       "2020-12-25       NaN       NaN       NaN       NaN\n",
       "2020-12-26       NaN       NaN       NaN  0.980536\n",
       "2020-12-27  0.894844       NaN       NaN  0.675394\n",
       "2020-12-28  1.525497       NaN       NaN  1.739871\n",
       "2020-12-29       NaN  0.622861       NaN       NaN\n",
       "2020-12-30       NaN       NaN  1.805073       NaN\n",
       "2020-12-31  1.205652       NaN       NaN       NaN"
      ]
     },
     "execution_count": 46,
     "metadata": {},
     "output_type": "execute_result"
    }
   ],
   "source": [
    "df[df > 0.5]"
   ]
  },
  {
   "cell_type": "markdown",
   "metadata": {},
   "source": [
    "## 데이터 복사"
   ]
  },
  {
   "cell_type": "markdown",
   "metadata": {},
   "source": [
    "##### DataFrame을 복사할 때 '='기호를 이용해서 복사하면 실제 데이터의 내용이 복사되는 것이 아니라 데이터 위치만 복사되기 때문에 원본 데이터는 하나만 있게 됨\n",
    "\n",
    "* df를 사용할 수 없음, df_copy에 따라 데이터의 내용이 같이 변함(데이터는 하나)"
   ]
  },
  {
   "cell_type": "code",
   "execution_count": 47,
   "metadata": {
    "ExecuteTime": {
     "end_time": "2020-03-01T17:05:00.822116Z",
     "start_time": "2020-03-01T17:05:00.820243Z"
    },
    "hide_input": false
   },
   "outputs": [],
   "source": [
    "# df_copy = df"
   ]
  },
  {
   "cell_type": "code",
   "execution_count": 48,
   "metadata": {
    "ExecuteTime": {
     "end_time": "2020-03-01T17:05:00.825241Z",
     "start_time": "2020-03-01T17:05:00.823468Z"
    }
   },
   "outputs": [],
   "source": [
    "# df_copy['E'] = ['one','one','two','three','four','three','seven','eight']"
   ]
  },
  {
   "cell_type": "code",
   "execution_count": 49,
   "metadata": {
    "ExecuteTime": {
     "end_time": "2020-03-01T17:05:00.828212Z",
     "start_time": "2020-03-01T17:05:00.826442Z"
    }
   },
   "outputs": [],
   "source": [
    "# df_copy"
   ]
  },
  {
   "cell_type": "markdown",
   "metadata": {},
   "source": [
    "##### 데이터의 내용까지 복사 : copy()"
   ]
  },
  {
   "cell_type": "code",
   "execution_count": 50,
   "metadata": {
    "ExecuteTime": {
     "end_time": "2020-03-01T17:05:00.831532Z",
     "start_time": "2020-03-01T17:05:00.829418Z"
    }
   },
   "outputs": [],
   "source": [
    "df_copy_1 = df.copy()"
   ]
  },
  {
   "cell_type": "code",
   "execution_count": 51,
   "metadata": {
    "ExecuteTime": {
     "end_time": "2020-03-01T17:05:00.836144Z",
     "start_time": "2020-03-01T17:05:00.832791Z"
    }
   },
   "outputs": [],
   "source": [
    "df_copy_1['E'] = ['one','one','two','three','four','three','seven','eight']"
   ]
  },
  {
   "cell_type": "code",
   "execution_count": 52,
   "metadata": {
    "ExecuteTime": {
     "end_time": "2020-03-01T17:05:00.845351Z",
     "start_time": "2020-03-01T17:05:00.837574Z"
    },
    "scrolled": true
   },
   "outputs": [
    {
     "data": {
      "text/html": [
       "<div>\n",
       "<style>\n",
       "    .dataframe thead tr:only-child th {\n",
       "        text-align: right;\n",
       "    }\n",
       "\n",
       "    .dataframe thead th {\n",
       "        text-align: left;\n",
       "    }\n",
       "\n",
       "    .dataframe tbody tr th {\n",
       "        vertical-align: top;\n",
       "    }\n",
       "</style>\n",
       "<table border=\"1\" class=\"dataframe\">\n",
       "  <thead>\n",
       "    <tr style=\"text-align: right;\">\n",
       "      <th></th>\n",
       "      <th>A</th>\n",
       "      <th>B</th>\n",
       "      <th>C</th>\n",
       "      <th>D</th>\n",
       "      <th>E</th>\n",
       "    </tr>\n",
       "  </thead>\n",
       "  <tbody>\n",
       "    <tr>\n",
       "      <th>2020-12-24</th>\n",
       "      <td>-0.740713</td>\n",
       "      <td>-0.695086</td>\n",
       "      <td>0.255775</td>\n",
       "      <td>-1.299827</td>\n",
       "      <td>one</td>\n",
       "    </tr>\n",
       "    <tr>\n",
       "      <th>2020-12-25</th>\n",
       "      <td>-0.238852</td>\n",
       "      <td>-0.258937</td>\n",
       "      <td>-0.846127</td>\n",
       "      <td>0.365356</td>\n",
       "      <td>one</td>\n",
       "    </tr>\n",
       "    <tr>\n",
       "      <th>2020-12-26</th>\n",
       "      <td>-0.403194</td>\n",
       "      <td>-0.614242</td>\n",
       "      <td>-0.418047</td>\n",
       "      <td>0.980536</td>\n",
       "      <td>two</td>\n",
       "    </tr>\n",
       "    <tr>\n",
       "      <th>2020-12-27</th>\n",
       "      <td>0.894844</td>\n",
       "      <td>-2.788811</td>\n",
       "      <td>0.102951</td>\n",
       "      <td>0.675394</td>\n",
       "      <td>three</td>\n",
       "    </tr>\n",
       "    <tr>\n",
       "      <th>2020-12-28</th>\n",
       "      <td>1.525497</td>\n",
       "      <td>-1.051442</td>\n",
       "      <td>0.016838</td>\n",
       "      <td>1.739871</td>\n",
       "      <td>four</td>\n",
       "    </tr>\n",
       "    <tr>\n",
       "      <th>2020-12-29</th>\n",
       "      <td>-0.017569</td>\n",
       "      <td>0.622861</td>\n",
       "      <td>-0.827070</td>\n",
       "      <td>-0.003627</td>\n",
       "      <td>three</td>\n",
       "    </tr>\n",
       "    <tr>\n",
       "      <th>2020-12-30</th>\n",
       "      <td>-0.466841</td>\n",
       "      <td>-0.427706</td>\n",
       "      <td>1.805073</td>\n",
       "      <td>-1.455404</td>\n",
       "      <td>seven</td>\n",
       "    </tr>\n",
       "    <tr>\n",
       "      <th>2020-12-31</th>\n",
       "      <td>1.205652</td>\n",
       "      <td>-0.743115</td>\n",
       "      <td>0.044895</td>\n",
       "      <td>-0.390259</td>\n",
       "      <td>eight</td>\n",
       "    </tr>\n",
       "  </tbody>\n",
       "</table>\n",
       "</div>"
      ],
      "text/plain": [
       "                   A         B         C         D      E\n",
       "2020-12-24 -0.740713 -0.695086  0.255775 -1.299827    one\n",
       "2020-12-25 -0.238852 -0.258937 -0.846127  0.365356    one\n",
       "2020-12-26 -0.403194 -0.614242 -0.418047  0.980536    two\n",
       "2020-12-27  0.894844 -2.788811  0.102951  0.675394  three\n",
       "2020-12-28  1.525497 -1.051442  0.016838  1.739871   four\n",
       "2020-12-29 -0.017569  0.622861 -0.827070 -0.003627  three\n",
       "2020-12-30 -0.466841 -0.427706  1.805073 -1.455404  seven\n",
       "2020-12-31  1.205652 -0.743115  0.044895 -0.390259  eight"
      ]
     },
     "execution_count": 52,
     "metadata": {},
     "output_type": "execute_result"
    }
   ],
   "source": [
    "df_copy_1"
   ]
  },
  {
   "cell_type": "markdown",
   "metadata": {},
   "source": [
    "## isin()"
   ]
  },
  {
   "cell_type": "code",
   "execution_count": 53,
   "metadata": {
    "ExecuteTime": {
     "end_time": "2020-03-01T17:05:00.854904Z",
     "start_time": "2020-03-01T17:05:00.846707Z"
    }
   },
   "outputs": [
    {
     "data": {
      "text/plain": [
       "2020-12-24     True\n",
       "2020-12-25     True\n",
       "2020-12-26    False\n",
       "2020-12-27    False\n",
       "2020-12-28     True\n",
       "2020-12-29    False\n",
       "2020-12-30    False\n",
       "2020-12-31    False\n",
       "Freq: D, Name: E, dtype: bool"
      ]
     },
     "execution_count": 53,
     "metadata": {},
     "output_type": "execute_result"
    }
   ],
   "source": [
    "df_copy_1['E'].isin(['one','four'])"
   ]
  },
  {
   "cell_type": "code",
   "execution_count": 54,
   "metadata": {
    "ExecuteTime": {
     "end_time": "2020-03-01T17:05:00.864326Z",
     "start_time": "2020-03-01T17:05:00.856361Z"
    }
   },
   "outputs": [
    {
     "data": {
      "text/html": [
       "<div>\n",
       "<style>\n",
       "    .dataframe thead tr:only-child th {\n",
       "        text-align: right;\n",
       "    }\n",
       "\n",
       "    .dataframe thead th {\n",
       "        text-align: left;\n",
       "    }\n",
       "\n",
       "    .dataframe tbody tr th {\n",
       "        vertical-align: top;\n",
       "    }\n",
       "</style>\n",
       "<table border=\"1\" class=\"dataframe\">\n",
       "  <thead>\n",
       "    <tr style=\"text-align: right;\">\n",
       "      <th></th>\n",
       "      <th>A</th>\n",
       "      <th>B</th>\n",
       "      <th>C</th>\n",
       "      <th>D</th>\n",
       "      <th>E</th>\n",
       "    </tr>\n",
       "  </thead>\n",
       "  <tbody>\n",
       "    <tr>\n",
       "      <th>2020-12-24</th>\n",
       "      <td>-0.740713</td>\n",
       "      <td>-0.695086</td>\n",
       "      <td>0.255775</td>\n",
       "      <td>-1.299827</td>\n",
       "      <td>one</td>\n",
       "    </tr>\n",
       "    <tr>\n",
       "      <th>2020-12-25</th>\n",
       "      <td>-0.238852</td>\n",
       "      <td>-0.258937</td>\n",
       "      <td>-0.846127</td>\n",
       "      <td>0.365356</td>\n",
       "      <td>one</td>\n",
       "    </tr>\n",
       "    <tr>\n",
       "      <th>2020-12-28</th>\n",
       "      <td>1.525497</td>\n",
       "      <td>-1.051442</td>\n",
       "      <td>0.016838</td>\n",
       "      <td>1.739871</td>\n",
       "      <td>four</td>\n",
       "    </tr>\n",
       "  </tbody>\n",
       "</table>\n",
       "</div>"
      ],
      "text/plain": [
       "                   A         B         C         D     E\n",
       "2020-12-24 -0.740713 -0.695086  0.255775 -1.299827   one\n",
       "2020-12-25 -0.238852 -0.258937 -0.846127  0.365356   one\n",
       "2020-12-28  1.525497 -1.051442  0.016838  1.739871  four"
      ]
     },
     "execution_count": 54,
     "metadata": {},
     "output_type": "execute_result"
    }
   ],
   "source": [
    "df_copy_1[df_copy_1['E'].isin(['one','four'])]"
   ]
  },
  {
   "cell_type": "markdown",
   "metadata": {
    "ExecuteTime": {
     "end_time": "2020-03-01T13:17:50.439210Z",
     "start_time": "2020-03-01T13:17:50.436934Z"
    }
   },
   "source": [
    "## 통계 느낌의 데이터 - apply"
   ]
  },
  {
   "cell_type": "code",
   "execution_count": 55,
   "metadata": {
    "ExecuteTime": {
     "end_time": "2020-03-01T17:05:00.874515Z",
     "start_time": "2020-03-01T17:05:00.865671Z"
    }
   },
   "outputs": [
    {
     "data": {
      "text/html": [
       "<div>\n",
       "<style>\n",
       "    .dataframe thead tr:only-child th {\n",
       "        text-align: right;\n",
       "    }\n",
       "\n",
       "    .dataframe thead th {\n",
       "        text-align: left;\n",
       "    }\n",
       "\n",
       "    .dataframe tbody tr th {\n",
       "        vertical-align: top;\n",
       "    }\n",
       "</style>\n",
       "<table border=\"1\" class=\"dataframe\">\n",
       "  <thead>\n",
       "    <tr style=\"text-align: right;\">\n",
       "      <th></th>\n",
       "      <th>A</th>\n",
       "      <th>B</th>\n",
       "      <th>C</th>\n",
       "      <th>D</th>\n",
       "    </tr>\n",
       "  </thead>\n",
       "  <tbody>\n",
       "    <tr>\n",
       "      <th>2020-12-24</th>\n",
       "      <td>-0.740713</td>\n",
       "      <td>-0.695086</td>\n",
       "      <td>0.255775</td>\n",
       "      <td>-1.299827</td>\n",
       "    </tr>\n",
       "    <tr>\n",
       "      <th>2020-12-25</th>\n",
       "      <td>-0.979565</td>\n",
       "      <td>-0.954023</td>\n",
       "      <td>-0.590352</td>\n",
       "      <td>-0.934471</td>\n",
       "    </tr>\n",
       "    <tr>\n",
       "      <th>2020-12-26</th>\n",
       "      <td>-1.382759</td>\n",
       "      <td>-1.568265</td>\n",
       "      <td>-1.008400</td>\n",
       "      <td>0.046065</td>\n",
       "    </tr>\n",
       "    <tr>\n",
       "      <th>2020-12-27</th>\n",
       "      <td>-0.487915</td>\n",
       "      <td>-4.357075</td>\n",
       "      <td>-0.905448</td>\n",
       "      <td>0.721459</td>\n",
       "    </tr>\n",
       "    <tr>\n",
       "      <th>2020-12-28</th>\n",
       "      <td>1.037582</td>\n",
       "      <td>-5.408517</td>\n",
       "      <td>-0.888611</td>\n",
       "      <td>2.461330</td>\n",
       "    </tr>\n",
       "    <tr>\n",
       "      <th>2020-12-29</th>\n",
       "      <td>1.020013</td>\n",
       "      <td>-4.785656</td>\n",
       "      <td>-1.715681</td>\n",
       "      <td>2.457704</td>\n",
       "    </tr>\n",
       "    <tr>\n",
       "      <th>2020-12-30</th>\n",
       "      <td>0.553172</td>\n",
       "      <td>-5.213362</td>\n",
       "      <td>0.089393</td>\n",
       "      <td>1.002299</td>\n",
       "    </tr>\n",
       "    <tr>\n",
       "      <th>2020-12-31</th>\n",
       "      <td>1.758824</td>\n",
       "      <td>-5.956477</td>\n",
       "      <td>0.134288</td>\n",
       "      <td>0.612041</td>\n",
       "    </tr>\n",
       "  </tbody>\n",
       "</table>\n",
       "</div>"
      ],
      "text/plain": [
       "                   A         B         C         D\n",
       "2020-12-24 -0.740713 -0.695086  0.255775 -1.299827\n",
       "2020-12-25 -0.979565 -0.954023 -0.590352 -0.934471\n",
       "2020-12-26 -1.382759 -1.568265 -1.008400  0.046065\n",
       "2020-12-27 -0.487915 -4.357075 -0.905448  0.721459\n",
       "2020-12-28  1.037582 -5.408517 -0.888611  2.461330\n",
       "2020-12-29  1.020013 -4.785656 -1.715681  2.457704\n",
       "2020-12-30  0.553172 -5.213362  0.089393  1.002299\n",
       "2020-12-31  1.758824 -5.956477  0.134288  0.612041"
      ]
     },
     "execution_count": 55,
     "metadata": {},
     "output_type": "execute_result"
    }
   ],
   "source": [
    "df.apply(np.cumsum) # 누적합"
   ]
  },
  {
   "cell_type": "code",
   "execution_count": 56,
   "metadata": {
    "ExecuteTime": {
     "end_time": "2020-03-01T17:05:00.883578Z",
     "start_time": "2020-03-01T17:05:00.876264Z"
    }
   },
   "outputs": [
    {
     "data": {
      "text/html": [
       "<div>\n",
       "<style>\n",
       "    .dataframe thead tr:only-child th {\n",
       "        text-align: right;\n",
       "    }\n",
       "\n",
       "    .dataframe thead th {\n",
       "        text-align: left;\n",
       "    }\n",
       "\n",
       "    .dataframe tbody tr th {\n",
       "        vertical-align: top;\n",
       "    }\n",
       "</style>\n",
       "<table border=\"1\" class=\"dataframe\">\n",
       "  <thead>\n",
       "    <tr style=\"text-align: right;\">\n",
       "      <th></th>\n",
       "      <th>A</th>\n",
       "      <th>B</th>\n",
       "      <th>C</th>\n",
       "      <th>D</th>\n",
       "      <th>E</th>\n",
       "    </tr>\n",
       "  </thead>\n",
       "  <tbody>\n",
       "    <tr>\n",
       "      <th>2020-12-24</th>\n",
       "      <td>-0.740713</td>\n",
       "      <td>-0.695086</td>\n",
       "      <td>0.255775</td>\n",
       "      <td>-1.299827</td>\n",
       "      <td>one</td>\n",
       "    </tr>\n",
       "    <tr>\n",
       "      <th>2020-12-25</th>\n",
       "      <td>-0.238852</td>\n",
       "      <td>-0.258937</td>\n",
       "      <td>-0.846127</td>\n",
       "      <td>0.365356</td>\n",
       "      <td>one</td>\n",
       "    </tr>\n",
       "    <tr>\n",
       "      <th>2020-12-26</th>\n",
       "      <td>-0.403194</td>\n",
       "      <td>-0.614242</td>\n",
       "      <td>-0.418047</td>\n",
       "      <td>0.980536</td>\n",
       "      <td>two</td>\n",
       "    </tr>\n",
       "    <tr>\n",
       "      <th>2020-12-27</th>\n",
       "      <td>0.894844</td>\n",
       "      <td>-2.788811</td>\n",
       "      <td>0.102951</td>\n",
       "      <td>0.675394</td>\n",
       "      <td>three</td>\n",
       "    </tr>\n",
       "    <tr>\n",
       "      <th>2020-12-28</th>\n",
       "      <td>1.525497</td>\n",
       "      <td>-1.051442</td>\n",
       "      <td>0.016838</td>\n",
       "      <td>1.739871</td>\n",
       "      <td>four</td>\n",
       "    </tr>\n",
       "    <tr>\n",
       "      <th>2020-12-29</th>\n",
       "      <td>-0.017569</td>\n",
       "      <td>0.622861</td>\n",
       "      <td>-0.827070</td>\n",
       "      <td>-0.003627</td>\n",
       "      <td>three</td>\n",
       "    </tr>\n",
       "    <tr>\n",
       "      <th>2020-12-30</th>\n",
       "      <td>-0.466841</td>\n",
       "      <td>-0.427706</td>\n",
       "      <td>1.805073</td>\n",
       "      <td>-1.455404</td>\n",
       "      <td>seven</td>\n",
       "    </tr>\n",
       "    <tr>\n",
       "      <th>2020-12-31</th>\n",
       "      <td>1.205652</td>\n",
       "      <td>-0.743115</td>\n",
       "      <td>0.044895</td>\n",
       "      <td>-0.390259</td>\n",
       "      <td>eight</td>\n",
       "    </tr>\n",
       "  </tbody>\n",
       "</table>\n",
       "</div>"
      ],
      "text/plain": [
       "                   A         B         C         D      E\n",
       "2020-12-24 -0.740713 -0.695086  0.255775 -1.299827    one\n",
       "2020-12-25 -0.238852 -0.258937 -0.846127  0.365356    one\n",
       "2020-12-26 -0.403194 -0.614242 -0.418047  0.980536    two\n",
       "2020-12-27  0.894844 -2.788811  0.102951  0.675394  three\n",
       "2020-12-28  1.525497 -1.051442  0.016838  1.739871   four\n",
       "2020-12-29 -0.017569  0.622861 -0.827070 -0.003627  three\n",
       "2020-12-30 -0.466841 -0.427706  1.805073 -1.455404  seven\n",
       "2020-12-31  1.205652 -0.743115  0.044895 -0.390259  eight"
      ]
     },
     "execution_count": 56,
     "metadata": {},
     "output_type": "execute_result"
    }
   ],
   "source": [
    "df_copy_1"
   ]
  },
  {
   "cell_type": "code",
   "execution_count": 57,
   "metadata": {
    "ExecuteTime": {
     "end_time": "2020-03-01T17:05:00.893523Z",
     "start_time": "2020-03-01T17:05:00.884810Z"
    }
   },
   "outputs": [
    {
     "data": {
      "text/html": [
       "<div>\n",
       "<style>\n",
       "    .dataframe thead tr:only-child th {\n",
       "        text-align: right;\n",
       "    }\n",
       "\n",
       "    .dataframe thead th {\n",
       "        text-align: left;\n",
       "    }\n",
       "\n",
       "    .dataframe tbody tr th {\n",
       "        vertical-align: top;\n",
       "    }\n",
       "</style>\n",
       "<table border=\"1\" class=\"dataframe\">\n",
       "  <thead>\n",
       "    <tr style=\"text-align: right;\">\n",
       "      <th></th>\n",
       "      <th>A</th>\n",
       "      <th>B</th>\n",
       "      <th>C</th>\n",
       "      <th>D</th>\n",
       "    </tr>\n",
       "  </thead>\n",
       "  <tbody>\n",
       "    <tr>\n",
       "      <th>2020-12-24</th>\n",
       "      <td>-0.740713</td>\n",
       "      <td>-0.695086</td>\n",
       "      <td>0.255775</td>\n",
       "      <td>-1.299827</td>\n",
       "    </tr>\n",
       "    <tr>\n",
       "      <th>2020-12-25</th>\n",
       "      <td>-0.979565</td>\n",
       "      <td>-0.954023</td>\n",
       "      <td>-0.590352</td>\n",
       "      <td>-0.934471</td>\n",
       "    </tr>\n",
       "    <tr>\n",
       "      <th>2020-12-26</th>\n",
       "      <td>-1.382759</td>\n",
       "      <td>-1.568265</td>\n",
       "      <td>-1.008400</td>\n",
       "      <td>0.046065</td>\n",
       "    </tr>\n",
       "    <tr>\n",
       "      <th>2020-12-27</th>\n",
       "      <td>-0.487915</td>\n",
       "      <td>-4.357075</td>\n",
       "      <td>-0.905448</td>\n",
       "      <td>0.721459</td>\n",
       "    </tr>\n",
       "    <tr>\n",
       "      <th>2020-12-28</th>\n",
       "      <td>1.037582</td>\n",
       "      <td>-5.408517</td>\n",
       "      <td>-0.888611</td>\n",
       "      <td>2.461330</td>\n",
       "    </tr>\n",
       "    <tr>\n",
       "      <th>2020-12-29</th>\n",
       "      <td>1.020013</td>\n",
       "      <td>-4.785656</td>\n",
       "      <td>-1.715681</td>\n",
       "      <td>2.457704</td>\n",
       "    </tr>\n",
       "    <tr>\n",
       "      <th>2020-12-30</th>\n",
       "      <td>0.553172</td>\n",
       "      <td>-5.213362</td>\n",
       "      <td>0.089393</td>\n",
       "      <td>1.002299</td>\n",
       "    </tr>\n",
       "    <tr>\n",
       "      <th>2020-12-31</th>\n",
       "      <td>1.758824</td>\n",
       "      <td>-5.956477</td>\n",
       "      <td>0.134288</td>\n",
       "      <td>0.612041</td>\n",
       "    </tr>\n",
       "  </tbody>\n",
       "</table>\n",
       "</div>"
      ],
      "text/plain": [
       "                   A         B         C         D\n",
       "2020-12-24 -0.740713 -0.695086  0.255775 -1.299827\n",
       "2020-12-25 -0.979565 -0.954023 -0.590352 -0.934471\n",
       "2020-12-26 -1.382759 -1.568265 -1.008400  0.046065\n",
       "2020-12-27 -0.487915 -4.357075 -0.905448  0.721459\n",
       "2020-12-28  1.037582 -5.408517 -0.888611  2.461330\n",
       "2020-12-29  1.020013 -4.785656 -1.715681  2.457704\n",
       "2020-12-30  0.553172 -5.213362  0.089393  1.002299\n",
       "2020-12-31  1.758824 -5.956477  0.134288  0.612041"
      ]
     },
     "execution_count": 57,
     "metadata": {},
     "output_type": "execute_result"
    }
   ],
   "source": [
    "df.apply(np.cumsum, axis=0)"
   ]
  },
  {
   "cell_type": "code",
   "execution_count": 58,
   "metadata": {
    "ExecuteTime": {
     "end_time": "2020-03-01T17:05:00.904074Z",
     "start_time": "2020-03-01T17:05:00.895510Z"
    }
   },
   "outputs": [
    {
     "data": {
      "text/html": [
       "<div>\n",
       "<style>\n",
       "    .dataframe thead tr:only-child th {\n",
       "        text-align: right;\n",
       "    }\n",
       "\n",
       "    .dataframe thead th {\n",
       "        text-align: left;\n",
       "    }\n",
       "\n",
       "    .dataframe tbody tr th {\n",
       "        vertical-align: top;\n",
       "    }\n",
       "</style>\n",
       "<table border=\"1\" class=\"dataframe\">\n",
       "  <thead>\n",
       "    <tr style=\"text-align: right;\">\n",
       "      <th></th>\n",
       "      <th>A</th>\n",
       "      <th>B</th>\n",
       "      <th>C</th>\n",
       "      <th>D</th>\n",
       "    </tr>\n",
       "  </thead>\n",
       "  <tbody>\n",
       "    <tr>\n",
       "      <th>2020-12-24</th>\n",
       "      <td>-0.740713</td>\n",
       "      <td>-1.435799</td>\n",
       "      <td>-1.180024</td>\n",
       "      <td>-2.479851</td>\n",
       "    </tr>\n",
       "    <tr>\n",
       "      <th>2020-12-25</th>\n",
       "      <td>-0.238852</td>\n",
       "      <td>-0.497789</td>\n",
       "      <td>-1.343916</td>\n",
       "      <td>-0.978560</td>\n",
       "    </tr>\n",
       "    <tr>\n",
       "      <th>2020-12-26</th>\n",
       "      <td>-0.403194</td>\n",
       "      <td>-1.017436</td>\n",
       "      <td>-1.435483</td>\n",
       "      <td>-0.454947</td>\n",
       "    </tr>\n",
       "    <tr>\n",
       "      <th>2020-12-27</th>\n",
       "      <td>0.894844</td>\n",
       "      <td>-1.893966</td>\n",
       "      <td>-1.791015</td>\n",
       "      <td>-1.115621</td>\n",
       "    </tr>\n",
       "    <tr>\n",
       "      <th>2020-12-28</th>\n",
       "      <td>1.525497</td>\n",
       "      <td>0.474055</td>\n",
       "      <td>0.490892</td>\n",
       "      <td>2.230763</td>\n",
       "    </tr>\n",
       "    <tr>\n",
       "      <th>2020-12-29</th>\n",
       "      <td>-0.017569</td>\n",
       "      <td>0.605292</td>\n",
       "      <td>-0.221778</td>\n",
       "      <td>-0.225404</td>\n",
       "    </tr>\n",
       "    <tr>\n",
       "      <th>2020-12-30</th>\n",
       "      <td>-0.466841</td>\n",
       "      <td>-0.894547</td>\n",
       "      <td>0.910526</td>\n",
       "      <td>-0.544878</td>\n",
       "    </tr>\n",
       "    <tr>\n",
       "      <th>2020-12-31</th>\n",
       "      <td>1.205652</td>\n",
       "      <td>0.462537</td>\n",
       "      <td>0.507433</td>\n",
       "      <td>0.117174</td>\n",
       "    </tr>\n",
       "  </tbody>\n",
       "</table>\n",
       "</div>"
      ],
      "text/plain": [
       "                   A         B         C         D\n",
       "2020-12-24 -0.740713 -1.435799 -1.180024 -2.479851\n",
       "2020-12-25 -0.238852 -0.497789 -1.343916 -0.978560\n",
       "2020-12-26 -0.403194 -1.017436 -1.435483 -0.454947\n",
       "2020-12-27  0.894844 -1.893966 -1.791015 -1.115621\n",
       "2020-12-28  1.525497  0.474055  0.490892  2.230763\n",
       "2020-12-29 -0.017569  0.605292 -0.221778 -0.225404\n",
       "2020-12-30 -0.466841 -0.894547  0.910526 -0.544878\n",
       "2020-12-31  1.205652  0.462537  0.507433  0.117174"
      ]
     },
     "execution_count": 58,
     "metadata": {},
     "output_type": "execute_result"
    }
   ],
   "source": [
    "df.apply(np.cumsum, axis=1)"
   ]
  },
  {
   "cell_type": "code",
   "execution_count": 59,
   "metadata": {
    "ExecuteTime": {
     "end_time": "2020-03-01T17:05:00.908957Z",
     "start_time": "2020-03-01T17:05:00.905268Z"
    }
   },
   "outputs": [
    {
     "data": {
      "text/plain": [
       "A    0.219853\n",
       "B   -0.744560\n",
       "C    0.016786\n",
       "D    0.076505\n",
       "dtype: float64"
      ]
     },
     "execution_count": 59,
     "metadata": {},
     "output_type": "execute_result"
    }
   ],
   "source": [
    "df.apply(np.average, axis=0) # 열 기준"
   ]
  },
  {
   "cell_type": "code",
   "execution_count": 60,
   "metadata": {
    "ExecuteTime": {
     "end_time": "2020-03-01T17:05:00.918064Z",
     "start_time": "2020-03-01T17:05:00.910301Z"
    }
   },
   "outputs": [
    {
     "data": {
      "text/plain": [
       "2020-12-24   -0.619963\n",
       "2020-12-25   -0.244640\n",
       "2020-12-26   -0.113737\n",
       "2020-12-27   -0.278905\n",
       "2020-12-28    0.557691\n",
       "2020-12-29   -0.056351\n",
       "2020-12-30   -0.136220\n",
       "2020-12-31    0.029294\n",
       "Freq: D, dtype: float64"
      ]
     },
     "execution_count": 60,
     "metadata": {},
     "output_type": "execute_result"
    }
   ],
   "source": [
    "df.apply(np.average, axis=1) # 행 기준"
   ]
  },
  {
   "cell_type": "code",
   "execution_count": 61,
   "metadata": {
    "ExecuteTime": {
     "end_time": "2020-03-01T17:05:00.921704Z",
     "start_time": "2020-03-01T17:05:00.919507Z"
    }
   },
   "outputs": [],
   "source": [
    "def get_divide(df):\n",
    "    return (df['A'] + df['B'] + df['C'] + df['D']) / 4"
   ]
  },
  {
   "cell_type": "code",
   "execution_count": 62,
   "metadata": {
    "ExecuteTime": {
     "end_time": "2020-03-01T17:05:00.931288Z",
     "start_time": "2020-03-01T17:05:00.923015Z"
    }
   },
   "outputs": [
    {
     "data": {
      "text/plain": [
       "2020-12-24   -0.619963\n",
       "2020-12-25   -0.244640\n",
       "2020-12-26   -0.113737\n",
       "2020-12-27   -0.278905\n",
       "2020-12-28    0.557691\n",
       "2020-12-29   -0.056351\n",
       "2020-12-30   -0.136220\n",
       "2020-12-31    0.029294\n",
       "Freq: D, dtype: float64"
      ]
     },
     "execution_count": 62,
     "metadata": {},
     "output_type": "execute_result"
    }
   ],
   "source": [
    "df.apply(get_divide, axis=1)"
   ]
  },
  {
   "cell_type": "code",
   "execution_count": 63,
   "metadata": {
    "ExecuteTime": {
     "end_time": "2020-03-01T17:05:00.935534Z",
     "start_time": "2020-03-01T17:05:00.932567Z"
    }
   },
   "outputs": [],
   "source": [
    "df['average'] = df.apply(get_divide, axis=1)"
   ]
  },
  {
   "cell_type": "code",
   "execution_count": 64,
   "metadata": {
    "ExecuteTime": {
     "end_time": "2020-03-01T17:05:00.945239Z",
     "start_time": "2020-03-01T17:05:00.937197Z"
    }
   },
   "outputs": [
    {
     "data": {
      "text/html": [
       "<div>\n",
       "<style>\n",
       "    .dataframe thead tr:only-child th {\n",
       "        text-align: right;\n",
       "    }\n",
       "\n",
       "    .dataframe thead th {\n",
       "        text-align: left;\n",
       "    }\n",
       "\n",
       "    .dataframe tbody tr th {\n",
       "        vertical-align: top;\n",
       "    }\n",
       "</style>\n",
       "<table border=\"1\" class=\"dataframe\">\n",
       "  <thead>\n",
       "    <tr style=\"text-align: right;\">\n",
       "      <th></th>\n",
       "      <th>A</th>\n",
       "      <th>B</th>\n",
       "      <th>C</th>\n",
       "      <th>D</th>\n",
       "      <th>average</th>\n",
       "    </tr>\n",
       "  </thead>\n",
       "  <tbody>\n",
       "    <tr>\n",
       "      <th>2020-12-24</th>\n",
       "      <td>-0.740713</td>\n",
       "      <td>-0.695086</td>\n",
       "      <td>0.255775</td>\n",
       "      <td>-1.299827</td>\n",
       "      <td>-0.619963</td>\n",
       "    </tr>\n",
       "    <tr>\n",
       "      <th>2020-12-25</th>\n",
       "      <td>-0.238852</td>\n",
       "      <td>-0.258937</td>\n",
       "      <td>-0.846127</td>\n",
       "      <td>0.365356</td>\n",
       "      <td>-0.244640</td>\n",
       "    </tr>\n",
       "    <tr>\n",
       "      <th>2020-12-26</th>\n",
       "      <td>-0.403194</td>\n",
       "      <td>-0.614242</td>\n",
       "      <td>-0.418047</td>\n",
       "      <td>0.980536</td>\n",
       "      <td>-0.113737</td>\n",
       "    </tr>\n",
       "    <tr>\n",
       "      <th>2020-12-27</th>\n",
       "      <td>0.894844</td>\n",
       "      <td>-2.788811</td>\n",
       "      <td>0.102951</td>\n",
       "      <td>0.675394</td>\n",
       "      <td>-0.278905</td>\n",
       "    </tr>\n",
       "    <tr>\n",
       "      <th>2020-12-28</th>\n",
       "      <td>1.525497</td>\n",
       "      <td>-1.051442</td>\n",
       "      <td>0.016838</td>\n",
       "      <td>1.739871</td>\n",
       "      <td>0.557691</td>\n",
       "    </tr>\n",
       "    <tr>\n",
       "      <th>2020-12-29</th>\n",
       "      <td>-0.017569</td>\n",
       "      <td>0.622861</td>\n",
       "      <td>-0.827070</td>\n",
       "      <td>-0.003627</td>\n",
       "      <td>-0.056351</td>\n",
       "    </tr>\n",
       "    <tr>\n",
       "      <th>2020-12-30</th>\n",
       "      <td>-0.466841</td>\n",
       "      <td>-0.427706</td>\n",
       "      <td>1.805073</td>\n",
       "      <td>-1.455404</td>\n",
       "      <td>-0.136220</td>\n",
       "    </tr>\n",
       "    <tr>\n",
       "      <th>2020-12-31</th>\n",
       "      <td>1.205652</td>\n",
       "      <td>-0.743115</td>\n",
       "      <td>0.044895</td>\n",
       "      <td>-0.390259</td>\n",
       "      <td>0.029294</td>\n",
       "    </tr>\n",
       "  </tbody>\n",
       "</table>\n",
       "</div>"
      ],
      "text/plain": [
       "                   A         B         C         D   average\n",
       "2020-12-24 -0.740713 -0.695086  0.255775 -1.299827 -0.619963\n",
       "2020-12-25 -0.238852 -0.258937 -0.846127  0.365356 -0.244640\n",
       "2020-12-26 -0.403194 -0.614242 -0.418047  0.980536 -0.113737\n",
       "2020-12-27  0.894844 -2.788811  0.102951  0.675394 -0.278905\n",
       "2020-12-28  1.525497 -1.051442  0.016838  1.739871  0.557691\n",
       "2020-12-29 -0.017569  0.622861 -0.827070 -0.003627 -0.056351\n",
       "2020-12-30 -0.466841 -0.427706  1.805073 -1.455404 -0.136220\n",
       "2020-12-31  1.205652 -0.743115  0.044895 -0.390259  0.029294"
      ]
     },
     "execution_count": 64,
     "metadata": {},
     "output_type": "execute_result"
    }
   ],
   "source": [
    "df"
   ]
  },
  {
   "cell_type": "markdown",
   "metadata": {},
   "source": [
    "##### 최대값과 최소값의 차이(혹은 거리) one-line 함수인 lambda 사용"
   ]
  },
  {
   "cell_type": "code",
   "execution_count": 65,
   "metadata": {
    "ExecuteTime": {
     "end_time": "2020-03-01T17:05:00.951550Z",
     "start_time": "2020-03-01T17:05:00.946536Z"
    }
   },
   "outputs": [
    {
     "data": {
      "text/plain": [
       "A          2.266210\n",
       "B          3.411672\n",
       "C          2.651201\n",
       "D          3.195275\n",
       "average    1.177654\n",
       "dtype: float64"
      ]
     },
     "execution_count": 65,
     "metadata": {},
     "output_type": "execute_result"
    }
   ],
   "source": [
    "df.apply(lambda x: x.max() - x.min())"
   ]
  },
  {
   "cell_type": "code",
   "execution_count": 66,
   "metadata": {
    "ExecuteTime": {
     "end_time": "2020-03-01T17:05:00.962386Z",
     "start_time": "2020-03-01T17:05:00.952967Z"
    }
   },
   "outputs": [
    {
     "data": {
      "text/plain": [
       "2020-12-24    1.555602\n",
       "2020-12-25    1.211483\n",
       "2020-12-26    1.594778\n",
       "2020-12-27    3.683655\n",
       "2020-12-28    2.791313\n",
       "2020-12-29    1.449931\n",
       "2020-12-30    3.260477\n",
       "2020-12-31    1.948767\n",
       "Freq: D, dtype: float64"
      ]
     },
     "execution_count": 66,
     "metadata": {},
     "output_type": "execute_result"
    }
   ],
   "source": [
    "df.apply(lambda x: x.max() - x.min(), axis=1)"
   ]
  },
  {
   "cell_type": "code",
   "execution_count": null,
   "metadata": {},
   "outputs": [],
   "source": []
  },
  {
   "cell_type": "code",
   "execution_count": null,
   "metadata": {},
   "outputs": [],
   "source": []
  },
  {
   "cell_type": "markdown",
   "metadata": {},
   "source": [
    "## 재색인(reindex)\n",
    "* 새로운 색인에 맞도록 객체를 새로 생성하는 기능, row, column, index 모두 변경 가능"
   ]
  },
  {
   "cell_type": "markdown",
   "metadata": {},
   "source": [
    "##### Series 객체의 reindex"
   ]
  },
  {
   "cell_type": "code",
   "execution_count": 67,
   "metadata": {
    "ExecuteTime": {
     "end_time": "2020-03-01T17:05:00.966417Z",
     "start_time": "2020-03-01T17:05:00.963657Z"
    }
   },
   "outputs": [],
   "source": [
    "obj = pd.Series([2.3, 4.5, -4.1, 3.5], index=[\"D\",\"A\",\"V\",\"E\"])"
   ]
  },
  {
   "cell_type": "code",
   "execution_count": 68,
   "metadata": {
    "ExecuteTime": {
     "end_time": "2020-03-01T17:05:00.981292Z",
     "start_time": "2020-03-01T17:05:00.977810Z"
    }
   },
   "outputs": [
    {
     "data": {
      "text/plain": [
       "D    2.3\n",
       "A    4.5\n",
       "V   -4.1\n",
       "E    3.5\n",
       "dtype: float64"
      ]
     },
     "execution_count": 68,
     "metadata": {},
     "output_type": "execute_result"
    }
   ],
   "source": [
    "obj"
   ]
  },
  {
   "cell_type": "code",
   "execution_count": 69,
   "metadata": {
    "ExecuteTime": {
     "end_time": "2020-03-01T17:05:00.986952Z",
     "start_time": "2020-03-01T17:05:00.984413Z"
    }
   },
   "outputs": [],
   "source": [
    "obj = obj.reindex([\"D\",\"A\",\"J\",\"V\",\"E\",\"K\"])"
   ]
  },
  {
   "cell_type": "code",
   "execution_count": 70,
   "metadata": {
    "ExecuteTime": {
     "end_time": "2020-03-01T17:05:00.991684Z",
     "start_time": "2020-03-01T17:05:00.988369Z"
    }
   },
   "outputs": [
    {
     "data": {
      "text/plain": [
       "D    2.3\n",
       "A    4.5\n",
       "J    NaN\n",
       "V   -4.1\n",
       "E    3.5\n",
       "K    NaN\n",
       "dtype: float64"
      ]
     },
     "execution_count": 70,
     "metadata": {},
     "output_type": "execute_result"
    }
   ],
   "source": [
    "obj"
   ]
  },
  {
   "cell_type": "code",
   "execution_count": 71,
   "metadata": {
    "ExecuteTime": {
     "end_time": "2020-03-01T17:05:00.995716Z",
     "start_time": "2020-03-01T17:05:00.993059Z"
    }
   },
   "outputs": [],
   "source": [
    "obj = obj.reindex([\"D\",\"A\",\"J\",\"V\",\"E\",\"K\",\"G\",\"U\"], fill_value=0.0)"
   ]
  },
  {
   "cell_type": "code",
   "execution_count": 72,
   "metadata": {
    "ExecuteTime": {
     "end_time": "2020-03-01T17:05:01.000570Z",
     "start_time": "2020-03-01T17:05:00.997069Z"
    }
   },
   "outputs": [
    {
     "data": {
      "text/plain": [
       "D    2.3\n",
       "A    4.5\n",
       "J    NaN\n",
       "V   -4.1\n",
       "E    3.5\n",
       "K    NaN\n",
       "G    0.0\n",
       "U    0.0\n",
       "dtype: float64"
      ]
     },
     "execution_count": 72,
     "metadata": {},
     "output_type": "execute_result"
    }
   ],
   "source": [
    "obj"
   ]
  },
  {
   "cell_type": "markdown",
   "metadata": {},
   "source": [
    "##### DataFrame reindex"
   ]
  },
  {
   "cell_type": "code",
   "execution_count": 73,
   "metadata": {
    "ExecuteTime": {
     "end_time": "2020-03-01T17:05:01.004515Z",
     "start_time": "2020-03-01T17:05:01.001871Z"
    }
   },
   "outputs": [],
   "source": [
    "df_re = pd.DataFrame(np.arange(9).reshape(3,3),\n",
    "                     index=[\"C\",\"A\",\"T\"],\n",
    "                     columns=[\"D\",\"O\",\"G\"])"
   ]
  },
  {
   "cell_type": "code",
   "execution_count": 74,
   "metadata": {
    "ExecuteTime": {
     "end_time": "2020-03-01T17:05:01.010943Z",
     "start_time": "2020-03-01T17:05:01.005834Z"
    }
   },
   "outputs": [
    {
     "data": {
      "text/html": [
       "<div>\n",
       "<style>\n",
       "    .dataframe thead tr:only-child th {\n",
       "        text-align: right;\n",
       "    }\n",
       "\n",
       "    .dataframe thead th {\n",
       "        text-align: left;\n",
       "    }\n",
       "\n",
       "    .dataframe tbody tr th {\n",
       "        vertical-align: top;\n",
       "    }\n",
       "</style>\n",
       "<table border=\"1\" class=\"dataframe\">\n",
       "  <thead>\n",
       "    <tr style=\"text-align: right;\">\n",
       "      <th></th>\n",
       "      <th>D</th>\n",
       "      <th>O</th>\n",
       "      <th>G</th>\n",
       "    </tr>\n",
       "  </thead>\n",
       "  <tbody>\n",
       "    <tr>\n",
       "      <th>C</th>\n",
       "      <td>0</td>\n",
       "      <td>1</td>\n",
       "      <td>2</td>\n",
       "    </tr>\n",
       "    <tr>\n",
       "      <th>A</th>\n",
       "      <td>3</td>\n",
       "      <td>4</td>\n",
       "      <td>5</td>\n",
       "    </tr>\n",
       "    <tr>\n",
       "      <th>T</th>\n",
       "      <td>6</td>\n",
       "      <td>7</td>\n",
       "      <td>8</td>\n",
       "    </tr>\n",
       "  </tbody>\n",
       "</table>\n",
       "</div>"
      ],
      "text/plain": [
       "   D  O  G\n",
       "C  0  1  2\n",
       "A  3  4  5\n",
       "T  6  7  8"
      ]
     },
     "execution_count": 74,
     "metadata": {},
     "output_type": "execute_result"
    }
   ],
   "source": [
    "df_re"
   ]
  },
  {
   "cell_type": "code",
   "execution_count": 75,
   "metadata": {
    "ExecuteTime": {
     "end_time": "2020-03-01T17:05:01.014748Z",
     "start_time": "2020-03-01T17:05:01.012141Z"
    }
   },
   "outputs": [],
   "source": [
    "df_re = df_re.reindex([\"C\",\"A\",\"T\",\"S\"])"
   ]
  },
  {
   "cell_type": "code",
   "execution_count": 76,
   "metadata": {
    "ExecuteTime": {
     "end_time": "2020-03-01T17:05:01.022303Z",
     "start_time": "2020-03-01T17:05:01.016102Z"
    }
   },
   "outputs": [
    {
     "data": {
      "text/html": [
       "<div>\n",
       "<style>\n",
       "    .dataframe thead tr:only-child th {\n",
       "        text-align: right;\n",
       "    }\n",
       "\n",
       "    .dataframe thead th {\n",
       "        text-align: left;\n",
       "    }\n",
       "\n",
       "    .dataframe tbody tr th {\n",
       "        vertical-align: top;\n",
       "    }\n",
       "</style>\n",
       "<table border=\"1\" class=\"dataframe\">\n",
       "  <thead>\n",
       "    <tr style=\"text-align: right;\">\n",
       "      <th></th>\n",
       "      <th>D</th>\n",
       "      <th>O</th>\n",
       "      <th>G</th>\n",
       "    </tr>\n",
       "  </thead>\n",
       "  <tbody>\n",
       "    <tr>\n",
       "      <th>C</th>\n",
       "      <td>0.0</td>\n",
       "      <td>1.0</td>\n",
       "      <td>2.0</td>\n",
       "    </tr>\n",
       "    <tr>\n",
       "      <th>A</th>\n",
       "      <td>3.0</td>\n",
       "      <td>4.0</td>\n",
       "      <td>5.0</td>\n",
       "    </tr>\n",
       "    <tr>\n",
       "      <th>T</th>\n",
       "      <td>6.0</td>\n",
       "      <td>7.0</td>\n",
       "      <td>8.0</td>\n",
       "    </tr>\n",
       "    <tr>\n",
       "      <th>S</th>\n",
       "      <td>NaN</td>\n",
       "      <td>NaN</td>\n",
       "      <td>NaN</td>\n",
       "    </tr>\n",
       "  </tbody>\n",
       "</table>\n",
       "</div>"
      ],
      "text/plain": [
       "     D    O    G\n",
       "C  0.0  1.0  2.0\n",
       "A  3.0  4.0  5.0\n",
       "T  6.0  7.0  8.0\n",
       "S  NaN  NaN  NaN"
      ]
     },
     "execution_count": 76,
     "metadata": {},
     "output_type": "execute_result"
    }
   ],
   "source": [
    "df_re"
   ]
  },
  {
   "cell_type": "code",
   "execution_count": 77,
   "metadata": {
    "ExecuteTime": {
     "end_time": "2020-03-01T17:05:01.026573Z",
     "start_time": "2020-03-01T17:05:01.023821Z"
    }
   },
   "outputs": [],
   "source": [
    "df_re = df_re.reindex(columns=[\"D\",\"O\",\"G\",\"B\"])"
   ]
  },
  {
   "cell_type": "code",
   "execution_count": 78,
   "metadata": {
    "ExecuteTime": {
     "end_time": "2020-03-01T17:05:01.035204Z",
     "start_time": "2020-03-01T17:05:01.028423Z"
    }
   },
   "outputs": [
    {
     "data": {
      "text/html": [
       "<div>\n",
       "<style>\n",
       "    .dataframe thead tr:only-child th {\n",
       "        text-align: right;\n",
       "    }\n",
       "\n",
       "    .dataframe thead th {\n",
       "        text-align: left;\n",
       "    }\n",
       "\n",
       "    .dataframe tbody tr th {\n",
       "        vertical-align: top;\n",
       "    }\n",
       "</style>\n",
       "<table border=\"1\" class=\"dataframe\">\n",
       "  <thead>\n",
       "    <tr style=\"text-align: right;\">\n",
       "      <th></th>\n",
       "      <th>D</th>\n",
       "      <th>O</th>\n",
       "      <th>G</th>\n",
       "      <th>B</th>\n",
       "    </tr>\n",
       "  </thead>\n",
       "  <tbody>\n",
       "    <tr>\n",
       "      <th>C</th>\n",
       "      <td>0.0</td>\n",
       "      <td>1.0</td>\n",
       "      <td>2.0</td>\n",
       "      <td>NaN</td>\n",
       "    </tr>\n",
       "    <tr>\n",
       "      <th>A</th>\n",
       "      <td>3.0</td>\n",
       "      <td>4.0</td>\n",
       "      <td>5.0</td>\n",
       "      <td>NaN</td>\n",
       "    </tr>\n",
       "    <tr>\n",
       "      <th>T</th>\n",
       "      <td>6.0</td>\n",
       "      <td>7.0</td>\n",
       "      <td>8.0</td>\n",
       "      <td>NaN</td>\n",
       "    </tr>\n",
       "    <tr>\n",
       "      <th>S</th>\n",
       "      <td>NaN</td>\n",
       "      <td>NaN</td>\n",
       "      <td>NaN</td>\n",
       "      <td>NaN</td>\n",
       "    </tr>\n",
       "  </tbody>\n",
       "</table>\n",
       "</div>"
      ],
      "text/plain": [
       "     D    O    G   B\n",
       "C  0.0  1.0  2.0 NaN\n",
       "A  3.0  4.0  5.0 NaN\n",
       "T  6.0  7.0  8.0 NaN\n",
       "S  NaN  NaN  NaN NaN"
      ]
     },
     "execution_count": 78,
     "metadata": {},
     "output_type": "execute_result"
    }
   ],
   "source": [
    "df_re"
   ]
  },
  {
   "cell_type": "code",
   "execution_count": 79,
   "metadata": {
    "ExecuteTime": {
     "end_time": "2020-03-01T17:05:01.039916Z",
     "start_time": "2020-03-01T17:05:01.036771Z"
    }
   },
   "outputs": [],
   "source": [
    "df_re2 = pd.DataFrame(np.arange(16).reshape(4,4),\n",
    "                     index=[\"a\",\"b\",\"c\",\"d\"],\n",
    "                     columns=[\"x\",\"y\",\"z\",\"w\"])"
   ]
  },
  {
   "cell_type": "code",
   "execution_count": 80,
   "metadata": {
    "ExecuteTime": {
     "end_time": "2020-03-01T17:05:01.047658Z",
     "start_time": "2020-03-01T17:05:01.041504Z"
    }
   },
   "outputs": [
    {
     "data": {
      "text/html": [
       "<div>\n",
       "<style>\n",
       "    .dataframe thead tr:only-child th {\n",
       "        text-align: right;\n",
       "    }\n",
       "\n",
       "    .dataframe thead th {\n",
       "        text-align: left;\n",
       "    }\n",
       "\n",
       "    .dataframe tbody tr th {\n",
       "        vertical-align: top;\n",
       "    }\n",
       "</style>\n",
       "<table border=\"1\" class=\"dataframe\">\n",
       "  <thead>\n",
       "    <tr style=\"text-align: right;\">\n",
       "      <th></th>\n",
       "      <th>x</th>\n",
       "      <th>y</th>\n",
       "      <th>z</th>\n",
       "      <th>w</th>\n",
       "    </tr>\n",
       "  </thead>\n",
       "  <tbody>\n",
       "    <tr>\n",
       "      <th>a</th>\n",
       "      <td>0</td>\n",
       "      <td>1</td>\n",
       "      <td>2</td>\n",
       "      <td>3</td>\n",
       "    </tr>\n",
       "    <tr>\n",
       "      <th>b</th>\n",
       "      <td>4</td>\n",
       "      <td>5</td>\n",
       "      <td>6</td>\n",
       "      <td>7</td>\n",
       "    </tr>\n",
       "    <tr>\n",
       "      <th>c</th>\n",
       "      <td>8</td>\n",
       "      <td>9</td>\n",
       "      <td>10</td>\n",
       "      <td>11</td>\n",
       "    </tr>\n",
       "    <tr>\n",
       "      <th>d</th>\n",
       "      <td>12</td>\n",
       "      <td>13</td>\n",
       "      <td>14</td>\n",
       "      <td>15</td>\n",
       "    </tr>\n",
       "  </tbody>\n",
       "</table>\n",
       "</div>"
      ],
      "text/plain": [
       "    x   y   z   w\n",
       "a   0   1   2   3\n",
       "b   4   5   6   7\n",
       "c   8   9  10  11\n",
       "d  12  13  14  15"
      ]
     },
     "execution_count": 80,
     "metadata": {},
     "output_type": "execute_result"
    }
   ],
   "source": [
    "df_re2"
   ]
  },
  {
   "cell_type": "code",
   "execution_count": 81,
   "metadata": {
    "ExecuteTime": {
     "end_time": "2020-03-01T17:05:01.057891Z",
     "start_time": "2020-03-01T17:05:01.049246Z"
    }
   },
   "outputs": [
    {
     "data": {
      "text/html": [
       "<div>\n",
       "<style>\n",
       "    .dataframe thead tr:only-child th {\n",
       "        text-align: right;\n",
       "    }\n",
       "\n",
       "    .dataframe thead th {\n",
       "        text-align: left;\n",
       "    }\n",
       "\n",
       "    .dataframe tbody tr th {\n",
       "        vertical-align: top;\n",
       "    }\n",
       "</style>\n",
       "<table border=\"1\" class=\"dataframe\">\n",
       "  <thead>\n",
       "    <tr style=\"text-align: right;\">\n",
       "      <th></th>\n",
       "      <th>x</th>\n",
       "      <th>y</th>\n",
       "      <th>z</th>\n",
       "      <th>w</th>\n",
       "      <th>q</th>\n",
       "    </tr>\n",
       "  </thead>\n",
       "  <tbody>\n",
       "    <tr>\n",
       "      <th>a</th>\n",
       "      <td>0.0</td>\n",
       "      <td>1.0</td>\n",
       "      <td>2.0</td>\n",
       "      <td>3.0</td>\n",
       "      <td>NaN</td>\n",
       "    </tr>\n",
       "    <tr>\n",
       "      <th>b</th>\n",
       "      <td>4.0</td>\n",
       "      <td>5.0</td>\n",
       "      <td>6.0</td>\n",
       "      <td>7.0</td>\n",
       "      <td>NaN</td>\n",
       "    </tr>\n",
       "    <tr>\n",
       "      <th>c</th>\n",
       "      <td>8.0</td>\n",
       "      <td>9.0</td>\n",
       "      <td>10.0</td>\n",
       "      <td>11.0</td>\n",
       "      <td>NaN</td>\n",
       "    </tr>\n",
       "    <tr>\n",
       "      <th>e</th>\n",
       "      <td>NaN</td>\n",
       "      <td>NaN</td>\n",
       "      <td>NaN</td>\n",
       "      <td>NaN</td>\n",
       "      <td>NaN</td>\n",
       "    </tr>\n",
       "    <tr>\n",
       "      <th>d</th>\n",
       "      <td>12.0</td>\n",
       "      <td>13.0</td>\n",
       "      <td>14.0</td>\n",
       "      <td>15.0</td>\n",
       "      <td>NaN</td>\n",
       "    </tr>\n",
       "  </tbody>\n",
       "</table>\n",
       "</div>"
      ],
      "text/plain": [
       "      x     y     z     w   q\n",
       "a   0.0   1.0   2.0   3.0 NaN\n",
       "b   4.0   5.0   6.0   7.0 NaN\n",
       "c   8.0   9.0  10.0  11.0 NaN\n",
       "e   NaN   NaN   NaN   NaN NaN\n",
       "d  12.0  13.0  14.0  15.0 NaN"
      ]
     },
     "execution_count": 81,
     "metadata": {},
     "output_type": "execute_result"
    }
   ],
   "source": [
    "df_re3 = df_re2.reindex(index=[\"a\",\"b\",\"c\",\"e\",\"d\"], columns=[\"x\",\"y\",\"z\",\"w\",\"q\"])\n",
    "df_re3"
   ]
  },
  {
   "cell_type": "markdown",
   "metadata": {},
   "source": [
    "## drop()\n",
    "* index명을 사용해서 행을 삭제할 때는 ()안에 삭제할 행의 이름을 입력\n",
    "* 주의할 점은 index명을 사용한다는 것이다. "
   ]
  },
  {
   "cell_type": "markdown",
   "metadata": {},
   "source": [
    "##### 'index명' 또는 'index순서'로 행 삭제"
   ]
  },
  {
   "cell_type": "code",
   "execution_count": 82,
   "metadata": {
    "ExecuteTime": {
     "end_time": "2020-03-01T17:05:01.066404Z",
     "start_time": "2020-03-01T17:05:01.059317Z"
    }
   },
   "outputs": [
    {
     "data": {
      "text/html": [
       "<div>\n",
       "<style>\n",
       "    .dataframe thead tr:only-child th {\n",
       "        text-align: right;\n",
       "    }\n",
       "\n",
       "    .dataframe thead th {\n",
       "        text-align: left;\n",
       "    }\n",
       "\n",
       "    .dataframe tbody tr th {\n",
       "        vertical-align: top;\n",
       "    }\n",
       "</style>\n",
       "<table border=\"1\" class=\"dataframe\">\n",
       "  <thead>\n",
       "    <tr style=\"text-align: right;\">\n",
       "      <th></th>\n",
       "      <th>one</th>\n",
       "      <th>two</th>\n",
       "      <th>three</th>\n",
       "      <th>four</th>\n",
       "    </tr>\n",
       "  </thead>\n",
       "  <tbody>\n",
       "    <tr>\n",
       "      <th>seoul</th>\n",
       "      <td>0</td>\n",
       "      <td>1</td>\n",
       "      <td>2</td>\n",
       "      <td>3</td>\n",
       "    </tr>\n",
       "    <tr>\n",
       "      <th>busan</th>\n",
       "      <td>4</td>\n",
       "      <td>5</td>\n",
       "      <td>6</td>\n",
       "      <td>7</td>\n",
       "    </tr>\n",
       "    <tr>\n",
       "      <th>daegu</th>\n",
       "      <td>8</td>\n",
       "      <td>9</td>\n",
       "      <td>10</td>\n",
       "      <td>11</td>\n",
       "    </tr>\n",
       "    <tr>\n",
       "      <th>incheon</th>\n",
       "      <td>12</td>\n",
       "      <td>13</td>\n",
       "      <td>14</td>\n",
       "      <td>15</td>\n",
       "    </tr>\n",
       "  </tbody>\n",
       "</table>\n",
       "</div>"
      ],
      "text/plain": [
       "         one  two  three  four\n",
       "seoul      0    1      2     3\n",
       "busan      4    5      6     7\n",
       "daegu      8    9     10    11\n",
       "incheon   12   13     14    15"
      ]
     },
     "execution_count": 82,
     "metadata": {},
     "output_type": "execute_result"
    }
   ],
   "source": [
    "df9 = pd.DataFrame(np.arange(16).reshape(4,4),\n",
    "                   index=['seoul','busan','daegu','incheon'],\n",
    "                   columns=['one','two','three','four'])\n",
    "df9"
   ]
  },
  {
   "cell_type": "code",
   "execution_count": 83,
   "metadata": {
    "ExecuteTime": {
     "end_time": "2020-03-01T17:05:01.074346Z",
     "start_time": "2020-03-01T17:05:01.068005Z"
    }
   },
   "outputs": [
    {
     "data": {
      "text/html": [
       "<div>\n",
       "<style>\n",
       "    .dataframe thead tr:only-child th {\n",
       "        text-align: right;\n",
       "    }\n",
       "\n",
       "    .dataframe thead th {\n",
       "        text-align: left;\n",
       "    }\n",
       "\n",
       "    .dataframe tbody tr th {\n",
       "        vertical-align: top;\n",
       "    }\n",
       "</style>\n",
       "<table border=\"1\" class=\"dataframe\">\n",
       "  <thead>\n",
       "    <tr style=\"text-align: right;\">\n",
       "      <th></th>\n",
       "      <th>one</th>\n",
       "      <th>two</th>\n",
       "      <th>three</th>\n",
       "      <th>four</th>\n",
       "    </tr>\n",
       "  </thead>\n",
       "  <tbody>\n",
       "    <tr>\n",
       "      <th>daegu</th>\n",
       "      <td>8</td>\n",
       "      <td>9</td>\n",
       "      <td>10</td>\n",
       "      <td>11</td>\n",
       "    </tr>\n",
       "    <tr>\n",
       "      <th>incheon</th>\n",
       "      <td>12</td>\n",
       "      <td>13</td>\n",
       "      <td>14</td>\n",
       "      <td>15</td>\n",
       "    </tr>\n",
       "  </tbody>\n",
       "</table>\n",
       "</div>"
      ],
      "text/plain": [
       "         one  two  three  four\n",
       "daegu      8    9     10    11\n",
       "incheon   12   13     14    15"
      ]
     },
     "execution_count": 83,
     "metadata": {},
     "output_type": "execute_result"
    }
   ],
   "source": [
    "df_row = df9.drop(['seoul','busan'])\n",
    "df_row"
   ]
  },
  {
   "cell_type": "markdown",
   "metadata": {},
   "source": [
    "##### column과 axis를 같이 줘야 column이 삭제됨"
   ]
  },
  {
   "cell_type": "code",
   "execution_count": 84,
   "metadata": {
    "ExecuteTime": {
     "end_time": "2020-03-01T17:05:01.081830Z",
     "start_time": "2020-03-01T17:05:01.075921Z"
    }
   },
   "outputs": [
    {
     "data": {
      "text/html": [
       "<div>\n",
       "<style>\n",
       "    .dataframe thead tr:only-child th {\n",
       "        text-align: right;\n",
       "    }\n",
       "\n",
       "    .dataframe thead th {\n",
       "        text-align: left;\n",
       "    }\n",
       "\n",
       "    .dataframe tbody tr th {\n",
       "        vertical-align: top;\n",
       "    }\n",
       "</style>\n",
       "<table border=\"1\" class=\"dataframe\">\n",
       "  <thead>\n",
       "    <tr style=\"text-align: right;\">\n",
       "      <th></th>\n",
       "      <th>three</th>\n",
       "      <th>four</th>\n",
       "    </tr>\n",
       "  </thead>\n",
       "  <tbody>\n",
       "    <tr>\n",
       "      <th>seoul</th>\n",
       "      <td>2</td>\n",
       "      <td>3</td>\n",
       "    </tr>\n",
       "    <tr>\n",
       "      <th>busan</th>\n",
       "      <td>6</td>\n",
       "      <td>7</td>\n",
       "    </tr>\n",
       "    <tr>\n",
       "      <th>daegu</th>\n",
       "      <td>10</td>\n",
       "      <td>11</td>\n",
       "    </tr>\n",
       "    <tr>\n",
       "      <th>incheon</th>\n",
       "      <td>14</td>\n",
       "      <td>15</td>\n",
       "    </tr>\n",
       "  </tbody>\n",
       "</table>\n",
       "</div>"
      ],
      "text/plain": [
       "         three  four\n",
       "seoul        2     3\n",
       "busan        6     7\n",
       "daegu       10    11\n",
       "incheon     14    15"
      ]
     },
     "execution_count": 84,
     "metadata": {},
     "output_type": "execute_result"
    }
   ],
   "source": [
    "df_column = df9.drop(['one','two'], axis=1)\n",
    "df_column"
   ]
  },
  {
   "cell_type": "markdown",
   "metadata": {},
   "source": [
    "## 문자열 컬럼을 숫자형으로\n",
    "\n",
    "* pd.to_numeric()\n",
    "* astype()"
   ]
  },
  {
   "cell_type": "markdown",
   "metadata": {},
   "source": [
    "##### pd.to_numeric()"
   ]
  },
  {
   "cell_type": "code",
   "execution_count": 85,
   "metadata": {
    "ExecuteTime": {
     "end_time": "2020-03-01T17:05:01.086313Z",
     "start_time": "2020-03-01T17:05:01.083153Z"
    }
   },
   "outputs": [
    {
     "data": {
      "text/plain": [
       "dtype('O')"
      ]
     },
     "execution_count": 85,
     "metadata": {},
     "output_type": "execute_result"
    }
   ],
   "source": [
    "s = pd.Series(['1.0', '2', '-3'])\n",
    "s.dtypes"
   ]
  },
  {
   "cell_type": "code",
   "execution_count": 86,
   "metadata": {
    "ExecuteTime": {
     "end_time": "2020-03-01T17:05:01.091015Z",
     "start_time": "2020-03-01T17:05:01.087765Z"
    }
   },
   "outputs": [
    {
     "data": {
      "text/plain": [
       "dtype('float64')"
      ]
     },
     "execution_count": 86,
     "metadata": {},
     "output_type": "execute_result"
    }
   ],
   "source": [
    "s1 = pd.to_numeric(s)\n",
    "s1.dtypes"
   ]
  },
  {
   "cell_type": "code",
   "execution_count": 87,
   "metadata": {
    "ExecuteTime": {
     "end_time": "2020-03-01T17:05:01.096280Z",
     "start_time": "2020-03-01T17:05:01.092298Z"
    },
    "scrolled": true
   },
   "outputs": [
    {
     "data": {
      "text/plain": [
       "0    1.0\n",
       "1    2.0\n",
       "2   -3.0\n",
       "dtype: float32"
      ]
     },
     "execution_count": 87,
     "metadata": {},
     "output_type": "execute_result"
    }
   ],
   "source": [
    "pd.to_numeric(s, downcast='float')"
   ]
  },
  {
   "cell_type": "code",
   "execution_count": 88,
   "metadata": {
    "ExecuteTime": {
     "end_time": "2020-03-01T17:05:01.102621Z",
     "start_time": "2020-03-01T17:05:01.098093Z"
    }
   },
   "outputs": [
    {
     "data": {
      "text/plain": [
       "0    1\n",
       "1    2\n",
       "2   -3\n",
       "dtype: int8"
      ]
     },
     "execution_count": 88,
     "metadata": {},
     "output_type": "execute_result"
    }
   ],
   "source": [
    "pd.to_numeric(s, downcast='signed')"
   ]
  },
  {
   "cell_type": "code",
   "execution_count": 89,
   "metadata": {
    "ExecuteTime": {
     "end_time": "2020-03-01T17:05:01.107119Z",
     "start_time": "2020-03-01T17:05:01.104449Z"
    }
   },
   "outputs": [],
   "source": [
    "s = pd.Series(['apple', '1.0', '2', -3])"
   ]
  },
  {
   "cell_type": "code",
   "execution_count": 90,
   "metadata": {
    "ExecuteTime": {
     "end_time": "2020-03-01T17:05:01.112716Z",
     "start_time": "2020-03-01T17:05:01.108697Z"
    }
   },
   "outputs": [
    {
     "data": {
      "text/plain": [
       "0    apple\n",
       "1      1.0\n",
       "2        2\n",
       "3       -3\n",
       "dtype: object"
      ]
     },
     "execution_count": 90,
     "metadata": {},
     "output_type": "execute_result"
    }
   ],
   "source": [
    "pd.to_numeric(s, errors='ignore')"
   ]
  },
  {
   "cell_type": "code",
   "execution_count": 91,
   "metadata": {
    "ExecuteTime": {
     "end_time": "2020-03-01T17:05:01.118389Z",
     "start_time": "2020-03-01T17:05:01.114187Z"
    }
   },
   "outputs": [
    {
     "data": {
      "text/plain": [
       "0    NaN\n",
       "1    1.0\n",
       "2    2.0\n",
       "3   -3.0\n",
       "dtype: float64"
      ]
     },
     "execution_count": 91,
     "metadata": {},
     "output_type": "execute_result"
    }
   ],
   "source": [
    "pd.to_numeric(s, errors='coerce')"
   ]
  },
  {
   "cell_type": "code",
   "execution_count": 92,
   "metadata": {
    "ExecuteTime": {
     "end_time": "2020-03-01T17:05:01.123037Z",
     "start_time": "2020-03-01T17:05:01.119975Z"
    }
   },
   "outputs": [],
   "source": [
    "df_str = pd.DataFrame({'col_str' : ['1','2','3','4','5']})"
   ]
  },
  {
   "cell_type": "code",
   "execution_count": 93,
   "metadata": {
    "ExecuteTime": {
     "end_time": "2020-03-01T17:05:01.129534Z",
     "start_time": "2020-03-01T17:05:01.124739Z"
    }
   },
   "outputs": [
    {
     "data": {
      "text/html": [
       "<div>\n",
       "<style>\n",
       "    .dataframe thead tr:only-child th {\n",
       "        text-align: right;\n",
       "    }\n",
       "\n",
       "    .dataframe thead th {\n",
       "        text-align: left;\n",
       "    }\n",
       "\n",
       "    .dataframe tbody tr th {\n",
       "        vertical-align: top;\n",
       "    }\n",
       "</style>\n",
       "<table border=\"1\" class=\"dataframe\">\n",
       "  <thead>\n",
       "    <tr style=\"text-align: right;\">\n",
       "      <th></th>\n",
       "      <th>col_str</th>\n",
       "    </tr>\n",
       "  </thead>\n",
       "  <tbody>\n",
       "    <tr>\n",
       "      <th>0</th>\n",
       "      <td>1</td>\n",
       "    </tr>\n",
       "    <tr>\n",
       "      <th>1</th>\n",
       "      <td>2</td>\n",
       "    </tr>\n",
       "    <tr>\n",
       "      <th>2</th>\n",
       "      <td>3</td>\n",
       "    </tr>\n",
       "    <tr>\n",
       "      <th>3</th>\n",
       "      <td>4</td>\n",
       "    </tr>\n",
       "    <tr>\n",
       "      <th>4</th>\n",
       "      <td>5</td>\n",
       "    </tr>\n",
       "  </tbody>\n",
       "</table>\n",
       "</div>"
      ],
      "text/plain": [
       "  col_str\n",
       "0       1\n",
       "1       2\n",
       "2       3\n",
       "3       4\n",
       "4       5"
      ]
     },
     "execution_count": 93,
     "metadata": {},
     "output_type": "execute_result"
    }
   ],
   "source": [
    "df_str"
   ]
  },
  {
   "cell_type": "code",
   "execution_count": 94,
   "metadata": {
    "ExecuteTime": {
     "end_time": "2020-03-01T17:05:01.134549Z",
     "start_time": "2020-03-01T17:05:01.130947Z"
    }
   },
   "outputs": [
    {
     "data": {
      "text/plain": [
       "col_str    object\n",
       "dtype: object"
      ]
     },
     "execution_count": 94,
     "metadata": {},
     "output_type": "execute_result"
    }
   ],
   "source": [
    "df_str.dtypes"
   ]
  },
  {
   "cell_type": "code",
   "execution_count": 95,
   "metadata": {
    "ExecuteTime": {
     "end_time": "2020-03-01T17:05:01.139055Z",
     "start_time": "2020-03-01T17:05:01.135942Z"
    }
   },
   "outputs": [],
   "source": [
    "df_str['col_int'] = pd.to_numeric(df_str['col_str'])"
   ]
  },
  {
   "cell_type": "code",
   "execution_count": 96,
   "metadata": {
    "ExecuteTime": {
     "end_time": "2020-03-01T17:05:01.144210Z",
     "start_time": "2020-03-01T17:05:01.140627Z"
    }
   },
   "outputs": [
    {
     "data": {
      "text/plain": [
       "col_str    object\n",
       "col_int     int64\n",
       "dtype: object"
      ]
     },
     "execution_count": 96,
     "metadata": {},
     "output_type": "execute_result"
    }
   ],
   "source": [
    "df_str.dtypes"
   ]
  },
  {
   "cell_type": "code",
   "execution_count": 97,
   "metadata": {
    "ExecuteTime": {
     "end_time": "2020-03-01T17:05:01.150443Z",
     "start_time": "2020-03-01T17:05:01.145469Z"
    },
    "scrolled": true
   },
   "outputs": [
    {
     "data": {
      "text/html": [
       "<div>\n",
       "<style>\n",
       "    .dataframe thead tr:only-child th {\n",
       "        text-align: right;\n",
       "    }\n",
       "\n",
       "    .dataframe thead th {\n",
       "        text-align: left;\n",
       "    }\n",
       "\n",
       "    .dataframe tbody tr th {\n",
       "        vertical-align: top;\n",
       "    }\n",
       "</style>\n",
       "<table border=\"1\" class=\"dataframe\">\n",
       "  <thead>\n",
       "    <tr style=\"text-align: right;\">\n",
       "      <th></th>\n",
       "      <th>col_str</th>\n",
       "      <th>col_int</th>\n",
       "    </tr>\n",
       "  </thead>\n",
       "  <tbody>\n",
       "    <tr>\n",
       "      <th>0</th>\n",
       "      <td>1</td>\n",
       "      <td>1</td>\n",
       "    </tr>\n",
       "    <tr>\n",
       "      <th>1</th>\n",
       "      <td>2</td>\n",
       "      <td>2</td>\n",
       "    </tr>\n",
       "    <tr>\n",
       "      <th>2</th>\n",
       "      <td>3</td>\n",
       "      <td>3</td>\n",
       "    </tr>\n",
       "    <tr>\n",
       "      <th>3</th>\n",
       "      <td>4</td>\n",
       "      <td>4</td>\n",
       "    </tr>\n",
       "    <tr>\n",
       "      <th>4</th>\n",
       "      <td>5</td>\n",
       "      <td>5</td>\n",
       "    </tr>\n",
       "  </tbody>\n",
       "</table>\n",
       "</div>"
      ],
      "text/plain": [
       "  col_str  col_int\n",
       "0       1        1\n",
       "1       2        2\n",
       "2       3        3\n",
       "3       4        4\n",
       "4       5        5"
      ]
     },
     "execution_count": 97,
     "metadata": {},
     "output_type": "execute_result"
    }
   ],
   "source": [
    "df_str"
   ]
  },
  {
   "cell_type": "markdown",
   "metadata": {},
   "source": [
    "##### astype() - Dataframe 내 모든 문자열 칼럼을 float로 한꺼번에 변환하기"
   ]
  },
  {
   "cell_type": "code",
   "execution_count": 98,
   "metadata": {
    "ExecuteTime": {
     "end_time": "2020-03-01T17:05:01.158693Z",
     "start_time": "2020-03-01T17:05:01.152294Z"
    }
   },
   "outputs": [
    {
     "data": {
      "text/html": [
       "<div>\n",
       "<style>\n",
       "    .dataframe thead tr:only-child th {\n",
       "        text-align: right;\n",
       "    }\n",
       "\n",
       "    .dataframe thead th {\n",
       "        text-align: left;\n",
       "    }\n",
       "\n",
       "    .dataframe tbody tr th {\n",
       "        vertical-align: top;\n",
       "    }\n",
       "</style>\n",
       "<table border=\"1\" class=\"dataframe\">\n",
       "  <thead>\n",
       "    <tr style=\"text-align: right;\">\n",
       "      <th></th>\n",
       "      <th>col_str_1</th>\n",
       "      <th>col_str_2</th>\n",
       "    </tr>\n",
       "  </thead>\n",
       "  <tbody>\n",
       "    <tr>\n",
       "      <th>0</th>\n",
       "      <td>1</td>\n",
       "      <td>4.1</td>\n",
       "    </tr>\n",
       "    <tr>\n",
       "      <th>1</th>\n",
       "      <td>2</td>\n",
       "      <td>5.5</td>\n",
       "    </tr>\n",
       "    <tr>\n",
       "      <th>2</th>\n",
       "      <td>3</td>\n",
       "      <td>6.0</td>\n",
       "    </tr>\n",
       "  </tbody>\n",
       "</table>\n",
       "</div>"
      ],
      "text/plain": [
       "  col_str_1 col_str_2\n",
       "0         1       4.1\n",
       "1         2       5.5\n",
       "2         3       6.0"
      ]
     },
     "execution_count": 98,
     "metadata": {},
     "output_type": "execute_result"
    }
   ],
   "source": [
    "df4 = pd.DataFrame({'col_str_1': ['1', '2', '3'], \n",
    "                   'col_str_2': ['4.1', '5.5', '6.0']})\n",
    "df4"
   ]
  },
  {
   "cell_type": "code",
   "execution_count": 99,
   "metadata": {
    "ExecuteTime": {
     "end_time": "2020-03-01T17:05:01.163791Z",
     "start_time": "2020-03-01T17:05:01.160234Z"
    }
   },
   "outputs": [
    {
     "data": {
      "text/plain": [
       "col_str_1    object\n",
       "col_str_2    object\n",
       "dtype: object"
      ]
     },
     "execution_count": 99,
     "metadata": {},
     "output_type": "execute_result"
    }
   ],
   "source": [
    "df4.dtypes"
   ]
  },
  {
   "cell_type": "code",
   "execution_count": 100,
   "metadata": {
    "ExecuteTime": {
     "end_time": "2020-03-01T17:05:01.170424Z",
     "start_time": "2020-03-01T17:05:01.165117Z"
    }
   },
   "outputs": [
    {
     "data": {
      "text/html": [
       "<div>\n",
       "<style>\n",
       "    .dataframe thead tr:only-child th {\n",
       "        text-align: right;\n",
       "    }\n",
       "\n",
       "    .dataframe thead th {\n",
       "        text-align: left;\n",
       "    }\n",
       "\n",
       "    .dataframe tbody tr th {\n",
       "        vertical-align: top;\n",
       "    }\n",
       "</style>\n",
       "<table border=\"1\" class=\"dataframe\">\n",
       "  <thead>\n",
       "    <tr style=\"text-align: right;\">\n",
       "      <th></th>\n",
       "      <th>col_str_1</th>\n",
       "      <th>col_str_2</th>\n",
       "    </tr>\n",
       "  </thead>\n",
       "  <tbody>\n",
       "    <tr>\n",
       "      <th>0</th>\n",
       "      <td>1.0</td>\n",
       "      <td>4.1</td>\n",
       "    </tr>\n",
       "    <tr>\n",
       "      <th>1</th>\n",
       "      <td>2.0</td>\n",
       "      <td>5.5</td>\n",
       "    </tr>\n",
       "    <tr>\n",
       "      <th>2</th>\n",
       "      <td>3.0</td>\n",
       "      <td>6.0</td>\n",
       "    </tr>\n",
       "  </tbody>\n",
       "</table>\n",
       "</div>"
      ],
      "text/plain": [
       "   col_str_1  col_str_2\n",
       "0        1.0        4.1\n",
       "1        2.0        5.5\n",
       "2        3.0        6.0"
      ]
     },
     "execution_count": 100,
     "metadata": {},
     "output_type": "execute_result"
    }
   ],
   "source": [
    "df5 = df4.astype(float)\n",
    "df5"
   ]
  },
  {
   "cell_type": "code",
   "execution_count": 101,
   "metadata": {
    "ExecuteTime": {
     "end_time": "2020-03-01T17:05:01.175550Z",
     "start_time": "2020-03-01T17:05:01.172128Z"
    }
   },
   "outputs": [
    {
     "data": {
      "text/plain": [
       "col_str_1    float64\n",
       "col_str_2    float64\n",
       "dtype: object"
      ]
     },
     "execution_count": 101,
     "metadata": {},
     "output_type": "execute_result"
    }
   ],
   "source": [
    "df5.dtypes"
   ]
  },
  {
   "cell_type": "markdown",
   "metadata": {},
   "source": [
    "## 유일한 값 & 개수 세기\n",
    "\n",
    "* pd.Series.unique() 를 이용한 유일한 값 찾기\n",
    "\n",
    "* pd.Series.value_counts() 를 이용한 유일한 값별 개수 세기\n"
   ]
  },
  {
   "cell_type": "code",
   "execution_count": 37,
   "metadata": {
    "ExecuteTime": {
     "end_time": "2020-03-02T15:53:09.251828Z",
     "start_time": "2020-03-02T15:53:09.248280Z"
    }
   },
   "outputs": [],
   "source": [
    "df = pd.DataFrame({'A':['A1','A1','A2','A2','A3','A3'],\n",
    "                   'B':['B1','B1','B1','B1','B2',np.nan],\n",
    "                   'C':[1, 1, 3, 4, 4, 4]})"
   ]
  },
  {
   "cell_type": "code",
   "execution_count": 38,
   "metadata": {
    "ExecuteTime": {
     "end_time": "2020-03-02T15:53:14.254357Z",
     "start_time": "2020-03-02T15:53:14.247100Z"
    }
   },
   "outputs": [
    {
     "data": {
      "text/html": [
       "<div>\n",
       "<style>\n",
       "    .dataframe thead tr:only-child th {\n",
       "        text-align: right;\n",
       "    }\n",
       "\n",
       "    .dataframe thead th {\n",
       "        text-align: left;\n",
       "    }\n",
       "\n",
       "    .dataframe tbody tr th {\n",
       "        vertical-align: top;\n",
       "    }\n",
       "</style>\n",
       "<table border=\"1\" class=\"dataframe\">\n",
       "  <thead>\n",
       "    <tr style=\"text-align: right;\">\n",
       "      <th></th>\n",
       "      <th>A</th>\n",
       "      <th>B</th>\n",
       "      <th>C</th>\n",
       "    </tr>\n",
       "  </thead>\n",
       "  <tbody>\n",
       "    <tr>\n",
       "      <th>0</th>\n",
       "      <td>A1</td>\n",
       "      <td>B1</td>\n",
       "      <td>1</td>\n",
       "    </tr>\n",
       "    <tr>\n",
       "      <th>1</th>\n",
       "      <td>A1</td>\n",
       "      <td>B1</td>\n",
       "      <td>1</td>\n",
       "    </tr>\n",
       "    <tr>\n",
       "      <th>2</th>\n",
       "      <td>A2</td>\n",
       "      <td>B1</td>\n",
       "      <td>3</td>\n",
       "    </tr>\n",
       "    <tr>\n",
       "      <th>3</th>\n",
       "      <td>A2</td>\n",
       "      <td>B1</td>\n",
       "      <td>4</td>\n",
       "    </tr>\n",
       "    <tr>\n",
       "      <th>4</th>\n",
       "      <td>A3</td>\n",
       "      <td>B2</td>\n",
       "      <td>4</td>\n",
       "    </tr>\n",
       "    <tr>\n",
       "      <th>5</th>\n",
       "      <td>A3</td>\n",
       "      <td>NaN</td>\n",
       "      <td>4</td>\n",
       "    </tr>\n",
       "  </tbody>\n",
       "</table>\n",
       "</div>"
      ],
      "text/plain": [
       "    A    B  C\n",
       "0  A1   B1  1\n",
       "1  A1   B1  1\n",
       "2  A2   B1  3\n",
       "3  A2   B1  4\n",
       "4  A3   B2  4\n",
       "5  A3  NaN  4"
      ]
     },
     "execution_count": 38,
     "metadata": {},
     "output_type": "execute_result"
    }
   ],
   "source": [
    "df"
   ]
  },
  {
   "cell_type": "code",
   "execution_count": 41,
   "metadata": {
    "ExecuteTime": {
     "end_time": "2020-03-02T15:56:09.398885Z",
     "start_time": "2020-03-02T15:56:09.395083Z"
    }
   },
   "outputs": [
    {
     "data": {
      "text/plain": [
       "array(['A1', 'A2', 'A3'], dtype=object)"
      ]
     },
     "execution_count": 41,
     "metadata": {},
     "output_type": "execute_result"
    }
   ],
   "source": [
    "df['A'].unique()"
   ]
  },
  {
   "cell_type": "code",
   "execution_count": 42,
   "metadata": {
    "ExecuteTime": {
     "end_time": "2020-03-02T15:59:25.399684Z",
     "start_time": "2020-03-02T15:59:25.395932Z"
    }
   },
   "outputs": [
    {
     "data": {
      "text/plain": [
       "array(['B1', 'B2', nan], dtype=object)"
      ]
     },
     "execution_count": 42,
     "metadata": {},
     "output_type": "execute_result"
    }
   ],
   "source": [
    "df['B'].unique()"
   ]
  },
  {
   "cell_type": "code",
   "execution_count": 43,
   "metadata": {
    "ExecuteTime": {
     "end_time": "2020-03-02T15:59:26.660834Z",
     "start_time": "2020-03-02T15:59:26.652978Z"
    }
   },
   "outputs": [
    {
     "data": {
      "text/plain": [
       "array([1, 3, 4])"
      ]
     },
     "execution_count": 43,
     "metadata": {},
     "output_type": "execute_result"
    }
   ],
   "source": [
    "df['C'].unique()"
   ]
  },
  {
   "cell_type": "code",
   "execution_count": 44,
   "metadata": {
    "ExecuteTime": {
     "end_time": "2020-03-02T16:00:00.973346Z",
     "start_time": "2020-03-02T16:00:00.966629Z"
    }
   },
   "outputs": [
    {
     "data": {
      "text/plain": [
       "A1    2\n",
       "A3    2\n",
       "A2    2\n",
       "Name: A, dtype: int64"
      ]
     },
     "execution_count": 44,
     "metadata": {},
     "output_type": "execute_result"
    }
   ],
   "source": [
    "df['A'].value_counts()"
   ]
  },
  {
   "cell_type": "code",
   "execution_count": 45,
   "metadata": {
    "ExecuteTime": {
     "end_time": "2020-03-02T16:00:14.780557Z",
     "start_time": "2020-03-02T16:00:14.775952Z"
    }
   },
   "outputs": [
    {
     "data": {
      "text/plain": [
       "B1    4\n",
       "B2    1\n",
       "Name: B, dtype: int64"
      ]
     },
     "execution_count": 45,
     "metadata": {},
     "output_type": "execute_result"
    }
   ],
   "source": [
    "df['B'].value_counts()"
   ]
  },
  {
   "cell_type": "code",
   "execution_count": 46,
   "metadata": {
    "ExecuteTime": {
     "end_time": "2020-03-02T16:00:14.972113Z",
     "start_time": "2020-03-02T16:00:14.965893Z"
    }
   },
   "outputs": [
    {
     "data": {
      "text/plain": [
       "4    3\n",
       "1    2\n",
       "3    1\n",
       "Name: C, dtype: int64"
      ]
     },
     "execution_count": 46,
     "metadata": {},
     "output_type": "execute_result"
    }
   ],
   "source": [
    "df['C'].value_counts()"
   ]
  },
  {
   "cell_type": "code",
   "execution_count": 47,
   "metadata": {
    "ExecuteTime": {
     "end_time": "2020-03-02T16:01:25.852552Z",
     "start_time": "2020-03-02T16:01:25.847422Z"
    }
   },
   "outputs": [
    {
     "data": {
      "text/plain": [
       "4    3\n",
       "1    2\n",
       "3    1\n",
       "Name: C, dtype: int64"
      ]
     },
     "execution_count": 47,
     "metadata": {},
     "output_type": "execute_result"
    }
   ],
   "source": [
    "df['C'].value_counts(sort=True, ascending=False) # by default"
   ]
  },
  {
   "cell_type": "code",
   "execution_count": 48,
   "metadata": {
    "ExecuteTime": {
     "end_time": "2020-03-02T16:01:46.478511Z",
     "start_time": "2020-03-02T16:01:46.473274Z"
    }
   },
   "outputs": [
    {
     "data": {
      "text/plain": [
       "3    1\n",
       "1    2\n",
       "4    3\n",
       "Name: C, dtype: int64"
      ]
     },
     "execution_count": 48,
     "metadata": {},
     "output_type": "execute_result"
    }
   ],
   "source": [
    "df['C'].value_counts(sort=True, ascending=True)"
   ]
  },
  {
   "cell_type": "code",
   "execution_count": 49,
   "metadata": {
    "ExecuteTime": {
     "end_time": "2020-03-02T16:02:06.987002Z",
     "start_time": "2020-03-02T16:02:06.982125Z"
    }
   },
   "outputs": [
    {
     "data": {
      "text/plain": [
       "1    2\n",
       "3    1\n",
       "4    3\n",
       "Name: C, dtype: int64"
      ]
     },
     "execution_count": 49,
     "metadata": {},
     "output_type": "execute_result"
    }
   ],
   "source": [
    "df['C'].value_counts(sort=False)"
   ]
  },
  {
   "cell_type": "code",
   "execution_count": 53,
   "metadata": {
    "ExecuteTime": {
     "end_time": "2020-03-02T16:05:23.241667Z",
     "start_time": "2020-03-02T16:05:23.231409Z"
    }
   },
   "outputs": [
    {
     "data": {
      "text/plain": [
       "(-0.001, 1.0]    2\n",
       "(1.0, 2.0]       0\n",
       "(2.0, 3.0]       1\n",
       "(3.0, 4.0]       3\n",
       "(4.0, 5.0]       0\n",
       "Name: C, dtype: int64"
      ]
     },
     "execution_count": 53,
     "metadata": {},
     "output_type": "execute_result"
    }
   ],
   "source": [
    "df['C'].value_counts(bins=[0,1,2,3,4,5], sort=False)"
   ]
  },
  {
   "cell_type": "markdown",
   "metadata": {},
   "source": [
    "# 판다스 이용해서 데이터 파악"
   ]
  },
  {
   "cell_type": "markdown",
   "metadata": {},
   "source": [
    "### cctv_in_seoul.csv"
   ]
  },
  {
   "cell_type": "code",
   "execution_count": 102,
   "metadata": {
    "ExecuteTime": {
     "end_time": "2020-03-01T17:05:01.188157Z",
     "start_time": "2020-03-01T17:05:01.177110Z"
    }
   },
   "outputs": [
    {
     "data": {
      "text/html": [
       "<div>\n",
       "<style>\n",
       "    .dataframe thead tr:only-child th {\n",
       "        text-align: right;\n",
       "    }\n",
       "\n",
       "    .dataframe thead th {\n",
       "        text-align: left;\n",
       "    }\n",
       "\n",
       "    .dataframe tbody tr th {\n",
       "        vertical-align: top;\n",
       "    }\n",
       "</style>\n",
       "<table border=\"1\" class=\"dataframe\">\n",
       "  <thead>\n",
       "    <tr style=\"text-align: right;\">\n",
       "      <th></th>\n",
       "      <th>기관명</th>\n",
       "      <th>소계</th>\n",
       "      <th>2013년 이전</th>\n",
       "      <th>2014년</th>\n",
       "      <th>2015년</th>\n",
       "      <th>2016년</th>\n",
       "      <th>2017년</th>\n",
       "      <th>2018년</th>\n",
       "    </tr>\n",
       "  </thead>\n",
       "  <tbody>\n",
       "    <tr>\n",
       "      <th>0</th>\n",
       "      <td>강 남 구</td>\n",
       "      <td>5221</td>\n",
       "      <td>2455</td>\n",
       "      <td>430</td>\n",
       "      <td>546</td>\n",
       "      <td>765</td>\n",
       "      <td>577</td>\n",
       "      <td>448</td>\n",
       "    </tr>\n",
       "    <tr>\n",
       "      <th>1</th>\n",
       "      <td>강 동 구</td>\n",
       "      <td>1879</td>\n",
       "      <td>824</td>\n",
       "      <td>59</td>\n",
       "      <td>144</td>\n",
       "      <td>194</td>\n",
       "      <td>273</td>\n",
       "      <td>385</td>\n",
       "    </tr>\n",
       "    <tr>\n",
       "      <th>2</th>\n",
       "      <td>강 북 구</td>\n",
       "      <td>1265</td>\n",
       "      <td>472</td>\n",
       "      <td>74</td>\n",
       "      <td>145</td>\n",
       "      <td>254</td>\n",
       "      <td>1</td>\n",
       "      <td>319</td>\n",
       "    </tr>\n",
       "    <tr>\n",
       "      <th>3</th>\n",
       "      <td>강 서 구</td>\n",
       "      <td>1617</td>\n",
       "      <td>492</td>\n",
       "      <td>230</td>\n",
       "      <td>187</td>\n",
       "      <td>190</td>\n",
       "      <td>264</td>\n",
       "      <td>254</td>\n",
       "    </tr>\n",
       "    <tr>\n",
       "      <th>4</th>\n",
       "      <td>관 악 구</td>\n",
       "      <td>3985</td>\n",
       "      <td>905</td>\n",
       "      <td>487</td>\n",
       "      <td>609</td>\n",
       "      <td>619</td>\n",
       "      <td>694</td>\n",
       "      <td>671</td>\n",
       "    </tr>\n",
       "  </tbody>\n",
       "</table>\n",
       "</div>"
      ],
      "text/plain": [
       "     기관명    소계  2013년 이전  2014년  2015년  2016년  2017년  2018년\n",
       "0  강 남 구  5221      2455    430    546    765    577    448\n",
       "1  강 동 구  1879       824     59    144    194    273    385\n",
       "2  강 북 구  1265       472     74    145    254      1    319\n",
       "3  강 서 구  1617       492    230    187    190    264    254\n",
       "4  관 악 구  3985       905    487    609    619    694    671"
      ]
     },
     "execution_count": 102,
     "metadata": {},
     "output_type": "execute_result"
    }
   ],
   "source": [
    "import pandas as pd\n",
    "cctv_seoul = pd.read_csv('./data/cctv_in_seoul.csv', encoding='utf-8', thousands=',')\n",
    "cctv_seoul.dropna(inplace=True)\n",
    "cctv_seoul.head()"
   ]
  },
  {
   "cell_type": "markdown",
   "metadata": {},
   "source": [
    "##### cctv의 전체 개수가 가장 작은 구 : 도봉구 < 강북구 < 종로구 < 중구 < 중랑구"
   ]
  },
  {
   "cell_type": "code",
   "execution_count": 103,
   "metadata": {
    "ExecuteTime": {
     "end_time": "2020-03-01T17:05:01.198627Z",
     "start_time": "2020-03-01T17:05:01.189484Z"
    }
   },
   "outputs": [
    {
     "data": {
      "text/html": [
       "<div>\n",
       "<style>\n",
       "    .dataframe thead tr:only-child th {\n",
       "        text-align: right;\n",
       "    }\n",
       "\n",
       "    .dataframe thead th {\n",
       "        text-align: left;\n",
       "    }\n",
       "\n",
       "    .dataframe tbody tr th {\n",
       "        vertical-align: top;\n",
       "    }\n",
       "</style>\n",
       "<table border=\"1\" class=\"dataframe\">\n",
       "  <thead>\n",
       "    <tr style=\"text-align: right;\">\n",
       "      <th></th>\n",
       "      <th>기관명</th>\n",
       "      <th>소계</th>\n",
       "      <th>2013년 이전</th>\n",
       "      <th>2014년</th>\n",
       "      <th>2015년</th>\n",
       "      <th>2016년</th>\n",
       "      <th>2017년</th>\n",
       "      <th>2018년</th>\n",
       "    </tr>\n",
       "  </thead>\n",
       "  <tbody>\n",
       "    <tr>\n",
       "      <th>9</th>\n",
       "      <td>도 봉 구</td>\n",
       "      <td>858</td>\n",
       "      <td>271</td>\n",
       "      <td>185</td>\n",
       "      <td>59</td>\n",
       "      <td>155</td>\n",
       "      <td>117</td>\n",
       "      <td>71</td>\n",
       "    </tr>\n",
       "    <tr>\n",
       "      <th>2</th>\n",
       "      <td>강 북 구</td>\n",
       "      <td>1265</td>\n",
       "      <td>472</td>\n",
       "      <td>74</td>\n",
       "      <td>145</td>\n",
       "      <td>254</td>\n",
       "      <td>1</td>\n",
       "      <td>319</td>\n",
       "    </tr>\n",
       "    <tr>\n",
       "      <th>22</th>\n",
       "      <td>종 로 구</td>\n",
       "      <td>1471</td>\n",
       "      <td>614</td>\n",
       "      <td>132</td>\n",
       "      <td>195</td>\n",
       "      <td>148</td>\n",
       "      <td>281</td>\n",
       "      <td>101</td>\n",
       "    </tr>\n",
       "    <tr>\n",
       "      <th>23</th>\n",
       "      <td>중     구</td>\n",
       "      <td>1544</td>\n",
       "      <td>304</td>\n",
       "      <td>80</td>\n",
       "      <td>245</td>\n",
       "      <td>270</td>\n",
       "      <td>317</td>\n",
       "      <td>328</td>\n",
       "    </tr>\n",
       "    <tr>\n",
       "      <th>24</th>\n",
       "      <td>중 랑 구</td>\n",
       "      <td>1577</td>\n",
       "      <td>509</td>\n",
       "      <td>770</td>\n",
       "      <td>102</td>\n",
       "      <td>121</td>\n",
       "      <td>66</td>\n",
       "      <td>9</td>\n",
       "    </tr>\n",
       "  </tbody>\n",
       "</table>\n",
       "</div>"
      ],
      "text/plain": [
       "        기관명    소계  2013년 이전  2014년  2015년  2016년  2017년  2018년\n",
       "9     도 봉 구   858       271    185     59    155    117     71\n",
       "2     강 북 구  1265       472     74    145    254      1    319\n",
       "22    종 로 구  1471       614    132    195    148    281    101\n",
       "23  중     구  1544       304     80    245    270    317    328\n",
       "24    중 랑 구  1577       509    770    102    121     66      9"
      ]
     },
     "execution_count": 103,
     "metadata": {},
     "output_type": "execute_result"
    }
   ],
   "source": [
    "cctv_seoul.sort_values(by='소계', ascending=True).head()"
   ]
  },
  {
   "cell_type": "markdown",
   "metadata": {},
   "source": [
    "##### cctv의 개수가 가장 많은 구 : 강남구 > 관악구 > 구로구 > 동내문구 > 성북구"
   ]
  },
  {
   "cell_type": "code",
   "execution_count": 104,
   "metadata": {
    "ExecuteTime": {
     "end_time": "2020-03-01T17:05:01.208605Z",
     "start_time": "2020-03-01T17:05:01.199868Z"
    }
   },
   "outputs": [
    {
     "data": {
      "text/html": [
       "<div>\n",
       "<style>\n",
       "    .dataframe thead tr:only-child th {\n",
       "        text-align: right;\n",
       "    }\n",
       "\n",
       "    .dataframe thead th {\n",
       "        text-align: left;\n",
       "    }\n",
       "\n",
       "    .dataframe tbody tr th {\n",
       "        vertical-align: top;\n",
       "    }\n",
       "</style>\n",
       "<table border=\"1\" class=\"dataframe\">\n",
       "  <thead>\n",
       "    <tr style=\"text-align: right;\">\n",
       "      <th></th>\n",
       "      <th>기관명</th>\n",
       "      <th>소계</th>\n",
       "      <th>2013년 이전</th>\n",
       "      <th>2014년</th>\n",
       "      <th>2015년</th>\n",
       "      <th>2016년</th>\n",
       "      <th>2017년</th>\n",
       "      <th>2018년</th>\n",
       "    </tr>\n",
       "  </thead>\n",
       "  <tbody>\n",
       "    <tr>\n",
       "      <th>0</th>\n",
       "      <td>강 남 구</td>\n",
       "      <td>5221</td>\n",
       "      <td>2455</td>\n",
       "      <td>430</td>\n",
       "      <td>546</td>\n",
       "      <td>765</td>\n",
       "      <td>577</td>\n",
       "      <td>448</td>\n",
       "    </tr>\n",
       "    <tr>\n",
       "      <th>4</th>\n",
       "      <td>관 악 구</td>\n",
       "      <td>3985</td>\n",
       "      <td>905</td>\n",
       "      <td>487</td>\n",
       "      <td>609</td>\n",
       "      <td>619</td>\n",
       "      <td>694</td>\n",
       "      <td>671</td>\n",
       "    </tr>\n",
       "    <tr>\n",
       "      <th>6</th>\n",
       "      <td>구 로 구</td>\n",
       "      <td>3227</td>\n",
       "      <td>1420</td>\n",
       "      <td>187</td>\n",
       "      <td>268</td>\n",
       "      <td>326</td>\n",
       "      <td>540</td>\n",
       "      <td>486</td>\n",
       "    </tr>\n",
       "    <tr>\n",
       "      <th>10</th>\n",
       "      <td>동대문구</td>\n",
       "      <td>3073</td>\n",
       "      <td>1070</td>\n",
       "      <td>1326</td>\n",
       "      <td>111</td>\n",
       "      <td>233</td>\n",
       "      <td>136</td>\n",
       "      <td>197</td>\n",
       "    </tr>\n",
       "    <tr>\n",
       "      <th>16</th>\n",
       "      <td>성 북 구</td>\n",
       "      <td>3003</td>\n",
       "      <td>1167</td>\n",
       "      <td>241</td>\n",
       "      <td>279</td>\n",
       "      <td>388</td>\n",
       "      <td>285</td>\n",
       "      <td>643</td>\n",
       "    </tr>\n",
       "  </tbody>\n",
       "</table>\n",
       "</div>"
      ],
      "text/plain": [
       "      기관명    소계  2013년 이전  2014년  2015년  2016년  2017년  2018년\n",
       "0   강 남 구  5221      2455    430    546    765    577    448\n",
       "4   관 악 구  3985       905    487    609    619    694    671\n",
       "6   구 로 구  3227      1420    187    268    326    540    486\n",
       "10   동대문구  3073      1070   1326    111    233    136    197\n",
       "16  성 북 구  3003      1167    241    279    388    285    643"
      ]
     },
     "execution_count": 104,
     "metadata": {},
     "output_type": "execute_result"
    }
   ],
   "source": [
    "cctv_seoul.sort_values(by='소계', ascending=False).head()"
   ]
  },
  {
   "cell_type": "markdown",
   "metadata": {},
   "source": [
    "##### 2014년부터 2018년까지 최근 5년간 cctv 증가율"
   ]
  },
  {
   "cell_type": "code",
   "execution_count": 114,
   "metadata": {
    "ExecuteTime": {
     "end_time": "2020-03-01T17:16:42.869314Z",
     "start_time": "2020-03-01T17:16:42.865525Z"
    },
    "scrolled": true
   },
   "outputs": [],
   "source": [
    "cctv_seoul['최근증가율'] = ((cctv_seoul['2018년'] + cctv_seoul['2017년'] + cctv_seoul['2016년'] + \\\n",
    "                       cctv_seoul['2015년'] + cctv_seoul['2014년']) / cctv_seoul['2013년 이전']) * 100"
   ]
  },
  {
   "cell_type": "code",
   "execution_count": 113,
   "metadata": {
    "ExecuteTime": {
     "end_time": "2020-03-01T17:16:33.359374Z",
     "start_time": "2020-03-01T17:16:33.350523Z"
    }
   },
   "outputs": [
    {
     "data": {
      "text/html": [
       "<div>\n",
       "<style>\n",
       "    .dataframe thead tr:only-child th {\n",
       "        text-align: right;\n",
       "    }\n",
       "\n",
       "    .dataframe thead th {\n",
       "        text-align: left;\n",
       "    }\n",
       "\n",
       "    .dataframe tbody tr th {\n",
       "        vertical-align: top;\n",
       "    }\n",
       "</style>\n",
       "<table border=\"1\" class=\"dataframe\">\n",
       "  <thead>\n",
       "    <tr style=\"text-align: right;\">\n",
       "      <th></th>\n",
       "      <th>기관명</th>\n",
       "      <th>소계</th>\n",
       "      <th>2013년 이전</th>\n",
       "      <th>2014년</th>\n",
       "      <th>2015년</th>\n",
       "      <th>2016년</th>\n",
       "      <th>2017년</th>\n",
       "      <th>2018년</th>\n",
       "      <th>최근증가율</th>\n",
       "    </tr>\n",
       "  </thead>\n",
       "  <tbody>\n",
       "    <tr>\n",
       "      <th>0</th>\n",
       "      <td>강 남 구</td>\n",
       "      <td>5221</td>\n",
       "      <td>2455</td>\n",
       "      <td>430</td>\n",
       "      <td>546</td>\n",
       "      <td>765</td>\n",
       "      <td>577</td>\n",
       "      <td>448</td>\n",
       "      <td>112.668024</td>\n",
       "    </tr>\n",
       "    <tr>\n",
       "      <th>1</th>\n",
       "      <td>강 동 구</td>\n",
       "      <td>1879</td>\n",
       "      <td>824</td>\n",
       "      <td>59</td>\n",
       "      <td>144</td>\n",
       "      <td>194</td>\n",
       "      <td>273</td>\n",
       "      <td>385</td>\n",
       "      <td>128.033981</td>\n",
       "    </tr>\n",
       "    <tr>\n",
       "      <th>2</th>\n",
       "      <td>강 북 구</td>\n",
       "      <td>1265</td>\n",
       "      <td>472</td>\n",
       "      <td>74</td>\n",
       "      <td>145</td>\n",
       "      <td>254</td>\n",
       "      <td>1</td>\n",
       "      <td>319</td>\n",
       "      <td>168.008475</td>\n",
       "    </tr>\n",
       "    <tr>\n",
       "      <th>3</th>\n",
       "      <td>강 서 구</td>\n",
       "      <td>1617</td>\n",
       "      <td>492</td>\n",
       "      <td>230</td>\n",
       "      <td>187</td>\n",
       "      <td>190</td>\n",
       "      <td>264</td>\n",
       "      <td>254</td>\n",
       "      <td>228.658537</td>\n",
       "    </tr>\n",
       "    <tr>\n",
       "      <th>4</th>\n",
       "      <td>관 악 구</td>\n",
       "      <td>3985</td>\n",
       "      <td>905</td>\n",
       "      <td>487</td>\n",
       "      <td>609</td>\n",
       "      <td>619</td>\n",
       "      <td>694</td>\n",
       "      <td>671</td>\n",
       "      <td>340.331492</td>\n",
       "    </tr>\n",
       "  </tbody>\n",
       "</table>\n",
       "</div>"
      ],
      "text/plain": [
       "     기관명    소계  2013년 이전  2014년  2015년  2016년  2017년  2018년       최근증가율\n",
       "0  강 남 구  5221      2455    430    546    765    577    448  112.668024\n",
       "1  강 동 구  1879       824     59    144    194    273    385  128.033981\n",
       "2  강 북 구  1265       472     74    145    254      1    319  168.008475\n",
       "3  강 서 구  1617       492    230    187    190    264    254  228.658537\n",
       "4  관 악 구  3985       905    487    609    619    694    671  340.331492"
      ]
     },
     "execution_count": 113,
     "metadata": {},
     "output_type": "execute_result"
    }
   ],
   "source": [
    "cctv_seoul.head()"
   ]
  },
  {
   "cell_type": "markdown",
   "metadata": {},
   "source": [
    "##### 최근 5년간 cctv가 그 이전 대비 많이 증가한 구 : 금천구 > 영등포구 > 중구 > 동작구 > 관악구"
   ]
  },
  {
   "cell_type": "code",
   "execution_count": 112,
   "metadata": {
    "ExecuteTime": {
     "end_time": "2020-03-01T17:16:24.629810Z",
     "start_time": "2020-03-01T17:16:24.618231Z"
    },
    "scrolled": false
   },
   "outputs": [
    {
     "data": {
      "text/html": [
       "<div>\n",
       "<style>\n",
       "    .dataframe thead tr:only-child th {\n",
       "        text-align: right;\n",
       "    }\n",
       "\n",
       "    .dataframe thead th {\n",
       "        text-align: left;\n",
       "    }\n",
       "\n",
       "    .dataframe tbody tr th {\n",
       "        vertical-align: top;\n",
       "    }\n",
       "</style>\n",
       "<table border=\"1\" class=\"dataframe\">\n",
       "  <thead>\n",
       "    <tr style=\"text-align: right;\">\n",
       "      <th></th>\n",
       "      <th>기관명</th>\n",
       "      <th>소계</th>\n",
       "      <th>2013년 이전</th>\n",
       "      <th>2014년</th>\n",
       "      <th>2015년</th>\n",
       "      <th>2016년</th>\n",
       "      <th>2017년</th>\n",
       "      <th>2018년</th>\n",
       "      <th>최근증가율</th>\n",
       "    </tr>\n",
       "  </thead>\n",
       "  <tbody>\n",
       "    <tr>\n",
       "      <th>7</th>\n",
       "      <td>금 천 구</td>\n",
       "      <td>1634</td>\n",
       "      <td>286</td>\n",
       "      <td>101</td>\n",
       "      <td>382</td>\n",
       "      <td>136</td>\n",
       "      <td>199</td>\n",
       "      <td>530</td>\n",
       "      <td>471.328671</td>\n",
       "    </tr>\n",
       "    <tr>\n",
       "      <th>19</th>\n",
       "      <td>영등포구</td>\n",
       "      <td>2495</td>\n",
       "      <td>459</td>\n",
       "      <td>217</td>\n",
       "      <td>366</td>\n",
       "      <td>289</td>\n",
       "      <td>371</td>\n",
       "      <td>793</td>\n",
       "      <td>443.572985</td>\n",
       "    </tr>\n",
       "    <tr>\n",
       "      <th>23</th>\n",
       "      <td>중     구</td>\n",
       "      <td>1544</td>\n",
       "      <td>304</td>\n",
       "      <td>80</td>\n",
       "      <td>245</td>\n",
       "      <td>270</td>\n",
       "      <td>317</td>\n",
       "      <td>328</td>\n",
       "      <td>407.894737</td>\n",
       "    </tr>\n",
       "    <tr>\n",
       "      <th>11</th>\n",
       "      <td>동 작 구</td>\n",
       "      <td>1780</td>\n",
       "      <td>360</td>\n",
       "      <td>503</td>\n",
       "      <td>130</td>\n",
       "      <td>254</td>\n",
       "      <td>278</td>\n",
       "      <td>255</td>\n",
       "      <td>394.444444</td>\n",
       "    </tr>\n",
       "    <tr>\n",
       "      <th>4</th>\n",
       "      <td>관 악 구</td>\n",
       "      <td>3985</td>\n",
       "      <td>905</td>\n",
       "      <td>487</td>\n",
       "      <td>609</td>\n",
       "      <td>619</td>\n",
       "      <td>694</td>\n",
       "      <td>671</td>\n",
       "      <td>340.331492</td>\n",
       "    </tr>\n",
       "  </tbody>\n",
       "</table>\n",
       "</div>"
      ],
      "text/plain": [
       "        기관명    소계  2013년 이전  2014년  2015년  2016년  2017년  2018년       최근증가율\n",
       "7     금 천 구  1634       286    101    382    136    199    530  471.328671\n",
       "19     영등포구  2495       459    217    366    289    371    793  443.572985\n",
       "23  중     구  1544       304     80    245    270    317    328  407.894737\n",
       "11    동 작 구  1780       360    503    130    254    278    255  394.444444\n",
       "4     관 악 구  3985       905    487    609    619    694    671  340.331492"
      ]
     },
     "execution_count": 112,
     "metadata": {},
     "output_type": "execute_result"
    }
   ],
   "source": [
    "cctv_seoul.sort_values(by='최근증가율', ascending=False).head()"
   ]
  },
  {
   "cell_type": "markdown",
   "metadata": {},
   "source": [
    "### population_in_seoul.xlsx"
   ]
  },
  {
   "cell_type": "code",
   "execution_count": 30,
   "metadata": {
    "ExecuteTime": {
     "end_time": "2020-03-02T15:46:06.029560Z",
     "start_time": "2020-03-02T15:46:06.018042Z"
    }
   },
   "outputs": [],
   "source": [
    "import pandas as pd\n",
    "pop_seoul = pd.read_excel('./data/population_in_seoul.xlsx', \n",
    "                          header = 2, \n",
    "                          parse_cols = 'B,D,G,J,N',\n",
    "                          encoding='utf-8')"
   ]
  },
  {
   "cell_type": "code",
   "execution_count": 31,
   "metadata": {
    "ExecuteTime": {
     "end_time": "2020-03-02T15:46:06.939524Z",
     "start_time": "2020-03-02T15:46:06.935666Z"
    }
   },
   "outputs": [],
   "source": [
    "pop_seoul.rename(columns = {pop_seoul.columns[0]:'지역별',\n",
    "                            pop_seoul.columns[1]:'인구수',\n",
    "                            pop_seoul.columns[2]:'한국인',\n",
    "                            pop_seoul.columns[3]:'외국인',\n",
    "                            pop_seoul.columns[4]:'고령자'},\n",
    "                            inplace=True)"
   ]
  },
  {
   "cell_type": "code",
   "execution_count": 34,
   "metadata": {
    "ExecuteTime": {
     "end_time": "2020-03-02T15:46:15.127273Z",
     "start_time": "2020-03-02T15:46:15.115277Z"
    },
    "scrolled": false
   },
   "outputs": [
    {
     "data": {
      "text/html": [
       "<div>\n",
       "<style>\n",
       "    .dataframe thead tr:only-child th {\n",
       "        text-align: right;\n",
       "    }\n",
       "\n",
       "    .dataframe thead th {\n",
       "        text-align: left;\n",
       "    }\n",
       "\n",
       "    .dataframe tbody tr th {\n",
       "        vertical-align: top;\n",
       "    }\n",
       "</style>\n",
       "<table border=\"1\" class=\"dataframe\">\n",
       "  <thead>\n",
       "    <tr style=\"text-align: right;\">\n",
       "      <th></th>\n",
       "      <th>지역별</th>\n",
       "      <th>인구수</th>\n",
       "      <th>한국인</th>\n",
       "      <th>외국인</th>\n",
       "      <th>고령자</th>\n",
       "    </tr>\n",
       "  </thead>\n",
       "  <tbody>\n",
       "    <tr>\n",
       "      <th>0</th>\n",
       "      <td>합계</td>\n",
       "      <td>10054979.0</td>\n",
       "      <td>9770216.0</td>\n",
       "      <td>284763.0</td>\n",
       "      <td>1436125.0</td>\n",
       "    </tr>\n",
       "    <tr>\n",
       "      <th>1</th>\n",
       "      <td>종로구</td>\n",
       "      <td>162913.0</td>\n",
       "      <td>152778.0</td>\n",
       "      <td>10135.0</td>\n",
       "      <td>26981.0</td>\n",
       "    </tr>\n",
       "    <tr>\n",
       "      <th>2</th>\n",
       "      <td>중구</td>\n",
       "      <td>135836.0</td>\n",
       "      <td>125942.0</td>\n",
       "      <td>9894.0</td>\n",
       "      <td>22421.0</td>\n",
       "    </tr>\n",
       "    <tr>\n",
       "      <th>3</th>\n",
       "      <td>용산구</td>\n",
       "      <td>245139.0</td>\n",
       "      <td>229168.0</td>\n",
       "      <td>15971.0</td>\n",
       "      <td>38049.0</td>\n",
       "    </tr>\n",
       "    <tr>\n",
       "      <th>4</th>\n",
       "      <td>성동구</td>\n",
       "      <td>314608.0</td>\n",
       "      <td>306404.0</td>\n",
       "      <td>8204.0</td>\n",
       "      <td>43076.0</td>\n",
       "    </tr>\n",
       "    <tr>\n",
       "      <th>5</th>\n",
       "      <td>광진구</td>\n",
       "      <td>370658.0</td>\n",
       "      <td>354873.0</td>\n",
       "      <td>15785.0</td>\n",
       "      <td>46288.0</td>\n",
       "    </tr>\n",
       "    <tr>\n",
       "      <th>6</th>\n",
       "      <td>동대문구</td>\n",
       "      <td>363262.0</td>\n",
       "      <td>346750.0</td>\n",
       "      <td>16512.0</td>\n",
       "      <td>57570.0</td>\n",
       "    </tr>\n",
       "    <tr>\n",
       "      <th>7</th>\n",
       "      <td>중랑구</td>\n",
       "      <td>407211.0</td>\n",
       "      <td>402203.0</td>\n",
       "      <td>5008.0</td>\n",
       "      <td>62789.0</td>\n",
       "    </tr>\n",
       "    <tr>\n",
       "      <th>8</th>\n",
       "      <td>성북구</td>\n",
       "      <td>450021.0</td>\n",
       "      <td>438245.0</td>\n",
       "      <td>11776.0</td>\n",
       "      <td>68612.0</td>\n",
       "    </tr>\n",
       "    <tr>\n",
       "      <th>9</th>\n",
       "      <td>강북구</td>\n",
       "      <td>321151.0</td>\n",
       "      <td>317386.0</td>\n",
       "      <td>3765.0</td>\n",
       "      <td>58858.0</td>\n",
       "    </tr>\n",
       "    <tr>\n",
       "      <th>10</th>\n",
       "      <td>도봉구</td>\n",
       "      <td>340089.0</td>\n",
       "      <td>337820.0</td>\n",
       "      <td>2269.0</td>\n",
       "      <td>56742.0</td>\n",
       "    </tr>\n",
       "    <tr>\n",
       "      <th>11</th>\n",
       "      <td>노원구</td>\n",
       "      <td>545486.0</td>\n",
       "      <td>541174.0</td>\n",
       "      <td>4312.0</td>\n",
       "      <td>78170.0</td>\n",
       "    </tr>\n",
       "    <tr>\n",
       "      <th>12</th>\n",
       "      <td>은평구</td>\n",
       "      <td>488713.0</td>\n",
       "      <td>484274.0</td>\n",
       "      <td>4439.0</td>\n",
       "      <td>78406.0</td>\n",
       "    </tr>\n",
       "    <tr>\n",
       "      <th>13</th>\n",
       "      <td>서대문구</td>\n",
       "      <td>324604.0</td>\n",
       "      <td>311771.0</td>\n",
       "      <td>12833.0</td>\n",
       "      <td>51085.0</td>\n",
       "    </tr>\n",
       "    <tr>\n",
       "      <th>14</th>\n",
       "      <td>마포구</td>\n",
       "      <td>386571.0</td>\n",
       "      <td>375106.0</td>\n",
       "      <td>11465.0</td>\n",
       "      <td>51293.0</td>\n",
       "    </tr>\n",
       "    <tr>\n",
       "      <th>15</th>\n",
       "      <td>양천구</td>\n",
       "      <td>466622.0</td>\n",
       "      <td>462599.0</td>\n",
       "      <td>4023.0</td>\n",
       "      <td>58930.0</td>\n",
       "    </tr>\n",
       "    <tr>\n",
       "      <th>16</th>\n",
       "      <td>강서구</td>\n",
       "      <td>602886.0</td>\n",
       "      <td>596287.0</td>\n",
       "      <td>6599.0</td>\n",
       "      <td>80903.0</td>\n",
       "    </tr>\n",
       "    <tr>\n",
       "      <th>17</th>\n",
       "      <td>구로구</td>\n",
       "      <td>438889.0</td>\n",
       "      <td>404726.0</td>\n",
       "      <td>34163.0</td>\n",
       "      <td>63017.0</td>\n",
       "    </tr>\n",
       "    <tr>\n",
       "      <th>18</th>\n",
       "      <td>금천구</td>\n",
       "      <td>254244.0</td>\n",
       "      <td>233981.0</td>\n",
       "      <td>20263.0</td>\n",
       "      <td>36301.0</td>\n",
       "    </tr>\n",
       "    <tr>\n",
       "      <th>19</th>\n",
       "      <td>영등포구</td>\n",
       "      <td>404556.0</td>\n",
       "      <td>368824.0</td>\n",
       "      <td>35732.0</td>\n",
       "      <td>56463.0</td>\n",
       "    </tr>\n",
       "    <tr>\n",
       "      <th>20</th>\n",
       "      <td>동작구</td>\n",
       "      <td>412031.0</td>\n",
       "      <td>398886.0</td>\n",
       "      <td>13145.0</td>\n",
       "      <td>60462.0</td>\n",
       "    </tr>\n",
       "    <tr>\n",
       "      <th>21</th>\n",
       "      <td>관악구</td>\n",
       "      <td>520645.0</td>\n",
       "      <td>502615.0</td>\n",
       "      <td>18030.0</td>\n",
       "      <td>73005.0</td>\n",
       "    </tr>\n",
       "    <tr>\n",
       "      <th>22</th>\n",
       "      <td>서초구</td>\n",
       "      <td>437007.0</td>\n",
       "      <td>432762.0</td>\n",
       "      <td>4245.0</td>\n",
       "      <td>55366.0</td>\n",
       "    </tr>\n",
       "    <tr>\n",
       "      <th>23</th>\n",
       "      <td>강남구</td>\n",
       "      <td>546875.0</td>\n",
       "      <td>541854.0</td>\n",
       "      <td>5021.0</td>\n",
       "      <td>68104.0</td>\n",
       "    </tr>\n",
       "    <tr>\n",
       "      <th>24</th>\n",
       "      <td>송파구</td>\n",
       "      <td>685361.0</td>\n",
       "      <td>678521.0</td>\n",
       "      <td>6840.0</td>\n",
       "      <td>83492.0</td>\n",
       "    </tr>\n",
       "    <tr>\n",
       "      <th>25</th>\n",
       "      <td>강동구</td>\n",
       "      <td>429601.0</td>\n",
       "      <td>425267.0</td>\n",
       "      <td>4334.0</td>\n",
       "      <td>59742.0</td>\n",
       "    </tr>\n",
       "    <tr>\n",
       "      <th>26</th>\n",
       "      <td>NaN</td>\n",
       "      <td>NaN</td>\n",
       "      <td>NaN</td>\n",
       "      <td>NaN</td>\n",
       "      <td>NaN</td>\n",
       "    </tr>\n",
       "  </tbody>\n",
       "</table>\n",
       "</div>"
      ],
      "text/plain": [
       "     지역별         인구수        한국인       외국인        고령자\n",
       "0     합계  10054979.0  9770216.0  284763.0  1436125.0\n",
       "1    종로구    162913.0   152778.0   10135.0    26981.0\n",
       "2     중구    135836.0   125942.0    9894.0    22421.0\n",
       "3    용산구    245139.0   229168.0   15971.0    38049.0\n",
       "4    성동구    314608.0   306404.0    8204.0    43076.0\n",
       "5    광진구    370658.0   354873.0   15785.0    46288.0\n",
       "6   동대문구    363262.0   346750.0   16512.0    57570.0\n",
       "7    중랑구    407211.0   402203.0    5008.0    62789.0\n",
       "8    성북구    450021.0   438245.0   11776.0    68612.0\n",
       "9    강북구    321151.0   317386.0    3765.0    58858.0\n",
       "10   도봉구    340089.0   337820.0    2269.0    56742.0\n",
       "11   노원구    545486.0   541174.0    4312.0    78170.0\n",
       "12   은평구    488713.0   484274.0    4439.0    78406.0\n",
       "13  서대문구    324604.0   311771.0   12833.0    51085.0\n",
       "14   마포구    386571.0   375106.0   11465.0    51293.0\n",
       "15   양천구    466622.0   462599.0    4023.0    58930.0\n",
       "16   강서구    602886.0   596287.0    6599.0    80903.0\n",
       "17   구로구    438889.0   404726.0   34163.0    63017.0\n",
       "18   금천구    254244.0   233981.0   20263.0    36301.0\n",
       "19  영등포구    404556.0   368824.0   35732.0    56463.0\n",
       "20   동작구    412031.0   398886.0   13145.0    60462.0\n",
       "21   관악구    520645.0   502615.0   18030.0    73005.0\n",
       "22   서초구    437007.0   432762.0    4245.0    55366.0\n",
       "23   강남구    546875.0   541854.0    5021.0    68104.0\n",
       "24   송파구    685361.0   678521.0    6840.0    83492.0\n",
       "25   강동구    429601.0   425267.0    4334.0    59742.0\n",
       "26   NaN         NaN        NaN       NaN        NaN"
      ]
     },
     "execution_count": 34,
     "metadata": {},
     "output_type": "execute_result"
    }
   ],
   "source": [
    "pop_seoul"
   ]
  },
  {
   "cell_type": "markdown",
   "metadata": {},
   "source": [
    "##### 0번의 행을 삭제"
   ]
  },
  {
   "cell_type": "code",
   "execution_count": 35,
   "metadata": {
    "ExecuteTime": {
     "end_time": "2020-03-02T15:46:20.782012Z",
     "start_time": "2020-03-02T15:46:20.769869Z"
    },
    "scrolled": true
   },
   "outputs": [
    {
     "data": {
      "text/html": [
       "<div>\n",
       "<style>\n",
       "    .dataframe thead tr:only-child th {\n",
       "        text-align: right;\n",
       "    }\n",
       "\n",
       "    .dataframe thead th {\n",
       "        text-align: left;\n",
       "    }\n",
       "\n",
       "    .dataframe tbody tr th {\n",
       "        vertical-align: top;\n",
       "    }\n",
       "</style>\n",
       "<table border=\"1\" class=\"dataframe\">\n",
       "  <thead>\n",
       "    <tr style=\"text-align: right;\">\n",
       "      <th></th>\n",
       "      <th>지역별</th>\n",
       "      <th>인구수</th>\n",
       "      <th>한국인</th>\n",
       "      <th>외국인</th>\n",
       "      <th>고령자</th>\n",
       "    </tr>\n",
       "  </thead>\n",
       "  <tbody>\n",
       "    <tr>\n",
       "      <th>1</th>\n",
       "      <td>종로구</td>\n",
       "      <td>162913.0</td>\n",
       "      <td>152778.0</td>\n",
       "      <td>10135.0</td>\n",
       "      <td>26981.0</td>\n",
       "    </tr>\n",
       "    <tr>\n",
       "      <th>2</th>\n",
       "      <td>중구</td>\n",
       "      <td>135836.0</td>\n",
       "      <td>125942.0</td>\n",
       "      <td>9894.0</td>\n",
       "      <td>22421.0</td>\n",
       "    </tr>\n",
       "    <tr>\n",
       "      <th>3</th>\n",
       "      <td>용산구</td>\n",
       "      <td>245139.0</td>\n",
       "      <td>229168.0</td>\n",
       "      <td>15971.0</td>\n",
       "      <td>38049.0</td>\n",
       "    </tr>\n",
       "    <tr>\n",
       "      <th>4</th>\n",
       "      <td>성동구</td>\n",
       "      <td>314608.0</td>\n",
       "      <td>306404.0</td>\n",
       "      <td>8204.0</td>\n",
       "      <td>43076.0</td>\n",
       "    </tr>\n",
       "    <tr>\n",
       "      <th>5</th>\n",
       "      <td>광진구</td>\n",
       "      <td>370658.0</td>\n",
       "      <td>354873.0</td>\n",
       "      <td>15785.0</td>\n",
       "      <td>46288.0</td>\n",
       "    </tr>\n",
       "  </tbody>\n",
       "</table>\n",
       "</div>"
      ],
      "text/plain": [
       "   지역별       인구수       한국인      외국인      고령자\n",
       "1  종로구  162913.0  152778.0  10135.0  26981.0\n",
       "2   중구  135836.0  125942.0   9894.0  22421.0\n",
       "3  용산구  245139.0  229168.0  15971.0  38049.0\n",
       "4  성동구  314608.0  306404.0   8204.0  43076.0\n",
       "5  광진구  370658.0  354873.0  15785.0  46288.0"
      ]
     },
     "execution_count": 35,
     "metadata": {},
     "output_type": "execute_result"
    }
   ],
   "source": [
    "pop_seoul.drop([0], inplace=True)\n",
    "pop_seoul.head()"
   ]
  },
  {
   "cell_type": "code",
   "execution_count": 36,
   "metadata": {
    "ExecuteTime": {
     "end_time": "2020-03-02T15:46:23.112698Z",
     "start_time": "2020-03-02T15:46:23.108147Z"
    }
   },
   "outputs": [
    {
     "data": {
      "text/plain": [
       "array(['종로구', '중구', '용산구', '성동구', '광진구', '동대문구', '중랑구', '성북구', '강북구',\n",
       "       '도봉구', '노원구', '은평구', '서대문구', '마포구', '양천구', '강서구', '구로구', '금천구',\n",
       "       '영등포구', '동작구', '관악구', '서초구', '강남구', '송파구', '강동구', nan], dtype=object)"
      ]
     },
     "execution_count": 36,
     "metadata": {},
     "output_type": "execute_result"
    }
   ],
   "source": [
    "pop_seoul['지역별'].unique()"
   ]
  },
  {
   "cell_type": "markdown",
   "metadata": {},
   "source": [
    "##### isnull명령으로 NaN데이터를 추출"
   ]
  },
  {
   "cell_type": "code",
   "execution_count": 54,
   "metadata": {
    "ExecuteTime": {
     "end_time": "2020-03-02T16:09:30.424693Z",
     "start_time": "2020-03-02T16:09:30.416141Z"
    }
   },
   "outputs": [
    {
     "data": {
      "text/html": [
       "<div>\n",
       "<style>\n",
       "    .dataframe thead tr:only-child th {\n",
       "        text-align: right;\n",
       "    }\n",
       "\n",
       "    .dataframe thead th {\n",
       "        text-align: left;\n",
       "    }\n",
       "\n",
       "    .dataframe tbody tr th {\n",
       "        vertical-align: top;\n",
       "    }\n",
       "</style>\n",
       "<table border=\"1\" class=\"dataframe\">\n",
       "  <thead>\n",
       "    <tr style=\"text-align: right;\">\n",
       "      <th></th>\n",
       "      <th>지역별</th>\n",
       "      <th>인구수</th>\n",
       "      <th>한국인</th>\n",
       "      <th>외국인</th>\n",
       "      <th>고령자</th>\n",
       "    </tr>\n",
       "  </thead>\n",
       "  <tbody>\n",
       "    <tr>\n",
       "      <th>26</th>\n",
       "      <td>NaN</td>\n",
       "      <td>NaN</td>\n",
       "      <td>NaN</td>\n",
       "      <td>NaN</td>\n",
       "      <td>NaN</td>\n",
       "    </tr>\n",
       "  </tbody>\n",
       "</table>\n",
       "</div>"
      ],
      "text/plain": [
       "    지역별  인구수  한국인  외국인  고령자\n",
       "26  NaN  NaN  NaN  NaN  NaN"
      ]
     },
     "execution_count": 54,
     "metadata": {},
     "output_type": "execute_result"
    }
   ],
   "source": [
    "pop_seoul[pop_seoul['지역별'].isnull()]"
   ]
  },
  {
   "cell_type": "code",
   "execution_count": 55,
   "metadata": {
    "ExecuteTime": {
     "end_time": "2020-03-02T16:10:04.446682Z",
     "start_time": "2020-03-02T16:10:04.443360Z"
    }
   },
   "outputs": [],
   "source": [
    "pop_seoul.drop([26], inplace=True)"
   ]
  },
  {
   "cell_type": "code",
   "execution_count": 56,
   "metadata": {
    "ExecuteTime": {
     "end_time": "2020-03-02T16:10:10.781017Z",
     "start_time": "2020-03-02T16:10:10.771984Z"
    }
   },
   "outputs": [
    {
     "data": {
      "text/html": [
       "<div>\n",
       "<style>\n",
       "    .dataframe thead tr:only-child th {\n",
       "        text-align: right;\n",
       "    }\n",
       "\n",
       "    .dataframe thead th {\n",
       "        text-align: left;\n",
       "    }\n",
       "\n",
       "    .dataframe tbody tr th {\n",
       "        vertical-align: top;\n",
       "    }\n",
       "</style>\n",
       "<table border=\"1\" class=\"dataframe\">\n",
       "  <thead>\n",
       "    <tr style=\"text-align: right;\">\n",
       "      <th></th>\n",
       "      <th>지역별</th>\n",
       "      <th>인구수</th>\n",
       "      <th>한국인</th>\n",
       "      <th>외국인</th>\n",
       "      <th>고령자</th>\n",
       "    </tr>\n",
       "  </thead>\n",
       "  <tbody>\n",
       "  </tbody>\n",
       "</table>\n",
       "</div>"
      ],
      "text/plain": [
       "Empty DataFrame\n",
       "Columns: [지역별, 인구수, 한국인, 외국인, 고령자]\n",
       "Index: []"
      ]
     },
     "execution_count": 56,
     "metadata": {},
     "output_type": "execute_result"
    }
   ],
   "source": [
    "pop_seoul[pop_seoul['지역별'].isnull()]"
   ]
  },
  {
   "cell_type": "code",
   "execution_count": 57,
   "metadata": {
    "ExecuteTime": {
     "end_time": "2020-03-02T16:10:24.638516Z",
     "start_time": "2020-03-02T16:10:24.624965Z"
    }
   },
   "outputs": [
    {
     "data": {
      "text/html": [
       "<div>\n",
       "<style>\n",
       "    .dataframe thead tr:only-child th {\n",
       "        text-align: right;\n",
       "    }\n",
       "\n",
       "    .dataframe thead th {\n",
       "        text-align: left;\n",
       "    }\n",
       "\n",
       "    .dataframe tbody tr th {\n",
       "        vertical-align: top;\n",
       "    }\n",
       "</style>\n",
       "<table border=\"1\" class=\"dataframe\">\n",
       "  <thead>\n",
       "    <tr style=\"text-align: right;\">\n",
       "      <th></th>\n",
       "      <th>지역별</th>\n",
       "      <th>인구수</th>\n",
       "      <th>한국인</th>\n",
       "      <th>외국인</th>\n",
       "      <th>고령자</th>\n",
       "    </tr>\n",
       "  </thead>\n",
       "  <tbody>\n",
       "    <tr>\n",
       "      <th>1</th>\n",
       "      <td>종로구</td>\n",
       "      <td>162913.0</td>\n",
       "      <td>152778.0</td>\n",
       "      <td>10135.0</td>\n",
       "      <td>26981.0</td>\n",
       "    </tr>\n",
       "    <tr>\n",
       "      <th>2</th>\n",
       "      <td>중구</td>\n",
       "      <td>135836.0</td>\n",
       "      <td>125942.0</td>\n",
       "      <td>9894.0</td>\n",
       "      <td>22421.0</td>\n",
       "    </tr>\n",
       "    <tr>\n",
       "      <th>3</th>\n",
       "      <td>용산구</td>\n",
       "      <td>245139.0</td>\n",
       "      <td>229168.0</td>\n",
       "      <td>15971.0</td>\n",
       "      <td>38049.0</td>\n",
       "    </tr>\n",
       "    <tr>\n",
       "      <th>4</th>\n",
       "      <td>성동구</td>\n",
       "      <td>314608.0</td>\n",
       "      <td>306404.0</td>\n",
       "      <td>8204.0</td>\n",
       "      <td>43076.0</td>\n",
       "    </tr>\n",
       "    <tr>\n",
       "      <th>5</th>\n",
       "      <td>광진구</td>\n",
       "      <td>370658.0</td>\n",
       "      <td>354873.0</td>\n",
       "      <td>15785.0</td>\n",
       "      <td>46288.0</td>\n",
       "    </tr>\n",
       "    <tr>\n",
       "      <th>6</th>\n",
       "      <td>동대문구</td>\n",
       "      <td>363262.0</td>\n",
       "      <td>346750.0</td>\n",
       "      <td>16512.0</td>\n",
       "      <td>57570.0</td>\n",
       "    </tr>\n",
       "    <tr>\n",
       "      <th>7</th>\n",
       "      <td>중랑구</td>\n",
       "      <td>407211.0</td>\n",
       "      <td>402203.0</td>\n",
       "      <td>5008.0</td>\n",
       "      <td>62789.0</td>\n",
       "    </tr>\n",
       "    <tr>\n",
       "      <th>8</th>\n",
       "      <td>성북구</td>\n",
       "      <td>450021.0</td>\n",
       "      <td>438245.0</td>\n",
       "      <td>11776.0</td>\n",
       "      <td>68612.0</td>\n",
       "    </tr>\n",
       "    <tr>\n",
       "      <th>9</th>\n",
       "      <td>강북구</td>\n",
       "      <td>321151.0</td>\n",
       "      <td>317386.0</td>\n",
       "      <td>3765.0</td>\n",
       "      <td>58858.0</td>\n",
       "    </tr>\n",
       "    <tr>\n",
       "      <th>10</th>\n",
       "      <td>도봉구</td>\n",
       "      <td>340089.0</td>\n",
       "      <td>337820.0</td>\n",
       "      <td>2269.0</td>\n",
       "      <td>56742.0</td>\n",
       "    </tr>\n",
       "    <tr>\n",
       "      <th>11</th>\n",
       "      <td>노원구</td>\n",
       "      <td>545486.0</td>\n",
       "      <td>541174.0</td>\n",
       "      <td>4312.0</td>\n",
       "      <td>78170.0</td>\n",
       "    </tr>\n",
       "    <tr>\n",
       "      <th>12</th>\n",
       "      <td>은평구</td>\n",
       "      <td>488713.0</td>\n",
       "      <td>484274.0</td>\n",
       "      <td>4439.0</td>\n",
       "      <td>78406.0</td>\n",
       "    </tr>\n",
       "    <tr>\n",
       "      <th>13</th>\n",
       "      <td>서대문구</td>\n",
       "      <td>324604.0</td>\n",
       "      <td>311771.0</td>\n",
       "      <td>12833.0</td>\n",
       "      <td>51085.0</td>\n",
       "    </tr>\n",
       "    <tr>\n",
       "      <th>14</th>\n",
       "      <td>마포구</td>\n",
       "      <td>386571.0</td>\n",
       "      <td>375106.0</td>\n",
       "      <td>11465.0</td>\n",
       "      <td>51293.0</td>\n",
       "    </tr>\n",
       "    <tr>\n",
       "      <th>15</th>\n",
       "      <td>양천구</td>\n",
       "      <td>466622.0</td>\n",
       "      <td>462599.0</td>\n",
       "      <td>4023.0</td>\n",
       "      <td>58930.0</td>\n",
       "    </tr>\n",
       "    <tr>\n",
       "      <th>16</th>\n",
       "      <td>강서구</td>\n",
       "      <td>602886.0</td>\n",
       "      <td>596287.0</td>\n",
       "      <td>6599.0</td>\n",
       "      <td>80903.0</td>\n",
       "    </tr>\n",
       "    <tr>\n",
       "      <th>17</th>\n",
       "      <td>구로구</td>\n",
       "      <td>438889.0</td>\n",
       "      <td>404726.0</td>\n",
       "      <td>34163.0</td>\n",
       "      <td>63017.0</td>\n",
       "    </tr>\n",
       "    <tr>\n",
       "      <th>18</th>\n",
       "      <td>금천구</td>\n",
       "      <td>254244.0</td>\n",
       "      <td>233981.0</td>\n",
       "      <td>20263.0</td>\n",
       "      <td>36301.0</td>\n",
       "    </tr>\n",
       "    <tr>\n",
       "      <th>19</th>\n",
       "      <td>영등포구</td>\n",
       "      <td>404556.0</td>\n",
       "      <td>368824.0</td>\n",
       "      <td>35732.0</td>\n",
       "      <td>56463.0</td>\n",
       "    </tr>\n",
       "    <tr>\n",
       "      <th>20</th>\n",
       "      <td>동작구</td>\n",
       "      <td>412031.0</td>\n",
       "      <td>398886.0</td>\n",
       "      <td>13145.0</td>\n",
       "      <td>60462.0</td>\n",
       "    </tr>\n",
       "    <tr>\n",
       "      <th>21</th>\n",
       "      <td>관악구</td>\n",
       "      <td>520645.0</td>\n",
       "      <td>502615.0</td>\n",
       "      <td>18030.0</td>\n",
       "      <td>73005.0</td>\n",
       "    </tr>\n",
       "    <tr>\n",
       "      <th>22</th>\n",
       "      <td>서초구</td>\n",
       "      <td>437007.0</td>\n",
       "      <td>432762.0</td>\n",
       "      <td>4245.0</td>\n",
       "      <td>55366.0</td>\n",
       "    </tr>\n",
       "    <tr>\n",
       "      <th>23</th>\n",
       "      <td>강남구</td>\n",
       "      <td>546875.0</td>\n",
       "      <td>541854.0</td>\n",
       "      <td>5021.0</td>\n",
       "      <td>68104.0</td>\n",
       "    </tr>\n",
       "    <tr>\n",
       "      <th>24</th>\n",
       "      <td>송파구</td>\n",
       "      <td>685361.0</td>\n",
       "      <td>678521.0</td>\n",
       "      <td>6840.0</td>\n",
       "      <td>83492.0</td>\n",
       "    </tr>\n",
       "    <tr>\n",
       "      <th>25</th>\n",
       "      <td>강동구</td>\n",
       "      <td>429601.0</td>\n",
       "      <td>425267.0</td>\n",
       "      <td>4334.0</td>\n",
       "      <td>59742.0</td>\n",
       "    </tr>\n",
       "  </tbody>\n",
       "</table>\n",
       "</div>"
      ],
      "text/plain": [
       "     지역별       인구수       한국인      외국인      고령자\n",
       "1    종로구  162913.0  152778.0  10135.0  26981.0\n",
       "2     중구  135836.0  125942.0   9894.0  22421.0\n",
       "3    용산구  245139.0  229168.0  15971.0  38049.0\n",
       "4    성동구  314608.0  306404.0   8204.0  43076.0\n",
       "5    광진구  370658.0  354873.0  15785.0  46288.0\n",
       "6   동대문구  363262.0  346750.0  16512.0  57570.0\n",
       "7    중랑구  407211.0  402203.0   5008.0  62789.0\n",
       "8    성북구  450021.0  438245.0  11776.0  68612.0\n",
       "9    강북구  321151.0  317386.0   3765.0  58858.0\n",
       "10   도봉구  340089.0  337820.0   2269.0  56742.0\n",
       "11   노원구  545486.0  541174.0   4312.0  78170.0\n",
       "12   은평구  488713.0  484274.0   4439.0  78406.0\n",
       "13  서대문구  324604.0  311771.0  12833.0  51085.0\n",
       "14   마포구  386571.0  375106.0  11465.0  51293.0\n",
       "15   양천구  466622.0  462599.0   4023.0  58930.0\n",
       "16   강서구  602886.0  596287.0   6599.0  80903.0\n",
       "17   구로구  438889.0  404726.0  34163.0  63017.0\n",
       "18   금천구  254244.0  233981.0  20263.0  36301.0\n",
       "19  영등포구  404556.0  368824.0  35732.0  56463.0\n",
       "20   동작구  412031.0  398886.0  13145.0  60462.0\n",
       "21   관악구  520645.0  502615.0  18030.0  73005.0\n",
       "22   서초구  437007.0  432762.0   4245.0  55366.0\n",
       "23   강남구  546875.0  541854.0   5021.0  68104.0\n",
       "24   송파구  685361.0  678521.0   6840.0  83492.0\n",
       "25   강동구  429601.0  425267.0   4334.0  59742.0"
      ]
     },
     "execution_count": 57,
     "metadata": {},
     "output_type": "execute_result"
    }
   ],
   "source": [
    "pop_seoul"
   ]
  },
  {
   "cell_type": "code",
   "execution_count": 58,
   "metadata": {
    "ExecuteTime": {
     "end_time": "2020-03-02T16:12:02.118484Z",
     "start_time": "2020-03-02T16:12:02.100479Z"
    }
   },
   "outputs": [
    {
     "data": {
      "text/html": [
       "<div>\n",
       "<style>\n",
       "    .dataframe thead tr:only-child th {\n",
       "        text-align: right;\n",
       "    }\n",
       "\n",
       "    .dataframe thead th {\n",
       "        text-align: left;\n",
       "    }\n",
       "\n",
       "    .dataframe tbody tr th {\n",
       "        vertical-align: top;\n",
       "    }\n",
       "</style>\n",
       "<table border=\"1\" class=\"dataframe\">\n",
       "  <thead>\n",
       "    <tr style=\"text-align: right;\">\n",
       "      <th></th>\n",
       "      <th>지역별</th>\n",
       "      <th>인구수</th>\n",
       "      <th>한국인</th>\n",
       "      <th>외국인</th>\n",
       "      <th>고령자</th>\n",
       "      <th>한국인비율</th>\n",
       "      <th>외국인비율</th>\n",
       "      <th>고령자비율</th>\n",
       "    </tr>\n",
       "  </thead>\n",
       "  <tbody>\n",
       "    <tr>\n",
       "      <th>1</th>\n",
       "      <td>종로구</td>\n",
       "      <td>162913.0</td>\n",
       "      <td>152778.0</td>\n",
       "      <td>10135.0</td>\n",
       "      <td>26981.0</td>\n",
       "      <td>93.778888</td>\n",
       "      <td>6.221112</td>\n",
       "      <td>16.561600</td>\n",
       "    </tr>\n",
       "    <tr>\n",
       "      <th>2</th>\n",
       "      <td>중구</td>\n",
       "      <td>135836.0</td>\n",
       "      <td>125942.0</td>\n",
       "      <td>9894.0</td>\n",
       "      <td>22421.0</td>\n",
       "      <td>92.716217</td>\n",
       "      <td>7.283783</td>\n",
       "      <td>16.505934</td>\n",
       "    </tr>\n",
       "    <tr>\n",
       "      <th>3</th>\n",
       "      <td>용산구</td>\n",
       "      <td>245139.0</td>\n",
       "      <td>229168.0</td>\n",
       "      <td>15971.0</td>\n",
       "      <td>38049.0</td>\n",
       "      <td>93.484921</td>\n",
       "      <td>6.515079</td>\n",
       "      <td>15.521398</td>\n",
       "    </tr>\n",
       "    <tr>\n",
       "      <th>4</th>\n",
       "      <td>성동구</td>\n",
       "      <td>314608.0</td>\n",
       "      <td>306404.0</td>\n",
       "      <td>8204.0</td>\n",
       "      <td>43076.0</td>\n",
       "      <td>97.392310</td>\n",
       "      <td>2.607690</td>\n",
       "      <td>13.691960</td>\n",
       "    </tr>\n",
       "    <tr>\n",
       "      <th>5</th>\n",
       "      <td>광진구</td>\n",
       "      <td>370658.0</td>\n",
       "      <td>354873.0</td>\n",
       "      <td>15785.0</td>\n",
       "      <td>46288.0</td>\n",
       "      <td>95.741357</td>\n",
       "      <td>4.258643</td>\n",
       "      <td>12.488062</td>\n",
       "    </tr>\n",
       "  </tbody>\n",
       "</table>\n",
       "</div>"
      ],
      "text/plain": [
       "   지역별       인구수       한국인      외국인      고령자      한국인비율     외국인비율      고령자비율\n",
       "1  종로구  162913.0  152778.0  10135.0  26981.0  93.778888  6.221112  16.561600\n",
       "2   중구  135836.0  125942.0   9894.0  22421.0  92.716217  7.283783  16.505934\n",
       "3  용산구  245139.0  229168.0  15971.0  38049.0  93.484921  6.515079  15.521398\n",
       "4  성동구  314608.0  306404.0   8204.0  43076.0  97.392310  2.607690  13.691960\n",
       "5  광진구  370658.0  354873.0  15785.0  46288.0  95.741357  4.258643  12.488062"
      ]
     },
     "execution_count": 58,
     "metadata": {},
     "output_type": "execute_result"
    }
   ],
   "source": [
    "pop_seoul['한국인비율'] = pop_seoul['한국인'] / pop_seoul['인구수'] * 100\n",
    "pop_seoul['외국인비율'] = pop_seoul['외국인'] / pop_seoul['인구수'] * 100\n",
    "pop_seoul['고령자비율'] = pop_seoul['고령자'] / pop_seoul['인구수'] * 100\n",
    "pop_seoul.head()"
   ]
  },
  {
   "cell_type": "code",
   "execution_count": 60,
   "metadata": {
    "ExecuteTime": {
     "end_time": "2020-03-02T16:13:20.332173Z",
     "start_time": "2020-03-02T16:13:20.319922Z"
    }
   },
   "outputs": [
    {
     "data": {
      "text/html": [
       "<div>\n",
       "<style>\n",
       "    .dataframe thead tr:only-child th {\n",
       "        text-align: right;\n",
       "    }\n",
       "\n",
       "    .dataframe thead th {\n",
       "        text-align: left;\n",
       "    }\n",
       "\n",
       "    .dataframe tbody tr th {\n",
       "        vertical-align: top;\n",
       "    }\n",
       "</style>\n",
       "<table border=\"1\" class=\"dataframe\">\n",
       "  <thead>\n",
       "    <tr style=\"text-align: right;\">\n",
       "      <th></th>\n",
       "      <th>지역별</th>\n",
       "      <th>인구수</th>\n",
       "      <th>한국인</th>\n",
       "      <th>외국인</th>\n",
       "      <th>고령자</th>\n",
       "      <th>한국인비율</th>\n",
       "      <th>외국인비율</th>\n",
       "      <th>고령자비율</th>\n",
       "    </tr>\n",
       "  </thead>\n",
       "  <tbody>\n",
       "    <tr>\n",
       "      <th>24</th>\n",
       "      <td>송파구</td>\n",
       "      <td>685361.0</td>\n",
       "      <td>678521.0</td>\n",
       "      <td>6840.0</td>\n",
       "      <td>83492.0</td>\n",
       "      <td>99.001986</td>\n",
       "      <td>0.998014</td>\n",
       "      <td>12.182193</td>\n",
       "    </tr>\n",
       "    <tr>\n",
       "      <th>16</th>\n",
       "      <td>강서구</td>\n",
       "      <td>602886.0</td>\n",
       "      <td>596287.0</td>\n",
       "      <td>6599.0</td>\n",
       "      <td>80903.0</td>\n",
       "      <td>98.905432</td>\n",
       "      <td>1.094568</td>\n",
       "      <td>13.419287</td>\n",
       "    </tr>\n",
       "    <tr>\n",
       "      <th>23</th>\n",
       "      <td>강남구</td>\n",
       "      <td>546875.0</td>\n",
       "      <td>541854.0</td>\n",
       "      <td>5021.0</td>\n",
       "      <td>68104.0</td>\n",
       "      <td>99.081874</td>\n",
       "      <td>0.918126</td>\n",
       "      <td>12.453303</td>\n",
       "    </tr>\n",
       "    <tr>\n",
       "      <th>11</th>\n",
       "      <td>노원구</td>\n",
       "      <td>545486.0</td>\n",
       "      <td>541174.0</td>\n",
       "      <td>4312.0</td>\n",
       "      <td>78170.0</td>\n",
       "      <td>99.209512</td>\n",
       "      <td>0.790488</td>\n",
       "      <td>14.330340</td>\n",
       "    </tr>\n",
       "    <tr>\n",
       "      <th>21</th>\n",
       "      <td>관악구</td>\n",
       "      <td>520645.0</td>\n",
       "      <td>502615.0</td>\n",
       "      <td>18030.0</td>\n",
       "      <td>73005.0</td>\n",
       "      <td>96.536988</td>\n",
       "      <td>3.463012</td>\n",
       "      <td>14.022030</td>\n",
       "    </tr>\n",
       "  </tbody>\n",
       "</table>\n",
       "</div>"
      ],
      "text/plain": [
       "    지역별       인구수       한국인      외국인      고령자      한국인비율     외국인비율      고령자비율\n",
       "24  송파구  685361.0  678521.0   6840.0  83492.0  99.001986  0.998014  12.182193\n",
       "16  강서구  602886.0  596287.0   6599.0  80903.0  98.905432  1.094568  13.419287\n",
       "23  강남구  546875.0  541854.0   5021.0  68104.0  99.081874  0.918126  12.453303\n",
       "11  노원구  545486.0  541174.0   4312.0  78170.0  99.209512  0.790488  14.330340\n",
       "21  관악구  520645.0  502615.0  18030.0  73005.0  96.536988  3.463012  14.022030"
      ]
     },
     "execution_count": 60,
     "metadata": {},
     "output_type": "execute_result"
    }
   ],
   "source": [
    "pop_seoul.sort_values(by='인구수', ascending=False).head()"
   ]
  },
  {
   "cell_type": "code",
   "execution_count": 61,
   "metadata": {
    "ExecuteTime": {
     "end_time": "2020-03-02T16:14:00.512208Z",
     "start_time": "2020-03-02T16:14:00.499611Z"
    }
   },
   "outputs": [
    {
     "data": {
      "text/html": [
       "<div>\n",
       "<style>\n",
       "    .dataframe thead tr:only-child th {\n",
       "        text-align: right;\n",
       "    }\n",
       "\n",
       "    .dataframe thead th {\n",
       "        text-align: left;\n",
       "    }\n",
       "\n",
       "    .dataframe tbody tr th {\n",
       "        vertical-align: top;\n",
       "    }\n",
       "</style>\n",
       "<table border=\"1\" class=\"dataframe\">\n",
       "  <thead>\n",
       "    <tr style=\"text-align: right;\">\n",
       "      <th></th>\n",
       "      <th>지역별</th>\n",
       "      <th>인구수</th>\n",
       "      <th>한국인</th>\n",
       "      <th>외국인</th>\n",
       "      <th>고령자</th>\n",
       "      <th>한국인비율</th>\n",
       "      <th>외국인비율</th>\n",
       "      <th>고령자비율</th>\n",
       "    </tr>\n",
       "  </thead>\n",
       "  <tbody>\n",
       "    <tr>\n",
       "      <th>19</th>\n",
       "      <td>영등포구</td>\n",
       "      <td>404556.0</td>\n",
       "      <td>368824.0</td>\n",
       "      <td>35732.0</td>\n",
       "      <td>56463.0</td>\n",
       "      <td>91.167601</td>\n",
       "      <td>8.832399</td>\n",
       "      <td>13.956782</td>\n",
       "    </tr>\n",
       "    <tr>\n",
       "      <th>17</th>\n",
       "      <td>구로구</td>\n",
       "      <td>438889.0</td>\n",
       "      <td>404726.0</td>\n",
       "      <td>34163.0</td>\n",
       "      <td>63017.0</td>\n",
       "      <td>92.216027</td>\n",
       "      <td>7.783973</td>\n",
       "      <td>14.358300</td>\n",
       "    </tr>\n",
       "    <tr>\n",
       "      <th>18</th>\n",
       "      <td>금천구</td>\n",
       "      <td>254244.0</td>\n",
       "      <td>233981.0</td>\n",
       "      <td>20263.0</td>\n",
       "      <td>36301.0</td>\n",
       "      <td>92.030097</td>\n",
       "      <td>7.969903</td>\n",
       "      <td>14.278016</td>\n",
       "    </tr>\n",
       "    <tr>\n",
       "      <th>21</th>\n",
       "      <td>관악구</td>\n",
       "      <td>520645.0</td>\n",
       "      <td>502615.0</td>\n",
       "      <td>18030.0</td>\n",
       "      <td>73005.0</td>\n",
       "      <td>96.536988</td>\n",
       "      <td>3.463012</td>\n",
       "      <td>14.022030</td>\n",
       "    </tr>\n",
       "    <tr>\n",
       "      <th>6</th>\n",
       "      <td>동대문구</td>\n",
       "      <td>363262.0</td>\n",
       "      <td>346750.0</td>\n",
       "      <td>16512.0</td>\n",
       "      <td>57570.0</td>\n",
       "      <td>95.454520</td>\n",
       "      <td>4.545480</td>\n",
       "      <td>15.848066</td>\n",
       "    </tr>\n",
       "  </tbody>\n",
       "</table>\n",
       "</div>"
      ],
      "text/plain": [
       "     지역별       인구수       한국인      외국인      고령자      한국인비율     외국인비율      고령자비율\n",
       "19  영등포구  404556.0  368824.0  35732.0  56463.0  91.167601  8.832399  13.956782\n",
       "17   구로구  438889.0  404726.0  34163.0  63017.0  92.216027  7.783973  14.358300\n",
       "18   금천구  254244.0  233981.0  20263.0  36301.0  92.030097  7.969903  14.278016\n",
       "21   관악구  520645.0  502615.0  18030.0  73005.0  96.536988  3.463012  14.022030\n",
       "6   동대문구  363262.0  346750.0  16512.0  57570.0  95.454520  4.545480  15.848066"
      ]
     },
     "execution_count": 61,
     "metadata": {},
     "output_type": "execute_result"
    }
   ],
   "source": [
    "pop_seoul.sort_values(by='외국인', ascending=False).head()"
   ]
  },
  {
   "cell_type": "code",
   "execution_count": 62,
   "metadata": {
    "ExecuteTime": {
     "end_time": "2020-03-02T16:14:02.160460Z",
     "start_time": "2020-03-02T16:14:02.148020Z"
    }
   },
   "outputs": [
    {
     "data": {
      "text/html": [
       "<div>\n",
       "<style>\n",
       "    .dataframe thead tr:only-child th {\n",
       "        text-align: right;\n",
       "    }\n",
       "\n",
       "    .dataframe thead th {\n",
       "        text-align: left;\n",
       "    }\n",
       "\n",
       "    .dataframe tbody tr th {\n",
       "        vertical-align: top;\n",
       "    }\n",
       "</style>\n",
       "<table border=\"1\" class=\"dataframe\">\n",
       "  <thead>\n",
       "    <tr style=\"text-align: right;\">\n",
       "      <th></th>\n",
       "      <th>지역별</th>\n",
       "      <th>인구수</th>\n",
       "      <th>한국인</th>\n",
       "      <th>외국인</th>\n",
       "      <th>고령자</th>\n",
       "      <th>한국인비율</th>\n",
       "      <th>외국인비율</th>\n",
       "      <th>고령자비율</th>\n",
       "    </tr>\n",
       "  </thead>\n",
       "  <tbody>\n",
       "    <tr>\n",
       "      <th>19</th>\n",
       "      <td>영등포구</td>\n",
       "      <td>404556.0</td>\n",
       "      <td>368824.0</td>\n",
       "      <td>35732.0</td>\n",
       "      <td>56463.0</td>\n",
       "      <td>91.167601</td>\n",
       "      <td>8.832399</td>\n",
       "      <td>13.956782</td>\n",
       "    </tr>\n",
       "    <tr>\n",
       "      <th>18</th>\n",
       "      <td>금천구</td>\n",
       "      <td>254244.0</td>\n",
       "      <td>233981.0</td>\n",
       "      <td>20263.0</td>\n",
       "      <td>36301.0</td>\n",
       "      <td>92.030097</td>\n",
       "      <td>7.969903</td>\n",
       "      <td>14.278016</td>\n",
       "    </tr>\n",
       "    <tr>\n",
       "      <th>17</th>\n",
       "      <td>구로구</td>\n",
       "      <td>438889.0</td>\n",
       "      <td>404726.0</td>\n",
       "      <td>34163.0</td>\n",
       "      <td>63017.0</td>\n",
       "      <td>92.216027</td>\n",
       "      <td>7.783973</td>\n",
       "      <td>14.358300</td>\n",
       "    </tr>\n",
       "    <tr>\n",
       "      <th>2</th>\n",
       "      <td>중구</td>\n",
       "      <td>135836.0</td>\n",
       "      <td>125942.0</td>\n",
       "      <td>9894.0</td>\n",
       "      <td>22421.0</td>\n",
       "      <td>92.716217</td>\n",
       "      <td>7.283783</td>\n",
       "      <td>16.505934</td>\n",
       "    </tr>\n",
       "    <tr>\n",
       "      <th>3</th>\n",
       "      <td>용산구</td>\n",
       "      <td>245139.0</td>\n",
       "      <td>229168.0</td>\n",
       "      <td>15971.0</td>\n",
       "      <td>38049.0</td>\n",
       "      <td>93.484921</td>\n",
       "      <td>6.515079</td>\n",
       "      <td>15.521398</td>\n",
       "    </tr>\n",
       "  </tbody>\n",
       "</table>\n",
       "</div>"
      ],
      "text/plain": [
       "     지역별       인구수       한국인      외국인      고령자      한국인비율     외국인비율      고령자비율\n",
       "19  영등포구  404556.0  368824.0  35732.0  56463.0  91.167601  8.832399  13.956782\n",
       "18   금천구  254244.0  233981.0  20263.0  36301.0  92.030097  7.969903  14.278016\n",
       "17   구로구  438889.0  404726.0  34163.0  63017.0  92.216027  7.783973  14.358300\n",
       "2     중구  135836.0  125942.0   9894.0  22421.0  92.716217  7.283783  16.505934\n",
       "3    용산구  245139.0  229168.0  15971.0  38049.0  93.484921  6.515079  15.521398"
      ]
     },
     "execution_count": 62,
     "metadata": {},
     "output_type": "execute_result"
    }
   ],
   "source": [
    "pop_seoul.sort_values(by='외국인비율', ascending=False).head()"
   ]
  },
  {
   "cell_type": "code",
   "execution_count": 63,
   "metadata": {
    "ExecuteTime": {
     "end_time": "2020-03-02T16:14:35.605439Z",
     "start_time": "2020-03-02T16:14:35.593356Z"
    }
   },
   "outputs": [
    {
     "data": {
      "text/html": [
       "<div>\n",
       "<style>\n",
       "    .dataframe thead tr:only-child th {\n",
       "        text-align: right;\n",
       "    }\n",
       "\n",
       "    .dataframe thead th {\n",
       "        text-align: left;\n",
       "    }\n",
       "\n",
       "    .dataframe tbody tr th {\n",
       "        vertical-align: top;\n",
       "    }\n",
       "</style>\n",
       "<table border=\"1\" class=\"dataframe\">\n",
       "  <thead>\n",
       "    <tr style=\"text-align: right;\">\n",
       "      <th></th>\n",
       "      <th>지역별</th>\n",
       "      <th>인구수</th>\n",
       "      <th>한국인</th>\n",
       "      <th>외국인</th>\n",
       "      <th>고령자</th>\n",
       "      <th>한국인비율</th>\n",
       "      <th>외국인비율</th>\n",
       "      <th>고령자비율</th>\n",
       "    </tr>\n",
       "  </thead>\n",
       "  <tbody>\n",
       "    <tr>\n",
       "      <th>24</th>\n",
       "      <td>송파구</td>\n",
       "      <td>685361.0</td>\n",
       "      <td>678521.0</td>\n",
       "      <td>6840.0</td>\n",
       "      <td>83492.0</td>\n",
       "      <td>99.001986</td>\n",
       "      <td>0.998014</td>\n",
       "      <td>12.182193</td>\n",
       "    </tr>\n",
       "    <tr>\n",
       "      <th>16</th>\n",
       "      <td>강서구</td>\n",
       "      <td>602886.0</td>\n",
       "      <td>596287.0</td>\n",
       "      <td>6599.0</td>\n",
       "      <td>80903.0</td>\n",
       "      <td>98.905432</td>\n",
       "      <td>1.094568</td>\n",
       "      <td>13.419287</td>\n",
       "    </tr>\n",
       "    <tr>\n",
       "      <th>12</th>\n",
       "      <td>은평구</td>\n",
       "      <td>488713.0</td>\n",
       "      <td>484274.0</td>\n",
       "      <td>4439.0</td>\n",
       "      <td>78406.0</td>\n",
       "      <td>99.091696</td>\n",
       "      <td>0.908304</td>\n",
       "      <td>16.043363</td>\n",
       "    </tr>\n",
       "    <tr>\n",
       "      <th>11</th>\n",
       "      <td>노원구</td>\n",
       "      <td>545486.0</td>\n",
       "      <td>541174.0</td>\n",
       "      <td>4312.0</td>\n",
       "      <td>78170.0</td>\n",
       "      <td>99.209512</td>\n",
       "      <td>0.790488</td>\n",
       "      <td>14.330340</td>\n",
       "    </tr>\n",
       "    <tr>\n",
       "      <th>21</th>\n",
       "      <td>관악구</td>\n",
       "      <td>520645.0</td>\n",
       "      <td>502615.0</td>\n",
       "      <td>18030.0</td>\n",
       "      <td>73005.0</td>\n",
       "      <td>96.536988</td>\n",
       "      <td>3.463012</td>\n",
       "      <td>14.022030</td>\n",
       "    </tr>\n",
       "  </tbody>\n",
       "</table>\n",
       "</div>"
      ],
      "text/plain": [
       "    지역별       인구수       한국인      외국인      고령자      한국인비율     외국인비율      고령자비율\n",
       "24  송파구  685361.0  678521.0   6840.0  83492.0  99.001986  0.998014  12.182193\n",
       "16  강서구  602886.0  596287.0   6599.0  80903.0  98.905432  1.094568  13.419287\n",
       "12  은평구  488713.0  484274.0   4439.0  78406.0  99.091696  0.908304  16.043363\n",
       "11  노원구  545486.0  541174.0   4312.0  78170.0  99.209512  0.790488  14.330340\n",
       "21  관악구  520645.0  502615.0  18030.0  73005.0  96.536988  3.463012  14.022030"
      ]
     },
     "execution_count": 63,
     "metadata": {},
     "output_type": "execute_result"
    }
   ],
   "source": [
    "pop_seoul.sort_values(by='고령자', ascending=False).head()"
   ]
  },
  {
   "cell_type": "code",
   "execution_count": 64,
   "metadata": {
    "ExecuteTime": {
     "end_time": "2020-03-02T16:14:37.803680Z",
     "start_time": "2020-03-02T16:14:37.791266Z"
    }
   },
   "outputs": [
    {
     "data": {
      "text/html": [
       "<div>\n",
       "<style>\n",
       "    .dataframe thead tr:only-child th {\n",
       "        text-align: right;\n",
       "    }\n",
       "\n",
       "    .dataframe thead th {\n",
       "        text-align: left;\n",
       "    }\n",
       "\n",
       "    .dataframe tbody tr th {\n",
       "        vertical-align: top;\n",
       "    }\n",
       "</style>\n",
       "<table border=\"1\" class=\"dataframe\">\n",
       "  <thead>\n",
       "    <tr style=\"text-align: right;\">\n",
       "      <th></th>\n",
       "      <th>지역별</th>\n",
       "      <th>인구수</th>\n",
       "      <th>한국인</th>\n",
       "      <th>외국인</th>\n",
       "      <th>고령자</th>\n",
       "      <th>한국인비율</th>\n",
       "      <th>외국인비율</th>\n",
       "      <th>고령자비율</th>\n",
       "    </tr>\n",
       "  </thead>\n",
       "  <tbody>\n",
       "    <tr>\n",
       "      <th>9</th>\n",
       "      <td>강북구</td>\n",
       "      <td>321151.0</td>\n",
       "      <td>317386.0</td>\n",
       "      <td>3765.0</td>\n",
       "      <td>58858.0</td>\n",
       "      <td>98.827654</td>\n",
       "      <td>1.172346</td>\n",
       "      <td>18.327204</td>\n",
       "    </tr>\n",
       "    <tr>\n",
       "      <th>10</th>\n",
       "      <td>도봉구</td>\n",
       "      <td>340089.0</td>\n",
       "      <td>337820.0</td>\n",
       "      <td>2269.0</td>\n",
       "      <td>56742.0</td>\n",
       "      <td>99.332822</td>\n",
       "      <td>0.667178</td>\n",
       "      <td>16.684456</td>\n",
       "    </tr>\n",
       "    <tr>\n",
       "      <th>1</th>\n",
       "      <td>종로구</td>\n",
       "      <td>162913.0</td>\n",
       "      <td>152778.0</td>\n",
       "      <td>10135.0</td>\n",
       "      <td>26981.0</td>\n",
       "      <td>93.778888</td>\n",
       "      <td>6.221112</td>\n",
       "      <td>16.561600</td>\n",
       "    </tr>\n",
       "    <tr>\n",
       "      <th>2</th>\n",
       "      <td>중구</td>\n",
       "      <td>135836.0</td>\n",
       "      <td>125942.0</td>\n",
       "      <td>9894.0</td>\n",
       "      <td>22421.0</td>\n",
       "      <td>92.716217</td>\n",
       "      <td>7.283783</td>\n",
       "      <td>16.505934</td>\n",
       "    </tr>\n",
       "    <tr>\n",
       "      <th>12</th>\n",
       "      <td>은평구</td>\n",
       "      <td>488713.0</td>\n",
       "      <td>484274.0</td>\n",
       "      <td>4439.0</td>\n",
       "      <td>78406.0</td>\n",
       "      <td>99.091696</td>\n",
       "      <td>0.908304</td>\n",
       "      <td>16.043363</td>\n",
       "    </tr>\n",
       "  </tbody>\n",
       "</table>\n",
       "</div>"
      ],
      "text/plain": [
       "    지역별       인구수       한국인      외국인      고령자      한국인비율     외국인비율      고령자비율\n",
       "9   강북구  321151.0  317386.0   3765.0  58858.0  98.827654  1.172346  18.327204\n",
       "10  도봉구  340089.0  337820.0   2269.0  56742.0  99.332822  0.667178  16.684456\n",
       "1   종로구  162913.0  152778.0  10135.0  26981.0  93.778888  6.221112  16.561600\n",
       "2    중구  135836.0  125942.0   9894.0  22421.0  92.716217  7.283783  16.505934\n",
       "12  은평구  488713.0  484274.0   4439.0  78406.0  99.091696  0.908304  16.043363"
      ]
     },
     "execution_count": 64,
     "metadata": {},
     "output_type": "execute_result"
    }
   ],
   "source": [
    "pop_seoul.sort_values(by='고령자비율', ascending=False).head()"
   ]
  },
  {
   "cell_type": "markdown",
   "metadata": {},
   "source": [
    "# DataFrame 병합"
   ]
  },
  {
   "cell_type": "markdown",
   "metadata": {},
   "source": [
    "##### 연습용 데이터"
   ]
  },
  {
   "cell_type": "code",
   "execution_count": 76,
   "metadata": {
    "ExecuteTime": {
     "end_time": "2020-03-02T16:27:33.130348Z",
     "start_time": "2020-03-02T16:27:33.119921Z"
    }
   },
   "outputs": [
    {
     "data": {
      "text/html": [
       "<div>\n",
       "<style>\n",
       "    .dataframe thead tr:only-child th {\n",
       "        text-align: right;\n",
       "    }\n",
       "\n",
       "    .dataframe thead th {\n",
       "        text-align: left;\n",
       "    }\n",
       "\n",
       "    .dataframe tbody tr th {\n",
       "        vertical-align: top;\n",
       "    }\n",
       "</style>\n",
       "<table border=\"1\" class=\"dataframe\">\n",
       "  <thead>\n",
       "    <tr style=\"text-align: right;\">\n",
       "      <th></th>\n",
       "      <th>A</th>\n",
       "      <th>B</th>\n",
       "      <th>C</th>\n",
       "      <th>D</th>\n",
       "    </tr>\n",
       "  </thead>\n",
       "  <tbody>\n",
       "    <tr>\n",
       "      <th>0</th>\n",
       "      <td>A0</td>\n",
       "      <td>B0</td>\n",
       "      <td>C0</td>\n",
       "      <td>D0</td>\n",
       "    </tr>\n",
       "    <tr>\n",
       "      <th>1</th>\n",
       "      <td>A1</td>\n",
       "      <td>B1</td>\n",
       "      <td>C1</td>\n",
       "      <td>D1</td>\n",
       "    </tr>\n",
       "    <tr>\n",
       "      <th>2</th>\n",
       "      <td>A2</td>\n",
       "      <td>B2</td>\n",
       "      <td>C2</td>\n",
       "      <td>D2</td>\n",
       "    </tr>\n",
       "    <tr>\n",
       "      <th>3</th>\n",
       "      <td>A3</td>\n",
       "      <td>B3</td>\n",
       "      <td>C3</td>\n",
       "      <td>D3</td>\n",
       "    </tr>\n",
       "  </tbody>\n",
       "</table>\n",
       "</div>"
      ],
      "text/plain": [
       "    A   B   C   D\n",
       "0  A0  B0  C0  D0\n",
       "1  A1  B1  C1  D1\n",
       "2  A2  B2  C2  D2\n",
       "3  A3  B3  C3  D3"
      ]
     },
     "execution_count": 76,
     "metadata": {},
     "output_type": "execute_result"
    }
   ],
   "source": [
    "df1 = pd.DataFrame({'A':['A0','A1','A2','A3'],\n",
    "                  'B':['B0','B1','B2','B3'],\n",
    "                  'C':['C0','C1','C2','C3'],\n",
    "                  'D':['D0','D1','D2','D3']},\n",
    "                  index=[0,1,2,3])\n",
    "df1"
   ]
  },
  {
   "cell_type": "code",
   "execution_count": 77,
   "metadata": {
    "ExecuteTime": {
     "end_time": "2020-03-02T16:27:33.279507Z",
     "start_time": "2020-03-02T16:27:33.268478Z"
    }
   },
   "outputs": [
    {
     "data": {
      "text/html": [
       "<div>\n",
       "<style>\n",
       "    .dataframe thead tr:only-child th {\n",
       "        text-align: right;\n",
       "    }\n",
       "\n",
       "    .dataframe thead th {\n",
       "        text-align: left;\n",
       "    }\n",
       "\n",
       "    .dataframe tbody tr th {\n",
       "        vertical-align: top;\n",
       "    }\n",
       "</style>\n",
       "<table border=\"1\" class=\"dataframe\">\n",
       "  <thead>\n",
       "    <tr style=\"text-align: right;\">\n",
       "      <th></th>\n",
       "      <th>A</th>\n",
       "      <th>B</th>\n",
       "      <th>C</th>\n",
       "      <th>D</th>\n",
       "    </tr>\n",
       "  </thead>\n",
       "  <tbody>\n",
       "    <tr>\n",
       "      <th>4</th>\n",
       "      <td>A4</td>\n",
       "      <td>B4</td>\n",
       "      <td>C4</td>\n",
       "      <td>D4</td>\n",
       "    </tr>\n",
       "    <tr>\n",
       "      <th>5</th>\n",
       "      <td>A5</td>\n",
       "      <td>B5</td>\n",
       "      <td>C5</td>\n",
       "      <td>D5</td>\n",
       "    </tr>\n",
       "    <tr>\n",
       "      <th>6</th>\n",
       "      <td>A6</td>\n",
       "      <td>B6</td>\n",
       "      <td>C6</td>\n",
       "      <td>D6</td>\n",
       "    </tr>\n",
       "    <tr>\n",
       "      <th>7</th>\n",
       "      <td>A7</td>\n",
       "      <td>B7</td>\n",
       "      <td>C7</td>\n",
       "      <td>D7</td>\n",
       "    </tr>\n",
       "  </tbody>\n",
       "</table>\n",
       "</div>"
      ],
      "text/plain": [
       "    A   B   C   D\n",
       "4  A4  B4  C4  D4\n",
       "5  A5  B5  C5  D5\n",
       "6  A6  B6  C6  D6\n",
       "7  A7  B7  C7  D7"
      ]
     },
     "execution_count": 77,
     "metadata": {},
     "output_type": "execute_result"
    }
   ],
   "source": [
    "df2 = pd.DataFrame({'A':['A4','A5','A6','A7'],\n",
    "                  'B':['B4','B5','B6','B7'],\n",
    "                  'C':['C4','C5','C6','C7'],\n",
    "                  'D':['D4','D5','D6','D7']},\n",
    "                  index=[4,5,6,7])\n",
    "df2"
   ]
  },
  {
   "cell_type": "code",
   "execution_count": 78,
   "metadata": {
    "ExecuteTime": {
     "end_time": "2020-03-02T16:27:33.418362Z",
     "start_time": "2020-03-02T16:27:33.408483Z"
    }
   },
   "outputs": [
    {
     "data": {
      "text/html": [
       "<div>\n",
       "<style>\n",
       "    .dataframe thead tr:only-child th {\n",
       "        text-align: right;\n",
       "    }\n",
       "\n",
       "    .dataframe thead th {\n",
       "        text-align: left;\n",
       "    }\n",
       "\n",
       "    .dataframe tbody tr th {\n",
       "        vertical-align: top;\n",
       "    }\n",
       "</style>\n",
       "<table border=\"1\" class=\"dataframe\">\n",
       "  <thead>\n",
       "    <tr style=\"text-align: right;\">\n",
       "      <th></th>\n",
       "      <th>A</th>\n",
       "      <th>B</th>\n",
       "      <th>C</th>\n",
       "      <th>D</th>\n",
       "    </tr>\n",
       "  </thead>\n",
       "  <tbody>\n",
       "    <tr>\n",
       "      <th>8</th>\n",
       "      <td>A8</td>\n",
       "      <td>B8</td>\n",
       "      <td>C8</td>\n",
       "      <td>D8</td>\n",
       "    </tr>\n",
       "    <tr>\n",
       "      <th>9</th>\n",
       "      <td>A9</td>\n",
       "      <td>B9</td>\n",
       "      <td>C9</td>\n",
       "      <td>D9</td>\n",
       "    </tr>\n",
       "    <tr>\n",
       "      <th>10</th>\n",
       "      <td>A10</td>\n",
       "      <td>B10</td>\n",
       "      <td>C11</td>\n",
       "      <td>D12</td>\n",
       "    </tr>\n",
       "    <tr>\n",
       "      <th>11</th>\n",
       "      <td>A13</td>\n",
       "      <td>B13</td>\n",
       "      <td>C13</td>\n",
       "      <td>D13</td>\n",
       "    </tr>\n",
       "  </tbody>\n",
       "</table>\n",
       "</div>"
      ],
      "text/plain": [
       "      A    B    C    D\n",
       "8    A8   B8   C8   D8\n",
       "9    A9   B9   C9   D9\n",
       "10  A10  B10  C11  D12\n",
       "11  A13  B13  C13  D13"
      ]
     },
     "execution_count": 78,
     "metadata": {},
     "output_type": "execute_result"
    }
   ],
   "source": [
    "df3 = pd.DataFrame({'A':['A8','A9','A10','A13'],\n",
    "                  'B':['B8','B9','B10','B13'],\n",
    "                  'C':['C8','C9','C11','C13'],\n",
    "                  'D':['D8','D9','D12','D13']},\n",
    "                  index=[8,9,10,11])\n",
    "df3"
   ]
  },
  {
   "cell_type": "markdown",
   "metadata": {},
   "source": [
    "##### 병합 - concat은 index를 기준으로 데이터를 합치게 됨"
   ]
  },
  {
   "cell_type": "code",
   "execution_count": 79,
   "metadata": {
    "ExecuteTime": {
     "end_time": "2020-03-02T16:27:33.730357Z",
     "start_time": "2020-03-02T16:27:33.720741Z"
    }
   },
   "outputs": [
    {
     "data": {
      "text/html": [
       "<div>\n",
       "<style>\n",
       "    .dataframe thead tr:only-child th {\n",
       "        text-align: right;\n",
       "    }\n",
       "\n",
       "    .dataframe thead th {\n",
       "        text-align: left;\n",
       "    }\n",
       "\n",
       "    .dataframe tbody tr th {\n",
       "        vertical-align: top;\n",
       "    }\n",
       "</style>\n",
       "<table border=\"1\" class=\"dataframe\">\n",
       "  <thead>\n",
       "    <tr style=\"text-align: right;\">\n",
       "      <th></th>\n",
       "      <th>A</th>\n",
       "      <th>B</th>\n",
       "      <th>C</th>\n",
       "      <th>D</th>\n",
       "    </tr>\n",
       "  </thead>\n",
       "  <tbody>\n",
       "    <tr>\n",
       "      <th>0</th>\n",
       "      <td>A0</td>\n",
       "      <td>B0</td>\n",
       "      <td>C0</td>\n",
       "      <td>D0</td>\n",
       "    </tr>\n",
       "    <tr>\n",
       "      <th>1</th>\n",
       "      <td>A1</td>\n",
       "      <td>B1</td>\n",
       "      <td>C1</td>\n",
       "      <td>D1</td>\n",
       "    </tr>\n",
       "    <tr>\n",
       "      <th>2</th>\n",
       "      <td>A2</td>\n",
       "      <td>B2</td>\n",
       "      <td>C2</td>\n",
       "      <td>D2</td>\n",
       "    </tr>\n",
       "    <tr>\n",
       "      <th>3</th>\n",
       "      <td>A3</td>\n",
       "      <td>B3</td>\n",
       "      <td>C3</td>\n",
       "      <td>D3</td>\n",
       "    </tr>\n",
       "    <tr>\n",
       "      <th>4</th>\n",
       "      <td>A4</td>\n",
       "      <td>B4</td>\n",
       "      <td>C4</td>\n",
       "      <td>D4</td>\n",
       "    </tr>\n",
       "    <tr>\n",
       "      <th>5</th>\n",
       "      <td>A5</td>\n",
       "      <td>B5</td>\n",
       "      <td>C5</td>\n",
       "      <td>D5</td>\n",
       "    </tr>\n",
       "    <tr>\n",
       "      <th>6</th>\n",
       "      <td>A6</td>\n",
       "      <td>B6</td>\n",
       "      <td>C6</td>\n",
       "      <td>D6</td>\n",
       "    </tr>\n",
       "    <tr>\n",
       "      <th>7</th>\n",
       "      <td>A7</td>\n",
       "      <td>B7</td>\n",
       "      <td>C7</td>\n",
       "      <td>D7</td>\n",
       "    </tr>\n",
       "    <tr>\n",
       "      <th>8</th>\n",
       "      <td>A8</td>\n",
       "      <td>B8</td>\n",
       "      <td>C8</td>\n",
       "      <td>D8</td>\n",
       "    </tr>\n",
       "    <tr>\n",
       "      <th>9</th>\n",
       "      <td>A9</td>\n",
       "      <td>B9</td>\n",
       "      <td>C9</td>\n",
       "      <td>D9</td>\n",
       "    </tr>\n",
       "    <tr>\n",
       "      <th>10</th>\n",
       "      <td>A10</td>\n",
       "      <td>B10</td>\n",
       "      <td>C11</td>\n",
       "      <td>D12</td>\n",
       "    </tr>\n",
       "    <tr>\n",
       "      <th>11</th>\n",
       "      <td>A13</td>\n",
       "      <td>B13</td>\n",
       "      <td>C13</td>\n",
       "      <td>D13</td>\n",
       "    </tr>\n",
       "  </tbody>\n",
       "</table>\n",
       "</div>"
      ],
      "text/plain": [
       "      A    B    C    D\n",
       "0    A0   B0   C0   D0\n",
       "1    A1   B1   C1   D1\n",
       "2    A2   B2   C2   D2\n",
       "3    A3   B3   C3   D3\n",
       "4    A4   B4   C4   D4\n",
       "5    A5   B5   C5   D5\n",
       "6    A6   B6   C6   D6\n",
       "7    A7   B7   C7   D7\n",
       "8    A8   B8   C8   D8\n",
       "9    A9   B9   C9   D9\n",
       "10  A10  B10  C11  D12\n",
       "11  A13  B13  C13  D13"
      ]
     },
     "execution_count": 79,
     "metadata": {},
     "output_type": "execute_result"
    }
   ],
   "source": [
    "result_col = pd.concat([df1, df2, df3])\n",
    "result_col"
   ]
  },
  {
   "cell_type": "markdown",
   "metadata": {},
   "source": [
    "##### keys 옵션으로 구분, 이렇게 key 지정괸 구분은 다중 index가 되어 level을 형성"
   ]
  },
  {
   "cell_type": "code",
   "execution_count": 81,
   "metadata": {
    "ExecuteTime": {
     "end_time": "2020-03-02T16:31:09.529497Z",
     "start_time": "2020-03-02T16:31:09.517410Z"
    }
   },
   "outputs": [
    {
     "data": {
      "text/html": [
       "<div>\n",
       "<style>\n",
       "    .dataframe thead tr:only-child th {\n",
       "        text-align: right;\n",
       "    }\n",
       "\n",
       "    .dataframe thead th {\n",
       "        text-align: left;\n",
       "    }\n",
       "\n",
       "    .dataframe tbody tr th {\n",
       "        vertical-align: top;\n",
       "    }\n",
       "</style>\n",
       "<table border=\"1\" class=\"dataframe\">\n",
       "  <thead>\n",
       "    <tr style=\"text-align: right;\">\n",
       "      <th></th>\n",
       "      <th></th>\n",
       "      <th>A</th>\n",
       "      <th>B</th>\n",
       "      <th>C</th>\n",
       "      <th>D</th>\n",
       "    </tr>\n",
       "  </thead>\n",
       "  <tbody>\n",
       "    <tr>\n",
       "      <th rowspan=\"4\" valign=\"top\">x</th>\n",
       "      <th>0</th>\n",
       "      <td>A0</td>\n",
       "      <td>B0</td>\n",
       "      <td>C0</td>\n",
       "      <td>D0</td>\n",
       "    </tr>\n",
       "    <tr>\n",
       "      <th>1</th>\n",
       "      <td>A1</td>\n",
       "      <td>B1</td>\n",
       "      <td>C1</td>\n",
       "      <td>D1</td>\n",
       "    </tr>\n",
       "    <tr>\n",
       "      <th>2</th>\n",
       "      <td>A2</td>\n",
       "      <td>B2</td>\n",
       "      <td>C2</td>\n",
       "      <td>D2</td>\n",
       "    </tr>\n",
       "    <tr>\n",
       "      <th>3</th>\n",
       "      <td>A3</td>\n",
       "      <td>B3</td>\n",
       "      <td>C3</td>\n",
       "      <td>D3</td>\n",
       "    </tr>\n",
       "    <tr>\n",
       "      <th rowspan=\"4\" valign=\"top\">y</th>\n",
       "      <th>4</th>\n",
       "      <td>A4</td>\n",
       "      <td>B4</td>\n",
       "      <td>C4</td>\n",
       "      <td>D4</td>\n",
       "    </tr>\n",
       "    <tr>\n",
       "      <th>5</th>\n",
       "      <td>A5</td>\n",
       "      <td>B5</td>\n",
       "      <td>C5</td>\n",
       "      <td>D5</td>\n",
       "    </tr>\n",
       "    <tr>\n",
       "      <th>6</th>\n",
       "      <td>A6</td>\n",
       "      <td>B6</td>\n",
       "      <td>C6</td>\n",
       "      <td>D6</td>\n",
       "    </tr>\n",
       "    <tr>\n",
       "      <th>7</th>\n",
       "      <td>A7</td>\n",
       "      <td>B7</td>\n",
       "      <td>C7</td>\n",
       "      <td>D7</td>\n",
       "    </tr>\n",
       "    <tr>\n",
       "      <th rowspan=\"4\" valign=\"top\">z</th>\n",
       "      <th>8</th>\n",
       "      <td>A8</td>\n",
       "      <td>B8</td>\n",
       "      <td>C8</td>\n",
       "      <td>D8</td>\n",
       "    </tr>\n",
       "    <tr>\n",
       "      <th>9</th>\n",
       "      <td>A9</td>\n",
       "      <td>B9</td>\n",
       "      <td>C9</td>\n",
       "      <td>D9</td>\n",
       "    </tr>\n",
       "    <tr>\n",
       "      <th>10</th>\n",
       "      <td>A10</td>\n",
       "      <td>B10</td>\n",
       "      <td>C11</td>\n",
       "      <td>D12</td>\n",
       "    </tr>\n",
       "    <tr>\n",
       "      <th>11</th>\n",
       "      <td>A13</td>\n",
       "      <td>B13</td>\n",
       "      <td>C13</td>\n",
       "      <td>D13</td>\n",
       "    </tr>\n",
       "  </tbody>\n",
       "</table>\n",
       "</div>"
      ],
      "text/plain": [
       "        A    B    C    D\n",
       "x 0    A0   B0   C0   D0\n",
       "  1    A1   B1   C1   D1\n",
       "  2    A2   B2   C2   D2\n",
       "  3    A3   B3   C3   D3\n",
       "y 4    A4   B4   C4   D4\n",
       "  5    A5   B5   C5   D5\n",
       "  6    A6   B6   C6   D6\n",
       "  7    A7   B7   C7   D7\n",
       "z 8    A8   B8   C8   D8\n",
       "  9    A9   B9   C9   D9\n",
       "  10  A10  B10  C11  D12\n",
       "  11  A13  B13  C13  D13"
      ]
     },
     "execution_count": 81,
     "metadata": {},
     "output_type": "execute_result"
    }
   ],
   "source": [
    "result = pd.concat([df1, df2, df3], keys=['x','y','z'])\n",
    "result"
   ]
  },
  {
   "cell_type": "code",
   "execution_count": 82,
   "metadata": {
    "ExecuteTime": {
     "end_time": "2020-03-02T16:31:23.555298Z",
     "start_time": "2020-03-02T16:31:23.551370Z"
    }
   },
   "outputs": [
    {
     "data": {
      "text/plain": [
       "MultiIndex(levels=[['x', 'y', 'z'], [0, 1, 2, 3, 4, 5, 6, 7, 8, 9, 10, 11]],\n",
       "           labels=[[0, 0, 0, 0, 1, 1, 1, 1, 2, 2, 2, 2], [0, 1, 2, 3, 4, 5, 6, 7, 8, 9, 10, 11]])"
      ]
     },
     "execution_count": 82,
     "metadata": {},
     "output_type": "execute_result"
    }
   ],
   "source": [
    "result.index"
   ]
  },
  {
   "cell_type": "code",
   "execution_count": 83,
   "metadata": {
    "ExecuteTime": {
     "end_time": "2020-03-02T16:32:33.956981Z",
     "start_time": "2020-03-02T16:32:33.952902Z"
    }
   },
   "outputs": [
    {
     "data": {
      "text/plain": [
       "Index(['x', 'x', 'x', 'x', 'y', 'y', 'y', 'y', 'z', 'z', 'z', 'z'], dtype='object')"
      ]
     },
     "execution_count": 83,
     "metadata": {},
     "output_type": "execute_result"
    }
   ],
   "source": [
    "result.index.get_level_values(0)"
   ]
  },
  {
   "cell_type": "code",
   "execution_count": 84,
   "metadata": {
    "ExecuteTime": {
     "end_time": "2020-03-02T16:33:47.581648Z",
     "start_time": "2020-03-02T16:33:47.576078Z"
    }
   },
   "outputs": [
    {
     "data": {
      "text/plain": [
       "Int64Index([0, 1, 2, 3, 4, 5, 6, 7, 8, 9, 10, 11], dtype='int64')"
      ]
     },
     "execution_count": 84,
     "metadata": {},
     "output_type": "execute_result"
    }
   ],
   "source": [
    "result.index.get_level_values(1)"
   ]
  },
  {
   "cell_type": "markdown",
   "metadata": {},
   "source": [
    "##### 연습용 데이터 추가"
   ]
  },
  {
   "cell_type": "code",
   "execution_count": 86,
   "metadata": {
    "ExecuteTime": {
     "end_time": "2020-03-02T16:36:46.384276Z",
     "start_time": "2020-03-02T16:36:46.375075Z"
    }
   },
   "outputs": [
    {
     "data": {
      "text/html": [
       "<div>\n",
       "<style>\n",
       "    .dataframe thead tr:only-child th {\n",
       "        text-align: right;\n",
       "    }\n",
       "\n",
       "    .dataframe thead th {\n",
       "        text-align: left;\n",
       "    }\n",
       "\n",
       "    .dataframe tbody tr th {\n",
       "        vertical-align: top;\n",
       "    }\n",
       "</style>\n",
       "<table border=\"1\" class=\"dataframe\">\n",
       "  <thead>\n",
       "    <tr style=\"text-align: right;\">\n",
       "      <th></th>\n",
       "      <th>B</th>\n",
       "      <th>D</th>\n",
       "      <th>F</th>\n",
       "    </tr>\n",
       "  </thead>\n",
       "  <tbody>\n",
       "    <tr>\n",
       "      <th>2</th>\n",
       "      <td>B2</td>\n",
       "      <td>D2</td>\n",
       "      <td>F2</td>\n",
       "    </tr>\n",
       "    <tr>\n",
       "      <th>3</th>\n",
       "      <td>B3</td>\n",
       "      <td>D3</td>\n",
       "      <td>F3</td>\n",
       "    </tr>\n",
       "    <tr>\n",
       "      <th>6</th>\n",
       "      <td>B6</td>\n",
       "      <td>D6</td>\n",
       "      <td>F6</td>\n",
       "    </tr>\n",
       "    <tr>\n",
       "      <th>7</th>\n",
       "      <td>B7</td>\n",
       "      <td>D7</td>\n",
       "      <td>F7</td>\n",
       "    </tr>\n",
       "  </tbody>\n",
       "</table>\n",
       "</div>"
      ],
      "text/plain": [
       "    B   D   F\n",
       "2  B2  D2  F2\n",
       "3  B3  D3  F3\n",
       "6  B6  D6  F6\n",
       "7  B7  D7  F7"
      ]
     },
     "execution_count": 86,
     "metadata": {},
     "output_type": "execute_result"
    }
   ],
   "source": [
    "df4 = pd.DataFrame({'B':['B2','B3','B6','B7'],\n",
    "                    'D':['D2','D3','D6','D7'],\n",
    "                    'F':['F2','F3','F6','F7']},\n",
    "                    index=[2, 3, 6, 7])\n",
    "df4"
   ]
  },
  {
   "cell_type": "code",
   "execution_count": 87,
   "metadata": {
    "ExecuteTime": {
     "end_time": "2020-03-02T16:37:04.310455Z",
     "start_time": "2020-03-02T16:37:04.302216Z"
    }
   },
   "outputs": [
    {
     "data": {
      "text/html": [
       "<div>\n",
       "<style>\n",
       "    .dataframe thead tr:only-child th {\n",
       "        text-align: right;\n",
       "    }\n",
       "\n",
       "    .dataframe thead th {\n",
       "        text-align: left;\n",
       "    }\n",
       "\n",
       "    .dataframe tbody tr th {\n",
       "        vertical-align: top;\n",
       "    }\n",
       "</style>\n",
       "<table border=\"1\" class=\"dataframe\">\n",
       "  <thead>\n",
       "    <tr style=\"text-align: right;\">\n",
       "      <th></th>\n",
       "      <th>A</th>\n",
       "      <th>B</th>\n",
       "      <th>C</th>\n",
       "      <th>D</th>\n",
       "    </tr>\n",
       "  </thead>\n",
       "  <tbody>\n",
       "    <tr>\n",
       "      <th>0</th>\n",
       "      <td>A0</td>\n",
       "      <td>B0</td>\n",
       "      <td>C0</td>\n",
       "      <td>D0</td>\n",
       "    </tr>\n",
       "    <tr>\n",
       "      <th>1</th>\n",
       "      <td>A1</td>\n",
       "      <td>B1</td>\n",
       "      <td>C1</td>\n",
       "      <td>D1</td>\n",
       "    </tr>\n",
       "    <tr>\n",
       "      <th>2</th>\n",
       "      <td>A2</td>\n",
       "      <td>B2</td>\n",
       "      <td>C2</td>\n",
       "      <td>D2</td>\n",
       "    </tr>\n",
       "    <tr>\n",
       "      <th>3</th>\n",
       "      <td>A3</td>\n",
       "      <td>B3</td>\n",
       "      <td>C3</td>\n",
       "      <td>D3</td>\n",
       "    </tr>\n",
       "  </tbody>\n",
       "</table>\n",
       "</div>"
      ],
      "text/plain": [
       "    A   B   C   D\n",
       "0  A0  B0  C0  D0\n",
       "1  A1  B1  C1  D1\n",
       "2  A2  B2  C2  D2\n",
       "3  A3  B3  C3  D3"
      ]
     },
     "execution_count": 87,
     "metadata": {},
     "output_type": "execute_result"
    }
   ],
   "source": [
    "df1"
   ]
  },
  {
   "cell_type": "markdown",
   "metadata": {},
   "source": [
    "##### axis=1"
   ]
  },
  {
   "cell_type": "code",
   "execution_count": 89,
   "metadata": {
    "ExecuteTime": {
     "end_time": "2020-03-02T16:41:50.386200Z",
     "start_time": "2020-03-02T16:41:50.371623Z"
    }
   },
   "outputs": [
    {
     "data": {
      "text/html": [
       "<div>\n",
       "<style>\n",
       "    .dataframe thead tr:only-child th {\n",
       "        text-align: right;\n",
       "    }\n",
       "\n",
       "    .dataframe thead th {\n",
       "        text-align: left;\n",
       "    }\n",
       "\n",
       "    .dataframe tbody tr th {\n",
       "        vertical-align: top;\n",
       "    }\n",
       "</style>\n",
       "<table border=\"1\" class=\"dataframe\">\n",
       "  <thead>\n",
       "    <tr style=\"text-align: right;\">\n",
       "      <th></th>\n",
       "      <th>A</th>\n",
       "      <th>B</th>\n",
       "      <th>C</th>\n",
       "      <th>D</th>\n",
       "      <th>B</th>\n",
       "      <th>D</th>\n",
       "      <th>F</th>\n",
       "    </tr>\n",
       "  </thead>\n",
       "  <tbody>\n",
       "    <tr>\n",
       "      <th>0</th>\n",
       "      <td>A0</td>\n",
       "      <td>B0</td>\n",
       "      <td>C0</td>\n",
       "      <td>D0</td>\n",
       "      <td>NaN</td>\n",
       "      <td>NaN</td>\n",
       "      <td>NaN</td>\n",
       "    </tr>\n",
       "    <tr>\n",
       "      <th>1</th>\n",
       "      <td>A1</td>\n",
       "      <td>B1</td>\n",
       "      <td>C1</td>\n",
       "      <td>D1</td>\n",
       "      <td>NaN</td>\n",
       "      <td>NaN</td>\n",
       "      <td>NaN</td>\n",
       "    </tr>\n",
       "    <tr>\n",
       "      <th>2</th>\n",
       "      <td>A2</td>\n",
       "      <td>B2</td>\n",
       "      <td>C2</td>\n",
       "      <td>D2</td>\n",
       "      <td>B2</td>\n",
       "      <td>D2</td>\n",
       "      <td>F2</td>\n",
       "    </tr>\n",
       "    <tr>\n",
       "      <th>3</th>\n",
       "      <td>A3</td>\n",
       "      <td>B3</td>\n",
       "      <td>C3</td>\n",
       "      <td>D3</td>\n",
       "      <td>B3</td>\n",
       "      <td>D3</td>\n",
       "      <td>F3</td>\n",
       "    </tr>\n",
       "    <tr>\n",
       "      <th>6</th>\n",
       "      <td>NaN</td>\n",
       "      <td>NaN</td>\n",
       "      <td>NaN</td>\n",
       "      <td>NaN</td>\n",
       "      <td>B6</td>\n",
       "      <td>D6</td>\n",
       "      <td>F6</td>\n",
       "    </tr>\n",
       "    <tr>\n",
       "      <th>7</th>\n",
       "      <td>NaN</td>\n",
       "      <td>NaN</td>\n",
       "      <td>NaN</td>\n",
       "      <td>NaN</td>\n",
       "      <td>B7</td>\n",
       "      <td>D7</td>\n",
       "      <td>F7</td>\n",
       "    </tr>\n",
       "  </tbody>\n",
       "</table>\n",
       "</div>"
      ],
      "text/plain": [
       "     A    B    C    D    B    D    F\n",
       "0   A0   B0   C0   D0  NaN  NaN  NaN\n",
       "1   A1   B1   C1   D1  NaN  NaN  NaN\n",
       "2   A2   B2   C2   D2   B2   D2   F2\n",
       "3   A3   B3   C3   D3   B3   D3   F3\n",
       "6  NaN  NaN  NaN  NaN   B6   D6   F6\n",
       "7  NaN  NaN  NaN  NaN   B7   D7   F7"
      ]
     },
     "execution_count": 89,
     "metadata": {},
     "output_type": "execute_result"
    }
   ],
   "source": [
    "result= pd.concat([df1, df4], axis=1)\n",
    "result"
   ]
  },
  {
   "cell_type": "code",
   "execution_count": 90,
   "metadata": {
    "ExecuteTime": {
     "end_time": "2020-03-02T16:42:24.533856Z",
     "start_time": "2020-03-02T16:42:24.519896Z"
    }
   },
   "outputs": [
    {
     "data": {
      "text/html": [
       "<div>\n",
       "<style>\n",
       "    .dataframe thead tr:only-child th {\n",
       "        text-align: right;\n",
       "    }\n",
       "\n",
       "    .dataframe thead th {\n",
       "        text-align: left;\n",
       "    }\n",
       "\n",
       "    .dataframe tbody tr th {\n",
       "        vertical-align: top;\n",
       "    }\n",
       "</style>\n",
       "<table border=\"1\" class=\"dataframe\">\n",
       "  <thead>\n",
       "    <tr style=\"text-align: right;\">\n",
       "      <th></th>\n",
       "      <th>A</th>\n",
       "      <th>B</th>\n",
       "      <th>C</th>\n",
       "      <th>D</th>\n",
       "      <th>F</th>\n",
       "    </tr>\n",
       "  </thead>\n",
       "  <tbody>\n",
       "    <tr>\n",
       "      <th>0</th>\n",
       "      <td>A0</td>\n",
       "      <td>B0</td>\n",
       "      <td>C0</td>\n",
       "      <td>D0</td>\n",
       "      <td>NaN</td>\n",
       "    </tr>\n",
       "    <tr>\n",
       "      <th>1</th>\n",
       "      <td>A1</td>\n",
       "      <td>B1</td>\n",
       "      <td>C1</td>\n",
       "      <td>D1</td>\n",
       "      <td>NaN</td>\n",
       "    </tr>\n",
       "    <tr>\n",
       "      <th>2</th>\n",
       "      <td>A2</td>\n",
       "      <td>B2</td>\n",
       "      <td>C2</td>\n",
       "      <td>D2</td>\n",
       "      <td>NaN</td>\n",
       "    </tr>\n",
       "    <tr>\n",
       "      <th>3</th>\n",
       "      <td>A3</td>\n",
       "      <td>B3</td>\n",
       "      <td>C3</td>\n",
       "      <td>D3</td>\n",
       "      <td>NaN</td>\n",
       "    </tr>\n",
       "    <tr>\n",
       "      <th>2</th>\n",
       "      <td>NaN</td>\n",
       "      <td>B2</td>\n",
       "      <td>NaN</td>\n",
       "      <td>D2</td>\n",
       "      <td>F2</td>\n",
       "    </tr>\n",
       "    <tr>\n",
       "      <th>3</th>\n",
       "      <td>NaN</td>\n",
       "      <td>B3</td>\n",
       "      <td>NaN</td>\n",
       "      <td>D3</td>\n",
       "      <td>F3</td>\n",
       "    </tr>\n",
       "    <tr>\n",
       "      <th>6</th>\n",
       "      <td>NaN</td>\n",
       "      <td>B6</td>\n",
       "      <td>NaN</td>\n",
       "      <td>D6</td>\n",
       "      <td>F6</td>\n",
       "    </tr>\n",
       "    <tr>\n",
       "      <th>7</th>\n",
       "      <td>NaN</td>\n",
       "      <td>B7</td>\n",
       "      <td>NaN</td>\n",
       "      <td>D7</td>\n",
       "      <td>F7</td>\n",
       "    </tr>\n",
       "  </tbody>\n",
       "</table>\n",
       "</div>"
      ],
      "text/plain": [
       "     A   B    C   D    F\n",
       "0   A0  B0   C0  D0  NaN\n",
       "1   A1  B1   C1  D1  NaN\n",
       "2   A2  B2   C2  D2  NaN\n",
       "3   A3  B3   C3  D3  NaN\n",
       "2  NaN  B2  NaN  D2   F2\n",
       "3  NaN  B3  NaN  D3   F3\n",
       "6  NaN  B6  NaN  D6   F6\n",
       "7  NaN  B7  NaN  D7   F7"
      ]
     },
     "execution_count": 90,
     "metadata": {},
     "output_type": "execute_result"
    }
   ],
   "source": [
    "result= pd.concat([df1, df4], axis=0)\n",
    "result"
   ]
  },
  {
   "cell_type": "markdown",
   "metadata": {},
   "source": [
    "##### join='inner'"
   ]
  },
  {
   "cell_type": "code",
   "execution_count": 91,
   "metadata": {
    "ExecuteTime": {
     "end_time": "2020-03-02T16:46:46.139695Z",
     "start_time": "2020-03-02T16:46:46.126229Z"
    }
   },
   "outputs": [
    {
     "data": {
      "text/html": [
       "<div>\n",
       "<style>\n",
       "    .dataframe thead tr:only-child th {\n",
       "        text-align: right;\n",
       "    }\n",
       "\n",
       "    .dataframe thead th {\n",
       "        text-align: left;\n",
       "    }\n",
       "\n",
       "    .dataframe tbody tr th {\n",
       "        vertical-align: top;\n",
       "    }\n",
       "</style>\n",
       "<table border=\"1\" class=\"dataframe\">\n",
       "  <thead>\n",
       "    <tr style=\"text-align: right;\">\n",
       "      <th></th>\n",
       "      <th>A</th>\n",
       "      <th>B</th>\n",
       "      <th>C</th>\n",
       "      <th>D</th>\n",
       "      <th>B</th>\n",
       "      <th>D</th>\n",
       "      <th>F</th>\n",
       "    </tr>\n",
       "  </thead>\n",
       "  <tbody>\n",
       "    <tr>\n",
       "      <th>2</th>\n",
       "      <td>A2</td>\n",
       "      <td>B2</td>\n",
       "      <td>C2</td>\n",
       "      <td>D2</td>\n",
       "      <td>B2</td>\n",
       "      <td>D2</td>\n",
       "      <td>F2</td>\n",
       "    </tr>\n",
       "    <tr>\n",
       "      <th>3</th>\n",
       "      <td>A3</td>\n",
       "      <td>B3</td>\n",
       "      <td>C3</td>\n",
       "      <td>D3</td>\n",
       "      <td>B3</td>\n",
       "      <td>D3</td>\n",
       "      <td>F3</td>\n",
       "    </tr>\n",
       "  </tbody>\n",
       "</table>\n",
       "</div>"
      ],
      "text/plain": [
       "    A   B   C   D   B   D   F\n",
       "2  A2  B2  C2  D2  B2  D2  F2\n",
       "3  A3  B3  C3  D3  B3  D3  F3"
      ]
     },
     "execution_count": 91,
     "metadata": {},
     "output_type": "execute_result"
    }
   ],
   "source": [
    "result= pd.concat([df1, df4], axis=1, join='inner')\n",
    "result"
   ]
  },
  {
   "cell_type": "code",
   "execution_count": 92,
   "metadata": {
    "ExecuteTime": {
     "end_time": "2020-03-02T16:49:10.905719Z",
     "start_time": "2020-03-02T16:49:10.895233Z"
    }
   },
   "outputs": [
    {
     "data": {
      "text/html": [
       "<div>\n",
       "<style>\n",
       "    .dataframe thead tr:only-child th {\n",
       "        text-align: right;\n",
       "    }\n",
       "\n",
       "    .dataframe thead th {\n",
       "        text-align: left;\n",
       "    }\n",
       "\n",
       "    .dataframe tbody tr th {\n",
       "        vertical-align: top;\n",
       "    }\n",
       "</style>\n",
       "<table border=\"1\" class=\"dataframe\">\n",
       "  <thead>\n",
       "    <tr style=\"text-align: right;\">\n",
       "      <th></th>\n",
       "      <th>B</th>\n",
       "      <th>D</th>\n",
       "    </tr>\n",
       "  </thead>\n",
       "  <tbody>\n",
       "    <tr>\n",
       "      <th>0</th>\n",
       "      <td>B0</td>\n",
       "      <td>D0</td>\n",
       "    </tr>\n",
       "    <tr>\n",
       "      <th>1</th>\n",
       "      <td>B1</td>\n",
       "      <td>D1</td>\n",
       "    </tr>\n",
       "    <tr>\n",
       "      <th>2</th>\n",
       "      <td>B2</td>\n",
       "      <td>D2</td>\n",
       "    </tr>\n",
       "    <tr>\n",
       "      <th>3</th>\n",
       "      <td>B3</td>\n",
       "      <td>D3</td>\n",
       "    </tr>\n",
       "    <tr>\n",
       "      <th>2</th>\n",
       "      <td>B2</td>\n",
       "      <td>D2</td>\n",
       "    </tr>\n",
       "    <tr>\n",
       "      <th>3</th>\n",
       "      <td>B3</td>\n",
       "      <td>D3</td>\n",
       "    </tr>\n",
       "    <tr>\n",
       "      <th>6</th>\n",
       "      <td>B6</td>\n",
       "      <td>D6</td>\n",
       "    </tr>\n",
       "    <tr>\n",
       "      <th>7</th>\n",
       "      <td>B7</td>\n",
       "      <td>D7</td>\n",
       "    </tr>\n",
       "  </tbody>\n",
       "</table>\n",
       "</div>"
      ],
      "text/plain": [
       "    B   D\n",
       "0  B0  D0\n",
       "1  B1  D1\n",
       "2  B2  D2\n",
       "3  B3  D3\n",
       "2  B2  D2\n",
       "3  B3  D3\n",
       "6  B6  D6\n",
       "7  B7  D7"
      ]
     },
     "execution_count": 92,
     "metadata": {},
     "output_type": "execute_result"
    }
   ],
   "source": [
    "result= pd.concat([df1, df4], axis=0, join='inner')\n",
    "result"
   ]
  },
  {
   "cell_type": "markdown",
   "metadata": {},
   "source": [
    "##### join_axes=[df1.index] df1의 인덱스에 맞춤"
   ]
  },
  {
   "cell_type": "code",
   "execution_count": 94,
   "metadata": {
    "ExecuteTime": {
     "end_time": "2020-03-02T16:52:39.636942Z",
     "start_time": "2020-03-02T16:52:39.624091Z"
    }
   },
   "outputs": [
    {
     "data": {
      "text/html": [
       "<div>\n",
       "<style>\n",
       "    .dataframe thead tr:only-child th {\n",
       "        text-align: right;\n",
       "    }\n",
       "\n",
       "    .dataframe thead th {\n",
       "        text-align: left;\n",
       "    }\n",
       "\n",
       "    .dataframe tbody tr th {\n",
       "        vertical-align: top;\n",
       "    }\n",
       "</style>\n",
       "<table border=\"1\" class=\"dataframe\">\n",
       "  <thead>\n",
       "    <tr style=\"text-align: right;\">\n",
       "      <th></th>\n",
       "      <th>A</th>\n",
       "      <th>B</th>\n",
       "      <th>C</th>\n",
       "      <th>D</th>\n",
       "      <th>B</th>\n",
       "      <th>D</th>\n",
       "      <th>F</th>\n",
       "    </tr>\n",
       "  </thead>\n",
       "  <tbody>\n",
       "    <tr>\n",
       "      <th>0</th>\n",
       "      <td>A0</td>\n",
       "      <td>B0</td>\n",
       "      <td>C0</td>\n",
       "      <td>D0</td>\n",
       "      <td>NaN</td>\n",
       "      <td>NaN</td>\n",
       "      <td>NaN</td>\n",
       "    </tr>\n",
       "    <tr>\n",
       "      <th>1</th>\n",
       "      <td>A1</td>\n",
       "      <td>B1</td>\n",
       "      <td>C1</td>\n",
       "      <td>D1</td>\n",
       "      <td>NaN</td>\n",
       "      <td>NaN</td>\n",
       "      <td>NaN</td>\n",
       "    </tr>\n",
       "    <tr>\n",
       "      <th>2</th>\n",
       "      <td>A2</td>\n",
       "      <td>B2</td>\n",
       "      <td>C2</td>\n",
       "      <td>D2</td>\n",
       "      <td>B2</td>\n",
       "      <td>D2</td>\n",
       "      <td>F2</td>\n",
       "    </tr>\n",
       "    <tr>\n",
       "      <th>3</th>\n",
       "      <td>A3</td>\n",
       "      <td>B3</td>\n",
       "      <td>C3</td>\n",
       "      <td>D3</td>\n",
       "      <td>B3</td>\n",
       "      <td>D3</td>\n",
       "      <td>F3</td>\n",
       "    </tr>\n",
       "  </tbody>\n",
       "</table>\n",
       "</div>"
      ],
      "text/plain": [
       "    A   B   C   D    B    D    F\n",
       "0  A0  B0  C0  D0  NaN  NaN  NaN\n",
       "1  A1  B1  C1  D1  NaN  NaN  NaN\n",
       "2  A2  B2  C2  D2   B2   D2   F2\n",
       "3  A3  B3  C3  D3   B3   D3   F3"
      ]
     },
     "execution_count": 94,
     "metadata": {},
     "output_type": "execute_result"
    }
   ],
   "source": [
    "result= pd.concat([df1, df4], axis=1, join_axes=[df1.index])\n",
    "result"
   ]
  },
  {
   "cell_type": "markdown",
   "metadata": {},
   "source": [
    "##### ignore_index=True 두 데이터의 index를 무시하고 합친 후에 다시 index를 부여 - 열을 기준으로 합침"
   ]
  },
  {
   "cell_type": "code",
   "execution_count": 96,
   "metadata": {
    "ExecuteTime": {
     "end_time": "2020-03-02T17:05:28.391488Z",
     "start_time": "2020-03-02T17:05:28.379556Z"
    }
   },
   "outputs": [
    {
     "data": {
      "text/html": [
       "<div>\n",
       "<style>\n",
       "    .dataframe thead tr:only-child th {\n",
       "        text-align: right;\n",
       "    }\n",
       "\n",
       "    .dataframe thead th {\n",
       "        text-align: left;\n",
       "    }\n",
       "\n",
       "    .dataframe tbody tr th {\n",
       "        vertical-align: top;\n",
       "    }\n",
       "</style>\n",
       "<table border=\"1\" class=\"dataframe\">\n",
       "  <thead>\n",
       "    <tr style=\"text-align: right;\">\n",
       "      <th></th>\n",
       "      <th>A</th>\n",
       "      <th>B</th>\n",
       "      <th>C</th>\n",
       "      <th>D</th>\n",
       "      <th>F</th>\n",
       "    </tr>\n",
       "  </thead>\n",
       "  <tbody>\n",
       "    <tr>\n",
       "      <th>0</th>\n",
       "      <td>A0</td>\n",
       "      <td>B0</td>\n",
       "      <td>C0</td>\n",
       "      <td>D0</td>\n",
       "      <td>NaN</td>\n",
       "    </tr>\n",
       "    <tr>\n",
       "      <th>1</th>\n",
       "      <td>A1</td>\n",
       "      <td>B1</td>\n",
       "      <td>C1</td>\n",
       "      <td>D1</td>\n",
       "      <td>NaN</td>\n",
       "    </tr>\n",
       "    <tr>\n",
       "      <th>2</th>\n",
       "      <td>A2</td>\n",
       "      <td>B2</td>\n",
       "      <td>C2</td>\n",
       "      <td>D2</td>\n",
       "      <td>NaN</td>\n",
       "    </tr>\n",
       "    <tr>\n",
       "      <th>3</th>\n",
       "      <td>A3</td>\n",
       "      <td>B3</td>\n",
       "      <td>C3</td>\n",
       "      <td>D3</td>\n",
       "      <td>NaN</td>\n",
       "    </tr>\n",
       "    <tr>\n",
       "      <th>4</th>\n",
       "      <td>NaN</td>\n",
       "      <td>B2</td>\n",
       "      <td>NaN</td>\n",
       "      <td>D2</td>\n",
       "      <td>F2</td>\n",
       "    </tr>\n",
       "    <tr>\n",
       "      <th>5</th>\n",
       "      <td>NaN</td>\n",
       "      <td>B3</td>\n",
       "      <td>NaN</td>\n",
       "      <td>D3</td>\n",
       "      <td>F3</td>\n",
       "    </tr>\n",
       "    <tr>\n",
       "      <th>6</th>\n",
       "      <td>NaN</td>\n",
       "      <td>B6</td>\n",
       "      <td>NaN</td>\n",
       "      <td>D6</td>\n",
       "      <td>F6</td>\n",
       "    </tr>\n",
       "    <tr>\n",
       "      <th>7</th>\n",
       "      <td>NaN</td>\n",
       "      <td>B7</td>\n",
       "      <td>NaN</td>\n",
       "      <td>D7</td>\n",
       "      <td>F7</td>\n",
       "    </tr>\n",
       "  </tbody>\n",
       "</table>\n",
       "</div>"
      ],
      "text/plain": [
       "     A   B    C   D    F\n",
       "0   A0  B0   C0  D0  NaN\n",
       "1   A1  B1   C1  D1  NaN\n",
       "2   A2  B2   C2  D2  NaN\n",
       "3   A3  B3   C3  D3  NaN\n",
       "4  NaN  B2  NaN  D2   F2\n",
       "5  NaN  B3  NaN  D3   F3\n",
       "6  NaN  B6  NaN  D6   F6\n",
       "7  NaN  B7  NaN  D7   F7"
      ]
     },
     "execution_count": 96,
     "metadata": {},
     "output_type": "execute_result"
    }
   ],
   "source": [
    "result = pd.concat([df1, df4], ignore_index=True)\n",
    "result"
   ]
  },
  {
   "cell_type": "markdown",
   "metadata": {},
   "source": [
    "##### merge"
   ]
  },
  {
   "cell_type": "code",
   "execution_count": 110,
   "metadata": {
    "ExecuteTime": {
     "end_time": "2020-03-02T17:13:32.562013Z",
     "start_time": "2020-03-02T17:13:32.552960Z"
    }
   },
   "outputs": [
    {
     "data": {
      "text/html": [
       "<div>\n",
       "<style>\n",
       "    .dataframe thead tr:only-child th {\n",
       "        text-align: right;\n",
       "    }\n",
       "\n",
       "    .dataframe thead th {\n",
       "        text-align: left;\n",
       "    }\n",
       "\n",
       "    .dataframe tbody tr th {\n",
       "        vertical-align: top;\n",
       "    }\n",
       "</style>\n",
       "<table border=\"1\" class=\"dataframe\">\n",
       "  <thead>\n",
       "    <tr style=\"text-align: right;\">\n",
       "      <th></th>\n",
       "      <th>A</th>\n",
       "      <th>B</th>\n",
       "      <th>key</th>\n",
       "    </tr>\n",
       "  </thead>\n",
       "  <tbody>\n",
       "    <tr>\n",
       "      <th>0</th>\n",
       "      <td>A1</td>\n",
       "      <td>B1</td>\n",
       "      <td>k0</td>\n",
       "    </tr>\n",
       "    <tr>\n",
       "      <th>1</th>\n",
       "      <td>A4</td>\n",
       "      <td>B4</td>\n",
       "      <td>k4</td>\n",
       "    </tr>\n",
       "    <tr>\n",
       "      <th>2</th>\n",
       "      <td>A2</td>\n",
       "      <td>B2</td>\n",
       "      <td>k2</td>\n",
       "    </tr>\n",
       "    <tr>\n",
       "      <th>3</th>\n",
       "      <td>A3</td>\n",
       "      <td>B3</td>\n",
       "      <td>k3</td>\n",
       "    </tr>\n",
       "  </tbody>\n",
       "</table>\n",
       "</div>"
      ],
      "text/plain": [
       "    A   B key\n",
       "0  A1  B1  k0\n",
       "1  A4  B4  k4\n",
       "2  A2  B2  k2\n",
       "3  A3  B3  k3"
      ]
     },
     "execution_count": 110,
     "metadata": {},
     "output_type": "execute_result"
    }
   ],
   "source": [
    "left = pd.DataFrame({'key':['k0','k4','k2','k3'],\n",
    "                     'A':['A1','A4','A2','A3'],\n",
    "                     'B':['B1','B4','B2','B3']})\n",
    "left"
   ]
  },
  {
   "cell_type": "code",
   "execution_count": 117,
   "metadata": {
    "ExecuteTime": {
     "end_time": "2020-03-02T17:14:39.189589Z",
     "start_time": "2020-03-02T17:14:39.180516Z"
    }
   },
   "outputs": [
    {
     "data": {
      "text/html": [
       "<div>\n",
       "<style>\n",
       "    .dataframe thead tr:only-child th {\n",
       "        text-align: right;\n",
       "    }\n",
       "\n",
       "    .dataframe thead th {\n",
       "        text-align: left;\n",
       "    }\n",
       "\n",
       "    .dataframe tbody tr th {\n",
       "        vertical-align: top;\n",
       "    }\n",
       "</style>\n",
       "<table border=\"1\" class=\"dataframe\">\n",
       "  <thead>\n",
       "    <tr style=\"text-align: right;\">\n",
       "      <th></th>\n",
       "      <th>C</th>\n",
       "      <th>D</th>\n",
       "      <th>key</th>\n",
       "    </tr>\n",
       "  </thead>\n",
       "  <tbody>\n",
       "    <tr>\n",
       "      <th>0</th>\n",
       "      <td>C1</td>\n",
       "      <td>D1</td>\n",
       "      <td>k0</td>\n",
       "    </tr>\n",
       "    <tr>\n",
       "      <th>1</th>\n",
       "      <td>C2</td>\n",
       "      <td>D2</td>\n",
       "      <td>k1</td>\n",
       "    </tr>\n",
       "    <tr>\n",
       "      <th>2</th>\n",
       "      <td>C3</td>\n",
       "      <td>D3</td>\n",
       "      <td>k2</td>\n",
       "    </tr>\n",
       "    <tr>\n",
       "      <th>3</th>\n",
       "      <td>C4</td>\n",
       "      <td>D4</td>\n",
       "      <td>k3</td>\n",
       "    </tr>\n",
       "  </tbody>\n",
       "</table>\n",
       "</div>"
      ],
      "text/plain": [
       "    C   D key\n",
       "0  C1  D1  k0\n",
       "1  C2  D2  k1\n",
       "2  C3  D3  k2\n",
       "3  C4  D4  k3"
      ]
     },
     "execution_count": 117,
     "metadata": {},
     "output_type": "execute_result"
    }
   ],
   "source": [
    "right = pd.DataFrame({'key':['k0','k1','k2','k3'],\n",
    "                     'C':['C1','C2','C3','C4'],\n",
    "                     'D':['D1','D2','D3','D4']})\n",
    "right"
   ]
  },
  {
   "cell_type": "code",
   "execution_count": 118,
   "metadata": {
    "ExecuteTime": {
     "end_time": "2020-03-02T17:14:50.818722Z",
     "start_time": "2020-03-02T17:14:50.807693Z"
    }
   },
   "outputs": [
    {
     "data": {
      "text/html": [
       "<div>\n",
       "<style>\n",
       "    .dataframe thead tr:only-child th {\n",
       "        text-align: right;\n",
       "    }\n",
       "\n",
       "    .dataframe thead th {\n",
       "        text-align: left;\n",
       "    }\n",
       "\n",
       "    .dataframe tbody tr th {\n",
       "        vertical-align: top;\n",
       "    }\n",
       "</style>\n",
       "<table border=\"1\" class=\"dataframe\">\n",
       "  <thead>\n",
       "    <tr style=\"text-align: right;\">\n",
       "      <th></th>\n",
       "      <th>A</th>\n",
       "      <th>B</th>\n",
       "      <th>key</th>\n",
       "      <th>C</th>\n",
       "      <th>D</th>\n",
       "    </tr>\n",
       "  </thead>\n",
       "  <tbody>\n",
       "    <tr>\n",
       "      <th>0</th>\n",
       "      <td>A1</td>\n",
       "      <td>B1</td>\n",
       "      <td>k0</td>\n",
       "      <td>C1</td>\n",
       "      <td>D1</td>\n",
       "    </tr>\n",
       "    <tr>\n",
       "      <th>1</th>\n",
       "      <td>A2</td>\n",
       "      <td>B2</td>\n",
       "      <td>k2</td>\n",
       "      <td>C3</td>\n",
       "      <td>D3</td>\n",
       "    </tr>\n",
       "    <tr>\n",
       "      <th>2</th>\n",
       "      <td>A3</td>\n",
       "      <td>B3</td>\n",
       "      <td>k3</td>\n",
       "      <td>C4</td>\n",
       "      <td>D4</td>\n",
       "    </tr>\n",
       "  </tbody>\n",
       "</table>\n",
       "</div>"
      ],
      "text/plain": [
       "    A   B key   C   D\n",
       "0  A1  B1  k0  C1  D1\n",
       "1  A2  B2  k2  C3  D3\n",
       "2  A3  B3  k3  C4  D4"
      ]
     },
     "execution_count": 118,
     "metadata": {},
     "output_type": "execute_result"
    }
   ],
   "source": [
    "result = pd.merge(left, right, on='key')\n",
    "result"
   ]
  },
  {
   "cell_type": "code",
   "execution_count": 114,
   "metadata": {
    "ExecuteTime": {
     "end_time": "2020-03-02T17:14:01.891291Z",
     "start_time": "2020-03-02T17:14:01.880622Z"
    }
   },
   "outputs": [
    {
     "data": {
      "text/html": [
       "<div>\n",
       "<style>\n",
       "    .dataframe thead tr:only-child th {\n",
       "        text-align: right;\n",
       "    }\n",
       "\n",
       "    .dataframe thead th {\n",
       "        text-align: left;\n",
       "    }\n",
       "\n",
       "    .dataframe tbody tr th {\n",
       "        vertical-align: top;\n",
       "    }\n",
       "</style>\n",
       "<table border=\"1\" class=\"dataframe\">\n",
       "  <thead>\n",
       "    <tr style=\"text-align: right;\">\n",
       "      <th></th>\n",
       "      <th>A</th>\n",
       "      <th>B</th>\n",
       "      <th>key</th>\n",
       "      <th>C</th>\n",
       "      <th>D</th>\n",
       "    </tr>\n",
       "  </thead>\n",
       "  <tbody>\n",
       "    <tr>\n",
       "      <th>0</th>\n",
       "      <td>A1</td>\n",
       "      <td>B1</td>\n",
       "      <td>k0</td>\n",
       "      <td>C1</td>\n",
       "      <td>D1</td>\n",
       "    </tr>\n",
       "    <tr>\n",
       "      <th>1</th>\n",
       "      <td>A4</td>\n",
       "      <td>B4</td>\n",
       "      <td>k4</td>\n",
       "      <td>NaN</td>\n",
       "      <td>NaN</td>\n",
       "    </tr>\n",
       "    <tr>\n",
       "      <th>2</th>\n",
       "      <td>A2</td>\n",
       "      <td>B2</td>\n",
       "      <td>k2</td>\n",
       "      <td>C3</td>\n",
       "      <td>D3</td>\n",
       "    </tr>\n",
       "    <tr>\n",
       "      <th>3</th>\n",
       "      <td>A3</td>\n",
       "      <td>B3</td>\n",
       "      <td>k3</td>\n",
       "      <td>C4</td>\n",
       "      <td>D4</td>\n",
       "    </tr>\n",
       "  </tbody>\n",
       "</table>\n",
       "</div>"
      ],
      "text/plain": [
       "    A   B key    C    D\n",
       "0  A1  B1  k0   C1   D1\n",
       "1  A4  B4  k4  NaN  NaN\n",
       "2  A2  B2  k2   C3   D3\n",
       "3  A3  B3  k3   C4   D4"
      ]
     },
     "execution_count": 114,
     "metadata": {},
     "output_type": "execute_result"
    }
   ],
   "source": [
    "result = pd.merge(left, right, how='left', on='key')"
   ]
  },
  {
   "cell_type": "code",
   "execution_count": 119,
   "metadata": {
    "ExecuteTime": {
     "end_time": "2020-03-02T17:19:06.506797Z",
     "start_time": "2020-03-02T17:19:06.495594Z"
    }
   },
   "outputs": [
    {
     "data": {
      "text/html": [
       "<div>\n",
       "<style>\n",
       "    .dataframe thead tr:only-child th {\n",
       "        text-align: right;\n",
       "    }\n",
       "\n",
       "    .dataframe thead th {\n",
       "        text-align: left;\n",
       "    }\n",
       "\n",
       "    .dataframe tbody tr th {\n",
       "        vertical-align: top;\n",
       "    }\n",
       "</style>\n",
       "<table border=\"1\" class=\"dataframe\">\n",
       "  <thead>\n",
       "    <tr style=\"text-align: right;\">\n",
       "      <th></th>\n",
       "      <th>A</th>\n",
       "      <th>B</th>\n",
       "      <th>key</th>\n",
       "      <th>C</th>\n",
       "      <th>D</th>\n",
       "    </tr>\n",
       "  </thead>\n",
       "  <tbody>\n",
       "    <tr>\n",
       "      <th>0</th>\n",
       "      <td>A1</td>\n",
       "      <td>B1</td>\n",
       "      <td>k0</td>\n",
       "      <td>C1</td>\n",
       "      <td>D1</td>\n",
       "    </tr>\n",
       "    <tr>\n",
       "      <th>1</th>\n",
       "      <td>A2</td>\n",
       "      <td>B2</td>\n",
       "      <td>k2</td>\n",
       "      <td>C3</td>\n",
       "      <td>D3</td>\n",
       "    </tr>\n",
       "    <tr>\n",
       "      <th>2</th>\n",
       "      <td>A3</td>\n",
       "      <td>B3</td>\n",
       "      <td>k3</td>\n",
       "      <td>C4</td>\n",
       "      <td>D4</td>\n",
       "    </tr>\n",
       "    <tr>\n",
       "      <th>3</th>\n",
       "      <td>NaN</td>\n",
       "      <td>NaN</td>\n",
       "      <td>k1</td>\n",
       "      <td>C2</td>\n",
       "      <td>D2</td>\n",
       "    </tr>\n",
       "  </tbody>\n",
       "</table>\n",
       "</div>"
      ],
      "text/plain": [
       "     A    B key   C   D\n",
       "0   A1   B1  k0  C1  D1\n",
       "1   A2   B2  k2  C3  D3\n",
       "2   A3   B3  k3  C4  D4\n",
       "3  NaN  NaN  k1  C2  D2"
      ]
     },
     "execution_count": 119,
     "metadata": {},
     "output_type": "execute_result"
    }
   ],
   "source": [
    "result = pd.merge(left, right, how='right', on='key')\n",
    "result"
   ]
  },
  {
   "cell_type": "code",
   "execution_count": 120,
   "metadata": {
    "ExecuteTime": {
     "end_time": "2020-03-02T17:20:22.213848Z",
     "start_time": "2020-03-02T17:20:22.200282Z"
    }
   },
   "outputs": [
    {
     "data": {
      "text/html": [
       "<div>\n",
       "<style>\n",
       "    .dataframe thead tr:only-child th {\n",
       "        text-align: right;\n",
       "    }\n",
       "\n",
       "    .dataframe thead th {\n",
       "        text-align: left;\n",
       "    }\n",
       "\n",
       "    .dataframe tbody tr th {\n",
       "        vertical-align: top;\n",
       "    }\n",
       "</style>\n",
       "<table border=\"1\" class=\"dataframe\">\n",
       "  <thead>\n",
       "    <tr style=\"text-align: right;\">\n",
       "      <th></th>\n",
       "      <th>A</th>\n",
       "      <th>B</th>\n",
       "      <th>key</th>\n",
       "      <th>C</th>\n",
       "      <th>D</th>\n",
       "    </tr>\n",
       "  </thead>\n",
       "  <tbody>\n",
       "    <tr>\n",
       "      <th>0</th>\n",
       "      <td>A1</td>\n",
       "      <td>B1</td>\n",
       "      <td>k0</td>\n",
       "      <td>C1</td>\n",
       "      <td>D1</td>\n",
       "    </tr>\n",
       "    <tr>\n",
       "      <th>1</th>\n",
       "      <td>A4</td>\n",
       "      <td>B4</td>\n",
       "      <td>k4</td>\n",
       "      <td>NaN</td>\n",
       "      <td>NaN</td>\n",
       "    </tr>\n",
       "    <tr>\n",
       "      <th>2</th>\n",
       "      <td>A2</td>\n",
       "      <td>B2</td>\n",
       "      <td>k2</td>\n",
       "      <td>C3</td>\n",
       "      <td>D3</td>\n",
       "    </tr>\n",
       "    <tr>\n",
       "      <th>3</th>\n",
       "      <td>A3</td>\n",
       "      <td>B3</td>\n",
       "      <td>k3</td>\n",
       "      <td>C4</td>\n",
       "      <td>D4</td>\n",
       "    </tr>\n",
       "    <tr>\n",
       "      <th>4</th>\n",
       "      <td>NaN</td>\n",
       "      <td>NaN</td>\n",
       "      <td>k1</td>\n",
       "      <td>C2</td>\n",
       "      <td>D2</td>\n",
       "    </tr>\n",
       "  </tbody>\n",
       "</table>\n",
       "</div>"
      ],
      "text/plain": [
       "     A    B key    C    D\n",
       "0   A1   B1  k0   C1   D1\n",
       "1   A4   B4  k4  NaN  NaN\n",
       "2   A2   B2  k2   C3   D3\n",
       "3   A3   B3  k3   C4   D4\n",
       "4  NaN  NaN  k1   C2   D2"
      ]
     },
     "execution_count": 120,
     "metadata": {},
     "output_type": "execute_result"
    }
   ],
   "source": [
    "result = pd.merge(left, right, how='outer', on='key')\n",
    "result"
   ]
  },
  {
   "cell_type": "code",
   "execution_count": 121,
   "metadata": {
    "ExecuteTime": {
     "end_time": "2020-03-02T17:21:09.070839Z",
     "start_time": "2020-03-02T17:21:09.060189Z"
    }
   },
   "outputs": [
    {
     "data": {
      "text/html": [
       "<div>\n",
       "<style>\n",
       "    .dataframe thead tr:only-child th {\n",
       "        text-align: right;\n",
       "    }\n",
       "\n",
       "    .dataframe thead th {\n",
       "        text-align: left;\n",
       "    }\n",
       "\n",
       "    .dataframe tbody tr th {\n",
       "        vertical-align: top;\n",
       "    }\n",
       "</style>\n",
       "<table border=\"1\" class=\"dataframe\">\n",
       "  <thead>\n",
       "    <tr style=\"text-align: right;\">\n",
       "      <th></th>\n",
       "      <th>A</th>\n",
       "      <th>B</th>\n",
       "      <th>key</th>\n",
       "      <th>C</th>\n",
       "      <th>D</th>\n",
       "    </tr>\n",
       "  </thead>\n",
       "  <tbody>\n",
       "    <tr>\n",
       "      <th>0</th>\n",
       "      <td>A1</td>\n",
       "      <td>B1</td>\n",
       "      <td>k0</td>\n",
       "      <td>C1</td>\n",
       "      <td>D1</td>\n",
       "    </tr>\n",
       "    <tr>\n",
       "      <th>1</th>\n",
       "      <td>A2</td>\n",
       "      <td>B2</td>\n",
       "      <td>k2</td>\n",
       "      <td>C3</td>\n",
       "      <td>D3</td>\n",
       "    </tr>\n",
       "    <tr>\n",
       "      <th>2</th>\n",
       "      <td>A3</td>\n",
       "      <td>B3</td>\n",
       "      <td>k3</td>\n",
       "      <td>C4</td>\n",
       "      <td>D4</td>\n",
       "    </tr>\n",
       "  </tbody>\n",
       "</table>\n",
       "</div>"
      ],
      "text/plain": [
       "    A   B key   C   D\n",
       "0  A1  B1  k0  C1  D1\n",
       "1  A2  B2  k2  C3  D3\n",
       "2  A3  B3  k3  C4  D4"
      ]
     },
     "execution_count": 121,
     "metadata": {},
     "output_type": "execute_result"
    }
   ],
   "source": [
    "result = pd.merge(left, right, how='inner', on='key')\n",
    "result"
   ]
  },
  {
   "cell_type": "markdown",
   "metadata": {},
   "source": [
    "# cctv데이터와 인구 현황 데이터를 합치고 분석"
   ]
  },
  {
   "cell_type": "code",
   "execution_count": null,
   "metadata": {},
   "outputs": [],
   "source": []
  },
  {
   "cell_type": "code",
   "execution_count": null,
   "metadata": {},
   "outputs": [],
   "source": []
  }
 ],
 "metadata": {
  "kernelspec": {
   "display_name": "Python 3",
   "language": "python",
   "name": "python3"
  },
  "language_info": {
   "codemirror_mode": {
    "name": "ipython",
    "version": 3
   },
   "file_extension": ".py",
   "mimetype": "text/x-python",
   "name": "python",
   "nbconvert_exporter": "python",
   "pygments_lexer": "ipython3",
   "version": "3.6.10"
  },
  "toc": {
   "base_numbering": "1",
   "nav_menu": {},
   "number_sections": true,
   "sideBar": true,
   "skip_h1_title": false,
   "title_cell": "Table of Contents",
   "title_sidebar": "Table of Contents",
   "toc_cell": false,
   "toc_position": {
    "height": "962px",
    "left": "152px",
    "top": "175px",
    "width": "407.672px"
   },
   "toc_section_display": true,
   "toc_window_display": true
  },
  "varInspector": {
   "cols": {
    "lenName": 16,
    "lenType": 16,
    "lenVar": 40
   },
   "kernels_config": {
    "python": {
     "delete_cmd_postfix": "",
     "delete_cmd_prefix": "del ",
     "library": "var_list.py",
     "varRefreshCmd": "print(var_dic_list())"
    },
    "r": {
     "delete_cmd_postfix": ") ",
     "delete_cmd_prefix": "rm(",
     "library": "var_list.r",
     "varRefreshCmd": "cat(var_dic_list()) "
    }
   },
   "oldHeight": 798,
   "position": {
    "height": "358px",
    "left": "1521px",
    "right": "20px",
    "top": "121px",
    "width": "469px"
   },
   "types_to_exclude": [
    "module",
    "function",
    "builtin_function_or_method",
    "instance",
    "_Feature"
   ],
   "varInspector_section_display": "block",
   "window_display": true
  }
 },
 "nbformat": 4,
 "nbformat_minor": 4
}
