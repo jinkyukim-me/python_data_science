{
 "cells": [
  {
   "cell_type": "markdown",
   "metadata": {},
   "source": [
    "# 프로젝트 개요"
   ]
  },
  {
   "cell_type": "markdown",
   "metadata": {},
   "source": [
    "데이터 출처\n",
    "* 서울 열린데이터 광장 (data.seoul.go.kr)\n",
    "\n",
    "수집 데이터 내용\n",
    "* 서울시 주민등록 인구 (동별) 통계\n",
    "* 서울시 자치구 년도별 CCTV 설치 현황 \n",
    "\n",
    "문제 인식\n",
    "* 서울시의 cctv개수와 서울시 범죄율 간의 상관관계\n",
    "* cctv 배치 기준 모호\n",
    "\n",
    "분석 목적\n",
    "* 서울시 cctv 설치 현황과 운영 파악 및 자치구 수요 수치화를 통한 cctv 우선 배치 및 선정"
   ]
  },
  {
   "cell_type": "markdown",
   "metadata": {},
   "source": [
    "# 데이터 파일 불러오기"
   ]
  },
  {
   "cell_type": "markdown",
   "metadata": {
    "hide_input": false
   },
   "source": [
    "## csv"
   ]
  },
  {
   "cell_type": "code",
   "execution_count": 1,
   "metadata": {
    "ExecuteTime": {
     "end_time": "2020-03-01T13:11:42.243490Z",
     "start_time": "2020-03-01T13:11:41.888936Z"
    },
    "hide_input": false
   },
   "outputs": [],
   "source": [
    "import pandas as pd\n",
    "# csv파일 안에 한글이 포함되어있다면 인코딩 => UTF-8\n",
    "cctv_seoul = pd.read_csv('./data/cctv_in_seoul.csv', encoding='utf-8', thousands=',')\n",
    "cctv_seoul.dropna(inplace=True)"
   ]
  },
  {
   "cell_type": "code",
   "execution_count": 2,
   "metadata": {
    "ExecuteTime": {
     "end_time": "2020-03-01T13:11:42.261607Z",
     "start_time": "2020-03-01T13:11:42.245237Z"
    }
   },
   "outputs": [
    {
     "data": {
      "text/html": [
       "<div>\n",
       "<style>\n",
       "    .dataframe thead tr:only-child th {\n",
       "        text-align: right;\n",
       "    }\n",
       "\n",
       "    .dataframe thead th {\n",
       "        text-align: left;\n",
       "    }\n",
       "\n",
       "    .dataframe tbody tr th {\n",
       "        vertical-align: top;\n",
       "    }\n",
       "</style>\n",
       "<table border=\"1\" class=\"dataframe\">\n",
       "  <thead>\n",
       "    <tr style=\"text-align: right;\">\n",
       "      <th></th>\n",
       "      <th>기관명</th>\n",
       "      <th>소계</th>\n",
       "      <th>2011년 이전</th>\n",
       "      <th>2012년</th>\n",
       "      <th>2013년</th>\n",
       "      <th>2014년</th>\n",
       "      <th>2015년</th>\n",
       "      <th>2016년</th>\n",
       "      <th>2017년</th>\n",
       "      <th>2018년</th>\n",
       "    </tr>\n",
       "  </thead>\n",
       "  <tbody>\n",
       "    <tr>\n",
       "      <th>0</th>\n",
       "      <td>강 남 구</td>\n",
       "      <td>5221.0</td>\n",
       "      <td>1944.0</td>\n",
       "      <td>195.0</td>\n",
       "      <td>316.0</td>\n",
       "      <td>430.0</td>\n",
       "      <td>546.0</td>\n",
       "      <td>765.0</td>\n",
       "      <td>577.0</td>\n",
       "      <td>448.0</td>\n",
       "    </tr>\n",
       "    <tr>\n",
       "      <th>1</th>\n",
       "      <td>강 동 구</td>\n",
       "      <td>1879.0</td>\n",
       "      <td>303.0</td>\n",
       "      <td>387.0</td>\n",
       "      <td>134.0</td>\n",
       "      <td>59.0</td>\n",
       "      <td>144.0</td>\n",
       "      <td>194.0</td>\n",
       "      <td>273.0</td>\n",
       "      <td>385.0</td>\n",
       "    </tr>\n",
       "    <tr>\n",
       "      <th>2</th>\n",
       "      <td>강 북 구</td>\n",
       "      <td>1265.0</td>\n",
       "      <td>243.0</td>\n",
       "      <td>88.0</td>\n",
       "      <td>141.0</td>\n",
       "      <td>74.0</td>\n",
       "      <td>145.0</td>\n",
       "      <td>254.0</td>\n",
       "      <td>1.0</td>\n",
       "      <td>319.0</td>\n",
       "    </tr>\n",
       "    <tr>\n",
       "      <th>3</th>\n",
       "      <td>강 서 구</td>\n",
       "      <td>1617.0</td>\n",
       "      <td>219.0</td>\n",
       "      <td>155.0</td>\n",
       "      <td>118.0</td>\n",
       "      <td>230.0</td>\n",
       "      <td>187.0</td>\n",
       "      <td>190.0</td>\n",
       "      <td>264.0</td>\n",
       "      <td>254.0</td>\n",
       "    </tr>\n",
       "    <tr>\n",
       "      <th>4</th>\n",
       "      <td>관 악 구</td>\n",
       "      <td>3985.0</td>\n",
       "      <td>430.0</td>\n",
       "      <td>56.0</td>\n",
       "      <td>419.0</td>\n",
       "      <td>487.0</td>\n",
       "      <td>609.0</td>\n",
       "      <td>619.0</td>\n",
       "      <td>694.0</td>\n",
       "      <td>671.0</td>\n",
       "    </tr>\n",
       "  </tbody>\n",
       "</table>\n",
       "</div>"
      ],
      "text/plain": [
       "     기관명      소계  2011년 이전  2012년  2013년  2014년  2015년  2016년  2017년  2018년\n",
       "0  강 남 구  5221.0    1944.0  195.0  316.0  430.0  546.0  765.0  577.0  448.0\n",
       "1  강 동 구  1879.0     303.0  387.0  134.0   59.0  144.0  194.0  273.0  385.0\n",
       "2  강 북 구  1265.0     243.0   88.0  141.0   74.0  145.0  254.0    1.0  319.0\n",
       "3  강 서 구  1617.0     219.0  155.0  118.0  230.0  187.0  190.0  264.0  254.0\n",
       "4  관 악 구  3985.0     430.0   56.0  419.0  487.0  609.0  619.0  694.0  671.0"
      ]
     },
     "execution_count": 2,
     "metadata": {},
     "output_type": "execute_result"
    }
   ],
   "source": [
    "cctv_seoul.head()"
   ]
  },
  {
   "cell_type": "code",
   "execution_count": 3,
   "metadata": {
    "ExecuteTime": {
     "end_time": "2020-03-01T13:11:42.267299Z",
     "start_time": "2020-03-01T13:11:42.263607Z"
    }
   },
   "outputs": [
    {
     "data": {
      "text/plain": [
       "기관명          object\n",
       "소계          float64\n",
       "2011년 이전    float64\n",
       "2012년       float64\n",
       "2013년       float64\n",
       "2014년       float64\n",
       "2015년       float64\n",
       "2016년       float64\n",
       "2017년       float64\n",
       "2018년       float64\n",
       "dtype: object"
      ]
     },
     "execution_count": 3,
     "metadata": {},
     "output_type": "execute_result"
    }
   ],
   "source": [
    "cctv_seoul.dtypes"
   ]
  },
  {
   "cell_type": "markdown",
   "metadata": {},
   "source": [
    "### 컬럼"
   ]
  },
  {
   "cell_type": "code",
   "execution_count": 4,
   "metadata": {
    "ExecuteTime": {
     "end_time": "2020-03-01T13:11:42.272133Z",
     "start_time": "2020-03-01T13:11:42.269127Z"
    }
   },
   "outputs": [
    {
     "data": {
      "text/plain": [
       "Index(['기관명', '소계', '2011년 이전', '2012년', '2013년', '2014년', '2015년', '2016년',\n",
       "       '2017년', '2018년'],\n",
       "      dtype='object')"
      ]
     },
     "execution_count": 4,
     "metadata": {},
     "output_type": "execute_result"
    }
   ],
   "source": [
    "cctv_seoul.columns"
   ]
  },
  {
   "cell_type": "code",
   "execution_count": 5,
   "metadata": {
    "ExecuteTime": {
     "end_time": "2020-03-01T13:11:42.276260Z",
     "start_time": "2020-03-01T13:11:42.273417Z"
    },
    "scrolled": true
   },
   "outputs": [
    {
     "data": {
      "text/plain": [
       "'기관명'"
      ]
     },
     "execution_count": 5,
     "metadata": {},
     "output_type": "execute_result"
    }
   ],
   "source": [
    "cctv_seoul.columns[0]"
   ]
  },
  {
   "cell_type": "code",
   "execution_count": 6,
   "metadata": {
    "ExecuteTime": {
     "end_time": "2020-03-01T13:11:42.280616Z",
     "start_time": "2020-03-01T13:11:42.277559Z"
    }
   },
   "outputs": [
    {
     "data": {
      "text/plain": [
       "Index(['소계', '2011년 이전'], dtype='object')"
      ]
     },
     "execution_count": 6,
     "metadata": {},
     "output_type": "execute_result"
    }
   ],
   "source": [
    "cctv_seoul.columns[1:3]"
   ]
  },
  {
   "cell_type": "code",
   "execution_count": 7,
   "metadata": {
    "ExecuteTime": {
     "end_time": "2020-03-01T13:11:42.285202Z",
     "start_time": "2020-03-01T13:11:42.281993Z"
    }
   },
   "outputs": [
    {
     "data": {
      "text/plain": [
       "Index(['기관명', '소계', '2011년 이전', '2012년', '2013년', '2014년', '2015년', '2016년',\n",
       "       '2017년', '2018년'],\n",
       "      dtype='object')"
      ]
     },
     "execution_count": 7,
     "metadata": {},
     "output_type": "execute_result"
    }
   ],
   "source": [
    "cctv_seoul.columns[:]"
   ]
  },
  {
   "cell_type": "code",
   "execution_count": 8,
   "metadata": {
    "ExecuteTime": {
     "end_time": "2020-03-01T13:11:42.291120Z",
     "start_time": "2020-03-01T13:11:42.288325Z"
    }
   },
   "outputs": [
    {
     "data": {
      "text/plain": [
       "'2018년'"
      ]
     },
     "execution_count": 8,
     "metadata": {},
     "output_type": "execute_result"
    }
   ],
   "source": [
    "cctv_seoul.columns[-1]"
   ]
  },
  {
   "cell_type": "markdown",
   "metadata": {},
   "source": [
    "### 이름 바꾸기\n",
    "\n",
    "* 칼럼 이름 바꾸기\n",
    "\n",
    ": df.columns = ['a', 'b']\n",
    "\n",
    ": df.rename(columns = {'old_nm' : 'new_nm'), inplace = True)\n",
    "\n",
    "\n",
    "* 인덱스 이름 바꾸기\n",
    "\n",
    ": df.index = ['a', 'b']\n",
    "\n",
    ": df.rename(index = {'old_nm': 'new_nm'), inplace = True)\n",
    "\n",
    "inplace=True는 데이터 변수의 내용을 갱신하라는 의미"
   ]
  },
  {
   "cell_type": "code",
   "execution_count": 9,
   "metadata": {
    "ExecuteTime": {
     "end_time": "2020-03-01T13:11:42.310312Z",
     "start_time": "2020-03-01T13:11:42.293393Z"
    }
   },
   "outputs": [
    {
     "data": {
      "text/html": [
       "<div>\n",
       "<style>\n",
       "    .dataframe thead tr:only-child th {\n",
       "        text-align: right;\n",
       "    }\n",
       "\n",
       "    .dataframe thead th {\n",
       "        text-align: left;\n",
       "    }\n",
       "\n",
       "    .dataframe tbody tr th {\n",
       "        vertical-align: top;\n",
       "    }\n",
       "</style>\n",
       "<table border=\"1\" class=\"dataframe\">\n",
       "  <thead>\n",
       "    <tr style=\"text-align: right;\">\n",
       "      <th></th>\n",
       "      <th>지역구</th>\n",
       "      <th>소계</th>\n",
       "      <th>2011년 이전</th>\n",
       "      <th>2012년</th>\n",
       "      <th>2013년</th>\n",
       "      <th>2014년</th>\n",
       "      <th>2015년</th>\n",
       "      <th>2016년</th>\n",
       "      <th>2017년</th>\n",
       "      <th>2018년</th>\n",
       "    </tr>\n",
       "  </thead>\n",
       "  <tbody>\n",
       "    <tr>\n",
       "      <th>0</th>\n",
       "      <td>강 남 구</td>\n",
       "      <td>5221.0</td>\n",
       "      <td>1944.0</td>\n",
       "      <td>195.0</td>\n",
       "      <td>316.0</td>\n",
       "      <td>430.0</td>\n",
       "      <td>546.0</td>\n",
       "      <td>765.0</td>\n",
       "      <td>577.0</td>\n",
       "      <td>448.0</td>\n",
       "    </tr>\n",
       "    <tr>\n",
       "      <th>1</th>\n",
       "      <td>강 동 구</td>\n",
       "      <td>1879.0</td>\n",
       "      <td>303.0</td>\n",
       "      <td>387.0</td>\n",
       "      <td>134.0</td>\n",
       "      <td>59.0</td>\n",
       "      <td>144.0</td>\n",
       "      <td>194.0</td>\n",
       "      <td>273.0</td>\n",
       "      <td>385.0</td>\n",
       "    </tr>\n",
       "    <tr>\n",
       "      <th>2</th>\n",
       "      <td>강 북 구</td>\n",
       "      <td>1265.0</td>\n",
       "      <td>243.0</td>\n",
       "      <td>88.0</td>\n",
       "      <td>141.0</td>\n",
       "      <td>74.0</td>\n",
       "      <td>145.0</td>\n",
       "      <td>254.0</td>\n",
       "      <td>1.0</td>\n",
       "      <td>319.0</td>\n",
       "    </tr>\n",
       "    <tr>\n",
       "      <th>3</th>\n",
       "      <td>강 서 구</td>\n",
       "      <td>1617.0</td>\n",
       "      <td>219.0</td>\n",
       "      <td>155.0</td>\n",
       "      <td>118.0</td>\n",
       "      <td>230.0</td>\n",
       "      <td>187.0</td>\n",
       "      <td>190.0</td>\n",
       "      <td>264.0</td>\n",
       "      <td>254.0</td>\n",
       "    </tr>\n",
       "    <tr>\n",
       "      <th>4</th>\n",
       "      <td>관 악 구</td>\n",
       "      <td>3985.0</td>\n",
       "      <td>430.0</td>\n",
       "      <td>56.0</td>\n",
       "      <td>419.0</td>\n",
       "      <td>487.0</td>\n",
       "      <td>609.0</td>\n",
       "      <td>619.0</td>\n",
       "      <td>694.0</td>\n",
       "      <td>671.0</td>\n",
       "    </tr>\n",
       "    <tr>\n",
       "      <th>5</th>\n",
       "      <td>광 진 구</td>\n",
       "      <td>1581.0</td>\n",
       "      <td>470.0</td>\n",
       "      <td>42.0</td>\n",
       "      <td>83.0</td>\n",
       "      <td>87.0</td>\n",
       "      <td>64.0</td>\n",
       "      <td>21.0</td>\n",
       "      <td>468.0</td>\n",
       "      <td>346.0</td>\n",
       "    </tr>\n",
       "    <tr>\n",
       "      <th>6</th>\n",
       "      <td>구 로 구</td>\n",
       "      <td>3227.0</td>\n",
       "      <td>852.0</td>\n",
       "      <td>219.0</td>\n",
       "      <td>349.0</td>\n",
       "      <td>187.0</td>\n",
       "      <td>268.0</td>\n",
       "      <td>326.0</td>\n",
       "      <td>540.0</td>\n",
       "      <td>486.0</td>\n",
       "    </tr>\n",
       "    <tr>\n",
       "      <th>7</th>\n",
       "      <td>금 천 구</td>\n",
       "      <td>1634.0</td>\n",
       "      <td>27.0</td>\n",
       "      <td>17.0</td>\n",
       "      <td>242.0</td>\n",
       "      <td>101.0</td>\n",
       "      <td>382.0</td>\n",
       "      <td>136.0</td>\n",
       "      <td>199.0</td>\n",
       "      <td>530.0</td>\n",
       "    </tr>\n",
       "    <tr>\n",
       "      <th>8</th>\n",
       "      <td>노 원 구</td>\n",
       "      <td>1906.0</td>\n",
       "      <td>481.0</td>\n",
       "      <td>117.0</td>\n",
       "      <td>203.0</td>\n",
       "      <td>80.0</td>\n",
       "      <td>461.0</td>\n",
       "      <td>298.0</td>\n",
       "      <td>110.0</td>\n",
       "      <td>156.0</td>\n",
       "    </tr>\n",
       "    <tr>\n",
       "      <th>9</th>\n",
       "      <td>도 봉 구</td>\n",
       "      <td>858.0</td>\n",
       "      <td>197.0</td>\n",
       "      <td>66.0</td>\n",
       "      <td>8.0</td>\n",
       "      <td>185.0</td>\n",
       "      <td>59.0</td>\n",
       "      <td>155.0</td>\n",
       "      <td>117.0</td>\n",
       "      <td>71.0</td>\n",
       "    </tr>\n",
       "    <tr>\n",
       "      <th>11</th>\n",
       "      <td>동 작 구</td>\n",
       "      <td>1780.0</td>\n",
       "      <td>238.0</td>\n",
       "      <td>93.0</td>\n",
       "      <td>29.0</td>\n",
       "      <td>503.0</td>\n",
       "      <td>130.0</td>\n",
       "      <td>254.0</td>\n",
       "      <td>278.0</td>\n",
       "      <td>255.0</td>\n",
       "    </tr>\n",
       "    <tr>\n",
       "      <th>12</th>\n",
       "      <td>마 포 구</td>\n",
       "      <td>1935.0</td>\n",
       "      <td>585.0</td>\n",
       "      <td>108.0</td>\n",
       "      <td>69.0</td>\n",
       "      <td>70.0</td>\n",
       "      <td>177.0</td>\n",
       "      <td>359.0</td>\n",
       "      <td>372.0</td>\n",
       "      <td>195.0</td>\n",
       "    </tr>\n",
       "    <tr>\n",
       "      <th>13</th>\n",
       "      <td>서대문구</td>\n",
       "      <td>2121.0</td>\n",
       "      <td>565.0</td>\n",
       "      <td>233.0</td>\n",
       "      <td>214.0</td>\n",
       "      <td>114.0</td>\n",
       "      <td>109.0</td>\n",
       "      <td>277.0</td>\n",
       "      <td>415.0</td>\n",
       "      <td>194.0</td>\n",
       "    </tr>\n",
       "    <tr>\n",
       "      <th>14</th>\n",
       "      <td>서 초 구</td>\n",
       "      <td>2835.0</td>\n",
       "      <td>1172.0</td>\n",
       "      <td>91.0</td>\n",
       "      <td>228.0</td>\n",
       "      <td>134.0</td>\n",
       "      <td>215.0</td>\n",
       "      <td>352.0</td>\n",
       "      <td>247.0</td>\n",
       "      <td>396.0</td>\n",
       "    </tr>\n",
       "    <tr>\n",
       "      <th>15</th>\n",
       "      <td>성 동 구</td>\n",
       "      <td>2679.0</td>\n",
       "      <td>665.0</td>\n",
       "      <td>109.0</td>\n",
       "      <td>118.0</td>\n",
       "      <td>101.0</td>\n",
       "      <td>258.0</td>\n",
       "      <td>201.0</td>\n",
       "      <td>933.0</td>\n",
       "      <td>294.0</td>\n",
       "    </tr>\n",
       "    <tr>\n",
       "      <th>16</th>\n",
       "      <td>성 북 구</td>\n",
       "      <td>3003.0</td>\n",
       "      <td>779.0</td>\n",
       "      <td>84.0</td>\n",
       "      <td>304.0</td>\n",
       "      <td>241.0</td>\n",
       "      <td>279.0</td>\n",
       "      <td>388.0</td>\n",
       "      <td>285.0</td>\n",
       "      <td>643.0</td>\n",
       "    </tr>\n",
       "    <tr>\n",
       "      <th>17</th>\n",
       "      <td>송 파 구</td>\n",
       "      <td>1586.0</td>\n",
       "      <td>600.0</td>\n",
       "      <td>99.0</td>\n",
       "      <td>88.0</td>\n",
       "      <td>21.0</td>\n",
       "      <td>166.0</td>\n",
       "      <td>100.0</td>\n",
       "      <td>116.0</td>\n",
       "      <td>396.0</td>\n",
       "    </tr>\n",
       "    <tr>\n",
       "      <th>18</th>\n",
       "      <td>양 천 구</td>\n",
       "      <td>2775.0</td>\n",
       "      <td>772.0</td>\n",
       "      <td>161.0</td>\n",
       "      <td>185.0</td>\n",
       "      <td>169.0</td>\n",
       "      <td>172.0</td>\n",
       "      <td>349.0</td>\n",
       "      <td>137.0</td>\n",
       "      <td>830.0</td>\n",
       "    </tr>\n",
       "    <tr>\n",
       "      <th>19</th>\n",
       "      <td>영등포구</td>\n",
       "      <td>2495.0</td>\n",
       "      <td>132.0</td>\n",
       "      <td>121.0</td>\n",
       "      <td>206.0</td>\n",
       "      <td>217.0</td>\n",
       "      <td>366.0</td>\n",
       "      <td>289.0</td>\n",
       "      <td>371.0</td>\n",
       "      <td>793.0</td>\n",
       "    </tr>\n",
       "    <tr>\n",
       "      <th>20</th>\n",
       "      <td>용 산 구</td>\n",
       "      <td>2063.0</td>\n",
       "      <td>1279.0</td>\n",
       "      <td>152.0</td>\n",
       "      <td>201.0</td>\n",
       "      <td>107.0</td>\n",
       "      <td>102.0</td>\n",
       "      <td>89.0</td>\n",
       "      <td>60.0</td>\n",
       "      <td>73.0</td>\n",
       "    </tr>\n",
       "    <tr>\n",
       "      <th>21</th>\n",
       "      <td>은 평 구</td>\n",
       "      <td>2962.0</td>\n",
       "      <td>1365.0</td>\n",
       "      <td>83.0</td>\n",
       "      <td>99.0</td>\n",
       "      <td>343.0</td>\n",
       "      <td>180.0</td>\n",
       "      <td>296.0</td>\n",
       "      <td>229.0</td>\n",
       "      <td>367.0</td>\n",
       "    </tr>\n",
       "    <tr>\n",
       "      <th>22</th>\n",
       "      <td>종 로 구</td>\n",
       "      <td>1471.0</td>\n",
       "      <td>8.0</td>\n",
       "      <td>7.0</td>\n",
       "      <td>599.0</td>\n",
       "      <td>132.0</td>\n",
       "      <td>195.0</td>\n",
       "      <td>148.0</td>\n",
       "      <td>281.0</td>\n",
       "      <td>101.0</td>\n",
       "    </tr>\n",
       "    <tr>\n",
       "      <th>23</th>\n",
       "      <td>중     구</td>\n",
       "      <td>1544.0</td>\n",
       "      <td>25.0</td>\n",
       "      <td>165.0</td>\n",
       "      <td>114.0</td>\n",
       "      <td>80.0</td>\n",
       "      <td>245.0</td>\n",
       "      <td>270.0</td>\n",
       "      <td>317.0</td>\n",
       "      <td>328.0</td>\n",
       "    </tr>\n",
       "  </tbody>\n",
       "</table>\n",
       "</div>"
      ],
      "text/plain": [
       "        지역구      소계  2011년 이전  2012년  2013년  2014년  2015년  2016년  2017년  2018년\n",
       "0     강 남 구  5221.0    1944.0  195.0  316.0  430.0  546.0  765.0  577.0  448.0\n",
       "1     강 동 구  1879.0     303.0  387.0  134.0   59.0  144.0  194.0  273.0  385.0\n",
       "2     강 북 구  1265.0     243.0   88.0  141.0   74.0  145.0  254.0    1.0  319.0\n",
       "3     강 서 구  1617.0     219.0  155.0  118.0  230.0  187.0  190.0  264.0  254.0\n",
       "4     관 악 구  3985.0     430.0   56.0  419.0  487.0  609.0  619.0  694.0  671.0\n",
       "5     광 진 구  1581.0     470.0   42.0   83.0   87.0   64.0   21.0  468.0  346.0\n",
       "6     구 로 구  3227.0     852.0  219.0  349.0  187.0  268.0  326.0  540.0  486.0\n",
       "7     금 천 구  1634.0      27.0   17.0  242.0  101.0  382.0  136.0  199.0  530.0\n",
       "8     노 원 구  1906.0     481.0  117.0  203.0   80.0  461.0  298.0  110.0  156.0\n",
       "9     도 봉 구   858.0     197.0   66.0    8.0  185.0   59.0  155.0  117.0   71.0\n",
       "11    동 작 구  1780.0     238.0   93.0   29.0  503.0  130.0  254.0  278.0  255.0\n",
       "12    마 포 구  1935.0     585.0  108.0   69.0   70.0  177.0  359.0  372.0  195.0\n",
       "13     서대문구  2121.0     565.0  233.0  214.0  114.0  109.0  277.0  415.0  194.0\n",
       "14    서 초 구  2835.0    1172.0   91.0  228.0  134.0  215.0  352.0  247.0  396.0\n",
       "15    성 동 구  2679.0     665.0  109.0  118.0  101.0  258.0  201.0  933.0  294.0\n",
       "16    성 북 구  3003.0     779.0   84.0  304.0  241.0  279.0  388.0  285.0  643.0\n",
       "17    송 파 구  1586.0     600.0   99.0   88.0   21.0  166.0  100.0  116.0  396.0\n",
       "18    양 천 구  2775.0     772.0  161.0  185.0  169.0  172.0  349.0  137.0  830.0\n",
       "19     영등포구  2495.0     132.0  121.0  206.0  217.0  366.0  289.0  371.0  793.0\n",
       "20    용 산 구  2063.0    1279.0  152.0  201.0  107.0  102.0   89.0   60.0   73.0\n",
       "21    은 평 구  2962.0    1365.0   83.0   99.0  343.0  180.0  296.0  229.0  367.0\n",
       "22    종 로 구  1471.0       8.0    7.0  599.0  132.0  195.0  148.0  281.0  101.0\n",
       "23  중     구  1544.0      25.0  165.0  114.0   80.0  245.0  270.0  317.0  328.0"
      ]
     },
     "execution_count": 9,
     "metadata": {},
     "output_type": "execute_result"
    }
   ],
   "source": [
    "cctv_seoul.rename(columns={'기관명':'지역구'}, inplace=True)\n",
    "cctv_seoul"
   ]
  },
  {
   "cell_type": "code",
   "execution_count": 10,
   "metadata": {
    "ExecuteTime": {
     "end_time": "2020-03-01T13:11:42.316597Z",
     "start_time": "2020-03-01T13:11:42.311622Z"
    },
    "hide_input": false
   },
   "outputs": [],
   "source": [
    "import pandas as pd\n",
    "cctv_seoul = pd.read_csv('./data/cctv_in_seoul.csv', encoding='utf-8')\n",
    "cctv_seoul.dropna(inplace=True)"
   ]
  },
  {
   "cell_type": "markdown",
   "metadata": {},
   "source": [
    "## excel"
   ]
  },
  {
   "cell_type": "code",
   "execution_count": 11,
   "metadata": {
    "ExecuteTime": {
     "end_time": "2020-03-01T13:11:42.357775Z",
     "start_time": "2020-03-01T13:11:42.317848Z"
    }
   },
   "outputs": [
    {
     "data": {
      "text/html": [
       "<div>\n",
       "<style>\n",
       "    .dataframe thead tr:only-child th {\n",
       "        text-align: right;\n",
       "    }\n",
       "\n",
       "    .dataframe thead th {\n",
       "        text-align: left;\n",
       "    }\n",
       "\n",
       "    .dataframe tbody tr th {\n",
       "        vertical-align: top;\n",
       "    }\n",
       "</style>\n",
       "<table border=\"1\" class=\"dataframe\">\n",
       "  <thead>\n",
       "    <tr style=\"text-align: right;\">\n",
       "      <th></th>\n",
       "      <th>기간</th>\n",
       "      <th>자치구</th>\n",
       "      <th>세대</th>\n",
       "      <th>인구</th>\n",
       "      <th>인구.1</th>\n",
       "      <th>인구.2</th>\n",
       "      <th>인구.3</th>\n",
       "      <th>인구.4</th>\n",
       "      <th>인구.5</th>\n",
       "      <th>인구.6</th>\n",
       "      <th>인구.7</th>\n",
       "      <th>인구.8</th>\n",
       "      <th>세대당인구</th>\n",
       "      <th>65세이상고령자</th>\n",
       "    </tr>\n",
       "  </thead>\n",
       "  <tbody>\n",
       "    <tr>\n",
       "      <th>0</th>\n",
       "      <td>기간</td>\n",
       "      <td>자치구</td>\n",
       "      <td>세대</td>\n",
       "      <td>합계</td>\n",
       "      <td>합계</td>\n",
       "      <td>합계</td>\n",
       "      <td>한국인</td>\n",
       "      <td>한국인</td>\n",
       "      <td>한국인</td>\n",
       "      <td>등록외국인</td>\n",
       "      <td>등록외국인</td>\n",
       "      <td>등록외국인</td>\n",
       "      <td>세대당인구</td>\n",
       "      <td>65세이상고령자</td>\n",
       "    </tr>\n",
       "    <tr>\n",
       "      <th>1</th>\n",
       "      <td>기간</td>\n",
       "      <td>자치구</td>\n",
       "      <td>세대</td>\n",
       "      <td>계</td>\n",
       "      <td>남자</td>\n",
       "      <td>여자</td>\n",
       "      <td>계</td>\n",
       "      <td>남자</td>\n",
       "      <td>여자</td>\n",
       "      <td>계</td>\n",
       "      <td>남자</td>\n",
       "      <td>여자</td>\n",
       "      <td>세대당인구</td>\n",
       "      <td>65세이상고령자</td>\n",
       "    </tr>\n",
       "    <tr>\n",
       "      <th>2</th>\n",
       "      <td>2019.1/4</td>\n",
       "      <td>합계</td>\n",
       "      <td>4290922</td>\n",
       "      <td>10054979</td>\n",
       "      <td>4909387</td>\n",
       "      <td>5145592</td>\n",
       "      <td>9770216</td>\n",
       "      <td>4772134</td>\n",
       "      <td>4998082</td>\n",
       "      <td>284763</td>\n",
       "      <td>137253</td>\n",
       "      <td>147510</td>\n",
       "      <td>2.28</td>\n",
       "      <td>1436125</td>\n",
       "    </tr>\n",
       "    <tr>\n",
       "      <th>3</th>\n",
       "      <td>2019.1/4</td>\n",
       "      <td>종로구</td>\n",
       "      <td>73914</td>\n",
       "      <td>162913</td>\n",
       "      <td>78963</td>\n",
       "      <td>83950</td>\n",
       "      <td>152778</td>\n",
       "      <td>74536</td>\n",
       "      <td>78242</td>\n",
       "      <td>10135</td>\n",
       "      <td>4427</td>\n",
       "      <td>5708</td>\n",
       "      <td>2.07</td>\n",
       "      <td>26981</td>\n",
       "    </tr>\n",
       "    <tr>\n",
       "      <th>4</th>\n",
       "      <td>2019.1/4</td>\n",
       "      <td>중구</td>\n",
       "      <td>61800</td>\n",
       "      <td>135836</td>\n",
       "      <td>66720</td>\n",
       "      <td>69116</td>\n",
       "      <td>125942</td>\n",
       "      <td>61992</td>\n",
       "      <td>63950</td>\n",
       "      <td>9894</td>\n",
       "      <td>4728</td>\n",
       "      <td>5166</td>\n",
       "      <td>2.04</td>\n",
       "      <td>22421</td>\n",
       "    </tr>\n",
       "  </tbody>\n",
       "</table>\n",
       "</div>"
      ],
      "text/plain": [
       "         기간  자치구       세대        인구     인구.1     인구.2     인구.3     인구.4  \\\n",
       "0        기간  자치구       세대        합계       합계       합계      한국인      한국인   \n",
       "1        기간  자치구       세대         계       남자       여자        계       남자   \n",
       "2  2019.1/4   합계  4290922  10054979  4909387  5145592  9770216  4772134   \n",
       "3  2019.1/4  종로구    73914    162913    78963    83950   152778    74536   \n",
       "4  2019.1/4   중구    61800    135836    66720    69116   125942    61992   \n",
       "\n",
       "      인구.5    인구.6    인구.7    인구.8  세대당인구  65세이상고령자  \n",
       "0      한국인   등록외국인   등록외국인   등록외국인  세대당인구  65세이상고령자  \n",
       "1       여자       계      남자      여자  세대당인구  65세이상고령자  \n",
       "2  4998082  284763  137253  147510   2.28   1436125  \n",
       "3    78242   10135    4427    5708   2.07     26981  \n",
       "4    63950    9894    4728    5166   2.04     22421  "
      ]
     },
     "execution_count": 11,
     "metadata": {},
     "output_type": "execute_result"
    }
   ],
   "source": [
    "pop_seoul = pd.read_excel('./data/population_in_seoul.xlsx', encoding='utf-8', thousands=',')\n",
    "pop_seoul.head()"
   ]
  },
  {
   "cell_type": "markdown",
   "metadata": {},
   "source": [
    "### 불필요한 헤더 제거"
   ]
  },
  {
   "cell_type": "markdown",
   "metadata": {},
   "source": [
    "##### 불필요한 hearder를 제거"
   ]
  },
  {
   "cell_type": "code",
   "execution_count": 12,
   "metadata": {
    "ExecuteTime": {
     "end_time": "2020-03-01T13:11:42.378663Z",
     "start_time": "2020-03-01T13:11:42.359191Z"
    }
   },
   "outputs": [
    {
     "data": {
      "text/html": [
       "<div>\n",
       "<style>\n",
       "    .dataframe thead tr:only-child th {\n",
       "        text-align: right;\n",
       "    }\n",
       "\n",
       "    .dataframe thead th {\n",
       "        text-align: left;\n",
       "    }\n",
       "\n",
       "    .dataframe tbody tr th {\n",
       "        vertical-align: top;\n",
       "    }\n",
       "</style>\n",
       "<table border=\"1\" class=\"dataframe\">\n",
       "  <thead>\n",
       "    <tr style=\"text-align: right;\">\n",
       "      <th></th>\n",
       "      <th>기간</th>\n",
       "      <th>자치구</th>\n",
       "      <th>세대</th>\n",
       "      <th>계</th>\n",
       "      <th>남자</th>\n",
       "      <th>여자</th>\n",
       "      <th>계.1</th>\n",
       "      <th>남자.1</th>\n",
       "      <th>여자.1</th>\n",
       "      <th>계.2</th>\n",
       "      <th>남자.2</th>\n",
       "      <th>여자.2</th>\n",
       "      <th>세대당인구</th>\n",
       "      <th>65세이상고령자</th>\n",
       "    </tr>\n",
       "  </thead>\n",
       "  <tbody>\n",
       "    <tr>\n",
       "      <th>0</th>\n",
       "      <td>2019.1/4</td>\n",
       "      <td>합계</td>\n",
       "      <td>4290922</td>\n",
       "      <td>10054979</td>\n",
       "      <td>4909387</td>\n",
       "      <td>5145592</td>\n",
       "      <td>9770216</td>\n",
       "      <td>4772134</td>\n",
       "      <td>4998082</td>\n",
       "      <td>284763</td>\n",
       "      <td>137253</td>\n",
       "      <td>147510</td>\n",
       "      <td>2.28</td>\n",
       "      <td>1436125</td>\n",
       "    </tr>\n",
       "    <tr>\n",
       "      <th>1</th>\n",
       "      <td>2019.1/4</td>\n",
       "      <td>종로구</td>\n",
       "      <td>73914</td>\n",
       "      <td>162913</td>\n",
       "      <td>78963</td>\n",
       "      <td>83950</td>\n",
       "      <td>152778</td>\n",
       "      <td>74536</td>\n",
       "      <td>78242</td>\n",
       "      <td>10135</td>\n",
       "      <td>4427</td>\n",
       "      <td>5708</td>\n",
       "      <td>2.07</td>\n",
       "      <td>26981</td>\n",
       "    </tr>\n",
       "    <tr>\n",
       "      <th>2</th>\n",
       "      <td>2019.1/4</td>\n",
       "      <td>중구</td>\n",
       "      <td>61800</td>\n",
       "      <td>135836</td>\n",
       "      <td>66720</td>\n",
       "      <td>69116</td>\n",
       "      <td>125942</td>\n",
       "      <td>61992</td>\n",
       "      <td>63950</td>\n",
       "      <td>9894</td>\n",
       "      <td>4728</td>\n",
       "      <td>5166</td>\n",
       "      <td>2.04</td>\n",
       "      <td>22421</td>\n",
       "    </tr>\n",
       "    <tr>\n",
       "      <th>3</th>\n",
       "      <td>2019.1/4</td>\n",
       "      <td>용산구</td>\n",
       "      <td>109413</td>\n",
       "      <td>245139</td>\n",
       "      <td>119597</td>\n",
       "      <td>125542</td>\n",
       "      <td>229168</td>\n",
       "      <td>110626</td>\n",
       "      <td>118542</td>\n",
       "      <td>15971</td>\n",
       "      <td>8971</td>\n",
       "      <td>7000</td>\n",
       "      <td>2.09</td>\n",
       "      <td>38049</td>\n",
       "    </tr>\n",
       "    <tr>\n",
       "      <th>4</th>\n",
       "      <td>2019.1/4</td>\n",
       "      <td>성동구</td>\n",
       "      <td>137247</td>\n",
       "      <td>314608</td>\n",
       "      <td>154011</td>\n",
       "      <td>160597</td>\n",
       "      <td>306404</td>\n",
       "      <td>150287</td>\n",
       "      <td>156117</td>\n",
       "      <td>8204</td>\n",
       "      <td>3724</td>\n",
       "      <td>4480</td>\n",
       "      <td>2.23</td>\n",
       "      <td>43076</td>\n",
       "    </tr>\n",
       "  </tbody>\n",
       "</table>\n",
       "</div>"
      ],
      "text/plain": [
       "         기간  자치구       세대         계       남자       여자      계.1     남자.1  \\\n",
       "0  2019.1/4   합계  4290922  10054979  4909387  5145592  9770216  4772134   \n",
       "1  2019.1/4  종로구    73914    162913    78963    83950   152778    74536   \n",
       "2  2019.1/4   중구    61800    135836    66720    69116   125942    61992   \n",
       "3  2019.1/4  용산구   109413    245139   119597   125542   229168   110626   \n",
       "4  2019.1/4  성동구   137247    314608   154011   160597   306404   150287   \n",
       "\n",
       "      여자.1     계.2    남자.2    여자.2  세대당인구  65세이상고령자  \n",
       "0  4998082  284763  137253  147510   2.28   1436125  \n",
       "1    78242   10135    4427    5708   2.07     26981  \n",
       "2    63950    9894    4728    5166   2.04     22421  \n",
       "3   118542   15971    8971    7000   2.09     38049  \n",
       "4   156117    8204    3724    4480   2.23     43076  "
      ]
     },
     "execution_count": 12,
     "metadata": {},
     "output_type": "execute_result"
    }
   ],
   "source": [
    "pop_seoul = pd.read_excel('./data/population_in_seoul.xlsx', \n",
    "                          header = 2,\n",
    "                          encoding='utf-8', \n",
    "                          thousands=',')\n",
    "pop_seoul.head()"
   ]
  },
  {
   "cell_type": "markdown",
   "metadata": {},
   "source": [
    "### 필요한 컬럼만 선택"
   ]
  },
  {
   "cell_type": "markdown",
   "metadata": {},
   "source": [
    "##### 필요한 컬럼만 선택"
   ]
  },
  {
   "cell_type": "code",
   "execution_count": 13,
   "metadata": {
    "ExecuteTime": {
     "end_time": "2020-03-01T13:11:42.394737Z",
     "start_time": "2020-03-01T13:11:42.380060Z"
    }
   },
   "outputs": [
    {
     "data": {
      "text/html": [
       "<div>\n",
       "<style>\n",
       "    .dataframe thead tr:only-child th {\n",
       "        text-align: right;\n",
       "    }\n",
       "\n",
       "    .dataframe thead th {\n",
       "        text-align: left;\n",
       "    }\n",
       "\n",
       "    .dataframe tbody tr th {\n",
       "        vertical-align: top;\n",
       "    }\n",
       "</style>\n",
       "<table border=\"1\" class=\"dataframe\">\n",
       "  <thead>\n",
       "    <tr style=\"text-align: right;\">\n",
       "      <th></th>\n",
       "      <th>자치구</th>\n",
       "      <th>계</th>\n",
       "      <th>계.1</th>\n",
       "      <th>계.2</th>\n",
       "      <th>65세이상고령자</th>\n",
       "    </tr>\n",
       "  </thead>\n",
       "  <tbody>\n",
       "    <tr>\n",
       "      <th>0</th>\n",
       "      <td>합계</td>\n",
       "      <td>10054979</td>\n",
       "      <td>9770216</td>\n",
       "      <td>284763</td>\n",
       "      <td>1436125</td>\n",
       "    </tr>\n",
       "    <tr>\n",
       "      <th>1</th>\n",
       "      <td>종로구</td>\n",
       "      <td>162913</td>\n",
       "      <td>152778</td>\n",
       "      <td>10135</td>\n",
       "      <td>26981</td>\n",
       "    </tr>\n",
       "    <tr>\n",
       "      <th>2</th>\n",
       "      <td>중구</td>\n",
       "      <td>135836</td>\n",
       "      <td>125942</td>\n",
       "      <td>9894</td>\n",
       "      <td>22421</td>\n",
       "    </tr>\n",
       "    <tr>\n",
       "      <th>3</th>\n",
       "      <td>용산구</td>\n",
       "      <td>245139</td>\n",
       "      <td>229168</td>\n",
       "      <td>15971</td>\n",
       "      <td>38049</td>\n",
       "    </tr>\n",
       "    <tr>\n",
       "      <th>4</th>\n",
       "      <td>성동구</td>\n",
       "      <td>314608</td>\n",
       "      <td>306404</td>\n",
       "      <td>8204</td>\n",
       "      <td>43076</td>\n",
       "    </tr>\n",
       "  </tbody>\n",
       "</table>\n",
       "</div>"
      ],
      "text/plain": [
       "   자치구         계      계.1     계.2  65세이상고령자\n",
       "0   합계  10054979  9770216  284763   1436125\n",
       "1  종로구    162913   152778   10135     26981\n",
       "2   중구    135836   125942    9894     22421\n",
       "3  용산구    245139   229168   15971     38049\n",
       "4  성동구    314608   306404    8204     43076"
      ]
     },
     "execution_count": 13,
     "metadata": {},
     "output_type": "execute_result"
    }
   ],
   "source": [
    "pop_seoul = pd.read_excel('./data/population_in_seoul.xlsx', \n",
    "                          header = 2,\n",
    "                          parse_cols = 'B, D, G, J, N',\n",
    "                          encoding='utf-8', \n",
    "                          thousands=',')\n",
    "pop_seoul.head()"
   ]
  },
  {
   "cell_type": "markdown",
   "metadata": {},
   "source": [
    "### 컬럼 이름 변경"
   ]
  },
  {
   "cell_type": "markdown",
   "metadata": {},
   "source": [
    "##### rename을 이용, 컬럼 이름 변경"
   ]
  },
  {
   "cell_type": "code",
   "execution_count": 14,
   "metadata": {
    "ExecuteTime": {
     "end_time": "2020-03-01T13:11:42.404823Z",
     "start_time": "2020-03-01T13:11:42.396144Z"
    }
   },
   "outputs": [
    {
     "data": {
      "text/html": [
       "<div>\n",
       "<style>\n",
       "    .dataframe thead tr:only-child th {\n",
       "        text-align: right;\n",
       "    }\n",
       "\n",
       "    .dataframe thead th {\n",
       "        text-align: left;\n",
       "    }\n",
       "\n",
       "    .dataframe tbody tr th {\n",
       "        vertical-align: top;\n",
       "    }\n",
       "</style>\n",
       "<table border=\"1\" class=\"dataframe\">\n",
       "  <thead>\n",
       "    <tr style=\"text-align: right;\">\n",
       "      <th></th>\n",
       "      <th>지역별</th>\n",
       "      <th>인구수</th>\n",
       "      <th>한국인</th>\n",
       "      <th>외국인</th>\n",
       "      <th>고령자</th>\n",
       "    </tr>\n",
       "  </thead>\n",
       "  <tbody>\n",
       "    <tr>\n",
       "      <th>0</th>\n",
       "      <td>합계</td>\n",
       "      <td>10054979</td>\n",
       "      <td>9770216</td>\n",
       "      <td>284763</td>\n",
       "      <td>1436125</td>\n",
       "    </tr>\n",
       "    <tr>\n",
       "      <th>1</th>\n",
       "      <td>종로구</td>\n",
       "      <td>162913</td>\n",
       "      <td>152778</td>\n",
       "      <td>10135</td>\n",
       "      <td>26981</td>\n",
       "    </tr>\n",
       "    <tr>\n",
       "      <th>2</th>\n",
       "      <td>중구</td>\n",
       "      <td>135836</td>\n",
       "      <td>125942</td>\n",
       "      <td>9894</td>\n",
       "      <td>22421</td>\n",
       "    </tr>\n",
       "    <tr>\n",
       "      <th>3</th>\n",
       "      <td>용산구</td>\n",
       "      <td>245139</td>\n",
       "      <td>229168</td>\n",
       "      <td>15971</td>\n",
       "      <td>38049</td>\n",
       "    </tr>\n",
       "    <tr>\n",
       "      <th>4</th>\n",
       "      <td>성동구</td>\n",
       "      <td>314608</td>\n",
       "      <td>306404</td>\n",
       "      <td>8204</td>\n",
       "      <td>43076</td>\n",
       "    </tr>\n",
       "  </tbody>\n",
       "</table>\n",
       "</div>"
      ],
      "text/plain": [
       "   지역별       인구수      한국인     외국인      고령자\n",
       "0   합계  10054979  9770216  284763  1436125\n",
       "1  종로구    162913   152778   10135    26981\n",
       "2   중구    135836   125942    9894    22421\n",
       "3  용산구    245139   229168   15971    38049\n",
       "4  성동구    314608   306404    8204    43076"
      ]
     },
     "execution_count": 14,
     "metadata": {},
     "output_type": "execute_result"
    }
   ],
   "source": [
    "pop_seoul.rename(columns={pop_seoul.columns[0] : '지역별',\n",
    "                          pop_seoul.columns[1] : '인구수',\n",
    "                          pop_seoul.columns[2] : '한국인',\n",
    "                          pop_seoul.columns[3] : '외국인',\n",
    "                          pop_seoul.columns[4] : '고령자'},\n",
    "                          inplace = True)\n",
    "pop_seoul.head()"
   ]
  },
  {
   "cell_type": "markdown",
   "metadata": {},
   "source": [
    "# pandas 기초"
   ]
  },
  {
   "cell_type": "code",
   "execution_count": 15,
   "metadata": {
    "ExecuteTime": {
     "end_time": "2020-03-01T13:11:42.407997Z",
     "start_time": "2020-03-01T13:11:42.406079Z"
    }
   },
   "outputs": [],
   "source": [
    "import pandas as pd\n",
    "import numpy as np"
   ]
  },
  {
   "cell_type": "markdown",
   "metadata": {},
   "source": [
    "## Series : pandas의 데이터 유형 중 기초"
   ]
  },
  {
   "cell_type": "code",
   "execution_count": 16,
   "metadata": {
    "ExecuteTime": {
     "end_time": "2020-03-01T13:11:42.413547Z",
     "start_time": "2020-03-01T13:11:42.409395Z"
    }
   },
   "outputs": [
    {
     "data": {
      "text/plain": [
       "0    1.0\n",
       "1    3.0\n",
       "2    5.0\n",
       "3    NaN\n",
       "4    6.0\n",
       "5    8.0\n",
       "dtype: float64"
      ]
     },
     "execution_count": 16,
     "metadata": {},
     "output_type": "execute_result"
    }
   ],
   "source": [
    "s = pd.Series([1, 3, 5, np.nan, 6, 8]) # NaN(Not A Number)\n",
    "s"
   ]
  },
  {
   "cell_type": "code",
   "execution_count": 17,
   "metadata": {
    "ExecuteTime": {
     "end_time": "2020-03-01T13:11:42.418890Z",
     "start_time": "2020-03-01T13:11:42.414981Z"
    }
   },
   "outputs": [
    {
     "data": {
      "text/plain": [
       "0     10\n",
       "1     20\n",
       "2     30\n",
       "3     40\n",
       "4     50\n",
       "5    100\n",
       "dtype: int64"
      ]
     },
     "execution_count": 17,
     "metadata": {},
     "output_type": "execute_result"
    }
   ],
   "source": [
    "s1 = pd.Series([10, 20, 30, 40, 50, 100])\n",
    "s1"
   ]
  },
  {
   "cell_type": "markdown",
   "metadata": {},
   "source": [
    "## 날짜형 데이터"
   ]
  },
  {
   "cell_type": "code",
   "execution_count": 18,
   "metadata": {
    "ExecuteTime": {
     "end_time": "2020-03-01T13:11:42.423840Z",
     "start_time": "2020-03-01T13:11:42.420262Z"
    }
   },
   "outputs": [
    {
     "data": {
      "text/plain": [
       "DatetimeIndex(['2020-03-01', '2020-03-02', '2020-03-03', '2020-03-04',\n",
       "               '2020-03-05', '2020-03-06'],\n",
       "              dtype='datetime64[ns]', freq='D')"
      ]
     },
     "execution_count": 18,
     "metadata": {},
     "output_type": "execute_result"
    }
   ],
   "source": [
    "dates = pd.date_range('20200301', periods=6)\n",
    "dates"
   ]
  },
  {
   "cell_type": "code",
   "execution_count": 19,
   "metadata": {
    "ExecuteTime": {
     "end_time": "2020-03-01T13:11:42.428825Z",
     "start_time": "2020-03-01T13:11:42.425242Z"
    }
   },
   "outputs": [
    {
     "data": {
      "text/plain": [
       "DatetimeIndex(['2020-12-24', '2020-12-25', '2020-12-26', '2020-12-27',\n",
       "               '2020-12-28', '2020-12-29', '2020-12-30', '2020-12-31'],\n",
       "              dtype='datetime64[ns]', freq='D')"
      ]
     },
     "execution_count": 19,
     "metadata": {},
     "output_type": "execute_result"
    }
   ],
   "source": [
    "dates_xmas = pd.date_range('20201224', periods=8)\n",
    "dates_xmas"
   ]
  },
  {
   "cell_type": "markdown",
   "metadata": {
    "ExecuteTime": {
     "end_time": "2020-02-29T13:42:09.281954Z",
     "start_time": "2020-02-29T13:42:09.275462Z"
    }
   },
   "source": [
    "## DataFrame 만들어보기"
   ]
  },
  {
   "cell_type": "code",
   "execution_count": 99,
   "metadata": {
    "ExecuteTime": {
     "end_time": "2020-03-01T13:37:18.695416Z",
     "start_time": "2020-03-01T13:37:18.686019Z"
    }
   },
   "outputs": [
    {
     "data": {
      "text/html": [
       "<div>\n",
       "<style>\n",
       "    .dataframe thead tr:only-child th {\n",
       "        text-align: right;\n",
       "    }\n",
       "\n",
       "    .dataframe thead th {\n",
       "        text-align: left;\n",
       "    }\n",
       "\n",
       "    .dataframe tbody tr th {\n",
       "        vertical-align: top;\n",
       "    }\n",
       "</style>\n",
       "<table border=\"1\" class=\"dataframe\">\n",
       "  <thead>\n",
       "    <tr style=\"text-align: right;\">\n",
       "      <th></th>\n",
       "      <th>A</th>\n",
       "      <th>B</th>\n",
       "      <th>C</th>\n",
       "      <th>D</th>\n",
       "    </tr>\n",
       "  </thead>\n",
       "  <tbody>\n",
       "    <tr>\n",
       "      <th>2020-12-24</th>\n",
       "      <td>-0.093231</td>\n",
       "      <td>0.450949</td>\n",
       "      <td>-0.968167</td>\n",
       "      <td>-0.560457</td>\n",
       "    </tr>\n",
       "    <tr>\n",
       "      <th>2020-12-25</th>\n",
       "      <td>-0.513476</td>\n",
       "      <td>0.061722</td>\n",
       "      <td>-1.109975</td>\n",
       "      <td>1.529701</td>\n",
       "    </tr>\n",
       "    <tr>\n",
       "      <th>2020-12-26</th>\n",
       "      <td>-0.025160</td>\n",
       "      <td>-0.026347</td>\n",
       "      <td>-1.527302</td>\n",
       "      <td>-0.862896</td>\n",
       "    </tr>\n",
       "  </tbody>\n",
       "</table>\n",
       "</div>"
      ],
      "text/plain": [
       "                   A         B         C         D\n",
       "2020-12-24 -0.093231  0.450949 -0.968167 -0.560457\n",
       "2020-12-25 -0.513476  0.061722 -1.109975  1.529701\n",
       "2020-12-26 -0.025160 -0.026347 -1.527302 -0.862896"
      ]
     },
     "execution_count": 99,
     "metadata": {},
     "output_type": "execute_result"
    }
   ],
   "source": [
    "# rand: 0부터 1사이의 균일 분포\n",
    "# randn: 가우시안 표준 정규 분포\n",
    "# randint: 균일 분포의 정수 난수\n",
    "df = pd.DataFrame(np.random.randn(8,4),\n",
    "                  index=dates_xmas,\n",
    "                  columns=['A','B','C','D']\n",
    "                 )\n",
    "df.head(3)"
   ]
  },
  {
   "cell_type": "markdown",
   "metadata": {},
   "source": [
    "## 인덱스 확인"
   ]
  },
  {
   "cell_type": "code",
   "execution_count": 21,
   "metadata": {
    "ExecuteTime": {
     "end_time": "2020-03-01T13:11:42.443237Z",
     "start_time": "2020-03-01T13:11:42.439946Z"
    }
   },
   "outputs": [
    {
     "data": {
      "text/plain": [
       "DatetimeIndex(['2020-12-24', '2020-12-25', '2020-12-26', '2020-12-27',\n",
       "               '2020-12-28', '2020-12-29', '2020-12-30', '2020-12-31'],\n",
       "              dtype='datetime64[ns]', freq='D')"
      ]
     },
     "execution_count": 21,
     "metadata": {},
     "output_type": "execute_result"
    }
   ],
   "source": [
    "df.index"
   ]
  },
  {
   "cell_type": "markdown",
   "metadata": {},
   "source": [
    "## 컬럼 확인"
   ]
  },
  {
   "cell_type": "code",
   "execution_count": 22,
   "metadata": {
    "ExecuteTime": {
     "end_time": "2020-03-01T13:11:42.447723Z",
     "start_time": "2020-03-01T13:11:42.444707Z"
    }
   },
   "outputs": [
    {
     "data": {
      "text/plain": [
       "Index(['A', 'B', 'C', 'D'], dtype='object')"
      ]
     },
     "execution_count": 22,
     "metadata": {},
     "output_type": "execute_result"
    }
   ],
   "source": [
    "df.columns"
   ]
  },
  {
   "cell_type": "markdown",
   "metadata": {},
   "source": [
    "## 내용 확인"
   ]
  },
  {
   "cell_type": "code",
   "execution_count": 23,
   "metadata": {
    "ExecuteTime": {
     "end_time": "2020-03-01T13:11:42.457277Z",
     "start_time": "2020-03-01T13:11:42.453641Z"
    },
    "scrolled": true
   },
   "outputs": [
    {
     "data": {
      "text/plain": [
       "array([[ 0.75220944,  0.83551451, -1.81831661,  1.15921302],\n",
       "       [-0.67373664, -0.15774884,  1.55501267,  1.41036128],\n",
       "       [ 0.21144027, -0.59736341, -1.04253451, -0.85854282],\n",
       "       [-1.27815194,  0.06560927,  0.29633153,  0.35810009],\n",
       "       [-0.70581373,  0.25038441, -0.35653975,  0.60208277],\n",
       "       [-0.4337113 , -0.39130056,  2.14820502,  0.66441454],\n",
       "       [-2.20964392, -0.90719067, -0.38484856,  0.63224074],\n",
       "       [-1.32755888, -0.43913356, -0.38716818, -0.16426962]])"
      ]
     },
     "execution_count": 23,
     "metadata": {},
     "output_type": "execute_result"
    }
   ],
   "source": [
    "df.values"
   ]
  },
  {
   "cell_type": "markdown",
   "metadata": {},
   "source": [
    "## 개요 확인"
   ]
  },
  {
   "cell_type": "code",
   "execution_count": 24,
   "metadata": {
    "ExecuteTime": {
     "end_time": "2020-03-01T13:11:42.465042Z",
     "start_time": "2020-03-01T13:11:42.460911Z"
    }
   },
   "outputs": [
    {
     "name": "stdout",
     "output_type": "stream",
     "text": [
      "<class 'pandas.core.frame.DataFrame'>\n",
      "DatetimeIndex: 8 entries, 2020-12-24 to 2020-12-31\n",
      "Freq: D\n",
      "Data columns (total 4 columns):\n",
      "A    8 non-null float64\n",
      "B    8 non-null float64\n",
      "C    8 non-null float64\n",
      "D    8 non-null float64\n",
      "dtypes: float64(4)\n",
      "memory usage: 320.0 bytes\n"
     ]
    }
   ],
   "source": [
    "df.info()"
   ]
  },
  {
   "cell_type": "markdown",
   "metadata": {},
   "source": [
    "## 통계적 개요 확인"
   ]
  },
  {
   "cell_type": "code",
   "execution_count": 25,
   "metadata": {
    "ExecuteTime": {
     "end_time": "2020-03-01T13:11:42.480267Z",
     "start_time": "2020-03-01T13:11:42.466313Z"
    }
   },
   "outputs": [
    {
     "data": {
      "text/html": [
       "<div>\n",
       "<style>\n",
       "    .dataframe thead tr:only-child th {\n",
       "        text-align: right;\n",
       "    }\n",
       "\n",
       "    .dataframe thead th {\n",
       "        text-align: left;\n",
       "    }\n",
       "\n",
       "    .dataframe tbody tr th {\n",
       "        vertical-align: top;\n",
       "    }\n",
       "</style>\n",
       "<table border=\"1\" class=\"dataframe\">\n",
       "  <thead>\n",
       "    <tr style=\"text-align: right;\">\n",
       "      <th></th>\n",
       "      <th>A</th>\n",
       "      <th>B</th>\n",
       "      <th>C</th>\n",
       "      <th>D</th>\n",
       "    </tr>\n",
       "  </thead>\n",
       "  <tbody>\n",
       "    <tr>\n",
       "      <th>count</th>\n",
       "      <td>8.000000</td>\n",
       "      <td>8.000000</td>\n",
       "      <td>8.000000</td>\n",
       "      <td>8.000000</td>\n",
       "    </tr>\n",
       "    <tr>\n",
       "      <th>mean</th>\n",
       "      <td>-0.708121</td>\n",
       "      <td>-0.167654</td>\n",
       "      <td>0.001268</td>\n",
       "      <td>0.475450</td>\n",
       "    </tr>\n",
       "    <tr>\n",
       "      <th>std</th>\n",
       "      <td>0.927197</td>\n",
       "      <td>0.546534</td>\n",
       "      <td>1.305971</td>\n",
       "      <td>0.719173</td>\n",
       "    </tr>\n",
       "    <tr>\n",
       "      <th>min</th>\n",
       "      <td>-2.209644</td>\n",
       "      <td>-0.907191</td>\n",
       "      <td>-1.818317</td>\n",
       "      <td>-0.858543</td>\n",
       "    </tr>\n",
       "    <tr>\n",
       "      <th>25%</th>\n",
       "      <td>-1.290504</td>\n",
       "      <td>-0.478691</td>\n",
       "      <td>-0.551010</td>\n",
       "      <td>0.227508</td>\n",
       "    </tr>\n",
       "    <tr>\n",
       "      <th>50%</th>\n",
       "      <td>-0.689775</td>\n",
       "      <td>-0.274525</td>\n",
       "      <td>-0.370694</td>\n",
       "      <td>0.617162</td>\n",
       "    </tr>\n",
       "    <tr>\n",
       "      <th>75%</th>\n",
       "      <td>-0.272423</td>\n",
       "      <td>0.111803</td>\n",
       "      <td>0.611002</td>\n",
       "      <td>0.788114</td>\n",
       "    </tr>\n",
       "    <tr>\n",
       "      <th>max</th>\n",
       "      <td>0.752209</td>\n",
       "      <td>0.835515</td>\n",
       "      <td>2.148205</td>\n",
       "      <td>1.410361</td>\n",
       "    </tr>\n",
       "  </tbody>\n",
       "</table>\n",
       "</div>"
      ],
      "text/plain": [
       "              A         B         C         D\n",
       "count  8.000000  8.000000  8.000000  8.000000\n",
       "mean  -0.708121 -0.167654  0.001268  0.475450\n",
       "std    0.927197  0.546534  1.305971  0.719173\n",
       "min   -2.209644 -0.907191 -1.818317 -0.858543\n",
       "25%   -1.290504 -0.478691 -0.551010  0.227508\n",
       "50%   -0.689775 -0.274525 -0.370694  0.617162\n",
       "75%   -0.272423  0.111803  0.611002  0.788114\n",
       "max    0.752209  0.835515  2.148205  1.410361"
      ]
     },
     "execution_count": 25,
     "metadata": {},
     "output_type": "execute_result"
    }
   ],
   "source": [
    "df.describe()"
   ]
  },
  {
   "cell_type": "markdown",
   "metadata": {},
   "source": [
    "## 컬럼 기준 정렬"
   ]
  },
  {
   "cell_type": "code",
   "execution_count": 26,
   "metadata": {
    "ExecuteTime": {
     "end_time": "2020-03-01T13:11:42.484340Z",
     "start_time": "2020-03-01T13:11:42.481850Z"
    }
   },
   "outputs": [],
   "source": [
    "df_sort = df.sort_values(by='B', ascending=False)"
   ]
  },
  {
   "cell_type": "code",
   "execution_count": 27,
   "metadata": {
    "ExecuteTime": {
     "end_time": "2020-03-01T13:11:42.492655Z",
     "start_time": "2020-03-01T13:11:42.485648Z"
    }
   },
   "outputs": [
    {
     "data": {
      "text/html": [
       "<div>\n",
       "<style>\n",
       "    .dataframe thead tr:only-child th {\n",
       "        text-align: right;\n",
       "    }\n",
       "\n",
       "    .dataframe thead th {\n",
       "        text-align: left;\n",
       "    }\n",
       "\n",
       "    .dataframe tbody tr th {\n",
       "        vertical-align: top;\n",
       "    }\n",
       "</style>\n",
       "<table border=\"1\" class=\"dataframe\">\n",
       "  <thead>\n",
       "    <tr style=\"text-align: right;\">\n",
       "      <th></th>\n",
       "      <th>A</th>\n",
       "      <th>B</th>\n",
       "      <th>C</th>\n",
       "      <th>D</th>\n",
       "    </tr>\n",
       "  </thead>\n",
       "  <tbody>\n",
       "    <tr>\n",
       "      <th>2020-12-24</th>\n",
       "      <td>0.752209</td>\n",
       "      <td>0.835515</td>\n",
       "      <td>-1.818317</td>\n",
       "      <td>1.159213</td>\n",
       "    </tr>\n",
       "    <tr>\n",
       "      <th>2020-12-28</th>\n",
       "      <td>-0.705814</td>\n",
       "      <td>0.250384</td>\n",
       "      <td>-0.356540</td>\n",
       "      <td>0.602083</td>\n",
       "    </tr>\n",
       "    <tr>\n",
       "      <th>2020-12-27</th>\n",
       "      <td>-1.278152</td>\n",
       "      <td>0.065609</td>\n",
       "      <td>0.296332</td>\n",
       "      <td>0.358100</td>\n",
       "    </tr>\n",
       "    <tr>\n",
       "      <th>2020-12-25</th>\n",
       "      <td>-0.673737</td>\n",
       "      <td>-0.157749</td>\n",
       "      <td>1.555013</td>\n",
       "      <td>1.410361</td>\n",
       "    </tr>\n",
       "    <tr>\n",
       "      <th>2020-12-29</th>\n",
       "      <td>-0.433711</td>\n",
       "      <td>-0.391301</td>\n",
       "      <td>2.148205</td>\n",
       "      <td>0.664415</td>\n",
       "    </tr>\n",
       "    <tr>\n",
       "      <th>2020-12-31</th>\n",
       "      <td>-1.327559</td>\n",
       "      <td>-0.439134</td>\n",
       "      <td>-0.387168</td>\n",
       "      <td>-0.164270</td>\n",
       "    </tr>\n",
       "    <tr>\n",
       "      <th>2020-12-26</th>\n",
       "      <td>0.211440</td>\n",
       "      <td>-0.597363</td>\n",
       "      <td>-1.042535</td>\n",
       "      <td>-0.858543</td>\n",
       "    </tr>\n",
       "    <tr>\n",
       "      <th>2020-12-30</th>\n",
       "      <td>-2.209644</td>\n",
       "      <td>-0.907191</td>\n",
       "      <td>-0.384849</td>\n",
       "      <td>0.632241</td>\n",
       "    </tr>\n",
       "  </tbody>\n",
       "</table>\n",
       "</div>"
      ],
      "text/plain": [
       "                   A         B         C         D\n",
       "2020-12-24  0.752209  0.835515 -1.818317  1.159213\n",
       "2020-12-28 -0.705814  0.250384 -0.356540  0.602083\n",
       "2020-12-27 -1.278152  0.065609  0.296332  0.358100\n",
       "2020-12-25 -0.673737 -0.157749  1.555013  1.410361\n",
       "2020-12-29 -0.433711 -0.391301  2.148205  0.664415\n",
       "2020-12-31 -1.327559 -0.439134 -0.387168 -0.164270\n",
       "2020-12-26  0.211440 -0.597363 -1.042535 -0.858543\n",
       "2020-12-30 -2.209644 -0.907191 -0.384849  0.632241"
      ]
     },
     "execution_count": 27,
     "metadata": {},
     "output_type": "execute_result"
    }
   ],
   "source": [
    "df_sort"
   ]
  },
  {
   "cell_type": "markdown",
   "metadata": {},
   "source": [
    "## 행의 범위 지정"
   ]
  },
  {
   "cell_type": "code",
   "execution_count": 28,
   "metadata": {
    "ExecuteTime": {
     "end_time": "2020-03-01T13:11:42.504081Z",
     "start_time": "2020-03-01T13:11:42.493970Z"
    }
   },
   "outputs": [
    {
     "data": {
      "text/plain": [
       "2020-12-24    0.752209\n",
       "2020-12-25   -0.673737\n",
       "2020-12-26    0.211440\n",
       "2020-12-27   -1.278152\n",
       "2020-12-28   -0.705814\n",
       "2020-12-29   -0.433711\n",
       "2020-12-30   -2.209644\n",
       "2020-12-31   -1.327559\n",
       "Freq: D, Name: A, dtype: float64"
      ]
     },
     "execution_count": 28,
     "metadata": {},
     "output_type": "execute_result"
    }
   ],
   "source": [
    "df['A']"
   ]
  },
  {
   "cell_type": "code",
   "execution_count": 29,
   "metadata": {
    "ExecuteTime": {
     "end_time": "2020-03-01T13:11:42.512437Z",
     "start_time": "2020-03-01T13:11:42.505563Z"
    }
   },
   "outputs": [
    {
     "data": {
      "text/html": [
       "<div>\n",
       "<style>\n",
       "    .dataframe thead tr:only-child th {\n",
       "        text-align: right;\n",
       "    }\n",
       "\n",
       "    .dataframe thead th {\n",
       "        text-align: left;\n",
       "    }\n",
       "\n",
       "    .dataframe tbody tr th {\n",
       "        vertical-align: top;\n",
       "    }\n",
       "</style>\n",
       "<table border=\"1\" class=\"dataframe\">\n",
       "  <thead>\n",
       "    <tr style=\"text-align: right;\">\n",
       "      <th></th>\n",
       "      <th>A</th>\n",
       "      <th>B</th>\n",
       "      <th>C</th>\n",
       "      <th>D</th>\n",
       "    </tr>\n",
       "  </thead>\n",
       "  <tbody>\n",
       "    <tr>\n",
       "      <th>2020-12-26</th>\n",
       "      <td>0.211440</td>\n",
       "      <td>-0.597363</td>\n",
       "      <td>-1.042535</td>\n",
       "      <td>-0.858543</td>\n",
       "    </tr>\n",
       "    <tr>\n",
       "      <th>2020-12-27</th>\n",
       "      <td>-1.278152</td>\n",
       "      <td>0.065609</td>\n",
       "      <td>0.296332</td>\n",
       "      <td>0.358100</td>\n",
       "    </tr>\n",
       "    <tr>\n",
       "      <th>2020-12-28</th>\n",
       "      <td>-0.705814</td>\n",
       "      <td>0.250384</td>\n",
       "      <td>-0.356540</td>\n",
       "      <td>0.602083</td>\n",
       "    </tr>\n",
       "    <tr>\n",
       "      <th>2020-12-29</th>\n",
       "      <td>-0.433711</td>\n",
       "      <td>-0.391301</td>\n",
       "      <td>2.148205</td>\n",
       "      <td>0.664415</td>\n",
       "    </tr>\n",
       "  </tbody>\n",
       "</table>\n",
       "</div>"
      ],
      "text/plain": [
       "                   A         B         C         D\n",
       "2020-12-26  0.211440 -0.597363 -1.042535 -0.858543\n",
       "2020-12-27 -1.278152  0.065609  0.296332  0.358100\n",
       "2020-12-28 -0.705814  0.250384 -0.356540  0.602083\n",
       "2020-12-29 -0.433711 -0.391301  2.148205  0.664415"
      ]
     },
     "execution_count": 29,
     "metadata": {},
     "output_type": "execute_result"
    }
   ],
   "source": [
    "df[2:6]"
   ]
  },
  {
   "cell_type": "code",
   "execution_count": 30,
   "metadata": {
    "ExecuteTime": {
     "end_time": "2020-03-01T13:11:42.521514Z",
     "start_time": "2020-03-01T13:11:42.513947Z"
    }
   },
   "outputs": [
    {
     "data": {
      "text/html": [
       "<div>\n",
       "<style>\n",
       "    .dataframe thead tr:only-child th {\n",
       "        text-align: right;\n",
       "    }\n",
       "\n",
       "    .dataframe thead th {\n",
       "        text-align: left;\n",
       "    }\n",
       "\n",
       "    .dataframe tbody tr th {\n",
       "        vertical-align: top;\n",
       "    }\n",
       "</style>\n",
       "<table border=\"1\" class=\"dataframe\">\n",
       "  <thead>\n",
       "    <tr style=\"text-align: right;\">\n",
       "      <th></th>\n",
       "      <th>A</th>\n",
       "      <th>B</th>\n",
       "      <th>C</th>\n",
       "      <th>D</th>\n",
       "    </tr>\n",
       "  </thead>\n",
       "  <tbody>\n",
       "    <tr>\n",
       "      <th>2020-12-27</th>\n",
       "      <td>-1.278152</td>\n",
       "      <td>0.065609</td>\n",
       "      <td>0.296332</td>\n",
       "      <td>0.358100</td>\n",
       "    </tr>\n",
       "    <tr>\n",
       "      <th>2020-12-28</th>\n",
       "      <td>-0.705814</td>\n",
       "      <td>0.250384</td>\n",
       "      <td>-0.356540</td>\n",
       "      <td>0.602083</td>\n",
       "    </tr>\n",
       "    <tr>\n",
       "      <th>2020-12-29</th>\n",
       "      <td>-0.433711</td>\n",
       "      <td>-0.391301</td>\n",
       "      <td>2.148205</td>\n",
       "      <td>0.664415</td>\n",
       "    </tr>\n",
       "    <tr>\n",
       "      <th>2020-12-30</th>\n",
       "      <td>-2.209644</td>\n",
       "      <td>-0.907191</td>\n",
       "      <td>-0.384849</td>\n",
       "      <td>0.632241</td>\n",
       "    </tr>\n",
       "    <tr>\n",
       "      <th>2020-12-31</th>\n",
       "      <td>-1.327559</td>\n",
       "      <td>-0.439134</td>\n",
       "      <td>-0.387168</td>\n",
       "      <td>-0.164270</td>\n",
       "    </tr>\n",
       "  </tbody>\n",
       "</table>\n",
       "</div>"
      ],
      "text/plain": [
       "                   A         B         C         D\n",
       "2020-12-27 -1.278152  0.065609  0.296332  0.358100\n",
       "2020-12-28 -0.705814  0.250384 -0.356540  0.602083\n",
       "2020-12-29 -0.433711 -0.391301  2.148205  0.664415\n",
       "2020-12-30 -2.209644 -0.907191 -0.384849  0.632241\n",
       "2020-12-31 -1.327559 -0.439134 -0.387168 -0.164270"
      ]
     },
     "execution_count": 30,
     "metadata": {},
     "output_type": "execute_result"
    }
   ],
   "source": [
    "df['20201227':'20201231']"
   ]
  },
  {
   "cell_type": "code",
   "execution_count": 31,
   "metadata": {
    "ExecuteTime": {
     "end_time": "2020-03-01T13:11:42.530225Z",
     "start_time": "2020-03-01T13:11:42.523001Z"
    }
   },
   "outputs": [
    {
     "data": {
      "text/html": [
       "<div>\n",
       "<style>\n",
       "    .dataframe thead tr:only-child th {\n",
       "        text-align: right;\n",
       "    }\n",
       "\n",
       "    .dataframe thead th {\n",
       "        text-align: left;\n",
       "    }\n",
       "\n",
       "    .dataframe tbody tr th {\n",
       "        vertical-align: top;\n",
       "    }\n",
       "</style>\n",
       "<table border=\"1\" class=\"dataframe\">\n",
       "  <thead>\n",
       "    <tr style=\"text-align: right;\">\n",
       "      <th></th>\n",
       "      <th>A</th>\n",
       "      <th>B</th>\n",
       "      <th>C</th>\n",
       "      <th>D</th>\n",
       "    </tr>\n",
       "  </thead>\n",
       "  <tbody>\n",
       "    <tr>\n",
       "      <th>2020-12-27</th>\n",
       "      <td>-1.278152</td>\n",
       "      <td>0.065609</td>\n",
       "      <td>0.296332</td>\n",
       "      <td>0.358100</td>\n",
       "    </tr>\n",
       "    <tr>\n",
       "      <th>2020-12-28</th>\n",
       "      <td>-0.705814</td>\n",
       "      <td>0.250384</td>\n",
       "      <td>-0.356540</td>\n",
       "      <td>0.602083</td>\n",
       "    </tr>\n",
       "    <tr>\n",
       "      <th>2020-12-29</th>\n",
       "      <td>-0.433711</td>\n",
       "      <td>-0.391301</td>\n",
       "      <td>2.148205</td>\n",
       "      <td>0.664415</td>\n",
       "    </tr>\n",
       "    <tr>\n",
       "      <th>2020-12-30</th>\n",
       "      <td>-2.209644</td>\n",
       "      <td>-0.907191</td>\n",
       "      <td>-0.384849</td>\n",
       "      <td>0.632241</td>\n",
       "    </tr>\n",
       "    <tr>\n",
       "      <th>2020-12-31</th>\n",
       "      <td>-1.327559</td>\n",
       "      <td>-0.439134</td>\n",
       "      <td>-0.387168</td>\n",
       "      <td>-0.164270</td>\n",
       "    </tr>\n",
       "  </tbody>\n",
       "</table>\n",
       "</div>"
      ],
      "text/plain": [
       "                   A         B         C         D\n",
       "2020-12-27 -1.278152  0.065609  0.296332  0.358100\n",
       "2020-12-28 -0.705814  0.250384 -0.356540  0.602083\n",
       "2020-12-29 -0.433711 -0.391301  2.148205  0.664415\n",
       "2020-12-30 -2.209644 -0.907191 -0.384849  0.632241\n",
       "2020-12-31 -1.327559 -0.439134 -0.387168 -0.164270"
      ]
     },
     "execution_count": 31,
     "metadata": {},
     "output_type": "execute_result"
    }
   ],
   "source": [
    "df['20201227':]"
   ]
  },
  {
   "cell_type": "markdown",
   "metadata": {},
   "source": [
    "## 변수를 이용해서 특정 날짜의 데이터만 보기"
   ]
  },
  {
   "cell_type": "code",
   "execution_count": 32,
   "metadata": {
    "ExecuteTime": {
     "end_time": "2020-03-01T13:11:42.535502Z",
     "start_time": "2020-03-01T13:11:42.531681Z"
    }
   },
   "outputs": [
    {
     "data": {
      "text/plain": [
       "A    0.752209\n",
       "B    0.835515\n",
       "C   -1.818317\n",
       "D    1.159213\n",
       "Name: 2020-12-24 00:00:00, dtype: float64"
      ]
     },
     "execution_count": 32,
     "metadata": {},
     "output_type": "execute_result"
    }
   ],
   "source": [
    "df.loc[dates_xmas[0]]"
   ]
  },
  {
   "cell_type": "code",
   "execution_count": 33,
   "metadata": {
    "ExecuteTime": {
     "end_time": "2020-03-01T13:11:42.543815Z",
     "start_time": "2020-03-01T13:11:42.536868Z"
    }
   },
   "outputs": [
    {
     "data": {
      "text/html": [
       "<div>\n",
       "<style>\n",
       "    .dataframe thead tr:only-child th {\n",
       "        text-align: right;\n",
       "    }\n",
       "\n",
       "    .dataframe thead th {\n",
       "        text-align: left;\n",
       "    }\n",
       "\n",
       "    .dataframe tbody tr th {\n",
       "        vertical-align: top;\n",
       "    }\n",
       "</style>\n",
       "<table border=\"1\" class=\"dataframe\">\n",
       "  <thead>\n",
       "    <tr style=\"text-align: right;\">\n",
       "      <th></th>\n",
       "      <th>A</th>\n",
       "      <th>B</th>\n",
       "      <th>C</th>\n",
       "      <th>D</th>\n",
       "    </tr>\n",
       "  </thead>\n",
       "  <tbody>\n",
       "    <tr>\n",
       "      <th>2020-12-27</th>\n",
       "      <td>-1.278152</td>\n",
       "      <td>0.065609</td>\n",
       "      <td>0.296332</td>\n",
       "      <td>0.358100</td>\n",
       "    </tr>\n",
       "    <tr>\n",
       "      <th>2020-12-28</th>\n",
       "      <td>-0.705814</td>\n",
       "      <td>0.250384</td>\n",
       "      <td>-0.356540</td>\n",
       "      <td>0.602083</td>\n",
       "    </tr>\n",
       "    <tr>\n",
       "      <th>2020-12-29</th>\n",
       "      <td>-0.433711</td>\n",
       "      <td>-0.391301</td>\n",
       "      <td>2.148205</td>\n",
       "      <td>0.664415</td>\n",
       "    </tr>\n",
       "  </tbody>\n",
       "</table>\n",
       "</div>"
      ],
      "text/plain": [
       "                   A         B         C         D\n",
       "2020-12-27 -1.278152  0.065609  0.296332  0.358100\n",
       "2020-12-28 -0.705814  0.250384 -0.356540  0.602083\n",
       "2020-12-29 -0.433711 -0.391301  2.148205  0.664415"
      ]
     },
     "execution_count": 33,
     "metadata": {},
     "output_type": "execute_result"
    }
   ],
   "source": [
    "df.loc[dates_xmas[3:6]]"
   ]
  },
  {
   "cell_type": "code",
   "execution_count": 34,
   "metadata": {
    "ExecuteTime": {
     "end_time": "2020-03-01T13:11:42.552748Z",
     "start_time": "2020-03-01T13:11:42.545230Z"
    }
   },
   "outputs": [
    {
     "data": {
      "text/html": [
       "<div>\n",
       "<style>\n",
       "    .dataframe thead tr:only-child th {\n",
       "        text-align: right;\n",
       "    }\n",
       "\n",
       "    .dataframe thead th {\n",
       "        text-align: left;\n",
       "    }\n",
       "\n",
       "    .dataframe tbody tr th {\n",
       "        vertical-align: top;\n",
       "    }\n",
       "</style>\n",
       "<table border=\"1\" class=\"dataframe\">\n",
       "  <thead>\n",
       "    <tr style=\"text-align: right;\">\n",
       "      <th></th>\n",
       "      <th>A</th>\n",
       "      <th>B</th>\n",
       "      <th>C</th>\n",
       "      <th>D</th>\n",
       "    </tr>\n",
       "  </thead>\n",
       "  <tbody>\n",
       "    <tr>\n",
       "      <th>2020-12-24</th>\n",
       "      <td>0.752209</td>\n",
       "      <td>0.835515</td>\n",
       "      <td>-1.818317</td>\n",
       "      <td>1.159213</td>\n",
       "    </tr>\n",
       "    <tr>\n",
       "      <th>2020-12-25</th>\n",
       "      <td>-0.673737</td>\n",
       "      <td>-0.157749</td>\n",
       "      <td>1.555013</td>\n",
       "      <td>1.410361</td>\n",
       "    </tr>\n",
       "    <tr>\n",
       "      <th>2020-12-26</th>\n",
       "      <td>0.211440</td>\n",
       "      <td>-0.597363</td>\n",
       "      <td>-1.042535</td>\n",
       "      <td>-0.858543</td>\n",
       "    </tr>\n",
       "    <tr>\n",
       "      <th>2020-12-27</th>\n",
       "      <td>-1.278152</td>\n",
       "      <td>0.065609</td>\n",
       "      <td>0.296332</td>\n",
       "      <td>0.358100</td>\n",
       "    </tr>\n",
       "    <tr>\n",
       "      <th>2020-12-28</th>\n",
       "      <td>-0.705814</td>\n",
       "      <td>0.250384</td>\n",
       "      <td>-0.356540</td>\n",
       "      <td>0.602083</td>\n",
       "    </tr>\n",
       "    <tr>\n",
       "      <th>2020-12-29</th>\n",
       "      <td>-0.433711</td>\n",
       "      <td>-0.391301</td>\n",
       "      <td>2.148205</td>\n",
       "      <td>0.664415</td>\n",
       "    </tr>\n",
       "    <tr>\n",
       "      <th>2020-12-30</th>\n",
       "      <td>-2.209644</td>\n",
       "      <td>-0.907191</td>\n",
       "      <td>-0.384849</td>\n",
       "      <td>0.632241</td>\n",
       "    </tr>\n",
       "    <tr>\n",
       "      <th>2020-12-31</th>\n",
       "      <td>-1.327559</td>\n",
       "      <td>-0.439134</td>\n",
       "      <td>-0.387168</td>\n",
       "      <td>-0.164270</td>\n",
       "    </tr>\n",
       "  </tbody>\n",
       "</table>\n",
       "</div>"
      ],
      "text/plain": [
       "                   A         B         C         D\n",
       "2020-12-24  0.752209  0.835515 -1.818317  1.159213\n",
       "2020-12-25 -0.673737 -0.157749  1.555013  1.410361\n",
       "2020-12-26  0.211440 -0.597363 -1.042535 -0.858543\n",
       "2020-12-27 -1.278152  0.065609  0.296332  0.358100\n",
       "2020-12-28 -0.705814  0.250384 -0.356540  0.602083\n",
       "2020-12-29 -0.433711 -0.391301  2.148205  0.664415\n",
       "2020-12-30 -2.209644 -0.907191 -0.384849  0.632241\n",
       "2020-12-31 -1.327559 -0.439134 -0.387168 -0.164270"
      ]
     },
     "execution_count": 34,
     "metadata": {},
     "output_type": "execute_result"
    }
   ],
   "source": [
    "df.loc[dates_xmas[:]]"
   ]
  },
  {
   "cell_type": "code",
   "execution_count": 35,
   "metadata": {
    "ExecuteTime": {
     "end_time": "2020-03-01T13:11:42.561280Z",
     "start_time": "2020-03-01T13:11:42.554120Z"
    }
   },
   "outputs": [
    {
     "data": {
      "text/html": [
       "<div>\n",
       "<style>\n",
       "    .dataframe thead tr:only-child th {\n",
       "        text-align: right;\n",
       "    }\n",
       "\n",
       "    .dataframe thead th {\n",
       "        text-align: left;\n",
       "    }\n",
       "\n",
       "    .dataframe tbody tr th {\n",
       "        vertical-align: top;\n",
       "    }\n",
       "</style>\n",
       "<table border=\"1\" class=\"dataframe\">\n",
       "  <thead>\n",
       "    <tr style=\"text-align: right;\">\n",
       "      <th></th>\n",
       "      <th>A</th>\n",
       "      <th>B</th>\n",
       "      <th>C</th>\n",
       "      <th>D</th>\n",
       "    </tr>\n",
       "  </thead>\n",
       "  <tbody>\n",
       "    <tr>\n",
       "      <th>2020-12-24</th>\n",
       "      <td>0.752209</td>\n",
       "      <td>0.835515</td>\n",
       "      <td>-1.818317</td>\n",
       "      <td>1.159213</td>\n",
       "    </tr>\n",
       "    <tr>\n",
       "      <th>2020-12-25</th>\n",
       "      <td>-0.673737</td>\n",
       "      <td>-0.157749</td>\n",
       "      <td>1.555013</td>\n",
       "      <td>1.410361</td>\n",
       "    </tr>\n",
       "    <tr>\n",
       "      <th>2020-12-26</th>\n",
       "      <td>0.211440</td>\n",
       "      <td>-0.597363</td>\n",
       "      <td>-1.042535</td>\n",
       "      <td>-0.858543</td>\n",
       "    </tr>\n",
       "    <tr>\n",
       "      <th>2020-12-27</th>\n",
       "      <td>-1.278152</td>\n",
       "      <td>0.065609</td>\n",
       "      <td>0.296332</td>\n",
       "      <td>0.358100</td>\n",
       "    </tr>\n",
       "  </tbody>\n",
       "</table>\n",
       "</div>"
      ],
      "text/plain": [
       "                   A         B         C         D\n",
       "2020-12-24  0.752209  0.835515 -1.818317  1.159213\n",
       "2020-12-25 -0.673737 -0.157749  1.555013  1.410361\n",
       "2020-12-26  0.211440 -0.597363 -1.042535 -0.858543\n",
       "2020-12-27 -1.278152  0.065609  0.296332  0.358100"
      ]
     },
     "execution_count": 35,
     "metadata": {},
     "output_type": "execute_result"
    }
   ],
   "source": [
    "df.loc['20201224':'20201227']"
   ]
  },
  {
   "cell_type": "code",
   "execution_count": 36,
   "metadata": {
    "ExecuteTime": {
     "end_time": "2020-03-01T13:11:42.566903Z",
     "start_time": "2020-03-01T13:11:42.562704Z"
    }
   },
   "outputs": [
    {
     "data": {
      "text/plain": [
       "A    0.752209\n",
       "B    0.835515\n",
       "Name: 2020-12-24 00:00:00, dtype: float64"
      ]
     },
     "execution_count": 36,
     "metadata": {},
     "output_type": "execute_result"
    }
   ],
   "source": [
    "df.loc[dates_xmas[0],['A','B']]"
   ]
  },
  {
   "cell_type": "code",
   "execution_count": 37,
   "metadata": {
    "ExecuteTime": {
     "end_time": "2020-03-01T13:11:42.574264Z",
     "start_time": "2020-03-01T13:11:42.568206Z"
    }
   },
   "outputs": [
    {
     "data": {
      "text/html": [
       "<div>\n",
       "<style>\n",
       "    .dataframe thead tr:only-child th {\n",
       "        text-align: right;\n",
       "    }\n",
       "\n",
       "    .dataframe thead th {\n",
       "        text-align: left;\n",
       "    }\n",
       "\n",
       "    .dataframe tbody tr th {\n",
       "        vertical-align: top;\n",
       "    }\n",
       "</style>\n",
       "<table border=\"1\" class=\"dataframe\">\n",
       "  <thead>\n",
       "    <tr style=\"text-align: right;\">\n",
       "      <th></th>\n",
       "      <th>A</th>\n",
       "      <th>B</th>\n",
       "    </tr>\n",
       "  </thead>\n",
       "  <tbody>\n",
       "    <tr>\n",
       "      <th>2020-12-27</th>\n",
       "      <td>-1.278152</td>\n",
       "      <td>0.065609</td>\n",
       "    </tr>\n",
       "    <tr>\n",
       "      <th>2020-12-28</th>\n",
       "      <td>-0.705814</td>\n",
       "      <td>0.250384</td>\n",
       "    </tr>\n",
       "    <tr>\n",
       "      <th>2020-12-29</th>\n",
       "      <td>-0.433711</td>\n",
       "      <td>-0.391301</td>\n",
       "    </tr>\n",
       "  </tbody>\n",
       "</table>\n",
       "</div>"
      ],
      "text/plain": [
       "                   A         B\n",
       "2020-12-27 -1.278152  0.065609\n",
       "2020-12-28 -0.705814  0.250384\n",
       "2020-12-29 -0.433711 -0.391301"
      ]
     },
     "execution_count": 37,
     "metadata": {},
     "output_type": "execute_result"
    }
   ],
   "source": [
    "df.loc[dates_xmas[3:6],['A','B']]"
   ]
  },
  {
   "cell_type": "code",
   "execution_count": 38,
   "metadata": {
    "ExecuteTime": {
     "end_time": "2020-03-01T13:11:42.582319Z",
     "start_time": "2020-03-01T13:11:42.575665Z"
    }
   },
   "outputs": [
    {
     "data": {
      "text/html": [
       "<div>\n",
       "<style>\n",
       "    .dataframe thead tr:only-child th {\n",
       "        text-align: right;\n",
       "    }\n",
       "\n",
       "    .dataframe thead th {\n",
       "        text-align: left;\n",
       "    }\n",
       "\n",
       "    .dataframe tbody tr th {\n",
       "        vertical-align: top;\n",
       "    }\n",
       "</style>\n",
       "<table border=\"1\" class=\"dataframe\">\n",
       "  <thead>\n",
       "    <tr style=\"text-align: right;\">\n",
       "      <th></th>\n",
       "      <th>A</th>\n",
       "      <th>B</th>\n",
       "    </tr>\n",
       "  </thead>\n",
       "  <tbody>\n",
       "    <tr>\n",
       "      <th>2020-12-24</th>\n",
       "      <td>0.752209</td>\n",
       "      <td>0.835515</td>\n",
       "    </tr>\n",
       "    <tr>\n",
       "      <th>2020-12-25</th>\n",
       "      <td>-0.673737</td>\n",
       "      <td>-0.157749</td>\n",
       "    </tr>\n",
       "    <tr>\n",
       "      <th>2020-12-26</th>\n",
       "      <td>0.211440</td>\n",
       "      <td>-0.597363</td>\n",
       "    </tr>\n",
       "    <tr>\n",
       "      <th>2020-12-27</th>\n",
       "      <td>-1.278152</td>\n",
       "      <td>0.065609</td>\n",
       "    </tr>\n",
       "    <tr>\n",
       "      <th>2020-12-28</th>\n",
       "      <td>-0.705814</td>\n",
       "      <td>0.250384</td>\n",
       "    </tr>\n",
       "    <tr>\n",
       "      <th>2020-12-29</th>\n",
       "      <td>-0.433711</td>\n",
       "      <td>-0.391301</td>\n",
       "    </tr>\n",
       "    <tr>\n",
       "      <th>2020-12-30</th>\n",
       "      <td>-2.209644</td>\n",
       "      <td>-0.907191</td>\n",
       "    </tr>\n",
       "    <tr>\n",
       "      <th>2020-12-31</th>\n",
       "      <td>-1.327559</td>\n",
       "      <td>-0.439134</td>\n",
       "    </tr>\n",
       "  </tbody>\n",
       "</table>\n",
       "</div>"
      ],
      "text/plain": [
       "                   A         B\n",
       "2020-12-24  0.752209  0.835515\n",
       "2020-12-25 -0.673737 -0.157749\n",
       "2020-12-26  0.211440 -0.597363\n",
       "2020-12-27 -1.278152  0.065609\n",
       "2020-12-28 -0.705814  0.250384\n",
       "2020-12-29 -0.433711 -0.391301\n",
       "2020-12-30 -2.209644 -0.907191\n",
       "2020-12-31 -1.327559 -0.439134"
      ]
     },
     "execution_count": 38,
     "metadata": {},
     "output_type": "execute_result"
    }
   ],
   "source": [
    "df.loc[dates_xmas[:],['A','B']]"
   ]
  },
  {
   "cell_type": "code",
   "execution_count": 39,
   "metadata": {
    "ExecuteTime": {
     "end_time": "2020-03-01T13:11:42.590916Z",
     "start_time": "2020-03-01T13:11:42.583798Z"
    }
   },
   "outputs": [
    {
     "data": {
      "text/html": [
       "<div>\n",
       "<style>\n",
       "    .dataframe thead tr:only-child th {\n",
       "        text-align: right;\n",
       "    }\n",
       "\n",
       "    .dataframe thead th {\n",
       "        text-align: left;\n",
       "    }\n",
       "\n",
       "    .dataframe tbody tr th {\n",
       "        vertical-align: top;\n",
       "    }\n",
       "</style>\n",
       "<table border=\"1\" class=\"dataframe\">\n",
       "  <thead>\n",
       "    <tr style=\"text-align: right;\">\n",
       "      <th></th>\n",
       "      <th>A</th>\n",
       "      <th>B</th>\n",
       "    </tr>\n",
       "  </thead>\n",
       "  <tbody>\n",
       "    <tr>\n",
       "      <th>2020-12-24</th>\n",
       "      <td>0.752209</td>\n",
       "      <td>0.835515</td>\n",
       "    </tr>\n",
       "    <tr>\n",
       "      <th>2020-12-25</th>\n",
       "      <td>-0.673737</td>\n",
       "      <td>-0.157749</td>\n",
       "    </tr>\n",
       "    <tr>\n",
       "      <th>2020-12-26</th>\n",
       "      <td>0.211440</td>\n",
       "      <td>-0.597363</td>\n",
       "    </tr>\n",
       "    <tr>\n",
       "      <th>2020-12-27</th>\n",
       "      <td>-1.278152</td>\n",
       "      <td>0.065609</td>\n",
       "    </tr>\n",
       "  </tbody>\n",
       "</table>\n",
       "</div>"
      ],
      "text/plain": [
       "                   A         B\n",
       "2020-12-24  0.752209  0.835515\n",
       "2020-12-25 -0.673737 -0.157749\n",
       "2020-12-26  0.211440 -0.597363\n",
       "2020-12-27 -1.278152  0.065609"
      ]
     },
     "execution_count": 39,
     "metadata": {},
     "output_type": "execute_result"
    }
   ],
   "source": [
    "df.loc['20201224':'20201227',['A','B']]"
   ]
  },
  {
   "cell_type": "markdown",
   "metadata": {},
   "source": [
    "## 행과 열의 번호를 이용해서 데이터에 접근"
   ]
  },
  {
   "cell_type": "code",
   "execution_count": 40,
   "metadata": {
    "ExecuteTime": {
     "end_time": "2020-03-01T13:11:42.596050Z",
     "start_time": "2020-03-01T13:11:42.592278Z"
    }
   },
   "outputs": [
    {
     "data": {
      "text/plain": [
       "A   -1.278152\n",
       "B    0.065609\n",
       "C    0.296332\n",
       "D    0.358100\n",
       "Name: 2020-12-27 00:00:00, dtype: float64"
      ]
     },
     "execution_count": 40,
     "metadata": {},
     "output_type": "execute_result"
    }
   ],
   "source": [
    "df.iloc[3]"
   ]
  },
  {
   "cell_type": "code",
   "execution_count": 41,
   "metadata": {
    "ExecuteTime": {
     "end_time": "2020-03-01T13:11:42.603923Z",
     "start_time": "2020-03-01T13:11:42.597400Z"
    }
   },
   "outputs": [
    {
     "data": {
      "text/html": [
       "<div>\n",
       "<style>\n",
       "    .dataframe thead tr:only-child th {\n",
       "        text-align: right;\n",
       "    }\n",
       "\n",
       "    .dataframe thead th {\n",
       "        text-align: left;\n",
       "    }\n",
       "\n",
       "    .dataframe tbody tr th {\n",
       "        vertical-align: top;\n",
       "    }\n",
       "</style>\n",
       "<table border=\"1\" class=\"dataframe\">\n",
       "  <thead>\n",
       "    <tr style=\"text-align: right;\">\n",
       "      <th></th>\n",
       "      <th>A</th>\n",
       "      <th>B</th>\n",
       "      <th>C</th>\n",
       "      <th>D</th>\n",
       "    </tr>\n",
       "  </thead>\n",
       "  <tbody>\n",
       "    <tr>\n",
       "      <th>2020-12-25</th>\n",
       "      <td>-0.673737</td>\n",
       "      <td>-0.157749</td>\n",
       "      <td>1.555013</td>\n",
       "      <td>1.410361</td>\n",
       "    </tr>\n",
       "    <tr>\n",
       "      <th>2020-12-26</th>\n",
       "      <td>0.211440</td>\n",
       "      <td>-0.597363</td>\n",
       "      <td>-1.042535</td>\n",
       "      <td>-0.858543</td>\n",
       "    </tr>\n",
       "    <tr>\n",
       "      <th>2020-12-27</th>\n",
       "      <td>-1.278152</td>\n",
       "      <td>0.065609</td>\n",
       "      <td>0.296332</td>\n",
       "      <td>0.358100</td>\n",
       "    </tr>\n",
       "  </tbody>\n",
       "</table>\n",
       "</div>"
      ],
      "text/plain": [
       "                   A         B         C         D\n",
       "2020-12-25 -0.673737 -0.157749  1.555013  1.410361\n",
       "2020-12-26  0.211440 -0.597363 -1.042535 -0.858543\n",
       "2020-12-27 -1.278152  0.065609  0.296332  0.358100"
      ]
     },
     "execution_count": 41,
     "metadata": {},
     "output_type": "execute_result"
    }
   ],
   "source": [
    "df.iloc[1:4]"
   ]
  },
  {
   "cell_type": "code",
   "execution_count": 42,
   "metadata": {
    "ExecuteTime": {
     "end_time": "2020-03-01T13:11:42.611336Z",
     "start_time": "2020-03-01T13:11:42.605483Z"
    }
   },
   "outputs": [
    {
     "data": {
      "text/html": [
       "<div>\n",
       "<style>\n",
       "    .dataframe thead tr:only-child th {\n",
       "        text-align: right;\n",
       "    }\n",
       "\n",
       "    .dataframe thead th {\n",
       "        text-align: left;\n",
       "    }\n",
       "\n",
       "    .dataframe tbody tr th {\n",
       "        vertical-align: top;\n",
       "    }\n",
       "</style>\n",
       "<table border=\"1\" class=\"dataframe\">\n",
       "  <thead>\n",
       "    <tr style=\"text-align: right;\">\n",
       "      <th></th>\n",
       "      <th>B</th>\n",
       "      <th>C</th>\n",
       "    </tr>\n",
       "  </thead>\n",
       "  <tbody>\n",
       "    <tr>\n",
       "      <th>2020-12-25</th>\n",
       "      <td>-0.157749</td>\n",
       "      <td>1.555013</td>\n",
       "    </tr>\n",
       "    <tr>\n",
       "      <th>2020-12-26</th>\n",
       "      <td>-0.597363</td>\n",
       "      <td>-1.042535</td>\n",
       "    </tr>\n",
       "    <tr>\n",
       "      <th>2020-12-27</th>\n",
       "      <td>0.065609</td>\n",
       "      <td>0.296332</td>\n",
       "    </tr>\n",
       "  </tbody>\n",
       "</table>\n",
       "</div>"
      ],
      "text/plain": [
       "                   B         C\n",
       "2020-12-25 -0.157749  1.555013\n",
       "2020-12-26 -0.597363 -1.042535\n",
       "2020-12-27  0.065609  0.296332"
      ]
     },
     "execution_count": 42,
     "metadata": {},
     "output_type": "execute_result"
    }
   ],
   "source": [
    "df.iloc[1:4,1:3]"
   ]
  },
  {
   "cell_type": "code",
   "execution_count": 43,
   "metadata": {
    "ExecuteTime": {
     "end_time": "2020-03-01T13:11:42.619501Z",
     "start_time": "2020-03-01T13:11:42.612841Z"
    }
   },
   "outputs": [
    {
     "data": {
      "text/html": [
       "<div>\n",
       "<style>\n",
       "    .dataframe thead tr:only-child th {\n",
       "        text-align: right;\n",
       "    }\n",
       "\n",
       "    .dataframe thead th {\n",
       "        text-align: left;\n",
       "    }\n",
       "\n",
       "    .dataframe tbody tr th {\n",
       "        vertical-align: top;\n",
       "    }\n",
       "</style>\n",
       "<table border=\"1\" class=\"dataframe\">\n",
       "  <thead>\n",
       "    <tr style=\"text-align: right;\">\n",
       "      <th></th>\n",
       "      <th>A</th>\n",
       "      <th>D</th>\n",
       "    </tr>\n",
       "  </thead>\n",
       "  <tbody>\n",
       "    <tr>\n",
       "      <th>2020-12-25</th>\n",
       "      <td>-0.673737</td>\n",
       "      <td>1.410361</td>\n",
       "    </tr>\n",
       "    <tr>\n",
       "      <th>2020-12-27</th>\n",
       "      <td>-1.278152</td>\n",
       "      <td>0.358100</td>\n",
       "    </tr>\n",
       "    <tr>\n",
       "      <th>2020-12-31</th>\n",
       "      <td>-1.327559</td>\n",
       "      <td>-0.164270</td>\n",
       "    </tr>\n",
       "  </tbody>\n",
       "</table>\n",
       "</div>"
      ],
      "text/plain": [
       "                   A         D\n",
       "2020-12-25 -0.673737  1.410361\n",
       "2020-12-27 -1.278152  0.358100\n",
       "2020-12-31 -1.327559 -0.164270"
      ]
     },
     "execution_count": 43,
     "metadata": {},
     "output_type": "execute_result"
    }
   ],
   "source": [
    "df.iloc[[1,3,7],[0,3]]"
   ]
  },
  {
   "cell_type": "markdown",
   "metadata": {},
   "source": [
    "## 특정 조건 만족하는 데이터"
   ]
  },
  {
   "cell_type": "code",
   "execution_count": 44,
   "metadata": {
    "ExecuteTime": {
     "end_time": "2020-03-01T13:11:42.627829Z",
     "start_time": "2020-03-01T13:11:42.621044Z"
    }
   },
   "outputs": [
    {
     "data": {
      "text/html": [
       "<div>\n",
       "<style>\n",
       "    .dataframe thead tr:only-child th {\n",
       "        text-align: right;\n",
       "    }\n",
       "\n",
       "    .dataframe thead th {\n",
       "        text-align: left;\n",
       "    }\n",
       "\n",
       "    .dataframe tbody tr th {\n",
       "        vertical-align: top;\n",
       "    }\n",
       "</style>\n",
       "<table border=\"1\" class=\"dataframe\">\n",
       "  <thead>\n",
       "    <tr style=\"text-align: right;\">\n",
       "      <th></th>\n",
       "      <th>A</th>\n",
       "      <th>B</th>\n",
       "      <th>C</th>\n",
       "      <th>D</th>\n",
       "    </tr>\n",
       "  </thead>\n",
       "  <tbody>\n",
       "    <tr>\n",
       "      <th>2020-12-24</th>\n",
       "      <td>0.752209</td>\n",
       "      <td>0.835515</td>\n",
       "      <td>-1.818317</td>\n",
       "      <td>1.159213</td>\n",
       "    </tr>\n",
       "  </tbody>\n",
       "</table>\n",
       "</div>"
      ],
      "text/plain": [
       "                   A         B         C         D\n",
       "2020-12-24  0.752209  0.835515 -1.818317  1.159213"
      ]
     },
     "execution_count": 44,
     "metadata": {},
     "output_type": "execute_result"
    }
   ],
   "source": [
    "df[df.A > 0.5]"
   ]
  },
  {
   "cell_type": "code",
   "execution_count": 45,
   "metadata": {
    "ExecuteTime": {
     "end_time": "2020-03-01T13:11:42.635997Z",
     "start_time": "2020-03-01T13:11:42.629228Z"
    }
   },
   "outputs": [
    {
     "data": {
      "text/html": [
       "<div>\n",
       "<style>\n",
       "    .dataframe thead tr:only-child th {\n",
       "        text-align: right;\n",
       "    }\n",
       "\n",
       "    .dataframe thead th {\n",
       "        text-align: left;\n",
       "    }\n",
       "\n",
       "    .dataframe tbody tr th {\n",
       "        vertical-align: top;\n",
       "    }\n",
       "</style>\n",
       "<table border=\"1\" class=\"dataframe\">\n",
       "  <thead>\n",
       "    <tr style=\"text-align: right;\">\n",
       "      <th></th>\n",
       "      <th>A</th>\n",
       "      <th>B</th>\n",
       "      <th>C</th>\n",
       "      <th>D</th>\n",
       "    </tr>\n",
       "  </thead>\n",
       "  <tbody>\n",
       "    <tr>\n",
       "      <th>2020-12-24</th>\n",
       "      <td>0.752209</td>\n",
       "      <td>0.835515</td>\n",
       "      <td>-1.818317</td>\n",
       "      <td>1.159213</td>\n",
       "    </tr>\n",
       "  </tbody>\n",
       "</table>\n",
       "</div>"
      ],
      "text/plain": [
       "                   A         B         C         D\n",
       "2020-12-24  0.752209  0.835515 -1.818317  1.159213"
      ]
     },
     "execution_count": 45,
     "metadata": {},
     "output_type": "execute_result"
    }
   ],
   "source": [
    "df[df['A'] > 0.5]"
   ]
  },
  {
   "cell_type": "code",
   "execution_count": 46,
   "metadata": {
    "ExecuteTime": {
     "end_time": "2020-03-01T13:11:42.646181Z",
     "start_time": "2020-03-01T13:11:42.637328Z"
    }
   },
   "outputs": [
    {
     "data": {
      "text/html": [
       "<div>\n",
       "<style>\n",
       "    .dataframe thead tr:only-child th {\n",
       "        text-align: right;\n",
       "    }\n",
       "\n",
       "    .dataframe thead th {\n",
       "        text-align: left;\n",
       "    }\n",
       "\n",
       "    .dataframe tbody tr th {\n",
       "        vertical-align: top;\n",
       "    }\n",
       "</style>\n",
       "<table border=\"1\" class=\"dataframe\">\n",
       "  <thead>\n",
       "    <tr style=\"text-align: right;\">\n",
       "      <th></th>\n",
       "      <th>A</th>\n",
       "      <th>B</th>\n",
       "      <th>C</th>\n",
       "      <th>D</th>\n",
       "    </tr>\n",
       "  </thead>\n",
       "  <tbody>\n",
       "    <tr>\n",
       "      <th>2020-12-24</th>\n",
       "      <td>0.752209</td>\n",
       "      <td>0.835515</td>\n",
       "      <td>NaN</td>\n",
       "      <td>1.159213</td>\n",
       "    </tr>\n",
       "    <tr>\n",
       "      <th>2020-12-25</th>\n",
       "      <td>NaN</td>\n",
       "      <td>NaN</td>\n",
       "      <td>1.555013</td>\n",
       "      <td>1.410361</td>\n",
       "    </tr>\n",
       "    <tr>\n",
       "      <th>2020-12-26</th>\n",
       "      <td>NaN</td>\n",
       "      <td>NaN</td>\n",
       "      <td>NaN</td>\n",
       "      <td>NaN</td>\n",
       "    </tr>\n",
       "    <tr>\n",
       "      <th>2020-12-27</th>\n",
       "      <td>NaN</td>\n",
       "      <td>NaN</td>\n",
       "      <td>NaN</td>\n",
       "      <td>NaN</td>\n",
       "    </tr>\n",
       "    <tr>\n",
       "      <th>2020-12-28</th>\n",
       "      <td>NaN</td>\n",
       "      <td>NaN</td>\n",
       "      <td>NaN</td>\n",
       "      <td>0.602083</td>\n",
       "    </tr>\n",
       "    <tr>\n",
       "      <th>2020-12-29</th>\n",
       "      <td>NaN</td>\n",
       "      <td>NaN</td>\n",
       "      <td>2.148205</td>\n",
       "      <td>0.664415</td>\n",
       "    </tr>\n",
       "    <tr>\n",
       "      <th>2020-12-30</th>\n",
       "      <td>NaN</td>\n",
       "      <td>NaN</td>\n",
       "      <td>NaN</td>\n",
       "      <td>0.632241</td>\n",
       "    </tr>\n",
       "    <tr>\n",
       "      <th>2020-12-31</th>\n",
       "      <td>NaN</td>\n",
       "      <td>NaN</td>\n",
       "      <td>NaN</td>\n",
       "      <td>NaN</td>\n",
       "    </tr>\n",
       "  </tbody>\n",
       "</table>\n",
       "</div>"
      ],
      "text/plain": [
       "                   A         B         C         D\n",
       "2020-12-24  0.752209  0.835515       NaN  1.159213\n",
       "2020-12-25       NaN       NaN  1.555013  1.410361\n",
       "2020-12-26       NaN       NaN       NaN       NaN\n",
       "2020-12-27       NaN       NaN       NaN       NaN\n",
       "2020-12-28       NaN       NaN       NaN  0.602083\n",
       "2020-12-29       NaN       NaN  2.148205  0.664415\n",
       "2020-12-30       NaN       NaN       NaN  0.632241\n",
       "2020-12-31       NaN       NaN       NaN       NaN"
      ]
     },
     "execution_count": 46,
     "metadata": {},
     "output_type": "execute_result"
    }
   ],
   "source": [
    "df[df > 0.5]"
   ]
  },
  {
   "cell_type": "markdown",
   "metadata": {},
   "source": [
    "## 데이터 복사"
   ]
  },
  {
   "cell_type": "markdown",
   "metadata": {},
   "source": [
    "##### DataFrame을 복사할 때 '='기호를 이용해서 복사하면 실제 데이터의 내용이 복사되는 것이 아니라 데이터 위치만 복사되기 때문에 원본 데이터는 하나만 있게 됨\n",
    "\n",
    "* df를 사용할 수 없음, df_copy에 따라 데이터의 내용이 같이 변함(데이터는 하나)"
   ]
  },
  {
   "cell_type": "code",
   "execution_count": 95,
   "metadata": {
    "ExecuteTime": {
     "end_time": "2020-03-01T13:36:55.855514Z",
     "start_time": "2020-03-01T13:36:55.853239Z"
    },
    "hide_input": false
   },
   "outputs": [],
   "source": [
    "# df_copy = df"
   ]
  },
  {
   "cell_type": "code",
   "execution_count": 96,
   "metadata": {
    "ExecuteTime": {
     "end_time": "2020-03-01T13:36:56.730250Z",
     "start_time": "2020-03-01T13:36:56.726735Z"
    }
   },
   "outputs": [],
   "source": [
    "# df_copy['E'] = ['one','one','two','three','four','three','seven','eight']"
   ]
  },
  {
   "cell_type": "code",
   "execution_count": 97,
   "metadata": {
    "ExecuteTime": {
     "end_time": "2020-03-01T13:36:57.348945Z",
     "start_time": "2020-03-01T13:36:57.340825Z"
    }
   },
   "outputs": [
    {
     "data": {
      "text/html": [
       "<div>\n",
       "<style>\n",
       "    .dataframe thead tr:only-child th {\n",
       "        text-align: right;\n",
       "    }\n",
       "\n",
       "    .dataframe thead th {\n",
       "        text-align: left;\n",
       "    }\n",
       "\n",
       "    .dataframe tbody tr th {\n",
       "        vertical-align: top;\n",
       "    }\n",
       "</style>\n",
       "<table border=\"1\" class=\"dataframe\">\n",
       "  <thead>\n",
       "    <tr style=\"text-align: right;\">\n",
       "      <th></th>\n",
       "      <th>A</th>\n",
       "      <th>B</th>\n",
       "      <th>C</th>\n",
       "      <th>D</th>\n",
       "      <th>E</th>\n",
       "    </tr>\n",
       "  </thead>\n",
       "  <tbody>\n",
       "    <tr>\n",
       "      <th>2020-12-24</th>\n",
       "      <td>-0.419326</td>\n",
       "      <td>0.683113</td>\n",
       "      <td>-1.588298</td>\n",
       "      <td>-0.668455</td>\n",
       "      <td>one</td>\n",
       "    </tr>\n",
       "    <tr>\n",
       "      <th>2020-12-25</th>\n",
       "      <td>2.494411</td>\n",
       "      <td>1.056842</td>\n",
       "      <td>0.318266</td>\n",
       "      <td>1.356346</td>\n",
       "      <td>one</td>\n",
       "    </tr>\n",
       "    <tr>\n",
       "      <th>2020-12-26</th>\n",
       "      <td>0.249315</td>\n",
       "      <td>-0.670114</td>\n",
       "      <td>-0.107369</td>\n",
       "      <td>-1.258406</td>\n",
       "      <td>two</td>\n",
       "    </tr>\n",
       "    <tr>\n",
       "      <th>2020-12-27</th>\n",
       "      <td>0.898552</td>\n",
       "      <td>-0.314191</td>\n",
       "      <td>-0.565169</td>\n",
       "      <td>-0.521513</td>\n",
       "      <td>three</td>\n",
       "    </tr>\n",
       "    <tr>\n",
       "      <th>2020-12-28</th>\n",
       "      <td>-0.406113</td>\n",
       "      <td>0.054755</td>\n",
       "      <td>0.146022</td>\n",
       "      <td>-0.667758</td>\n",
       "      <td>four</td>\n",
       "    </tr>\n",
       "    <tr>\n",
       "      <th>2020-12-29</th>\n",
       "      <td>0.061303</td>\n",
       "      <td>1.339212</td>\n",
       "      <td>-0.829810</td>\n",
       "      <td>-0.227122</td>\n",
       "      <td>three</td>\n",
       "    </tr>\n",
       "    <tr>\n",
       "      <th>2020-12-30</th>\n",
       "      <td>-0.737432</td>\n",
       "      <td>-1.705076</td>\n",
       "      <td>-0.375904</td>\n",
       "      <td>0.277240</td>\n",
       "      <td>seven</td>\n",
       "    </tr>\n",
       "    <tr>\n",
       "      <th>2020-12-31</th>\n",
       "      <td>1.953829</td>\n",
       "      <td>0.356794</td>\n",
       "      <td>0.070453</td>\n",
       "      <td>0.669687</td>\n",
       "      <td>eight</td>\n",
       "    </tr>\n",
       "  </tbody>\n",
       "</table>\n",
       "</div>"
      ],
      "text/plain": [
       "                   A         B         C         D      E\n",
       "2020-12-24 -0.419326  0.683113 -1.588298 -0.668455    one\n",
       "2020-12-25  2.494411  1.056842  0.318266  1.356346    one\n",
       "2020-12-26  0.249315 -0.670114 -0.107369 -1.258406    two\n",
       "2020-12-27  0.898552 -0.314191 -0.565169 -0.521513  three\n",
       "2020-12-28 -0.406113  0.054755  0.146022 -0.667758   four\n",
       "2020-12-29  0.061303  1.339212 -0.829810 -0.227122  three\n",
       "2020-12-30 -0.737432 -1.705076 -0.375904  0.277240  seven\n",
       "2020-12-31  1.953829  0.356794  0.070453  0.669687  eight"
      ]
     },
     "execution_count": 97,
     "metadata": {},
     "output_type": "execute_result"
    }
   ],
   "source": [
    "# df_copy"
   ]
  },
  {
   "cell_type": "markdown",
   "metadata": {},
   "source": [
    "##### 데이터의 내용까지 복사 : copy()"
   ]
  },
  {
   "cell_type": "code",
   "execution_count": 100,
   "metadata": {
    "ExecuteTime": {
     "end_time": "2020-03-01T13:37:25.081608Z",
     "start_time": "2020-03-01T13:37:25.079002Z"
    }
   },
   "outputs": [],
   "source": [
    "df_copy_1 = df.copy()"
   ]
  },
  {
   "cell_type": "code",
   "execution_count": 101,
   "metadata": {
    "ExecuteTime": {
     "end_time": "2020-03-01T13:37:25.736873Z",
     "start_time": "2020-03-01T13:37:25.733489Z"
    }
   },
   "outputs": [],
   "source": [
    "df_copy_1['E'] = ['one','one','two','three','four','three','seven','eight']"
   ]
  },
  {
   "cell_type": "code",
   "execution_count": 102,
   "metadata": {
    "ExecuteTime": {
     "end_time": "2020-03-01T13:37:26.220288Z",
     "start_time": "2020-03-01T13:37:26.211758Z"
    },
    "scrolled": true
   },
   "outputs": [
    {
     "data": {
      "text/html": [
       "<div>\n",
       "<style>\n",
       "    .dataframe thead tr:only-child th {\n",
       "        text-align: right;\n",
       "    }\n",
       "\n",
       "    .dataframe thead th {\n",
       "        text-align: left;\n",
       "    }\n",
       "\n",
       "    .dataframe tbody tr th {\n",
       "        vertical-align: top;\n",
       "    }\n",
       "</style>\n",
       "<table border=\"1\" class=\"dataframe\">\n",
       "  <thead>\n",
       "    <tr style=\"text-align: right;\">\n",
       "      <th></th>\n",
       "      <th>A</th>\n",
       "      <th>B</th>\n",
       "      <th>C</th>\n",
       "      <th>D</th>\n",
       "      <th>E</th>\n",
       "    </tr>\n",
       "  </thead>\n",
       "  <tbody>\n",
       "    <tr>\n",
       "      <th>2020-12-24</th>\n",
       "      <td>-0.093231</td>\n",
       "      <td>0.450949</td>\n",
       "      <td>-0.968167</td>\n",
       "      <td>-0.560457</td>\n",
       "      <td>one</td>\n",
       "    </tr>\n",
       "    <tr>\n",
       "      <th>2020-12-25</th>\n",
       "      <td>-0.513476</td>\n",
       "      <td>0.061722</td>\n",
       "      <td>-1.109975</td>\n",
       "      <td>1.529701</td>\n",
       "      <td>one</td>\n",
       "    </tr>\n",
       "    <tr>\n",
       "      <th>2020-12-26</th>\n",
       "      <td>-0.025160</td>\n",
       "      <td>-0.026347</td>\n",
       "      <td>-1.527302</td>\n",
       "      <td>-0.862896</td>\n",
       "      <td>two</td>\n",
       "    </tr>\n",
       "    <tr>\n",
       "      <th>2020-12-27</th>\n",
       "      <td>-2.151258</td>\n",
       "      <td>-0.265095</td>\n",
       "      <td>0.817497</td>\n",
       "      <td>-0.927223</td>\n",
       "      <td>three</td>\n",
       "    </tr>\n",
       "    <tr>\n",
       "      <th>2020-12-28</th>\n",
       "      <td>-0.074611</td>\n",
       "      <td>1.261924</td>\n",
       "      <td>-1.067508</td>\n",
       "      <td>-1.259297</td>\n",
       "      <td>four</td>\n",
       "    </tr>\n",
       "    <tr>\n",
       "      <th>2020-12-29</th>\n",
       "      <td>0.981847</td>\n",
       "      <td>-0.484155</td>\n",
       "      <td>-2.693550</td>\n",
       "      <td>0.175005</td>\n",
       "      <td>three</td>\n",
       "    </tr>\n",
       "    <tr>\n",
       "      <th>2020-12-30</th>\n",
       "      <td>0.659055</td>\n",
       "      <td>0.467959</td>\n",
       "      <td>-1.825703</td>\n",
       "      <td>-0.089992</td>\n",
       "      <td>seven</td>\n",
       "    </tr>\n",
       "    <tr>\n",
       "      <th>2020-12-31</th>\n",
       "      <td>0.343067</td>\n",
       "      <td>-0.598507</td>\n",
       "      <td>0.459461</td>\n",
       "      <td>0.293824</td>\n",
       "      <td>eight</td>\n",
       "    </tr>\n",
       "  </tbody>\n",
       "</table>\n",
       "</div>"
      ],
      "text/plain": [
       "                   A         B         C         D      E\n",
       "2020-12-24 -0.093231  0.450949 -0.968167 -0.560457    one\n",
       "2020-12-25 -0.513476  0.061722 -1.109975  1.529701    one\n",
       "2020-12-26 -0.025160 -0.026347 -1.527302 -0.862896    two\n",
       "2020-12-27 -2.151258 -0.265095  0.817497 -0.927223  three\n",
       "2020-12-28 -0.074611  1.261924 -1.067508 -1.259297   four\n",
       "2020-12-29  0.981847 -0.484155 -2.693550  0.175005  three\n",
       "2020-12-30  0.659055  0.467959 -1.825703 -0.089992  seven\n",
       "2020-12-31  0.343067 -0.598507  0.459461  0.293824  eight"
      ]
     },
     "execution_count": 102,
     "metadata": {},
     "output_type": "execute_result"
    }
   ],
   "source": [
    "df_copy_1"
   ]
  },
  {
   "cell_type": "markdown",
   "metadata": {},
   "source": [
    "## isin()"
   ]
  },
  {
   "cell_type": "code",
   "execution_count": 80,
   "metadata": {
    "ExecuteTime": {
     "end_time": "2020-03-01T13:16:24.761925Z",
     "start_time": "2020-03-01T13:16:24.751030Z"
    }
   },
   "outputs": [
    {
     "data": {
      "text/plain": [
       "2020-12-24     True\n",
       "2020-12-25     True\n",
       "2020-12-26    False\n",
       "2020-12-27    False\n",
       "2020-12-28     True\n",
       "2020-12-29    False\n",
       "2020-12-30    False\n",
       "2020-12-31    False\n",
       "Freq: D, Name: E, dtype: bool"
      ]
     },
     "execution_count": 80,
     "metadata": {},
     "output_type": "execute_result"
    }
   ],
   "source": [
    "df_copy_1['E'].isin(['one','four'])"
   ]
  },
  {
   "cell_type": "code",
   "execution_count": 81,
   "metadata": {
    "ExecuteTime": {
     "end_time": "2020-03-01T13:16:51.740910Z",
     "start_time": "2020-03-01T13:16:51.730992Z"
    }
   },
   "outputs": [
    {
     "data": {
      "text/html": [
       "<div>\n",
       "<style>\n",
       "    .dataframe thead tr:only-child th {\n",
       "        text-align: right;\n",
       "    }\n",
       "\n",
       "    .dataframe thead th {\n",
       "        text-align: left;\n",
       "    }\n",
       "\n",
       "    .dataframe tbody tr th {\n",
       "        vertical-align: top;\n",
       "    }\n",
       "</style>\n",
       "<table border=\"1\" class=\"dataframe\">\n",
       "  <thead>\n",
       "    <tr style=\"text-align: right;\">\n",
       "      <th></th>\n",
       "      <th>A</th>\n",
       "      <th>B</th>\n",
       "      <th>C</th>\n",
       "      <th>D</th>\n",
       "      <th>E</th>\n",
       "    </tr>\n",
       "  </thead>\n",
       "  <tbody>\n",
       "    <tr>\n",
       "      <th>2020-12-24</th>\n",
       "      <td>0.511901</td>\n",
       "      <td>-0.914196</td>\n",
       "      <td>-0.822925</td>\n",
       "      <td>-0.605025</td>\n",
       "      <td>one</td>\n",
       "    </tr>\n",
       "    <tr>\n",
       "      <th>2020-12-25</th>\n",
       "      <td>0.177202</td>\n",
       "      <td>0.750160</td>\n",
       "      <td>-0.932989</td>\n",
       "      <td>-1.266098</td>\n",
       "      <td>one</td>\n",
       "    </tr>\n",
       "    <tr>\n",
       "      <th>2020-12-28</th>\n",
       "      <td>-0.413412</td>\n",
       "      <td>-1.256807</td>\n",
       "      <td>-1.139761</td>\n",
       "      <td>-0.776906</td>\n",
       "      <td>four</td>\n",
       "    </tr>\n",
       "  </tbody>\n",
       "</table>\n",
       "</div>"
      ],
      "text/plain": [
       "                   A         B         C         D     E\n",
       "2020-12-24  0.511901 -0.914196 -0.822925 -0.605025   one\n",
       "2020-12-25  0.177202  0.750160 -0.932989 -1.266098   one\n",
       "2020-12-28 -0.413412 -1.256807 -1.139761 -0.776906  four"
      ]
     },
     "execution_count": 81,
     "metadata": {},
     "output_type": "execute_result"
    }
   ],
   "source": [
    "df_copy_1[df_copy_1['E'].isin(['one','four'])]"
   ]
  },
  {
   "cell_type": "markdown",
   "metadata": {
    "ExecuteTime": {
     "end_time": "2020-03-01T13:17:50.439210Z",
     "start_time": "2020-03-01T13:17:50.436934Z"
    }
   },
   "source": [
    "## 통계 느낌의 데이터 - apply"
   ]
  },
  {
   "cell_type": "code",
   "execution_count": 87,
   "metadata": {
    "ExecuteTime": {
     "end_time": "2020-03-01T13:34:53.028322Z",
     "start_time": "2020-03-01T13:34:53.015092Z"
    }
   },
   "outputs": [
    {
     "data": {
      "text/html": [
       "<div>\n",
       "<style>\n",
       "    .dataframe thead tr:only-child th {\n",
       "        text-align: right;\n",
       "    }\n",
       "\n",
       "    .dataframe thead th {\n",
       "        text-align: left;\n",
       "    }\n",
       "\n",
       "    .dataframe tbody tr th {\n",
       "        vertical-align: top;\n",
       "    }\n",
       "</style>\n",
       "<table border=\"1\" class=\"dataframe\">\n",
       "  <thead>\n",
       "    <tr style=\"text-align: right;\">\n",
       "      <th></th>\n",
       "      <th>A</th>\n",
       "      <th>B</th>\n",
       "      <th>C</th>\n",
       "      <th>D</th>\n",
       "      <th>E</th>\n",
       "    </tr>\n",
       "  </thead>\n",
       "  <tbody>\n",
       "    <tr>\n",
       "      <th>2020-12-24</th>\n",
       "      <td>0.511901</td>\n",
       "      <td>-0.914196</td>\n",
       "      <td>-0.822925</td>\n",
       "      <td>-0.605025</td>\n",
       "      <td>one</td>\n",
       "    </tr>\n",
       "    <tr>\n",
       "      <th>2020-12-25</th>\n",
       "      <td>0.689103</td>\n",
       "      <td>-0.164036</td>\n",
       "      <td>-1.755914</td>\n",
       "      <td>-1.871123</td>\n",
       "      <td>oneone</td>\n",
       "    </tr>\n",
       "    <tr>\n",
       "      <th>2020-12-26</th>\n",
       "      <td>3.095164</td>\n",
       "      <td>-0.306284</td>\n",
       "      <td>-1.924910</td>\n",
       "      <td>-3.737521</td>\n",
       "      <td>oneonetwo</td>\n",
       "    </tr>\n",
       "    <tr>\n",
       "      <th>2020-12-27</th>\n",
       "      <td>3.160087</td>\n",
       "      <td>1.555182</td>\n",
       "      <td>-1.247593</td>\n",
       "      <td>-4.036469</td>\n",
       "      <td>oneonetwothree</td>\n",
       "    </tr>\n",
       "    <tr>\n",
       "      <th>2020-12-28</th>\n",
       "      <td>2.746675</td>\n",
       "      <td>0.298375</td>\n",
       "      <td>-2.387354</td>\n",
       "      <td>-4.813375</td>\n",
       "      <td>oneonetwothreefour</td>\n",
       "    </tr>\n",
       "    <tr>\n",
       "      <th>2020-12-29</th>\n",
       "      <td>3.290437</td>\n",
       "      <td>-0.804670</td>\n",
       "      <td>-4.250050</td>\n",
       "      <td>-7.440592</td>\n",
       "      <td>oneonetwothreefourthree</td>\n",
       "    </tr>\n",
       "    <tr>\n",
       "      <th>2020-12-30</th>\n",
       "      <td>3.153387</td>\n",
       "      <td>0.213592</td>\n",
       "      <td>-3.258711</td>\n",
       "      <td>-6.821332</td>\n",
       "      <td>oneonetwothreefourthreeseven</td>\n",
       "    </tr>\n",
       "    <tr>\n",
       "      <th>2020-12-31</th>\n",
       "      <td>1.928150</td>\n",
       "      <td>0.239827</td>\n",
       "      <td>-2.104628</td>\n",
       "      <td>-5.766564</td>\n",
       "      <td>oneonetwothreefourthreeseveneight</td>\n",
       "    </tr>\n",
       "  </tbody>\n",
       "</table>\n",
       "</div>"
      ],
      "text/plain": [
       "                   A         B         C         D  \\\n",
       "2020-12-24  0.511901 -0.914196 -0.822925 -0.605025   \n",
       "2020-12-25  0.689103 -0.164036 -1.755914 -1.871123   \n",
       "2020-12-26  3.095164 -0.306284 -1.924910 -3.737521   \n",
       "2020-12-27  3.160087  1.555182 -1.247593 -4.036469   \n",
       "2020-12-28  2.746675  0.298375 -2.387354 -4.813375   \n",
       "2020-12-29  3.290437 -0.804670 -4.250050 -7.440592   \n",
       "2020-12-30  3.153387  0.213592 -3.258711 -6.821332   \n",
       "2020-12-31  1.928150  0.239827 -2.104628 -5.766564   \n",
       "\n",
       "                                            E  \n",
       "2020-12-24                                one  \n",
       "2020-12-25                             oneone  \n",
       "2020-12-26                          oneonetwo  \n",
       "2020-12-27                     oneonetwothree  \n",
       "2020-12-28                 oneonetwothreefour  \n",
       "2020-12-29            oneonetwothreefourthree  \n",
       "2020-12-30       oneonetwothreefourthreeseven  \n",
       "2020-12-31  oneonetwothreefourthreeseveneight  "
      ]
     },
     "execution_count": 87,
     "metadata": {},
     "output_type": "execute_result"
    }
   ],
   "source": [
    "df.apply(np.cumsum) # 누적합"
   ]
  },
  {
   "cell_type": "code",
   "execution_count": 106,
   "metadata": {
    "ExecuteTime": {
     "end_time": "2020-03-01T13:38:59.188206Z",
     "start_time": "2020-03-01T13:38:59.178926Z"
    }
   },
   "outputs": [
    {
     "data": {
      "text/html": [
       "<div>\n",
       "<style>\n",
       "    .dataframe thead tr:only-child th {\n",
       "        text-align: right;\n",
       "    }\n",
       "\n",
       "    .dataframe thead th {\n",
       "        text-align: left;\n",
       "    }\n",
       "\n",
       "    .dataframe tbody tr th {\n",
       "        vertical-align: top;\n",
       "    }\n",
       "</style>\n",
       "<table border=\"1\" class=\"dataframe\">\n",
       "  <thead>\n",
       "    <tr style=\"text-align: right;\">\n",
       "      <th></th>\n",
       "      <th>A</th>\n",
       "      <th>B</th>\n",
       "      <th>C</th>\n",
       "      <th>D</th>\n",
       "      <th>E</th>\n",
       "    </tr>\n",
       "  </thead>\n",
       "  <tbody>\n",
       "    <tr>\n",
       "      <th>2020-12-24</th>\n",
       "      <td>-0.093231</td>\n",
       "      <td>0.450949</td>\n",
       "      <td>-0.968167</td>\n",
       "      <td>-0.560457</td>\n",
       "      <td>one</td>\n",
       "    </tr>\n",
       "    <tr>\n",
       "      <th>2020-12-25</th>\n",
       "      <td>-0.513476</td>\n",
       "      <td>0.061722</td>\n",
       "      <td>-1.109975</td>\n",
       "      <td>1.529701</td>\n",
       "      <td>one</td>\n",
       "    </tr>\n",
       "    <tr>\n",
       "      <th>2020-12-26</th>\n",
       "      <td>-0.025160</td>\n",
       "      <td>-0.026347</td>\n",
       "      <td>-1.527302</td>\n",
       "      <td>-0.862896</td>\n",
       "      <td>two</td>\n",
       "    </tr>\n",
       "    <tr>\n",
       "      <th>2020-12-27</th>\n",
       "      <td>-2.151258</td>\n",
       "      <td>-0.265095</td>\n",
       "      <td>0.817497</td>\n",
       "      <td>-0.927223</td>\n",
       "      <td>three</td>\n",
       "    </tr>\n",
       "    <tr>\n",
       "      <th>2020-12-28</th>\n",
       "      <td>-0.074611</td>\n",
       "      <td>1.261924</td>\n",
       "      <td>-1.067508</td>\n",
       "      <td>-1.259297</td>\n",
       "      <td>four</td>\n",
       "    </tr>\n",
       "    <tr>\n",
       "      <th>2020-12-29</th>\n",
       "      <td>0.981847</td>\n",
       "      <td>-0.484155</td>\n",
       "      <td>-2.693550</td>\n",
       "      <td>0.175005</td>\n",
       "      <td>three</td>\n",
       "    </tr>\n",
       "    <tr>\n",
       "      <th>2020-12-30</th>\n",
       "      <td>0.659055</td>\n",
       "      <td>0.467959</td>\n",
       "      <td>-1.825703</td>\n",
       "      <td>-0.089992</td>\n",
       "      <td>seven</td>\n",
       "    </tr>\n",
       "    <tr>\n",
       "      <th>2020-12-31</th>\n",
       "      <td>0.343067</td>\n",
       "      <td>-0.598507</td>\n",
       "      <td>0.459461</td>\n",
       "      <td>0.293824</td>\n",
       "      <td>eight</td>\n",
       "    </tr>\n",
       "  </tbody>\n",
       "</table>\n",
       "</div>"
      ],
      "text/plain": [
       "                   A         B         C         D      E\n",
       "2020-12-24 -0.093231  0.450949 -0.968167 -0.560457    one\n",
       "2020-12-25 -0.513476  0.061722 -1.109975  1.529701    one\n",
       "2020-12-26 -0.025160 -0.026347 -1.527302 -0.862896    two\n",
       "2020-12-27 -2.151258 -0.265095  0.817497 -0.927223  three\n",
       "2020-12-28 -0.074611  1.261924 -1.067508 -1.259297   four\n",
       "2020-12-29  0.981847 -0.484155 -2.693550  0.175005  three\n",
       "2020-12-30  0.659055  0.467959 -1.825703 -0.089992  seven\n",
       "2020-12-31  0.343067 -0.598507  0.459461  0.293824  eight"
      ]
     },
     "execution_count": 106,
     "metadata": {},
     "output_type": "execute_result"
    }
   ],
   "source": [
    "df_copy_1"
   ]
  },
  {
   "cell_type": "code",
   "execution_count": 109,
   "metadata": {
    "ExecuteTime": {
     "end_time": "2020-03-01T13:39:49.603856Z",
     "start_time": "2020-03-01T13:39:49.592291Z"
    }
   },
   "outputs": [
    {
     "data": {
      "text/html": [
       "<div>\n",
       "<style>\n",
       "    .dataframe thead tr:only-child th {\n",
       "        text-align: right;\n",
       "    }\n",
       "\n",
       "    .dataframe thead th {\n",
       "        text-align: left;\n",
       "    }\n",
       "\n",
       "    .dataframe tbody tr th {\n",
       "        vertical-align: top;\n",
       "    }\n",
       "</style>\n",
       "<table border=\"1\" class=\"dataframe\">\n",
       "  <thead>\n",
       "    <tr style=\"text-align: right;\">\n",
       "      <th></th>\n",
       "      <th>A</th>\n",
       "      <th>B</th>\n",
       "      <th>C</th>\n",
       "      <th>D</th>\n",
       "    </tr>\n",
       "  </thead>\n",
       "  <tbody>\n",
       "    <tr>\n",
       "      <th>2020-12-24</th>\n",
       "      <td>-0.093231</td>\n",
       "      <td>0.450949</td>\n",
       "      <td>-0.968167</td>\n",
       "      <td>-0.560457</td>\n",
       "    </tr>\n",
       "    <tr>\n",
       "      <th>2020-12-25</th>\n",
       "      <td>-0.606707</td>\n",
       "      <td>0.512670</td>\n",
       "      <td>-2.078142</td>\n",
       "      <td>0.969244</td>\n",
       "    </tr>\n",
       "    <tr>\n",
       "      <th>2020-12-26</th>\n",
       "      <td>-0.631867</td>\n",
       "      <td>0.486324</td>\n",
       "      <td>-3.605444</td>\n",
       "      <td>0.106348</td>\n",
       "    </tr>\n",
       "    <tr>\n",
       "      <th>2020-12-27</th>\n",
       "      <td>-2.783124</td>\n",
       "      <td>0.221228</td>\n",
       "      <td>-2.787947</td>\n",
       "      <td>-0.820874</td>\n",
       "    </tr>\n",
       "    <tr>\n",
       "      <th>2020-12-28</th>\n",
       "      <td>-2.857735</td>\n",
       "      <td>1.483153</td>\n",
       "      <td>-3.855456</td>\n",
       "      <td>-2.080171</td>\n",
       "    </tr>\n",
       "    <tr>\n",
       "      <th>2020-12-29</th>\n",
       "      <td>-1.875889</td>\n",
       "      <td>0.998998</td>\n",
       "      <td>-6.549005</td>\n",
       "      <td>-1.905166</td>\n",
       "    </tr>\n",
       "    <tr>\n",
       "      <th>2020-12-30</th>\n",
       "      <td>-1.216834</td>\n",
       "      <td>1.466957</td>\n",
       "      <td>-8.374709</td>\n",
       "      <td>-1.995158</td>\n",
       "    </tr>\n",
       "    <tr>\n",
       "      <th>2020-12-31</th>\n",
       "      <td>-0.873767</td>\n",
       "      <td>0.868450</td>\n",
       "      <td>-7.915247</td>\n",
       "      <td>-1.701334</td>\n",
       "    </tr>\n",
       "  </tbody>\n",
       "</table>\n",
       "</div>"
      ],
      "text/plain": [
       "                   A         B         C         D\n",
       "2020-12-24 -0.093231  0.450949 -0.968167 -0.560457\n",
       "2020-12-25 -0.606707  0.512670 -2.078142  0.969244\n",
       "2020-12-26 -0.631867  0.486324 -3.605444  0.106348\n",
       "2020-12-27 -2.783124  0.221228 -2.787947 -0.820874\n",
       "2020-12-28 -2.857735  1.483153 -3.855456 -2.080171\n",
       "2020-12-29 -1.875889  0.998998 -6.549005 -1.905166\n",
       "2020-12-30 -1.216834  1.466957 -8.374709 -1.995158\n",
       "2020-12-31 -0.873767  0.868450 -7.915247 -1.701334"
      ]
     },
     "execution_count": 109,
     "metadata": {},
     "output_type": "execute_result"
    }
   ],
   "source": [
    "df.apply(np.cumsum, axis=0)"
   ]
  },
  {
   "cell_type": "code",
   "execution_count": 108,
   "metadata": {
    "ExecuteTime": {
     "end_time": "2020-03-01T13:39:28.452852Z",
     "start_time": "2020-03-01T13:39:28.441264Z"
    }
   },
   "outputs": [
    {
     "data": {
      "text/html": [
       "<div>\n",
       "<style>\n",
       "    .dataframe thead tr:only-child th {\n",
       "        text-align: right;\n",
       "    }\n",
       "\n",
       "    .dataframe thead th {\n",
       "        text-align: left;\n",
       "    }\n",
       "\n",
       "    .dataframe tbody tr th {\n",
       "        vertical-align: top;\n",
       "    }\n",
       "</style>\n",
       "<table border=\"1\" class=\"dataframe\">\n",
       "  <thead>\n",
       "    <tr style=\"text-align: right;\">\n",
       "      <th></th>\n",
       "      <th>A</th>\n",
       "      <th>B</th>\n",
       "      <th>C</th>\n",
       "      <th>D</th>\n",
       "    </tr>\n",
       "  </thead>\n",
       "  <tbody>\n",
       "    <tr>\n",
       "      <th>2020-12-24</th>\n",
       "      <td>-0.093231</td>\n",
       "      <td>0.357718</td>\n",
       "      <td>-0.610449</td>\n",
       "      <td>-1.170906</td>\n",
       "    </tr>\n",
       "    <tr>\n",
       "      <th>2020-12-25</th>\n",
       "      <td>-0.513476</td>\n",
       "      <td>-0.451754</td>\n",
       "      <td>-1.561730</td>\n",
       "      <td>-0.032028</td>\n",
       "    </tr>\n",
       "    <tr>\n",
       "      <th>2020-12-26</th>\n",
       "      <td>-0.025160</td>\n",
       "      <td>-0.051507</td>\n",
       "      <td>-1.578809</td>\n",
       "      <td>-2.441705</td>\n",
       "    </tr>\n",
       "    <tr>\n",
       "      <th>2020-12-27</th>\n",
       "      <td>-2.151258</td>\n",
       "      <td>-2.416353</td>\n",
       "      <td>-1.598856</td>\n",
       "      <td>-2.526078</td>\n",
       "    </tr>\n",
       "    <tr>\n",
       "      <th>2020-12-28</th>\n",
       "      <td>-0.074611</td>\n",
       "      <td>1.187313</td>\n",
       "      <td>0.119805</td>\n",
       "      <td>-1.139492</td>\n",
       "    </tr>\n",
       "    <tr>\n",
       "      <th>2020-12-29</th>\n",
       "      <td>0.981847</td>\n",
       "      <td>0.497692</td>\n",
       "      <td>-2.195858</td>\n",
       "      <td>-2.020853</td>\n",
       "    </tr>\n",
       "    <tr>\n",
       "      <th>2020-12-30</th>\n",
       "      <td>0.659055</td>\n",
       "      <td>1.127014</td>\n",
       "      <td>-0.698690</td>\n",
       "      <td>-0.788681</td>\n",
       "    </tr>\n",
       "    <tr>\n",
       "      <th>2020-12-31</th>\n",
       "      <td>0.343067</td>\n",
       "      <td>-0.255440</td>\n",
       "      <td>0.204021</td>\n",
       "      <td>0.497845</td>\n",
       "    </tr>\n",
       "  </tbody>\n",
       "</table>\n",
       "</div>"
      ],
      "text/plain": [
       "                   A         B         C         D\n",
       "2020-12-24 -0.093231  0.357718 -0.610449 -1.170906\n",
       "2020-12-25 -0.513476 -0.451754 -1.561730 -0.032028\n",
       "2020-12-26 -0.025160 -0.051507 -1.578809 -2.441705\n",
       "2020-12-27 -2.151258 -2.416353 -1.598856 -2.526078\n",
       "2020-12-28 -0.074611  1.187313  0.119805 -1.139492\n",
       "2020-12-29  0.981847  0.497692 -2.195858 -2.020853\n",
       "2020-12-30  0.659055  1.127014 -0.698690 -0.788681\n",
       "2020-12-31  0.343067 -0.255440  0.204021  0.497845"
      ]
     },
     "execution_count": 108,
     "metadata": {},
     "output_type": "execute_result"
    }
   ],
   "source": [
    "df.apply(np.cumsum, axis=1)"
   ]
  },
  {
   "cell_type": "code",
   "execution_count": 104,
   "metadata": {
    "ExecuteTime": {
     "end_time": "2020-03-01T13:38:54.252288Z",
     "start_time": "2020-03-01T13:38:54.247345Z"
    }
   },
   "outputs": [
    {
     "data": {
      "text/plain": [
       "A   -0.109221\n",
       "B    0.108556\n",
       "C   -0.989406\n",
       "D   -0.212667\n",
       "dtype: float64"
      ]
     },
     "execution_count": 104,
     "metadata": {},
     "output_type": "execute_result"
    }
   ],
   "source": [
    "df.apply(np.average, axis=0) # 열 기준"
   ]
  },
  {
   "cell_type": "code",
   "execution_count": 105,
   "metadata": {
    "ExecuteTime": {
     "end_time": "2020-03-01T13:38:56.953176Z",
     "start_time": "2020-03-01T13:38:56.943062Z"
    }
   },
   "outputs": [
    {
     "data": {
      "text/plain": [
       "2020-12-24   -0.292727\n",
       "2020-12-25   -0.008007\n",
       "2020-12-26   -0.610426\n",
       "2020-12-27   -0.631520\n",
       "2020-12-28   -0.284873\n",
       "2020-12-29   -0.505213\n",
       "2020-12-30   -0.197170\n",
       "2020-12-31    0.124461\n",
       "Freq: D, dtype: float64"
      ]
     },
     "execution_count": 105,
     "metadata": {},
     "output_type": "execute_result"
    }
   ],
   "source": [
    "df.apply(np.average, axis=1) # 행 기준"
   ]
  },
  {
   "cell_type": "code",
   "execution_count": 121,
   "metadata": {
    "ExecuteTime": {
     "end_time": "2020-03-01T13:49:16.991452Z",
     "start_time": "2020-03-01T13:49:16.988519Z"
    }
   },
   "outputs": [],
   "source": [
    "def get_divide(df):\n",
    "    return (df['A'] + df['B'] + df['C'] + df['D']) / 4"
   ]
  },
  {
   "cell_type": "code",
   "execution_count": 122,
   "metadata": {
    "ExecuteTime": {
     "end_time": "2020-03-01T13:49:17.741324Z",
     "start_time": "2020-03-01T13:49:17.731593Z"
    }
   },
   "outputs": [
    {
     "data": {
      "text/plain": [
       "2020-12-24   -0.292727\n",
       "2020-12-25   -0.008007\n",
       "2020-12-26   -0.610426\n",
       "2020-12-27   -0.631520\n",
       "2020-12-28   -0.284873\n",
       "2020-12-29   -0.505213\n",
       "2020-12-30   -0.197170\n",
       "2020-12-31    0.124461\n",
       "Freq: D, dtype: float64"
      ]
     },
     "execution_count": 122,
     "metadata": {},
     "output_type": "execute_result"
    }
   ],
   "source": [
    "df.apply(get_divide, axis=1)"
   ]
  },
  {
   "cell_type": "code",
   "execution_count": 123,
   "metadata": {
    "ExecuteTime": {
     "end_time": "2020-03-01T13:49:48.454492Z",
     "start_time": "2020-03-01T13:49:48.450608Z"
    }
   },
   "outputs": [],
   "source": [
    "df['average'] = df.apply(get_divide, axis=1)"
   ]
  },
  {
   "cell_type": "code",
   "execution_count": 124,
   "metadata": {
    "ExecuteTime": {
     "end_time": "2020-03-01T13:49:53.916058Z",
     "start_time": "2020-03-01T13:49:53.906620Z"
    }
   },
   "outputs": [
    {
     "data": {
      "text/html": [
       "<div>\n",
       "<style>\n",
       "    .dataframe thead tr:only-child th {\n",
       "        text-align: right;\n",
       "    }\n",
       "\n",
       "    .dataframe thead th {\n",
       "        text-align: left;\n",
       "    }\n",
       "\n",
       "    .dataframe tbody tr th {\n",
       "        vertical-align: top;\n",
       "    }\n",
       "</style>\n",
       "<table border=\"1\" class=\"dataframe\">\n",
       "  <thead>\n",
       "    <tr style=\"text-align: right;\">\n",
       "      <th></th>\n",
       "      <th>A</th>\n",
       "      <th>B</th>\n",
       "      <th>C</th>\n",
       "      <th>D</th>\n",
       "      <th>average</th>\n",
       "    </tr>\n",
       "  </thead>\n",
       "  <tbody>\n",
       "    <tr>\n",
       "      <th>2020-12-24</th>\n",
       "      <td>-0.093231</td>\n",
       "      <td>0.450949</td>\n",
       "      <td>-0.968167</td>\n",
       "      <td>-0.560457</td>\n",
       "      <td>-0.292727</td>\n",
       "    </tr>\n",
       "    <tr>\n",
       "      <th>2020-12-25</th>\n",
       "      <td>-0.513476</td>\n",
       "      <td>0.061722</td>\n",
       "      <td>-1.109975</td>\n",
       "      <td>1.529701</td>\n",
       "      <td>-0.008007</td>\n",
       "    </tr>\n",
       "    <tr>\n",
       "      <th>2020-12-26</th>\n",
       "      <td>-0.025160</td>\n",
       "      <td>-0.026347</td>\n",
       "      <td>-1.527302</td>\n",
       "      <td>-0.862896</td>\n",
       "      <td>-0.610426</td>\n",
       "    </tr>\n",
       "    <tr>\n",
       "      <th>2020-12-27</th>\n",
       "      <td>-2.151258</td>\n",
       "      <td>-0.265095</td>\n",
       "      <td>0.817497</td>\n",
       "      <td>-0.927223</td>\n",
       "      <td>-0.631520</td>\n",
       "    </tr>\n",
       "    <tr>\n",
       "      <th>2020-12-28</th>\n",
       "      <td>-0.074611</td>\n",
       "      <td>1.261924</td>\n",
       "      <td>-1.067508</td>\n",
       "      <td>-1.259297</td>\n",
       "      <td>-0.284873</td>\n",
       "    </tr>\n",
       "    <tr>\n",
       "      <th>2020-12-29</th>\n",
       "      <td>0.981847</td>\n",
       "      <td>-0.484155</td>\n",
       "      <td>-2.693550</td>\n",
       "      <td>0.175005</td>\n",
       "      <td>-0.505213</td>\n",
       "    </tr>\n",
       "    <tr>\n",
       "      <th>2020-12-30</th>\n",
       "      <td>0.659055</td>\n",
       "      <td>0.467959</td>\n",
       "      <td>-1.825703</td>\n",
       "      <td>-0.089992</td>\n",
       "      <td>-0.197170</td>\n",
       "    </tr>\n",
       "    <tr>\n",
       "      <th>2020-12-31</th>\n",
       "      <td>0.343067</td>\n",
       "      <td>-0.598507</td>\n",
       "      <td>0.459461</td>\n",
       "      <td>0.293824</td>\n",
       "      <td>0.124461</td>\n",
       "    </tr>\n",
       "  </tbody>\n",
       "</table>\n",
       "</div>"
      ],
      "text/plain": [
       "                   A         B         C         D   average\n",
       "2020-12-24 -0.093231  0.450949 -0.968167 -0.560457 -0.292727\n",
       "2020-12-25 -0.513476  0.061722 -1.109975  1.529701 -0.008007\n",
       "2020-12-26 -0.025160 -0.026347 -1.527302 -0.862896 -0.610426\n",
       "2020-12-27 -2.151258 -0.265095  0.817497 -0.927223 -0.631520\n",
       "2020-12-28 -0.074611  1.261924 -1.067508 -1.259297 -0.284873\n",
       "2020-12-29  0.981847 -0.484155 -2.693550  0.175005 -0.505213\n",
       "2020-12-30  0.659055  0.467959 -1.825703 -0.089992 -0.197170\n",
       "2020-12-31  0.343067 -0.598507  0.459461  0.293824  0.124461"
      ]
     },
     "execution_count": 124,
     "metadata": {},
     "output_type": "execute_result"
    }
   ],
   "source": [
    "df"
   ]
  },
  {
   "cell_type": "markdown",
   "metadata": {},
   "source": [
    "##### 최대값과 최소값의 차이(혹은 거리) one-line 함수인 lambda 사용"
   ]
  },
  {
   "cell_type": "code",
   "execution_count": 125,
   "metadata": {
    "ExecuteTime": {
     "end_time": "2020-03-01T13:51:42.231849Z",
     "start_time": "2020-03-01T13:51:42.225789Z"
    }
   },
   "outputs": [
    {
     "data": {
      "text/plain": [
       "A          3.133104\n",
       "B          1.860431\n",
       "C          3.511047\n",
       "D          2.788998\n",
       "average    0.755981\n",
       "dtype: float64"
      ]
     },
     "execution_count": 125,
     "metadata": {},
     "output_type": "execute_result"
    }
   ],
   "source": [
    "df.apply(lambda x: x.max() - x.min())"
   ]
  },
  {
   "cell_type": "code",
   "execution_count": 126,
   "metadata": {
    "ExecuteTime": {
     "end_time": "2020-03-01T13:54:31.669900Z",
     "start_time": "2020-03-01T13:54:31.658327Z"
    }
   },
   "outputs": [
    {
     "data": {
      "text/plain": [
       "2020-12-24    1.419115\n",
       "2020-12-25    2.639677\n",
       "2020-12-26    1.502142\n",
       "2020-12-27    2.968755\n",
       "2020-12-28    2.521221\n",
       "2020-12-29    3.675397\n",
       "2020-12-30    2.484758\n",
       "2020-12-31    1.057968\n",
       "Freq: D, dtype: float64"
      ]
     },
     "execution_count": 126,
     "metadata": {},
     "output_type": "execute_result"
    }
   ],
   "source": [
    "df.apply(lambda x: x.max() - x.min(), axis=1)"
   ]
  },
  {
   "cell_type": "code",
   "execution_count": null,
   "metadata": {},
   "outputs": [],
   "source": []
  },
  {
   "cell_type": "code",
   "execution_count": null,
   "metadata": {},
   "outputs": [],
   "source": []
  },
  {
   "cell_type": "markdown",
   "metadata": {},
   "source": [
    "## 인덱스 순서 변경"
   ]
  },
  {
   "cell_type": "code",
   "execution_count": 127,
   "metadata": {
    "ExecuteTime": {
     "end_time": "2020-03-01T14:01:28.951168Z",
     "start_time": "2020-03-01T14:01:28.941541Z"
    }
   },
   "outputs": [
    {
     "data": {
      "text/html": [
       "<div>\n",
       "<style>\n",
       "    .dataframe thead tr:only-child th {\n",
       "        text-align: right;\n",
       "    }\n",
       "\n",
       "    .dataframe thead th {\n",
       "        text-align: left;\n",
       "    }\n",
       "\n",
       "    .dataframe tbody tr th {\n",
       "        vertical-align: top;\n",
       "    }\n",
       "</style>\n",
       "<table border=\"1\" class=\"dataframe\">\n",
       "  <thead>\n",
       "    <tr style=\"text-align: right;\">\n",
       "      <th></th>\n",
       "      <th>A</th>\n",
       "      <th>B</th>\n",
       "      <th>C</th>\n",
       "      <th>D</th>\n",
       "      <th>average</th>\n",
       "    </tr>\n",
       "  </thead>\n",
       "  <tbody>\n",
       "    <tr>\n",
       "      <th>2020-12-24</th>\n",
       "      <td>-0.093231</td>\n",
       "      <td>0.450949</td>\n",
       "      <td>-0.968167</td>\n",
       "      <td>-0.560457</td>\n",
       "      <td>-0.292727</td>\n",
       "    </tr>\n",
       "    <tr>\n",
       "      <th>2020-12-25</th>\n",
       "      <td>-0.513476</td>\n",
       "      <td>0.061722</td>\n",
       "      <td>-1.109975</td>\n",
       "      <td>1.529701</td>\n",
       "      <td>-0.008007</td>\n",
       "    </tr>\n",
       "    <tr>\n",
       "      <th>2020-12-26</th>\n",
       "      <td>-0.025160</td>\n",
       "      <td>-0.026347</td>\n",
       "      <td>-1.527302</td>\n",
       "      <td>-0.862896</td>\n",
       "      <td>-0.610426</td>\n",
       "    </tr>\n",
       "    <tr>\n",
       "      <th>2020-12-27</th>\n",
       "      <td>-2.151258</td>\n",
       "      <td>-0.265095</td>\n",
       "      <td>0.817497</td>\n",
       "      <td>-0.927223</td>\n",
       "      <td>-0.631520</td>\n",
       "    </tr>\n",
       "    <tr>\n",
       "      <th>2020-12-28</th>\n",
       "      <td>-0.074611</td>\n",
       "      <td>1.261924</td>\n",
       "      <td>-1.067508</td>\n",
       "      <td>-1.259297</td>\n",
       "      <td>-0.284873</td>\n",
       "    </tr>\n",
       "    <tr>\n",
       "      <th>2020-12-29</th>\n",
       "      <td>0.981847</td>\n",
       "      <td>-0.484155</td>\n",
       "      <td>-2.693550</td>\n",
       "      <td>0.175005</td>\n",
       "      <td>-0.505213</td>\n",
       "    </tr>\n",
       "    <tr>\n",
       "      <th>2020-12-30</th>\n",
       "      <td>0.659055</td>\n",
       "      <td>0.467959</td>\n",
       "      <td>-1.825703</td>\n",
       "      <td>-0.089992</td>\n",
       "      <td>-0.197170</td>\n",
       "    </tr>\n",
       "    <tr>\n",
       "      <th>2020-12-31</th>\n",
       "      <td>0.343067</td>\n",
       "      <td>-0.598507</td>\n",
       "      <td>0.459461</td>\n",
       "      <td>0.293824</td>\n",
       "      <td>0.124461</td>\n",
       "    </tr>\n",
       "  </tbody>\n",
       "</table>\n",
       "</div>"
      ],
      "text/plain": [
       "                   A         B         C         D   average\n",
       "2020-12-24 -0.093231  0.450949 -0.968167 -0.560457 -0.292727\n",
       "2020-12-25 -0.513476  0.061722 -1.109975  1.529701 -0.008007\n",
       "2020-12-26 -0.025160 -0.026347 -1.527302 -0.862896 -0.610426\n",
       "2020-12-27 -2.151258 -0.265095  0.817497 -0.927223 -0.631520\n",
       "2020-12-28 -0.074611  1.261924 -1.067508 -1.259297 -0.284873\n",
       "2020-12-29  0.981847 -0.484155 -2.693550  0.175005 -0.505213\n",
       "2020-12-30  0.659055  0.467959 -1.825703 -0.089992 -0.197170\n",
       "2020-12-31  0.343067 -0.598507  0.459461  0.293824  0.124461"
      ]
     },
     "execution_count": 127,
     "metadata": {},
     "output_type": "execute_result"
    }
   ],
   "source": [
    "df"
   ]
  },
  {
   "cell_type": "code",
   "execution_count": 128,
   "metadata": {
    "ExecuteTime": {
     "end_time": "2020-03-01T14:02:15.893082Z",
     "start_time": "2020-03-01T14:02:15.889820Z"
    }
   },
   "outputs": [],
   "source": [
    "df_reindex = df.reindex(index=[0,4,2])"
   ]
  },
  {
   "cell_type": "code",
   "execution_count": 129,
   "metadata": {
    "ExecuteTime": {
     "end_time": "2020-03-01T14:02:21.432895Z",
     "start_time": "2020-03-01T14:02:21.424068Z"
    }
   },
   "outputs": [
    {
     "data": {
      "text/html": [
       "<div>\n",
       "<style>\n",
       "    .dataframe thead tr:only-child th {\n",
       "        text-align: right;\n",
       "    }\n",
       "\n",
       "    .dataframe thead th {\n",
       "        text-align: left;\n",
       "    }\n",
       "\n",
       "    .dataframe tbody tr th {\n",
       "        vertical-align: top;\n",
       "    }\n",
       "</style>\n",
       "<table border=\"1\" class=\"dataframe\">\n",
       "  <thead>\n",
       "    <tr style=\"text-align: right;\">\n",
       "      <th></th>\n",
       "      <th>A</th>\n",
       "      <th>B</th>\n",
       "      <th>C</th>\n",
       "      <th>D</th>\n",
       "      <th>average</th>\n",
       "    </tr>\n",
       "  </thead>\n",
       "  <tbody>\n",
       "    <tr>\n",
       "      <th>0</th>\n",
       "      <td>NaN</td>\n",
       "      <td>NaN</td>\n",
       "      <td>NaN</td>\n",
       "      <td>NaN</td>\n",
       "      <td>NaN</td>\n",
       "    </tr>\n",
       "    <tr>\n",
       "      <th>4</th>\n",
       "      <td>NaN</td>\n",
       "      <td>NaN</td>\n",
       "      <td>NaN</td>\n",
       "      <td>NaN</td>\n",
       "      <td>NaN</td>\n",
       "    </tr>\n",
       "    <tr>\n",
       "      <th>2</th>\n",
       "      <td>NaN</td>\n",
       "      <td>NaN</td>\n",
       "      <td>NaN</td>\n",
       "      <td>NaN</td>\n",
       "      <td>NaN</td>\n",
       "    </tr>\n",
       "  </tbody>\n",
       "</table>\n",
       "</div>"
      ],
      "text/plain": [
       "    A   B   C   D  average\n",
       "0 NaN NaN NaN NaN      NaN\n",
       "4 NaN NaN NaN NaN      NaN\n",
       "2 NaN NaN NaN NaN      NaN"
      ]
     },
     "execution_count": 129,
     "metadata": {},
     "output_type": "execute_result"
    }
   ],
   "source": [
    "df_reindex"
   ]
  },
  {
   "cell_type": "code",
   "execution_count": null,
   "metadata": {},
   "outputs": [],
   "source": []
  },
  {
   "cell_type": "code",
   "execution_count": null,
   "metadata": {
    "ExecuteTime": {
     "end_time": "2020-03-01T13:11:42.980260Z",
     "start_time": "2020-03-01T13:11:42.304Z"
    }
   },
   "outputs": [],
   "source": [
    "df = pd.DataFrame(sample_data, columns=['기관명','2014년','2018년'])\n",
    "df"
   ]
  },
  {
   "cell_type": "code",
   "execution_count": null,
   "metadata": {
    "ExecuteTime": {
     "end_time": "2020-03-01T13:11:42.981121Z",
     "start_time": "2020-03-01T13:11:42.307Z"
    }
   },
   "outputs": [],
   "source": [
    "df = df.reindex(index=[0,2,1])\n",
    "df"
   ]
  },
  {
   "cell_type": "code",
   "execution_count": null,
   "metadata": {
    "ExecuteTime": {
     "end_time": "2020-03-01T13:11:42.982032Z",
     "start_time": "2020-03-01T13:11:42.309Z"
    }
   },
   "outputs": [],
   "source": [
    "import numpy as np"
   ]
  },
  {
   "cell_type": "code",
   "execution_count": null,
   "metadata": {
    "ExecuteTime": {
     "end_time": "2020-03-01T13:11:42.983035Z",
     "start_time": "2020-03-01T13:11:42.312Z"
    }
   },
   "outputs": [],
   "source": [
    "df['합계'] = np.nan\n",
    "df"
   ]
  },
  {
   "cell_type": "code",
   "execution_count": null,
   "metadata": {
    "ExecuteTime": {
     "end_time": "2020-03-01T13:11:42.984059Z",
     "start_time": "2020-03-01T13:11:42.315Z"
    }
   },
   "outputs": [],
   "source": [
    "df['합계'] = df['2014년'] + df['2018년']\n",
    "df"
   ]
  },
  {
   "cell_type": "code",
   "execution_count": null,
   "metadata": {
    "ExecuteTime": {
     "end_time": "2020-03-01T13:11:42.984922Z",
     "start_time": "2020-03-01T13:11:42.318Z"
    }
   },
   "outputs": [],
   "source": [
    "df.loc[3] = np.nan"
   ]
  },
  {
   "cell_type": "code",
   "execution_count": null,
   "metadata": {
    "ExecuteTime": {
     "end_time": "2020-03-01T13:11:42.985813Z",
     "start_time": "2020-03-01T13:11:42.321Z"
    }
   },
   "outputs": [],
   "source": [
    "df"
   ]
  },
  {
   "cell_type": "code",
   "execution_count": null,
   "metadata": {
    "ExecuteTime": {
     "end_time": "2020-03-01T13:11:42.986875Z",
     "start_time": "2020-03-01T13:11:42.324Z"
    }
   },
   "outputs": [],
   "source": [
    "df.loc[4] = ['강서구','230','254',np.nan]\n",
    "df"
   ]
  },
  {
   "cell_type": "code",
   "execution_count": null,
   "metadata": {
    "ExecuteTime": {
     "end_time": "2020-03-01T13:11:42.988096Z",
     "start_time": "2020-03-01T13:11:42.327Z"
    }
   },
   "outputs": [],
   "source": [
    "df.loc[5] = df.loc[0]\n",
    "df"
   ]
  },
  {
   "cell_type": "code",
   "execution_count": null,
   "metadata": {},
   "outputs": [],
   "source": []
  },
  {
   "cell_type": "markdown",
   "metadata": {},
   "source": [
    "### DataFrame 행 삭제\n",
    "\n",
    "* 결측데이터 확인\n",
    "* 'dropna'을 이용한 결측 데이터 제거\n",
    "* 'drop.duplicates'이용한 중복 제거\n",
    "* index명, index순서 이용해서 행 삭제\n",
    "* 조건에 따라 행 삭제"
   ]
  },
  {
   "cell_type": "markdown",
   "metadata": {},
   "source": [
    "#### duplicated()"
   ]
  },
  {
   "cell_type": "code",
   "execution_count": null,
   "metadata": {
    "ExecuteTime": {
     "end_time": "2020-03-01T13:11:42.989112Z",
     "start_time": "2020-03-01T13:11:42.333Z"
    }
   },
   "outputs": [],
   "source": [
    "# 중목 데이터 확인 후 삭제"
   ]
  },
  {
   "cell_type": "code",
   "execution_count": null,
   "metadata": {
    "ExecuteTime": {
     "end_time": "2020-03-01T13:11:42.989986Z",
     "start_time": "2020-03-01T13:11:42.337Z"
    }
   },
   "outputs": [],
   "source": [
    "cctv_seoul = pd.read_csv('./data/cctv_in_seoul.csv', encoding='utf-8')\n",
    "cctv_seoul.duplicated() # 중복된 행:True 반대의 경우:False"
   ]
  },
  {
   "cell_type": "markdown",
   "metadata": {},
   "source": [
    "#### duplicated().sum()"
   ]
  },
  {
   "cell_type": "code",
   "execution_count": null,
   "metadata": {
    "ExecuteTime": {
     "end_time": "2020-03-01T13:11:42.990831Z",
     "start_time": "2020-03-01T13:11:42.341Z"
    }
   },
   "outputs": [],
   "source": [
    "cctv_seoul.duplicated().sum()"
   ]
  },
  {
   "cell_type": "markdown",
   "metadata": {},
   "source": [
    "#### drop_duplicates()"
   ]
  },
  {
   "cell_type": "code",
   "execution_count": null,
   "metadata": {
    "ExecuteTime": {
     "end_time": "2020-03-01T13:11:42.991721Z",
     "start_time": "2020-03-01T13:11:42.344Z"
    }
   },
   "outputs": [],
   "source": [
    "cctv_seoul_2 = cctv_seoul.drop_duplicates()"
   ]
  },
  {
   "cell_type": "code",
   "execution_count": null,
   "metadata": {
    "ExecuteTime": {
     "end_time": "2020-03-01T13:11:42.992581Z",
     "start_time": "2020-03-01T13:11:42.347Z"
    }
   },
   "outputs": [],
   "source": [
    "cctv_seoul.drop_duplicates(inplace=True)"
   ]
  },
  {
   "cell_type": "code",
   "execution_count": null,
   "metadata": {
    "ExecuteTime": {
     "end_time": "2020-03-01T13:11:42.993425Z",
     "start_time": "2020-03-01T13:11:42.351Z"
    }
   },
   "outputs": [],
   "source": [
    "cctv_seoul"
   ]
  },
  {
   "cell_type": "markdown",
   "metadata": {},
   "source": [
    "#### drop()\n",
    "* index명을 사용해서 행을 삭제할 때는 ()안에 삭제할 행의 이름을 입력\n",
    "* 주의할 점은 index명을 사용한다는 것이다. "
   ]
  },
  {
   "cell_type": "markdown",
   "metadata": {},
   "source": [
    "##### 'index명' 또는 'index순서'로 행 삭제"
   ]
  },
  {
   "cell_type": "code",
   "execution_count": null,
   "metadata": {
    "ExecuteTime": {
     "end_time": "2020-03-01T13:11:42.994303Z",
     "start_time": "2020-03-01T13:11:42.356Z"
    }
   },
   "outputs": [],
   "source": [
    "cctv_seoul = pd.read_csv('./data/cctv_in_seoul.csv', encoding='utf-8')"
   ]
  },
  {
   "cell_type": "code",
   "execution_count": null,
   "metadata": {
    "ExecuteTime": {
     "end_time": "2020-03-01T13:11:42.995339Z",
     "start_time": "2020-03-01T13:11:42.359Z"
    }
   },
   "outputs": [],
   "source": [
    "cctv_seoul_2 = cctv_seoul.drop([25, 26, 27])"
   ]
  },
  {
   "cell_type": "code",
   "execution_count": null,
   "metadata": {
    "ExecuteTime": {
     "end_time": "2020-03-01T13:11:42.996264Z",
     "start_time": "2020-03-01T13:11:42.363Z"
    }
   },
   "outputs": [],
   "source": [
    "cctv_seoul_2"
   ]
  },
  {
   "cell_type": "code",
   "execution_count": null,
   "metadata": {
    "ExecuteTime": {
     "end_time": "2020-03-01T13:11:42.997178Z",
     "start_time": "2020-03-01T13:11:42.367Z"
    }
   },
   "outputs": [],
   "source": [
    "cctv_seoul = pd.read_csv('./data/cctv_in_seoul.csv', encoding='utf-8')\n",
    "cctv_seoul"
   ]
  },
  {
   "cell_type": "code",
   "execution_count": null,
   "metadata": {
    "ExecuteTime": {
     "end_time": "2020-03-01T13:11:42.998026Z",
     "start_time": "2020-03-01T13:11:42.371Z"
    }
   },
   "outputs": [],
   "source": [
    "cctv_seoul.drop(cctv_seoul.index[25:]) # 데이터의 내용 갱신 안됨\n",
    "cctv_seoul"
   ]
  },
  {
   "cell_type": "code",
   "execution_count": null,
   "metadata": {
    "ExecuteTime": {
     "end_time": "2020-03-01T13:11:42.998959Z",
     "start_time": "2020-03-01T13:11:42.375Z"
    }
   },
   "outputs": [],
   "source": [
    "cctv_seoul.drop(cctv_seoul.index[25:], inplace=True) # 데이터의 내용 갱신"
   ]
  },
  {
   "cell_type": "markdown",
   "metadata": {},
   "source": [
    "### DataFrame의 문자열 컬럼을 숫자형으로\n",
    "\n",
    "* pd.to_numeric()\n",
    "* astype()"
   ]
  },
  {
   "cell_type": "code",
   "execution_count": null,
   "metadata": {
    "ExecuteTime": {
     "end_time": "2020-03-01T13:11:42.999763Z",
     "start_time": "2020-03-01T13:11:42.379Z"
    }
   },
   "outputs": [],
   "source": [
    "s = pd.Series(['1.0', '2', -3])\n",
    "s1 = pd.to_numeric(s)"
   ]
  },
  {
   "cell_type": "code",
   "execution_count": null,
   "metadata": {
    "ExecuteTime": {
     "end_time": "2020-03-01T13:11:43.000748Z",
     "start_time": "2020-03-01T13:11:42.382Z"
    }
   },
   "outputs": [],
   "source": [
    "s1"
   ]
  },
  {
   "cell_type": "code",
   "execution_count": null,
   "metadata": {
    "ExecuteTime": {
     "end_time": "2020-03-01T13:11:43.001445Z",
     "start_time": "2020-03-01T13:11:42.385Z"
    },
    "scrolled": true
   },
   "outputs": [],
   "source": [
    "pd.to_numeric(s, downcast='float')"
   ]
  },
  {
   "cell_type": "code",
   "execution_count": null,
   "metadata": {
    "ExecuteTime": {
     "end_time": "2020-03-01T13:11:43.002548Z",
     "start_time": "2020-03-01T13:11:42.387Z"
    }
   },
   "outputs": [],
   "source": [
    "pd.to_numeric(s, downcast='signed')"
   ]
  },
  {
   "cell_type": "code",
   "execution_count": null,
   "metadata": {
    "ExecuteTime": {
     "end_time": "2020-03-01T13:11:43.003858Z",
     "start_time": "2020-03-01T13:11:42.390Z"
    }
   },
   "outputs": [],
   "source": [
    "s = pd.Series(['apple', '1.0', '2', -3])"
   ]
  },
  {
   "cell_type": "code",
   "execution_count": null,
   "metadata": {
    "ExecuteTime": {
     "end_time": "2020-03-01T13:11:43.004970Z",
     "start_time": "2020-03-01T13:11:42.393Z"
    }
   },
   "outputs": [],
   "source": [
    "pd.to_numeric(s, errors='ignore')"
   ]
  },
  {
   "cell_type": "code",
   "execution_count": null,
   "metadata": {
    "ExecuteTime": {
     "end_time": "2020-03-01T13:11:43.005886Z",
     "start_time": "2020-03-01T13:11:42.396Z"
    }
   },
   "outputs": [],
   "source": [
    "pd.to_numeric(s, errors='coerce')"
   ]
  },
  {
   "cell_type": "code",
   "execution_count": null,
   "metadata": {
    "ExecuteTime": {
     "end_time": "2020-03-01T13:11:43.006939Z",
     "start_time": "2020-03-01T13:11:42.399Z"
    }
   },
   "outputs": [],
   "source": [
    "df_str = pd.DataFrame({'col_str' : ['1','2','3','4','5']})"
   ]
  },
  {
   "cell_type": "code",
   "execution_count": null,
   "metadata": {
    "ExecuteTime": {
     "end_time": "2020-03-01T13:11:43.007831Z",
     "start_time": "2020-03-01T13:11:42.402Z"
    }
   },
   "outputs": [],
   "source": [
    "df_str"
   ]
  },
  {
   "cell_type": "code",
   "execution_count": null,
   "metadata": {
    "ExecuteTime": {
     "end_time": "2020-03-01T13:11:43.008815Z",
     "start_time": "2020-03-01T13:11:42.405Z"
    }
   },
   "outputs": [],
   "source": [
    "df_str.dtypes"
   ]
  },
  {
   "cell_type": "code",
   "execution_count": null,
   "metadata": {
    "ExecuteTime": {
     "end_time": "2020-03-01T13:11:43.009620Z",
     "start_time": "2020-03-01T13:11:42.408Z"
    }
   },
   "outputs": [],
   "source": [
    "df_str['col_int'] = pd.to_numeric(df_str['col_str'])"
   ]
  },
  {
   "cell_type": "code",
   "execution_count": null,
   "metadata": {
    "ExecuteTime": {
     "end_time": "2020-03-01T13:11:43.010523Z",
     "start_time": "2020-03-01T13:11:42.411Z"
    }
   },
   "outputs": [],
   "source": [
    "df_str.dtypes"
   ]
  },
  {
   "cell_type": "code",
   "execution_count": null,
   "metadata": {
    "ExecuteTime": {
     "end_time": "2020-03-01T13:11:43.011354Z",
     "start_time": "2020-03-01T13:11:42.414Z"
    },
    "scrolled": true
   },
   "outputs": [],
   "source": [
    "df_str"
   ]
  },
  {
   "cell_type": "code",
   "execution_count": null,
   "metadata": {
    "ExecuteTime": {
     "end_time": "2020-03-01T13:11:43.012158Z",
     "start_time": "2020-03-01T13:11:42.417Z"
    }
   },
   "outputs": [],
   "source": [
    "for col in cctv_seoul.columns:\n",
    "    cctv_seoul[col] = cctv_seoul[col].replace(\",\", \"\")"
   ]
  },
  {
   "cell_type": "code",
   "execution_count": null,
   "metadata": {
    "ExecuteTime": {
     "end_time": "2020-03-01T13:11:43.012926Z",
     "start_time": "2020-03-01T13:11:42.420Z"
    }
   },
   "outputs": [],
   "source": [
    "cctv_seoul.dtypes"
   ]
  },
  {
   "cell_type": "code",
   "execution_count": null,
   "metadata": {
    "ExecuteTime": {
     "end_time": "2020-03-01T13:11:43.013917Z",
     "start_time": "2020-03-01T13:11:42.423Z"
    }
   },
   "outputs": [],
   "source": [
    "cctv_seoul['소계_int'] = pd.to_numeric(cctv_seoul['소계'])"
   ]
  },
  {
   "cell_type": "code",
   "execution_count": null,
   "metadata": {
    "ExecuteTime": {
     "end_time": "2020-03-01T13:11:43.014746Z",
     "start_time": "2020-03-01T13:11:42.426Z"
    }
   },
   "outputs": [],
   "source": [
    "cctv_seoul"
   ]
  },
  {
   "cell_type": "markdown",
   "metadata": {},
   "source": [
    "#### 다수의 문자열 칼럼"
   ]
  },
  {
   "cell_type": "code",
   "execution_count": null,
   "metadata": {
    "ExecuteTime": {
     "end_time": "2020-03-01T13:11:43.015596Z",
     "start_time": "2020-03-01T13:11:42.431Z"
    }
   },
   "outputs": [],
   "source": [
    "import pandas as pd\n",
    "cctv_seoul = pd.read_csv('./data/cctv_in_seoul.csv', encoding='utf-8', thousands=',')\n",
    "cctv_seoul.dropna(inplace=True)"
   ]
  },
  {
   "cell_type": "code",
   "execution_count": null,
   "metadata": {
    "ExecuteTime": {
     "end_time": "2020-03-01T13:11:43.016564Z",
     "start_time": "2020-03-01T13:11:42.434Z"
    }
   },
   "outputs": [],
   "source": [
    "cctv_seoul.dtypes"
   ]
  },
  {
   "cell_type": "code",
   "execution_count": null,
   "metadata": {
    "ExecuteTime": {
     "end_time": "2020-03-01T13:11:43.018205Z",
     "start_time": "2020-03-01T13:11:42.436Z"
    }
   },
   "outputs": [],
   "source": [
    "df2 = pd.DataFrame({'col_str_1': ['1', '2', '3'], \n",
    "\n",
    "                   'col_str_2': ['4', '5', '6'], \n",
    "\n",
    "                   'col_str_3': ['7.0', '8.1', '9.2']})"
   ]
  },
  {
   "cell_type": "code",
   "execution_count": null,
   "metadata": {
    "ExecuteTime": {
     "end_time": "2020-03-01T13:11:43.019111Z",
     "start_time": "2020-03-01T13:11:42.439Z"
    }
   },
   "outputs": [],
   "source": [
    "df2"
   ]
  },
  {
   "cell_type": "code",
   "execution_count": null,
   "metadata": {
    "ExecuteTime": {
     "end_time": "2020-03-01T13:11:43.020079Z",
     "start_time": "2020-03-01T13:11:42.442Z"
    }
   },
   "outputs": [],
   "source": [
    "df2.dtypes"
   ]
  },
  {
   "cell_type": "code",
   "execution_count": null,
   "metadata": {
    "ExecuteTime": {
     "end_time": "2020-03-01T13:11:43.021002Z",
     "start_time": "2020-03-01T13:11:42.445Z"
    }
   },
   "outputs": [],
   "source": [
    "df2[['col_int_1', 'col_int_2']] = df2[['col_str_1', 'col_str_2']].apply(pd.to_numeric)"
   ]
  },
  {
   "cell_type": "code",
   "execution_count": null,
   "metadata": {
    "ExecuteTime": {
     "end_time": "2020-03-01T13:11:43.022283Z",
     "start_time": "2020-03-01T13:11:42.449Z"
    }
   },
   "outputs": [],
   "source": [
    "df2"
   ]
  },
  {
   "cell_type": "code",
   "execution_count": null,
   "metadata": {
    "ExecuteTime": {
     "end_time": "2020-03-01T13:11:43.023325Z",
     "start_time": "2020-03-01T13:11:42.452Z"
    }
   },
   "outputs": [],
   "source": [
    "df2.dtypes"
   ]
  },
  {
   "cell_type": "code",
   "execution_count": null,
   "metadata": {
    "ExecuteTime": {
     "end_time": "2020-03-01T13:11:43.024277Z",
     "start_time": "2020-03-01T13:11:42.455Z"
    }
   },
   "outputs": [],
   "source": [
    "df3 = df2.apply(pd.to_numeric)"
   ]
  },
  {
   "cell_type": "code",
   "execution_count": null,
   "metadata": {
    "ExecuteTime": {
     "end_time": "2020-03-01T13:11:43.025161Z",
     "start_time": "2020-03-01T13:11:42.458Z"
    }
   },
   "outputs": [],
   "source": [
    "df3"
   ]
  },
  {
   "cell_type": "code",
   "execution_count": null,
   "metadata": {
    "ExecuteTime": {
     "end_time": "2020-03-01T13:11:43.026087Z",
     "start_time": "2020-03-01T13:11:42.461Z"
    }
   },
   "outputs": [],
   "source": [
    "df3.dtypes"
   ]
  },
  {
   "cell_type": "markdown",
   "metadata": {},
   "source": [
    "##### astype() 메소드를 이용한 문자열 칼럼의 숫자형 변환"
   ]
  },
  {
   "cell_type": "markdown",
   "metadata": {},
   "source": [
    "##### DataFrame 내 모든 문자열 칼럼을 float로 한꺼번에 변환"
   ]
  },
  {
   "cell_type": "code",
   "execution_count": null,
   "metadata": {
    "ExecuteTime": {
     "end_time": "2020-03-01T13:11:43.026937Z",
     "start_time": "2020-03-01T13:11:42.466Z"
    }
   },
   "outputs": [],
   "source": [
    "df4 = pd.DataFrame({'col_str_1': ['1', '2', '3'], \n",
    "                   'col_str_2': ['4.1', '5.5', '6.0']}) "
   ]
  },
  {
   "cell_type": "code",
   "execution_count": null,
   "metadata": {
    "ExecuteTime": {
     "end_time": "2020-03-01T13:11:43.027866Z",
     "start_time": "2020-03-01T13:11:42.469Z"
    }
   },
   "outputs": [],
   "source": [
    "df4.dtypes"
   ]
  },
  {
   "cell_type": "code",
   "execution_count": null,
   "metadata": {
    "ExecuteTime": {
     "end_time": "2020-03-01T13:11:43.028687Z",
     "start_time": "2020-03-01T13:11:42.472Z"
    }
   },
   "outputs": [],
   "source": [
    "df5 = df4.astype(float)"
   ]
  },
  {
   "cell_type": "code",
   "execution_count": null,
   "metadata": {
    "ExecuteTime": {
     "end_time": "2020-03-01T13:11:43.029632Z",
     "start_time": "2020-03-01T13:11:42.475Z"
    }
   },
   "outputs": [],
   "source": [
    "df5.dtypes"
   ]
  },
  {
   "cell_type": "markdown",
   "metadata": {},
   "source": [
    "##### DataFrame 내 문자열 칼럼별로 int, float 데이터 형식 개별 지정해서 숫자형으로 변환하기"
   ]
  },
  {
   "cell_type": "code",
   "execution_count": null,
   "metadata": {
    "ExecuteTime": {
     "end_time": "2020-03-01T13:11:43.030542Z",
     "start_time": "2020-03-01T13:11:42.478Z"
    }
   },
   "outputs": [],
   "source": [
    "df4 = pd.DataFrame({'col_str_1': ['1', '2', '3'], \n",
    "                   'col_str_2': ['4.1', '5.5', '6.0']}) "
   ]
  },
  {
   "cell_type": "code",
   "execution_count": null,
   "metadata": {
    "ExecuteTime": {
     "end_time": "2020-03-01T13:11:43.031546Z",
     "start_time": "2020-03-01T13:11:42.481Z"
    }
   },
   "outputs": [],
   "source": [
    "df5 = df4.astype({'col_str_1': int, \n",
    "                  'col_str_2': np.float})"
   ]
  },
  {
   "cell_type": "code",
   "execution_count": null,
   "metadata": {
    "ExecuteTime": {
     "end_time": "2020-03-01T13:11:43.032530Z",
     "start_time": "2020-03-01T13:11:42.484Z"
    }
   },
   "outputs": [],
   "source": [
    "df5.dtypes"
   ]
  },
  {
   "cell_type": "markdown",
   "metadata": {},
   "source": [
    "##### DataFrame에 문자가 포함된 칼럼이 같이 있을 경우 ValueError를 무시하기 \n",
    "\n",
    ": df.apply(pd.to_numeric, errors = 'coerce') \n",
    "=> 문자가 포함되어있는 경우는 그 값은 강제로 'NaN'의 값으로 변환\n",
    "\n",
    ": df.apply(pd.to_numeric, errors = 'ignore')\n",
    "=> 문자가 포함되어있는 경우 그 값은 무시\n"
   ]
  },
  {
   "cell_type": "code",
   "execution_count": null,
   "metadata": {
    "ExecuteTime": {
     "end_time": "2020-03-01T13:11:43.033526Z",
     "start_time": "2020-03-01T13:11:42.488Z"
    }
   },
   "outputs": [],
   "source": [
    "df_str = pd.DataFrame({'col_1': ['1', '2', '3'], \n",
    "                   'col_2': ['aaa', 'bbb', 'ccc']})"
   ]
  },
  {
   "cell_type": "code",
   "execution_count": null,
   "metadata": {
    "ExecuteTime": {
     "end_time": "2020-03-01T13:11:43.034471Z",
     "start_time": "2020-03-01T13:11:42.492Z"
    }
   },
   "outputs": [],
   "source": [
    "df_str.dtypes"
   ]
  },
  {
   "cell_type": "code",
   "execution_count": null,
   "metadata": {
    "ExecuteTime": {
     "end_time": "2020-03-01T13:11:43.035539Z",
     "start_time": "2020-03-01T13:11:42.495Z"
    }
   },
   "outputs": [],
   "source": [
    "df_coerce = df_str.apply(pd.to_numeric, errors='coerce')"
   ]
  },
  {
   "cell_type": "code",
   "execution_count": null,
   "metadata": {
    "ExecuteTime": {
     "end_time": "2020-03-01T13:11:43.036493Z",
     "start_time": "2020-03-01T13:11:42.498Z"
    },
    "scrolled": true
   },
   "outputs": [],
   "source": [
    "df_coerce"
   ]
  },
  {
   "cell_type": "code",
   "execution_count": null,
   "metadata": {
    "ExecuteTime": {
     "end_time": "2020-03-01T13:11:43.037500Z",
     "start_time": "2020-03-01T13:11:42.501Z"
    }
   },
   "outputs": [],
   "source": [
    "df_coerce.dtypes"
   ]
  },
  {
   "cell_type": "code",
   "execution_count": null,
   "metadata": {
    "ExecuteTime": {
     "end_time": "2020-03-01T13:11:43.038364Z",
     "start_time": "2020-03-01T13:11:42.503Z"
    }
   },
   "outputs": [],
   "source": [
    "df_ignore = df_str.apply(pd.to_numeric, errors='ignore')"
   ]
  },
  {
   "cell_type": "code",
   "execution_count": null,
   "metadata": {
    "ExecuteTime": {
     "end_time": "2020-03-01T13:11:43.039436Z",
     "start_time": "2020-03-01T13:11:42.507Z"
    }
   },
   "outputs": [],
   "source": [
    "df_ignore"
   ]
  },
  {
   "cell_type": "code",
   "execution_count": null,
   "metadata": {
    "ExecuteTime": {
     "end_time": "2020-03-01T13:11:43.040329Z",
     "start_time": "2020-03-01T13:11:42.510Z"
    }
   },
   "outputs": [],
   "source": [
    "df_ignore.dtypes"
   ]
  },
  {
   "cell_type": "code",
   "execution_count": null,
   "metadata": {},
   "outputs": [],
   "source": []
  },
  {
   "cell_type": "markdown",
   "metadata": {},
   "source": [
    "##### 열(column) 조건에 따라 행 삭제"
   ]
  },
  {
   "cell_type": "code",
   "execution_count": null,
   "metadata": {
    "ExecuteTime": {
     "end_time": "2020-03-01T13:11:43.041228Z",
     "start_time": "2020-03-01T13:11:42.515Z"
    }
   },
   "outputs": [],
   "source": [
    "cctv_seoul[cctv_seoul['소계'] < 2000].index"
   ]
  },
  {
   "cell_type": "code",
   "execution_count": null,
   "metadata": {
    "ExecuteTime": {
     "end_time": "2020-03-01T13:11:43.042072Z",
     "start_time": "2020-03-01T13:11:42.519Z"
    },
    "scrolled": true
   },
   "outputs": [],
   "source": [
    "index_1 = cctv_seoul[cctv_seoul['소계'] < 2000].index\n",
    "index_1"
   ]
  },
  {
   "cell_type": "markdown",
   "metadata": {},
   "source": [
    "#### 타입 파악"
   ]
  },
  {
   "cell_type": "markdown",
   "metadata": {},
   "source": [
    "#### isnull()"
   ]
  },
  {
   "cell_type": "code",
   "execution_count": null,
   "metadata": {
    "ExecuteTime": {
     "end_time": "2020-03-01T13:11:43.043005Z",
     "start_time": "2020-03-01T13:11:42.525Z"
    },
    "scrolled": true
   },
   "outputs": [],
   "source": [
    "# isnull() 메소드를 사용하면, 결측치는 True로 데이터가 있는 경우 False\n",
    "cctv_seoul.isnull()"
   ]
  },
  {
   "cell_type": "markdown",
   "metadata": {},
   "source": [
    "#### isnull().sum()"
   ]
  },
  {
   "cell_type": "code",
   "execution_count": null,
   "metadata": {
    "ExecuteTime": {
     "end_time": "2020-03-01T13:11:43.043883Z",
     "start_time": "2020-03-01T13:11:42.529Z"
    },
    "scrolled": true
   },
   "outputs": [],
   "source": [
    "# 위의 방법은 데이터가 커질수록 결측치 확인이 어려움\n",
    "# 따라서 sum()를 사용해줌\n",
    "cctv_seoul.isnull().sum()"
   ]
  },
  {
   "cell_type": "markdown",
   "metadata": {},
   "source": [
    "#### dropna()"
   ]
  },
  {
   "cell_type": "code",
   "execution_count": null,
   "metadata": {
    "ExecuteTime": {
     "end_time": "2020-03-01T13:11:43.045014Z",
     "start_time": "2020-03-01T13:11:42.534Z"
    }
   },
   "outputs": [],
   "source": [
    "# 결측치가 있는 행이나 열을 통으로 없애버리는 방법\n",
    "cctv_seoul_1 = cctv_seoul.dropna()"
   ]
  },
  {
   "cell_type": "code",
   "execution_count": null,
   "metadata": {
    "ExecuteTime": {
     "end_time": "2020-03-01T13:11:43.045912Z",
     "start_time": "2020-03-01T13:11:42.538Z"
    }
   },
   "outputs": [],
   "source": [
    "cctv_seoul_1.isnull().sum()"
   ]
  },
  {
   "cell_type": "code",
   "execution_count": null,
   "metadata": {
    "ExecuteTime": {
     "end_time": "2020-03-01T13:11:43.046874Z",
     "start_time": "2020-03-01T13:11:42.542Z"
    }
   },
   "outputs": [],
   "source": [
    "cctv_seoul_1"
   ]
  },
  {
   "cell_type": "code",
   "execution_count": null,
   "metadata": {
    "ExecuteTime": {
     "end_time": "2020-03-01T13:11:43.047774Z",
     "start_time": "2020-03-01T13:11:42.545Z"
    }
   },
   "outputs": [],
   "source": [
    "# 객체를 새로 선언하지 않고 지금 객체를 업데이트\n",
    "cctv_seoul.dropna(inplace=True)"
   ]
  },
  {
   "cell_type": "code",
   "execution_count": null,
   "metadata": {
    "ExecuteTime": {
     "end_time": "2020-03-01T13:11:43.048767Z",
     "start_time": "2020-03-01T13:11:42.550Z"
    }
   },
   "outputs": [],
   "source": [
    "cctv_seoul"
   ]
  },
  {
   "cell_type": "code",
   "execution_count": null,
   "metadata": {
    "ExecuteTime": {
     "end_time": "2020-03-01T13:11:43.049758Z",
     "start_time": "2020-03-01T13:11:42.553Z"
    },
    "scrolled": false
   },
   "outputs": [],
   "source": [
    "cctv_seoul.dtypes"
   ]
  },
  {
   "cell_type": "markdown",
   "metadata": {},
   "source": [
    "#### 한 개의 문자열 칼럼\n",
    "* pd.to_numeric()"
   ]
  }
 ],
 "metadata": {
  "kernelspec": {
   "display_name": "Python 3",
   "language": "python",
   "name": "python3"
  },
  "language_info": {
   "codemirror_mode": {
    "name": "ipython",
    "version": 3
   },
   "file_extension": ".py",
   "mimetype": "text/x-python",
   "name": "python",
   "nbconvert_exporter": "python",
   "pygments_lexer": "ipython3",
   "version": "3.6.10"
  },
  "toc": {
   "base_numbering": "1",
   "nav_menu": {},
   "number_sections": true,
   "sideBar": true,
   "skip_h1_title": false,
   "title_cell": "Table of Contents",
   "title_sidebar": "Table of Contents",
   "toc_cell": false,
   "toc_position": {
    "height": "811px",
    "left": "1848px",
    "top": "210px",
    "width": "260.344px"
   },
   "toc_section_display": true,
   "toc_window_display": true
  },
  "varInspector": {
   "cols": {
    "lenName": 16,
    "lenType": 16,
    "lenVar": 40
   },
   "kernels_config": {
    "python": {
     "delete_cmd_postfix": "",
     "delete_cmd_prefix": "del ",
     "library": "var_list.py",
     "varRefreshCmd": "print(var_dic_list())"
    },
    "r": {
     "delete_cmd_postfix": ") ",
     "delete_cmd_prefix": "rm(",
     "library": "var_list.r",
     "varRefreshCmd": "cat(var_dic_list()) "
    }
   },
   "oldHeight": 798,
   "position": {
    "height": "794px",
    "left": "1960px",
    "right": "20px",
    "top": "195px",
    "width": "457px"
   },
   "types_to_exclude": [
    "module",
    "function",
    "builtin_function_or_method",
    "instance",
    "_Feature"
   ],
   "varInspector_section_display": "block",
   "window_display": true
  }
 },
 "nbformat": 4,
 "nbformat_minor": 4
}
