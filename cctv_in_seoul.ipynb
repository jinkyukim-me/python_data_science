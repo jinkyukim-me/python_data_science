{
 "cells": [
  {
   "cell_type": "markdown",
   "metadata": {},
   "source": [
    "# 프로젝트 개요"
   ]
  },
  {
   "cell_type": "markdown",
   "metadata": {},
   "source": [
    "데이터 출처\n",
    "* 서울 열린데이터 광장 (data.seoul.go.kr)\n",
    "\n",
    "수집 데이터 내용\n",
    "* 서울시 주민등록 인구 (동별) 통계\n",
    "* 서울시 자치구 년도별 CCTV 설치 현황 \n",
    "\n",
    "문제 인식\n",
    "* 서울시의 cctv개수와 서울시 범죄율 간의 상관관계\n",
    "* cctv 배치 기준 모호\n",
    "\n",
    "분석 목적\n",
    "* 서울시 cctv 설치 현황과 운영 파악 및 자치구 수요 수치화를 통한 cctv 우선 배치 및 선정"
   ]
  },
  {
   "cell_type": "markdown",
   "metadata": {},
   "source": [
    "# 데이터 파일 불러오기"
   ]
  },
  {
   "cell_type": "markdown",
   "metadata": {
    "hide_input": false
   },
   "source": [
    "## csv"
   ]
  },
  {
   "cell_type": "code",
   "execution_count": 1,
   "metadata": {
    "ExecuteTime": {
     "end_time": "2020-03-01T17:05:00.429996Z",
     "start_time": "2020-03-01T17:05:00.073101Z"
    },
    "hide_input": false
   },
   "outputs": [],
   "source": [
    "import pandas as pd\n",
    "# csv파일 안에 한글이 포함되어있다면 인코딩 => UTF-8\n",
    "cctv_seoul = pd.read_csv('./data/cctv_in_seoul.csv', encoding='utf-8', thousands=',')\n",
    "cctv_seoul.dropna(inplace=True)"
   ]
  },
  {
   "cell_type": "code",
   "execution_count": 2,
   "metadata": {
    "ExecuteTime": {
     "end_time": "2020-03-01T17:05:00.445019Z",
     "start_time": "2020-03-01T17:05:00.431856Z"
    }
   },
   "outputs": [
    {
     "data": {
      "text/html": [
       "<div>\n",
       "<style>\n",
       "    .dataframe thead tr:only-child th {\n",
       "        text-align: right;\n",
       "    }\n",
       "\n",
       "    .dataframe thead th {\n",
       "        text-align: left;\n",
       "    }\n",
       "\n",
       "    .dataframe tbody tr th {\n",
       "        vertical-align: top;\n",
       "    }\n",
       "</style>\n",
       "<table border=\"1\" class=\"dataframe\">\n",
       "  <thead>\n",
       "    <tr style=\"text-align: right;\">\n",
       "      <th></th>\n",
       "      <th>기관명</th>\n",
       "      <th>소계</th>\n",
       "      <th>2013년 이전</th>\n",
       "      <th>2014년</th>\n",
       "      <th>2015년</th>\n",
       "      <th>2016년</th>\n",
       "      <th>2017년</th>\n",
       "      <th>2018년</th>\n",
       "    </tr>\n",
       "  </thead>\n",
       "  <tbody>\n",
       "    <tr>\n",
       "      <th>0</th>\n",
       "      <td>강 남 구</td>\n",
       "      <td>5221</td>\n",
       "      <td>2455</td>\n",
       "      <td>430</td>\n",
       "      <td>546</td>\n",
       "      <td>765</td>\n",
       "      <td>577</td>\n",
       "      <td>448</td>\n",
       "    </tr>\n",
       "    <tr>\n",
       "      <th>1</th>\n",
       "      <td>강 동 구</td>\n",
       "      <td>1879</td>\n",
       "      <td>824</td>\n",
       "      <td>59</td>\n",
       "      <td>144</td>\n",
       "      <td>194</td>\n",
       "      <td>273</td>\n",
       "      <td>385</td>\n",
       "    </tr>\n",
       "    <tr>\n",
       "      <th>2</th>\n",
       "      <td>강 북 구</td>\n",
       "      <td>1265</td>\n",
       "      <td>472</td>\n",
       "      <td>74</td>\n",
       "      <td>145</td>\n",
       "      <td>254</td>\n",
       "      <td>1</td>\n",
       "      <td>319</td>\n",
       "    </tr>\n",
       "    <tr>\n",
       "      <th>3</th>\n",
       "      <td>강 서 구</td>\n",
       "      <td>1617</td>\n",
       "      <td>492</td>\n",
       "      <td>230</td>\n",
       "      <td>187</td>\n",
       "      <td>190</td>\n",
       "      <td>264</td>\n",
       "      <td>254</td>\n",
       "    </tr>\n",
       "    <tr>\n",
       "      <th>4</th>\n",
       "      <td>관 악 구</td>\n",
       "      <td>3985</td>\n",
       "      <td>905</td>\n",
       "      <td>487</td>\n",
       "      <td>609</td>\n",
       "      <td>619</td>\n",
       "      <td>694</td>\n",
       "      <td>671</td>\n",
       "    </tr>\n",
       "  </tbody>\n",
       "</table>\n",
       "</div>"
      ],
      "text/plain": [
       "     기관명    소계  2013년 이전  2014년  2015년  2016년  2017년  2018년\n",
       "0  강 남 구  5221      2455    430    546    765    577    448\n",
       "1  강 동 구  1879       824     59    144    194    273    385\n",
       "2  강 북 구  1265       472     74    145    254      1    319\n",
       "3  강 서 구  1617       492    230    187    190    264    254\n",
       "4  관 악 구  3985       905    487    609    619    694    671"
      ]
     },
     "execution_count": 2,
     "metadata": {},
     "output_type": "execute_result"
    }
   ],
   "source": [
    "cctv_seoul.head()"
   ]
  },
  {
   "cell_type": "code",
   "execution_count": 3,
   "metadata": {
    "ExecuteTime": {
     "end_time": "2020-03-01T17:05:00.450999Z",
     "start_time": "2020-03-01T17:05:00.447286Z"
    }
   },
   "outputs": [
    {
     "data": {
      "text/plain": [
       "기관명         object\n",
       "소계           int64\n",
       "2013년 이전     int64\n",
       "2014년        int64\n",
       "2015년        int64\n",
       "2016년        int64\n",
       "2017년        int64\n",
       "2018년        int64\n",
       "dtype: object"
      ]
     },
     "execution_count": 3,
     "metadata": {},
     "output_type": "execute_result"
    }
   ],
   "source": [
    "cctv_seoul.dtypes"
   ]
  },
  {
   "cell_type": "markdown",
   "metadata": {},
   "source": [
    "### 컬럼"
   ]
  },
  {
   "cell_type": "code",
   "execution_count": 4,
   "metadata": {
    "ExecuteTime": {
     "end_time": "2020-03-01T17:05:00.455601Z",
     "start_time": "2020-03-01T17:05:00.452832Z"
    }
   },
   "outputs": [
    {
     "data": {
      "text/plain": [
       "Index(['기관명', '소계', '2013년 이전', '2014년', '2015년', '2016년', '2017년', '2018년'], dtype='object')"
      ]
     },
     "execution_count": 4,
     "metadata": {},
     "output_type": "execute_result"
    }
   ],
   "source": [
    "cctv_seoul.columns"
   ]
  },
  {
   "cell_type": "code",
   "execution_count": 5,
   "metadata": {
    "ExecuteTime": {
     "end_time": "2020-03-01T17:05:00.459845Z",
     "start_time": "2020-03-01T17:05:00.456953Z"
    },
    "scrolled": true
   },
   "outputs": [
    {
     "data": {
      "text/plain": [
       "'기관명'"
      ]
     },
     "execution_count": 5,
     "metadata": {},
     "output_type": "execute_result"
    }
   ],
   "source": [
    "cctv_seoul.columns[0]"
   ]
  },
  {
   "cell_type": "code",
   "execution_count": 6,
   "metadata": {
    "ExecuteTime": {
     "end_time": "2020-03-01T17:05:00.464372Z",
     "start_time": "2020-03-01T17:05:00.461243Z"
    }
   },
   "outputs": [
    {
     "data": {
      "text/plain": [
       "Index(['소계', '2013년 이전'], dtype='object')"
      ]
     },
     "execution_count": 6,
     "metadata": {},
     "output_type": "execute_result"
    }
   ],
   "source": [
    "cctv_seoul.columns[1:3]"
   ]
  },
  {
   "cell_type": "code",
   "execution_count": 7,
   "metadata": {
    "ExecuteTime": {
     "end_time": "2020-03-01T17:05:00.468609Z",
     "start_time": "2020-03-01T17:05:00.465610Z"
    }
   },
   "outputs": [
    {
     "data": {
      "text/plain": [
       "Index(['기관명', '소계', '2013년 이전', '2014년', '2015년', '2016년', '2017년', '2018년'], dtype='object')"
      ]
     },
     "execution_count": 7,
     "metadata": {},
     "output_type": "execute_result"
    }
   ],
   "source": [
    "cctv_seoul.columns[:]"
   ]
  },
  {
   "cell_type": "code",
   "execution_count": 8,
   "metadata": {
    "ExecuteTime": {
     "end_time": "2020-03-01T17:05:00.474229Z",
     "start_time": "2020-03-01T17:05:00.471395Z"
    }
   },
   "outputs": [
    {
     "data": {
      "text/plain": [
       "'2018년'"
      ]
     },
     "execution_count": 8,
     "metadata": {},
     "output_type": "execute_result"
    }
   ],
   "source": [
    "cctv_seoul.columns[-1]"
   ]
  },
  {
   "cell_type": "markdown",
   "metadata": {},
   "source": [
    "### 이름 바꾸기\n",
    "\n",
    "* 칼럼 이름 바꾸기\n",
    "\n",
    ": df.columns = ['a', 'b']\n",
    "\n",
    ": df.rename(columns = {'old_nm' : 'new_nm'), inplace = True)\n",
    "\n",
    "\n",
    "* 인덱스 이름 바꾸기\n",
    "\n",
    ": df.index = ['a', 'b']\n",
    "\n",
    ": df.rename(index = {'old_nm': 'new_nm'), inplace = True)\n",
    "\n",
    "inplace=True는 데이터 변수의 내용을 갱신하라는 의미"
   ]
  },
  {
   "cell_type": "code",
   "execution_count": 9,
   "metadata": {
    "ExecuteTime": {
     "end_time": "2020-03-01T17:05:00.487892Z",
     "start_time": "2020-03-01T17:05:00.476496Z"
    }
   },
   "outputs": [
    {
     "data": {
      "text/html": [
       "<div>\n",
       "<style>\n",
       "    .dataframe thead tr:only-child th {\n",
       "        text-align: right;\n",
       "    }\n",
       "\n",
       "    .dataframe thead th {\n",
       "        text-align: left;\n",
       "    }\n",
       "\n",
       "    .dataframe tbody tr th {\n",
       "        vertical-align: top;\n",
       "    }\n",
       "</style>\n",
       "<table border=\"1\" class=\"dataframe\">\n",
       "  <thead>\n",
       "    <tr style=\"text-align: right;\">\n",
       "      <th></th>\n",
       "      <th>지역구</th>\n",
       "      <th>소계</th>\n",
       "      <th>2013년 이전</th>\n",
       "      <th>2014년</th>\n",
       "      <th>2015년</th>\n",
       "      <th>2016년</th>\n",
       "      <th>2017년</th>\n",
       "      <th>2018년</th>\n",
       "    </tr>\n",
       "  </thead>\n",
       "  <tbody>\n",
       "    <tr>\n",
       "      <th>0</th>\n",
       "      <td>강 남 구</td>\n",
       "      <td>5221</td>\n",
       "      <td>2455</td>\n",
       "      <td>430</td>\n",
       "      <td>546</td>\n",
       "      <td>765</td>\n",
       "      <td>577</td>\n",
       "      <td>448</td>\n",
       "    </tr>\n",
       "    <tr>\n",
       "      <th>1</th>\n",
       "      <td>강 동 구</td>\n",
       "      <td>1879</td>\n",
       "      <td>824</td>\n",
       "      <td>59</td>\n",
       "      <td>144</td>\n",
       "      <td>194</td>\n",
       "      <td>273</td>\n",
       "      <td>385</td>\n",
       "    </tr>\n",
       "    <tr>\n",
       "      <th>2</th>\n",
       "      <td>강 북 구</td>\n",
       "      <td>1265</td>\n",
       "      <td>472</td>\n",
       "      <td>74</td>\n",
       "      <td>145</td>\n",
       "      <td>254</td>\n",
       "      <td>1</td>\n",
       "      <td>319</td>\n",
       "    </tr>\n",
       "    <tr>\n",
       "      <th>3</th>\n",
       "      <td>강 서 구</td>\n",
       "      <td>1617</td>\n",
       "      <td>492</td>\n",
       "      <td>230</td>\n",
       "      <td>187</td>\n",
       "      <td>190</td>\n",
       "      <td>264</td>\n",
       "      <td>254</td>\n",
       "    </tr>\n",
       "    <tr>\n",
       "      <th>4</th>\n",
       "      <td>관 악 구</td>\n",
       "      <td>3985</td>\n",
       "      <td>905</td>\n",
       "      <td>487</td>\n",
       "      <td>609</td>\n",
       "      <td>619</td>\n",
       "      <td>694</td>\n",
       "      <td>671</td>\n",
       "    </tr>\n",
       "    <tr>\n",
       "      <th>5</th>\n",
       "      <td>광 진 구</td>\n",
       "      <td>1581</td>\n",
       "      <td>595</td>\n",
       "      <td>87</td>\n",
       "      <td>64</td>\n",
       "      <td>21</td>\n",
       "      <td>468</td>\n",
       "      <td>346</td>\n",
       "    </tr>\n",
       "    <tr>\n",
       "      <th>6</th>\n",
       "      <td>구 로 구</td>\n",
       "      <td>3227</td>\n",
       "      <td>1420</td>\n",
       "      <td>187</td>\n",
       "      <td>268</td>\n",
       "      <td>326</td>\n",
       "      <td>540</td>\n",
       "      <td>486</td>\n",
       "    </tr>\n",
       "    <tr>\n",
       "      <th>7</th>\n",
       "      <td>금 천 구</td>\n",
       "      <td>1634</td>\n",
       "      <td>286</td>\n",
       "      <td>101</td>\n",
       "      <td>382</td>\n",
       "      <td>136</td>\n",
       "      <td>199</td>\n",
       "      <td>530</td>\n",
       "    </tr>\n",
       "    <tr>\n",
       "      <th>8</th>\n",
       "      <td>노 원 구</td>\n",
       "      <td>1906</td>\n",
       "      <td>801</td>\n",
       "      <td>80</td>\n",
       "      <td>461</td>\n",
       "      <td>298</td>\n",
       "      <td>110</td>\n",
       "      <td>156</td>\n",
       "    </tr>\n",
       "    <tr>\n",
       "      <th>9</th>\n",
       "      <td>도 봉 구</td>\n",
       "      <td>858</td>\n",
       "      <td>271</td>\n",
       "      <td>185</td>\n",
       "      <td>59</td>\n",
       "      <td>155</td>\n",
       "      <td>117</td>\n",
       "      <td>71</td>\n",
       "    </tr>\n",
       "    <tr>\n",
       "      <th>10</th>\n",
       "      <td>동대문구</td>\n",
       "      <td>3073</td>\n",
       "      <td>1070</td>\n",
       "      <td>1326</td>\n",
       "      <td>111</td>\n",
       "      <td>233</td>\n",
       "      <td>136</td>\n",
       "      <td>197</td>\n",
       "    </tr>\n",
       "    <tr>\n",
       "      <th>11</th>\n",
       "      <td>동 작 구</td>\n",
       "      <td>1780</td>\n",
       "      <td>360</td>\n",
       "      <td>503</td>\n",
       "      <td>130</td>\n",
       "      <td>254</td>\n",
       "      <td>278</td>\n",
       "      <td>255</td>\n",
       "    </tr>\n",
       "    <tr>\n",
       "      <th>12</th>\n",
       "      <td>마 포 구</td>\n",
       "      <td>1935</td>\n",
       "      <td>762</td>\n",
       "      <td>70</td>\n",
       "      <td>177</td>\n",
       "      <td>359</td>\n",
       "      <td>372</td>\n",
       "      <td>195</td>\n",
       "    </tr>\n",
       "    <tr>\n",
       "      <th>13</th>\n",
       "      <td>서대문구</td>\n",
       "      <td>2121</td>\n",
       "      <td>1012</td>\n",
       "      <td>114</td>\n",
       "      <td>109</td>\n",
       "      <td>277</td>\n",
       "      <td>415</td>\n",
       "      <td>194</td>\n",
       "    </tr>\n",
       "    <tr>\n",
       "      <th>14</th>\n",
       "      <td>서 초 구</td>\n",
       "      <td>2835</td>\n",
       "      <td>1491</td>\n",
       "      <td>134</td>\n",
       "      <td>215</td>\n",
       "      <td>352</td>\n",
       "      <td>247</td>\n",
       "      <td>396</td>\n",
       "    </tr>\n",
       "    <tr>\n",
       "      <th>15</th>\n",
       "      <td>성 동 구</td>\n",
       "      <td>2679</td>\n",
       "      <td>892</td>\n",
       "      <td>101</td>\n",
       "      <td>258</td>\n",
       "      <td>201</td>\n",
       "      <td>933</td>\n",
       "      <td>294</td>\n",
       "    </tr>\n",
       "    <tr>\n",
       "      <th>16</th>\n",
       "      <td>성 북 구</td>\n",
       "      <td>3003</td>\n",
       "      <td>1167</td>\n",
       "      <td>241</td>\n",
       "      <td>279</td>\n",
       "      <td>388</td>\n",
       "      <td>285</td>\n",
       "      <td>643</td>\n",
       "    </tr>\n",
       "    <tr>\n",
       "      <th>17</th>\n",
       "      <td>송 파 구</td>\n",
       "      <td>1586</td>\n",
       "      <td>787</td>\n",
       "      <td>21</td>\n",
       "      <td>166</td>\n",
       "      <td>100</td>\n",
       "      <td>116</td>\n",
       "      <td>396</td>\n",
       "    </tr>\n",
       "    <tr>\n",
       "      <th>18</th>\n",
       "      <td>양 천 구</td>\n",
       "      <td>2775</td>\n",
       "      <td>1118</td>\n",
       "      <td>169</td>\n",
       "      <td>172</td>\n",
       "      <td>349</td>\n",
       "      <td>137</td>\n",
       "      <td>830</td>\n",
       "    </tr>\n",
       "    <tr>\n",
       "      <th>19</th>\n",
       "      <td>영등포구</td>\n",
       "      <td>2495</td>\n",
       "      <td>459</td>\n",
       "      <td>217</td>\n",
       "      <td>366</td>\n",
       "      <td>289</td>\n",
       "      <td>371</td>\n",
       "      <td>793</td>\n",
       "    </tr>\n",
       "    <tr>\n",
       "      <th>20</th>\n",
       "      <td>용 산 구</td>\n",
       "      <td>2063</td>\n",
       "      <td>1632</td>\n",
       "      <td>107</td>\n",
       "      <td>102</td>\n",
       "      <td>89</td>\n",
       "      <td>60</td>\n",
       "      <td>73</td>\n",
       "    </tr>\n",
       "    <tr>\n",
       "      <th>21</th>\n",
       "      <td>은 평 구</td>\n",
       "      <td>2962</td>\n",
       "      <td>1547</td>\n",
       "      <td>343</td>\n",
       "      <td>180</td>\n",
       "      <td>296</td>\n",
       "      <td>229</td>\n",
       "      <td>367</td>\n",
       "    </tr>\n",
       "    <tr>\n",
       "      <th>22</th>\n",
       "      <td>종 로 구</td>\n",
       "      <td>1471</td>\n",
       "      <td>614</td>\n",
       "      <td>132</td>\n",
       "      <td>195</td>\n",
       "      <td>148</td>\n",
       "      <td>281</td>\n",
       "      <td>101</td>\n",
       "    </tr>\n",
       "    <tr>\n",
       "      <th>23</th>\n",
       "      <td>중     구</td>\n",
       "      <td>1544</td>\n",
       "      <td>304</td>\n",
       "      <td>80</td>\n",
       "      <td>245</td>\n",
       "      <td>270</td>\n",
       "      <td>317</td>\n",
       "      <td>328</td>\n",
       "    </tr>\n",
       "    <tr>\n",
       "      <th>24</th>\n",
       "      <td>중 랑 구</td>\n",
       "      <td>1577</td>\n",
       "      <td>509</td>\n",
       "      <td>770</td>\n",
       "      <td>102</td>\n",
       "      <td>121</td>\n",
       "      <td>66</td>\n",
       "      <td>9</td>\n",
       "    </tr>\n",
       "  </tbody>\n",
       "</table>\n",
       "</div>"
      ],
      "text/plain": [
       "        지역구    소계  2013년 이전  2014년  2015년  2016년  2017년  2018년\n",
       "0     강 남 구  5221      2455    430    546    765    577    448\n",
       "1     강 동 구  1879       824     59    144    194    273    385\n",
       "2     강 북 구  1265       472     74    145    254      1    319\n",
       "3     강 서 구  1617       492    230    187    190    264    254\n",
       "4     관 악 구  3985       905    487    609    619    694    671\n",
       "5     광 진 구  1581       595     87     64     21    468    346\n",
       "6     구 로 구  3227      1420    187    268    326    540    486\n",
       "7     금 천 구  1634       286    101    382    136    199    530\n",
       "8     노 원 구  1906       801     80    461    298    110    156\n",
       "9     도 봉 구   858       271    185     59    155    117     71\n",
       "10     동대문구  3073      1070   1326    111    233    136    197\n",
       "11    동 작 구  1780       360    503    130    254    278    255\n",
       "12    마 포 구  1935       762     70    177    359    372    195\n",
       "13     서대문구  2121      1012    114    109    277    415    194\n",
       "14    서 초 구  2835      1491    134    215    352    247    396\n",
       "15    성 동 구  2679       892    101    258    201    933    294\n",
       "16    성 북 구  3003      1167    241    279    388    285    643\n",
       "17    송 파 구  1586       787     21    166    100    116    396\n",
       "18    양 천 구  2775      1118    169    172    349    137    830\n",
       "19     영등포구  2495       459    217    366    289    371    793\n",
       "20    용 산 구  2063      1632    107    102     89     60     73\n",
       "21    은 평 구  2962      1547    343    180    296    229    367\n",
       "22    종 로 구  1471       614    132    195    148    281    101\n",
       "23  중     구  1544       304     80    245    270    317    328\n",
       "24    중 랑 구  1577       509    770    102    121     66      9"
      ]
     },
     "execution_count": 9,
     "metadata": {},
     "output_type": "execute_result"
    }
   ],
   "source": [
    "cctv_seoul.rename(columns={'기관명':'지역구'}, inplace=True)\n",
    "cctv_seoul"
   ]
  },
  {
   "cell_type": "code",
   "execution_count": 10,
   "metadata": {
    "ExecuteTime": {
     "end_time": "2020-03-01T17:05:00.494403Z",
     "start_time": "2020-03-01T17:05:00.489451Z"
    },
    "hide_input": false
   },
   "outputs": [],
   "source": [
    "import pandas as pd\n",
    "cctv_seoul = pd.read_csv('./data/cctv_in_seoul.csv', encoding='utf-8')\n",
    "cctv_seoul.dropna(inplace=True)"
   ]
  },
  {
   "cell_type": "markdown",
   "metadata": {},
   "source": [
    "## excel"
   ]
  },
  {
   "cell_type": "code",
   "execution_count": 11,
   "metadata": {
    "ExecuteTime": {
     "end_time": "2020-03-01T17:05:00.538268Z",
     "start_time": "2020-03-01T17:05:00.495813Z"
    }
   },
   "outputs": [
    {
     "data": {
      "text/html": [
       "<div>\n",
       "<style>\n",
       "    .dataframe thead tr:only-child th {\n",
       "        text-align: right;\n",
       "    }\n",
       "\n",
       "    .dataframe thead th {\n",
       "        text-align: left;\n",
       "    }\n",
       "\n",
       "    .dataframe tbody tr th {\n",
       "        vertical-align: top;\n",
       "    }\n",
       "</style>\n",
       "<table border=\"1\" class=\"dataframe\">\n",
       "  <thead>\n",
       "    <tr style=\"text-align: right;\">\n",
       "      <th></th>\n",
       "      <th>기간</th>\n",
       "      <th>자치구</th>\n",
       "      <th>세대</th>\n",
       "      <th>인구</th>\n",
       "      <th>인구.1</th>\n",
       "      <th>인구.2</th>\n",
       "      <th>인구.3</th>\n",
       "      <th>인구.4</th>\n",
       "      <th>인구.5</th>\n",
       "      <th>인구.6</th>\n",
       "      <th>인구.7</th>\n",
       "      <th>인구.8</th>\n",
       "      <th>세대당인구</th>\n",
       "      <th>65세이상고령자</th>\n",
       "    </tr>\n",
       "  </thead>\n",
       "  <tbody>\n",
       "    <tr>\n",
       "      <th>0</th>\n",
       "      <td>기간</td>\n",
       "      <td>자치구</td>\n",
       "      <td>세대</td>\n",
       "      <td>합계</td>\n",
       "      <td>합계</td>\n",
       "      <td>합계</td>\n",
       "      <td>한국인</td>\n",
       "      <td>한국인</td>\n",
       "      <td>한국인</td>\n",
       "      <td>등록외국인</td>\n",
       "      <td>등록외국인</td>\n",
       "      <td>등록외국인</td>\n",
       "      <td>세대당인구</td>\n",
       "      <td>65세이상고령자</td>\n",
       "    </tr>\n",
       "    <tr>\n",
       "      <th>1</th>\n",
       "      <td>기간</td>\n",
       "      <td>자치구</td>\n",
       "      <td>세대</td>\n",
       "      <td>계</td>\n",
       "      <td>남자</td>\n",
       "      <td>여자</td>\n",
       "      <td>계</td>\n",
       "      <td>남자</td>\n",
       "      <td>여자</td>\n",
       "      <td>계</td>\n",
       "      <td>남자</td>\n",
       "      <td>여자</td>\n",
       "      <td>세대당인구</td>\n",
       "      <td>65세이상고령자</td>\n",
       "    </tr>\n",
       "    <tr>\n",
       "      <th>2</th>\n",
       "      <td>2019.1/4</td>\n",
       "      <td>합계</td>\n",
       "      <td>4290922</td>\n",
       "      <td>10054979</td>\n",
       "      <td>4909387</td>\n",
       "      <td>5145592</td>\n",
       "      <td>9770216</td>\n",
       "      <td>4772134</td>\n",
       "      <td>4998082</td>\n",
       "      <td>284763</td>\n",
       "      <td>137253</td>\n",
       "      <td>147510</td>\n",
       "      <td>2.28</td>\n",
       "      <td>1436125</td>\n",
       "    </tr>\n",
       "    <tr>\n",
       "      <th>3</th>\n",
       "      <td>2019.1/4</td>\n",
       "      <td>종로구</td>\n",
       "      <td>73914</td>\n",
       "      <td>162913</td>\n",
       "      <td>78963</td>\n",
       "      <td>83950</td>\n",
       "      <td>152778</td>\n",
       "      <td>74536</td>\n",
       "      <td>78242</td>\n",
       "      <td>10135</td>\n",
       "      <td>4427</td>\n",
       "      <td>5708</td>\n",
       "      <td>2.07</td>\n",
       "      <td>26981</td>\n",
       "    </tr>\n",
       "    <tr>\n",
       "      <th>4</th>\n",
       "      <td>2019.1/4</td>\n",
       "      <td>중구</td>\n",
       "      <td>61800</td>\n",
       "      <td>135836</td>\n",
       "      <td>66720</td>\n",
       "      <td>69116</td>\n",
       "      <td>125942</td>\n",
       "      <td>61992</td>\n",
       "      <td>63950</td>\n",
       "      <td>9894</td>\n",
       "      <td>4728</td>\n",
       "      <td>5166</td>\n",
       "      <td>2.04</td>\n",
       "      <td>22421</td>\n",
       "    </tr>\n",
       "  </tbody>\n",
       "</table>\n",
       "</div>"
      ],
      "text/plain": [
       "         기간  자치구       세대        인구     인구.1     인구.2     인구.3     인구.4  \\\n",
       "0        기간  자치구       세대        합계       합계       합계      한국인      한국인   \n",
       "1        기간  자치구       세대         계       남자       여자        계       남자   \n",
       "2  2019.1/4   합계  4290922  10054979  4909387  5145592  9770216  4772134   \n",
       "3  2019.1/4  종로구    73914    162913    78963    83950   152778    74536   \n",
       "4  2019.1/4   중구    61800    135836    66720    69116   125942    61992   \n",
       "\n",
       "      인구.5    인구.6    인구.7    인구.8  세대당인구  65세이상고령자  \n",
       "0      한국인   등록외국인   등록외국인   등록외국인  세대당인구  65세이상고령자  \n",
       "1       여자       계      남자      여자  세대당인구  65세이상고령자  \n",
       "2  4998082  284763  137253  147510   2.28   1436125  \n",
       "3    78242   10135    4427    5708   2.07     26981  \n",
       "4    63950    9894    4728    5166   2.04     22421  "
      ]
     },
     "execution_count": 11,
     "metadata": {},
     "output_type": "execute_result"
    }
   ],
   "source": [
    "pop_seoul = pd.read_excel('./data/population_in_seoul.xlsx', encoding='utf-8', thousands=',')\n",
    "pop_seoul.head()"
   ]
  },
  {
   "cell_type": "markdown",
   "metadata": {},
   "source": [
    "### 불필요한 헤더 제거"
   ]
  },
  {
   "cell_type": "markdown",
   "metadata": {},
   "source": [
    "##### 불필요한 hearder를 제거"
   ]
  },
  {
   "cell_type": "code",
   "execution_count": 12,
   "metadata": {
    "ExecuteTime": {
     "end_time": "2020-03-01T17:05:00.556642Z",
     "start_time": "2020-03-01T17:05:00.539756Z"
    }
   },
   "outputs": [
    {
     "data": {
      "text/html": [
       "<div>\n",
       "<style>\n",
       "    .dataframe thead tr:only-child th {\n",
       "        text-align: right;\n",
       "    }\n",
       "\n",
       "    .dataframe thead th {\n",
       "        text-align: left;\n",
       "    }\n",
       "\n",
       "    .dataframe tbody tr th {\n",
       "        vertical-align: top;\n",
       "    }\n",
       "</style>\n",
       "<table border=\"1\" class=\"dataframe\">\n",
       "  <thead>\n",
       "    <tr style=\"text-align: right;\">\n",
       "      <th></th>\n",
       "      <th>기간</th>\n",
       "      <th>자치구</th>\n",
       "      <th>세대</th>\n",
       "      <th>계</th>\n",
       "      <th>남자</th>\n",
       "      <th>여자</th>\n",
       "      <th>계.1</th>\n",
       "      <th>남자.1</th>\n",
       "      <th>여자.1</th>\n",
       "      <th>계.2</th>\n",
       "      <th>남자.2</th>\n",
       "      <th>여자.2</th>\n",
       "      <th>세대당인구</th>\n",
       "      <th>65세이상고령자</th>\n",
       "    </tr>\n",
       "  </thead>\n",
       "  <tbody>\n",
       "    <tr>\n",
       "      <th>0</th>\n",
       "      <td>2019.1/4</td>\n",
       "      <td>합계</td>\n",
       "      <td>4290922</td>\n",
       "      <td>10054979</td>\n",
       "      <td>4909387</td>\n",
       "      <td>5145592</td>\n",
       "      <td>9770216</td>\n",
       "      <td>4772134</td>\n",
       "      <td>4998082</td>\n",
       "      <td>284763</td>\n",
       "      <td>137253</td>\n",
       "      <td>147510</td>\n",
       "      <td>2.28</td>\n",
       "      <td>1436125</td>\n",
       "    </tr>\n",
       "    <tr>\n",
       "      <th>1</th>\n",
       "      <td>2019.1/4</td>\n",
       "      <td>종로구</td>\n",
       "      <td>73914</td>\n",
       "      <td>162913</td>\n",
       "      <td>78963</td>\n",
       "      <td>83950</td>\n",
       "      <td>152778</td>\n",
       "      <td>74536</td>\n",
       "      <td>78242</td>\n",
       "      <td>10135</td>\n",
       "      <td>4427</td>\n",
       "      <td>5708</td>\n",
       "      <td>2.07</td>\n",
       "      <td>26981</td>\n",
       "    </tr>\n",
       "    <tr>\n",
       "      <th>2</th>\n",
       "      <td>2019.1/4</td>\n",
       "      <td>중구</td>\n",
       "      <td>61800</td>\n",
       "      <td>135836</td>\n",
       "      <td>66720</td>\n",
       "      <td>69116</td>\n",
       "      <td>125942</td>\n",
       "      <td>61992</td>\n",
       "      <td>63950</td>\n",
       "      <td>9894</td>\n",
       "      <td>4728</td>\n",
       "      <td>5166</td>\n",
       "      <td>2.04</td>\n",
       "      <td>22421</td>\n",
       "    </tr>\n",
       "    <tr>\n",
       "      <th>3</th>\n",
       "      <td>2019.1/4</td>\n",
       "      <td>용산구</td>\n",
       "      <td>109413</td>\n",
       "      <td>245139</td>\n",
       "      <td>119597</td>\n",
       "      <td>125542</td>\n",
       "      <td>229168</td>\n",
       "      <td>110626</td>\n",
       "      <td>118542</td>\n",
       "      <td>15971</td>\n",
       "      <td>8971</td>\n",
       "      <td>7000</td>\n",
       "      <td>2.09</td>\n",
       "      <td>38049</td>\n",
       "    </tr>\n",
       "    <tr>\n",
       "      <th>4</th>\n",
       "      <td>2019.1/4</td>\n",
       "      <td>성동구</td>\n",
       "      <td>137247</td>\n",
       "      <td>314608</td>\n",
       "      <td>154011</td>\n",
       "      <td>160597</td>\n",
       "      <td>306404</td>\n",
       "      <td>150287</td>\n",
       "      <td>156117</td>\n",
       "      <td>8204</td>\n",
       "      <td>3724</td>\n",
       "      <td>4480</td>\n",
       "      <td>2.23</td>\n",
       "      <td>43076</td>\n",
       "    </tr>\n",
       "  </tbody>\n",
       "</table>\n",
       "</div>"
      ],
      "text/plain": [
       "         기간  자치구       세대         계       남자       여자      계.1     남자.1  \\\n",
       "0  2019.1/4   합계  4290922  10054979  4909387  5145592  9770216  4772134   \n",
       "1  2019.1/4  종로구    73914    162913    78963    83950   152778    74536   \n",
       "2  2019.1/4   중구    61800    135836    66720    69116   125942    61992   \n",
       "3  2019.1/4  용산구   109413    245139   119597   125542   229168   110626   \n",
       "4  2019.1/4  성동구   137247    314608   154011   160597   306404   150287   \n",
       "\n",
       "      여자.1     계.2    남자.2    여자.2  세대당인구  65세이상고령자  \n",
       "0  4998082  284763  137253  147510   2.28   1436125  \n",
       "1    78242   10135    4427    5708   2.07     26981  \n",
       "2    63950    9894    4728    5166   2.04     22421  \n",
       "3   118542   15971    8971    7000   2.09     38049  \n",
       "4   156117    8204    3724    4480   2.23     43076  "
      ]
     },
     "execution_count": 12,
     "metadata": {},
     "output_type": "execute_result"
    }
   ],
   "source": [
    "pop_seoul = pd.read_excel('./data/population_in_seoul.xlsx', \n",
    "                          header = 2,\n",
    "                          encoding='utf-8', \n",
    "                          thousands=',')\n",
    "pop_seoul.head()"
   ]
  },
  {
   "cell_type": "markdown",
   "metadata": {},
   "source": [
    "### 필요한 컬럼만 선택"
   ]
  },
  {
   "cell_type": "markdown",
   "metadata": {},
   "source": [
    "##### 필요한 컬럼만 선택"
   ]
  },
  {
   "cell_type": "code",
   "execution_count": 13,
   "metadata": {
    "ExecuteTime": {
     "end_time": "2020-03-01T17:05:00.571284Z",
     "start_time": "2020-03-01T17:05:00.558312Z"
    }
   },
   "outputs": [
    {
     "data": {
      "text/html": [
       "<div>\n",
       "<style>\n",
       "    .dataframe thead tr:only-child th {\n",
       "        text-align: right;\n",
       "    }\n",
       "\n",
       "    .dataframe thead th {\n",
       "        text-align: left;\n",
       "    }\n",
       "\n",
       "    .dataframe tbody tr th {\n",
       "        vertical-align: top;\n",
       "    }\n",
       "</style>\n",
       "<table border=\"1\" class=\"dataframe\">\n",
       "  <thead>\n",
       "    <tr style=\"text-align: right;\">\n",
       "      <th></th>\n",
       "      <th>자치구</th>\n",
       "      <th>계</th>\n",
       "      <th>계.1</th>\n",
       "      <th>계.2</th>\n",
       "      <th>65세이상고령자</th>\n",
       "    </tr>\n",
       "  </thead>\n",
       "  <tbody>\n",
       "    <tr>\n",
       "      <th>0</th>\n",
       "      <td>합계</td>\n",
       "      <td>10054979</td>\n",
       "      <td>9770216</td>\n",
       "      <td>284763</td>\n",
       "      <td>1436125</td>\n",
       "    </tr>\n",
       "    <tr>\n",
       "      <th>1</th>\n",
       "      <td>종로구</td>\n",
       "      <td>162913</td>\n",
       "      <td>152778</td>\n",
       "      <td>10135</td>\n",
       "      <td>26981</td>\n",
       "    </tr>\n",
       "    <tr>\n",
       "      <th>2</th>\n",
       "      <td>중구</td>\n",
       "      <td>135836</td>\n",
       "      <td>125942</td>\n",
       "      <td>9894</td>\n",
       "      <td>22421</td>\n",
       "    </tr>\n",
       "    <tr>\n",
       "      <th>3</th>\n",
       "      <td>용산구</td>\n",
       "      <td>245139</td>\n",
       "      <td>229168</td>\n",
       "      <td>15971</td>\n",
       "      <td>38049</td>\n",
       "    </tr>\n",
       "    <tr>\n",
       "      <th>4</th>\n",
       "      <td>성동구</td>\n",
       "      <td>314608</td>\n",
       "      <td>306404</td>\n",
       "      <td>8204</td>\n",
       "      <td>43076</td>\n",
       "    </tr>\n",
       "  </tbody>\n",
       "</table>\n",
       "</div>"
      ],
      "text/plain": [
       "   자치구         계      계.1     계.2  65세이상고령자\n",
       "0   합계  10054979  9770216  284763   1436125\n",
       "1  종로구    162913   152778   10135     26981\n",
       "2   중구    135836   125942    9894     22421\n",
       "3  용산구    245139   229168   15971     38049\n",
       "4  성동구    314608   306404    8204     43076"
      ]
     },
     "execution_count": 13,
     "metadata": {},
     "output_type": "execute_result"
    }
   ],
   "source": [
    "pop_seoul = pd.read_excel('./data/population_in_seoul.xlsx', \n",
    "                          header = 2,\n",
    "                          parse_cols = 'B, D, G, J, N',\n",
    "                          encoding='utf-8', \n",
    "                          thousands=',')\n",
    "pop_seoul.head()"
   ]
  },
  {
   "cell_type": "markdown",
   "metadata": {},
   "source": [
    "### 컬럼 이름 변경"
   ]
  },
  {
   "cell_type": "markdown",
   "metadata": {},
   "source": [
    "##### rename을 이용, 컬럼 이름 변경"
   ]
  },
  {
   "cell_type": "code",
   "execution_count": 14,
   "metadata": {
    "ExecuteTime": {
     "end_time": "2020-03-01T17:05:00.581177Z",
     "start_time": "2020-03-01T17:05:00.572913Z"
    }
   },
   "outputs": [
    {
     "data": {
      "text/html": [
       "<div>\n",
       "<style>\n",
       "    .dataframe thead tr:only-child th {\n",
       "        text-align: right;\n",
       "    }\n",
       "\n",
       "    .dataframe thead th {\n",
       "        text-align: left;\n",
       "    }\n",
       "\n",
       "    .dataframe tbody tr th {\n",
       "        vertical-align: top;\n",
       "    }\n",
       "</style>\n",
       "<table border=\"1\" class=\"dataframe\">\n",
       "  <thead>\n",
       "    <tr style=\"text-align: right;\">\n",
       "      <th></th>\n",
       "      <th>지역별</th>\n",
       "      <th>인구수</th>\n",
       "      <th>한국인</th>\n",
       "      <th>외국인</th>\n",
       "      <th>고령자</th>\n",
       "    </tr>\n",
       "  </thead>\n",
       "  <tbody>\n",
       "    <tr>\n",
       "      <th>0</th>\n",
       "      <td>합계</td>\n",
       "      <td>10054979</td>\n",
       "      <td>9770216</td>\n",
       "      <td>284763</td>\n",
       "      <td>1436125</td>\n",
       "    </tr>\n",
       "    <tr>\n",
       "      <th>1</th>\n",
       "      <td>종로구</td>\n",
       "      <td>162913</td>\n",
       "      <td>152778</td>\n",
       "      <td>10135</td>\n",
       "      <td>26981</td>\n",
       "    </tr>\n",
       "    <tr>\n",
       "      <th>2</th>\n",
       "      <td>중구</td>\n",
       "      <td>135836</td>\n",
       "      <td>125942</td>\n",
       "      <td>9894</td>\n",
       "      <td>22421</td>\n",
       "    </tr>\n",
       "    <tr>\n",
       "      <th>3</th>\n",
       "      <td>용산구</td>\n",
       "      <td>245139</td>\n",
       "      <td>229168</td>\n",
       "      <td>15971</td>\n",
       "      <td>38049</td>\n",
       "    </tr>\n",
       "    <tr>\n",
       "      <th>4</th>\n",
       "      <td>성동구</td>\n",
       "      <td>314608</td>\n",
       "      <td>306404</td>\n",
       "      <td>8204</td>\n",
       "      <td>43076</td>\n",
       "    </tr>\n",
       "  </tbody>\n",
       "</table>\n",
       "</div>"
      ],
      "text/plain": [
       "   지역별       인구수      한국인     외국인      고령자\n",
       "0   합계  10054979  9770216  284763  1436125\n",
       "1  종로구    162913   152778   10135    26981\n",
       "2   중구    135836   125942    9894    22421\n",
       "3  용산구    245139   229168   15971    38049\n",
       "4  성동구    314608   306404    8204    43076"
      ]
     },
     "execution_count": 14,
     "metadata": {},
     "output_type": "execute_result"
    }
   ],
   "source": [
    "pop_seoul.rename(columns={pop_seoul.columns[0] : '지역별',\n",
    "                          pop_seoul.columns[1] : '인구수',\n",
    "                          pop_seoul.columns[2] : '한국인',\n",
    "                          pop_seoul.columns[3] : '외국인',\n",
    "                          pop_seoul.columns[4] : '고령자'},\n",
    "                          inplace = True)\n",
    "pop_seoul.head()"
   ]
  },
  {
   "cell_type": "markdown",
   "metadata": {},
   "source": [
    "# pandas 기초"
   ]
  },
  {
   "cell_type": "code",
   "execution_count": 15,
   "metadata": {
    "ExecuteTime": {
     "end_time": "2020-03-01T17:05:00.585866Z",
     "start_time": "2020-03-01T17:05:00.583975Z"
    }
   },
   "outputs": [],
   "source": [
    "import pandas as pd\n",
    "import numpy as np"
   ]
  },
  {
   "cell_type": "markdown",
   "metadata": {},
   "source": [
    "## Series : pandas의 데이터 유형 중 기초"
   ]
  },
  {
   "cell_type": "code",
   "execution_count": 16,
   "metadata": {
    "ExecuteTime": {
     "end_time": "2020-03-01T17:05:00.591195Z",
     "start_time": "2020-03-01T17:05:00.587135Z"
    }
   },
   "outputs": [
    {
     "data": {
      "text/plain": [
       "0    1.0\n",
       "1    3.0\n",
       "2    5.0\n",
       "3    NaN\n",
       "4    6.0\n",
       "5    8.0\n",
       "dtype: float64"
      ]
     },
     "execution_count": 16,
     "metadata": {},
     "output_type": "execute_result"
    }
   ],
   "source": [
    "s = pd.Series([1, 3, 5, np.nan, 6, 8]) # NaN(Not A Number)\n",
    "s"
   ]
  },
  {
   "cell_type": "code",
   "execution_count": 17,
   "metadata": {
    "ExecuteTime": {
     "end_time": "2020-03-01T17:05:00.596124Z",
     "start_time": "2020-03-01T17:05:00.592458Z"
    }
   },
   "outputs": [
    {
     "data": {
      "text/plain": [
       "0     10\n",
       "1     20\n",
       "2     30\n",
       "3     40\n",
       "4     50\n",
       "5    100\n",
       "dtype: int64"
      ]
     },
     "execution_count": 17,
     "metadata": {},
     "output_type": "execute_result"
    }
   ],
   "source": [
    "s1 = pd.Series([10, 20, 30, 40, 50, 100])\n",
    "s1"
   ]
  },
  {
   "cell_type": "markdown",
   "metadata": {},
   "source": [
    "## 날짜형 데이터"
   ]
  },
  {
   "cell_type": "code",
   "execution_count": 18,
   "metadata": {
    "ExecuteTime": {
     "end_time": "2020-03-01T17:05:00.600814Z",
     "start_time": "2020-03-01T17:05:00.597458Z"
    }
   },
   "outputs": [
    {
     "data": {
      "text/plain": [
       "DatetimeIndex(['2020-03-01', '2020-03-02', '2020-03-03', '2020-03-04',\n",
       "               '2020-03-05', '2020-03-06'],\n",
       "              dtype='datetime64[ns]', freq='D')"
      ]
     },
     "execution_count": 18,
     "metadata": {},
     "output_type": "execute_result"
    }
   ],
   "source": [
    "dates = pd.date_range('20200301', periods=6)\n",
    "dates"
   ]
  },
  {
   "cell_type": "code",
   "execution_count": 19,
   "metadata": {
    "ExecuteTime": {
     "end_time": "2020-03-01T17:05:00.605756Z",
     "start_time": "2020-03-01T17:05:00.602258Z"
    }
   },
   "outputs": [
    {
     "data": {
      "text/plain": [
       "DatetimeIndex(['2020-12-24', '2020-12-25', '2020-12-26', '2020-12-27',\n",
       "               '2020-12-28', '2020-12-29', '2020-12-30', '2020-12-31'],\n",
       "              dtype='datetime64[ns]', freq='D')"
      ]
     },
     "execution_count": 19,
     "metadata": {},
     "output_type": "execute_result"
    }
   ],
   "source": [
    "dates_xmas = pd.date_range('20201224', periods=8)\n",
    "dates_xmas"
   ]
  },
  {
   "cell_type": "markdown",
   "metadata": {
    "ExecuteTime": {
     "end_time": "2020-02-29T13:42:09.281954Z",
     "start_time": "2020-02-29T13:42:09.275462Z"
    }
   },
   "source": [
    "## DataFrame 만들어보기"
   ]
  },
  {
   "cell_type": "code",
   "execution_count": 20,
   "metadata": {
    "ExecuteTime": {
     "end_time": "2020-03-01T17:05:00.614938Z",
     "start_time": "2020-03-01T17:05:00.607143Z"
    }
   },
   "outputs": [
    {
     "data": {
      "text/html": [
       "<div>\n",
       "<style>\n",
       "    .dataframe thead tr:only-child th {\n",
       "        text-align: right;\n",
       "    }\n",
       "\n",
       "    .dataframe thead th {\n",
       "        text-align: left;\n",
       "    }\n",
       "\n",
       "    .dataframe tbody tr th {\n",
       "        vertical-align: top;\n",
       "    }\n",
       "</style>\n",
       "<table border=\"1\" class=\"dataframe\">\n",
       "  <thead>\n",
       "    <tr style=\"text-align: right;\">\n",
       "      <th></th>\n",
       "      <th>A</th>\n",
       "      <th>B</th>\n",
       "      <th>C</th>\n",
       "      <th>D</th>\n",
       "    </tr>\n",
       "  </thead>\n",
       "  <tbody>\n",
       "    <tr>\n",
       "      <th>2020-12-24</th>\n",
       "      <td>-0.740713</td>\n",
       "      <td>-0.695086</td>\n",
       "      <td>0.255775</td>\n",
       "      <td>-1.299827</td>\n",
       "    </tr>\n",
       "    <tr>\n",
       "      <th>2020-12-25</th>\n",
       "      <td>-0.238852</td>\n",
       "      <td>-0.258937</td>\n",
       "      <td>-0.846127</td>\n",
       "      <td>0.365356</td>\n",
       "    </tr>\n",
       "    <tr>\n",
       "      <th>2020-12-26</th>\n",
       "      <td>-0.403194</td>\n",
       "      <td>-0.614242</td>\n",
       "      <td>-0.418047</td>\n",
       "      <td>0.980536</td>\n",
       "    </tr>\n",
       "  </tbody>\n",
       "</table>\n",
       "</div>"
      ],
      "text/plain": [
       "                   A         B         C         D\n",
       "2020-12-24 -0.740713 -0.695086  0.255775 -1.299827\n",
       "2020-12-25 -0.238852 -0.258937 -0.846127  0.365356\n",
       "2020-12-26 -0.403194 -0.614242 -0.418047  0.980536"
      ]
     },
     "execution_count": 20,
     "metadata": {},
     "output_type": "execute_result"
    }
   ],
   "source": [
    "# rand: 0부터 1사이의 균일 분포\n",
    "# randn: 가우시안 표준 정규 분포\n",
    "# randint: 균일 분포의 정수 난수\n",
    "df = pd.DataFrame(np.random.randn(8,4),\n",
    "                  index=dates_xmas,\n",
    "                  columns=['A','B','C','D']\n",
    "                 )\n",
    "df.head(3)"
   ]
  },
  {
   "cell_type": "markdown",
   "metadata": {},
   "source": [
    "## 인덱스 확인"
   ]
  },
  {
   "cell_type": "code",
   "execution_count": 21,
   "metadata": {
    "ExecuteTime": {
     "end_time": "2020-03-01T17:05:00.619471Z",
     "start_time": "2020-03-01T17:05:00.616452Z"
    }
   },
   "outputs": [
    {
     "data": {
      "text/plain": [
       "DatetimeIndex(['2020-12-24', '2020-12-25', '2020-12-26', '2020-12-27',\n",
       "               '2020-12-28', '2020-12-29', '2020-12-30', '2020-12-31'],\n",
       "              dtype='datetime64[ns]', freq='D')"
      ]
     },
     "execution_count": 21,
     "metadata": {},
     "output_type": "execute_result"
    }
   ],
   "source": [
    "df.index"
   ]
  },
  {
   "cell_type": "markdown",
   "metadata": {},
   "source": [
    "## 컬럼 확인"
   ]
  },
  {
   "cell_type": "code",
   "execution_count": 22,
   "metadata": {
    "ExecuteTime": {
     "end_time": "2020-03-01T17:05:00.623789Z",
     "start_time": "2020-03-01T17:05:00.621020Z"
    }
   },
   "outputs": [
    {
     "data": {
      "text/plain": [
       "Index(['A', 'B', 'C', 'D'], dtype='object')"
      ]
     },
     "execution_count": 22,
     "metadata": {},
     "output_type": "execute_result"
    }
   ],
   "source": [
    "df.columns"
   ]
  },
  {
   "cell_type": "markdown",
   "metadata": {},
   "source": [
    "## 내용 확인"
   ]
  },
  {
   "cell_type": "code",
   "execution_count": 23,
   "metadata": {
    "ExecuteTime": {
     "end_time": "2020-03-01T17:05:00.632543Z",
     "start_time": "2020-03-01T17:05:00.629213Z"
    },
    "scrolled": true
   },
   "outputs": [
    {
     "data": {
      "text/plain": [
       "array([[-0.740713  , -0.69508564,  0.25577492, -1.29982729],\n",
       "       [-0.23885178, -0.25893705, -0.84612734,  0.36535602],\n",
       "       [-0.40319428, -0.61424187, -0.41804723,  0.98053633],\n",
       "       [ 0.89484423, -2.78881061,  0.10295139,  0.67539441],\n",
       "       [ 1.52549682, -1.05144196,  0.01683752,  1.73987082],\n",
       "       [-0.0175691 ,  0.62286138, -0.8270699 , -0.0036266 ],\n",
       "       [-0.46684094, -0.42770617,  1.80507327, -1.45540419],\n",
       "       [ 1.20565203, -0.74311471,  0.04489536, -0.39025868]])"
      ]
     },
     "execution_count": 23,
     "metadata": {},
     "output_type": "execute_result"
    }
   ],
   "source": [
    "df.values"
   ]
  },
  {
   "cell_type": "markdown",
   "metadata": {},
   "source": [
    "## 개요 확인"
   ]
  },
  {
   "cell_type": "code",
   "execution_count": 24,
   "metadata": {
    "ExecuteTime": {
     "end_time": "2020-03-01T17:05:00.639546Z",
     "start_time": "2020-03-01T17:05:00.635866Z"
    }
   },
   "outputs": [
    {
     "name": "stdout",
     "output_type": "stream",
     "text": [
      "<class 'pandas.core.frame.DataFrame'>\n",
      "DatetimeIndex: 8 entries, 2020-12-24 to 2020-12-31\n",
      "Freq: D\n",
      "Data columns (total 4 columns):\n",
      "A    8 non-null float64\n",
      "B    8 non-null float64\n",
      "C    8 non-null float64\n",
      "D    8 non-null float64\n",
      "dtypes: float64(4)\n",
      "memory usage: 320.0 bytes\n"
     ]
    }
   ],
   "source": [
    "df.info()"
   ]
  },
  {
   "cell_type": "markdown",
   "metadata": {},
   "source": [
    "## 통계적 개요 확인"
   ]
  },
  {
   "cell_type": "code",
   "execution_count": 25,
   "metadata": {
    "ExecuteTime": {
     "end_time": "2020-03-01T17:05:00.653299Z",
     "start_time": "2020-03-01T17:05:00.640908Z"
    }
   },
   "outputs": [
    {
     "data": {
      "text/html": [
       "<div>\n",
       "<style>\n",
       "    .dataframe thead tr:only-child th {\n",
       "        text-align: right;\n",
       "    }\n",
       "\n",
       "    .dataframe thead th {\n",
       "        text-align: left;\n",
       "    }\n",
       "\n",
       "    .dataframe tbody tr th {\n",
       "        vertical-align: top;\n",
       "    }\n",
       "</style>\n",
       "<table border=\"1\" class=\"dataframe\">\n",
       "  <thead>\n",
       "    <tr style=\"text-align: right;\">\n",
       "      <th></th>\n",
       "      <th>A</th>\n",
       "      <th>B</th>\n",
       "      <th>C</th>\n",
       "      <th>D</th>\n",
       "    </tr>\n",
       "  </thead>\n",
       "  <tbody>\n",
       "    <tr>\n",
       "      <th>count</th>\n",
       "      <td>8.000000</td>\n",
       "      <td>8.000000</td>\n",
       "      <td>8.000000</td>\n",
       "      <td>8.000000</td>\n",
       "    </tr>\n",
       "    <tr>\n",
       "      <th>mean</th>\n",
       "      <td>0.219853</td>\n",
       "      <td>-0.744560</td>\n",
       "      <td>0.016786</td>\n",
       "      <td>0.076505</td>\n",
       "    </tr>\n",
       "    <tr>\n",
       "      <th>std</th>\n",
       "      <td>0.860342</td>\n",
       "      <td>0.963523</td>\n",
       "      <td>0.837436</td>\n",
       "      <td>1.101394</td>\n",
       "    </tr>\n",
       "    <tr>\n",
       "      <th>min</th>\n",
       "      <td>-0.740713</td>\n",
       "      <td>-2.788811</td>\n",
       "      <td>-0.846127</td>\n",
       "      <td>-1.455404</td>\n",
       "    </tr>\n",
       "    <tr>\n",
       "      <th>25%</th>\n",
       "      <td>-0.419106</td>\n",
       "      <td>-0.820197</td>\n",
       "      <td>-0.520303</td>\n",
       "      <td>-0.617651</td>\n",
       "    </tr>\n",
       "    <tr>\n",
       "      <th>50%</th>\n",
       "      <td>-0.128210</td>\n",
       "      <td>-0.654664</td>\n",
       "      <td>0.030866</td>\n",
       "      <td>0.180865</td>\n",
       "    </tr>\n",
       "    <tr>\n",
       "      <th>75%</th>\n",
       "      <td>0.972546</td>\n",
       "      <td>-0.385514</td>\n",
       "      <td>0.141157</td>\n",
       "      <td>0.751680</td>\n",
       "    </tr>\n",
       "    <tr>\n",
       "      <th>max</th>\n",
       "      <td>1.525497</td>\n",
       "      <td>0.622861</td>\n",
       "      <td>1.805073</td>\n",
       "      <td>1.739871</td>\n",
       "    </tr>\n",
       "  </tbody>\n",
       "</table>\n",
       "</div>"
      ],
      "text/plain": [
       "              A         B         C         D\n",
       "count  8.000000  8.000000  8.000000  8.000000\n",
       "mean   0.219853 -0.744560  0.016786  0.076505\n",
       "std    0.860342  0.963523  0.837436  1.101394\n",
       "min   -0.740713 -2.788811 -0.846127 -1.455404\n",
       "25%   -0.419106 -0.820197 -0.520303 -0.617651\n",
       "50%   -0.128210 -0.654664  0.030866  0.180865\n",
       "75%    0.972546 -0.385514  0.141157  0.751680\n",
       "max    1.525497  0.622861  1.805073  1.739871"
      ]
     },
     "execution_count": 25,
     "metadata": {},
     "output_type": "execute_result"
    }
   ],
   "source": [
    "df.describe()"
   ]
  },
  {
   "cell_type": "markdown",
   "metadata": {},
   "source": [
    "## 컬럼 기준 정렬"
   ]
  },
  {
   "cell_type": "code",
   "execution_count": 26,
   "metadata": {
    "ExecuteTime": {
     "end_time": "2020-03-01T17:05:00.656882Z",
     "start_time": "2020-03-01T17:05:00.654552Z"
    }
   },
   "outputs": [],
   "source": [
    "df_sort = df.sort_values(by='B', ascending=False)"
   ]
  },
  {
   "cell_type": "code",
   "execution_count": 27,
   "metadata": {
    "ExecuteTime": {
     "end_time": "2020-03-01T17:05:00.664671Z",
     "start_time": "2020-03-01T17:05:00.658601Z"
    }
   },
   "outputs": [
    {
     "data": {
      "text/html": [
       "<div>\n",
       "<style>\n",
       "    .dataframe thead tr:only-child th {\n",
       "        text-align: right;\n",
       "    }\n",
       "\n",
       "    .dataframe thead th {\n",
       "        text-align: left;\n",
       "    }\n",
       "\n",
       "    .dataframe tbody tr th {\n",
       "        vertical-align: top;\n",
       "    }\n",
       "</style>\n",
       "<table border=\"1\" class=\"dataframe\">\n",
       "  <thead>\n",
       "    <tr style=\"text-align: right;\">\n",
       "      <th></th>\n",
       "      <th>A</th>\n",
       "      <th>B</th>\n",
       "      <th>C</th>\n",
       "      <th>D</th>\n",
       "    </tr>\n",
       "  </thead>\n",
       "  <tbody>\n",
       "    <tr>\n",
       "      <th>2020-12-29</th>\n",
       "      <td>-0.017569</td>\n",
       "      <td>0.622861</td>\n",
       "      <td>-0.827070</td>\n",
       "      <td>-0.003627</td>\n",
       "    </tr>\n",
       "    <tr>\n",
       "      <th>2020-12-25</th>\n",
       "      <td>-0.238852</td>\n",
       "      <td>-0.258937</td>\n",
       "      <td>-0.846127</td>\n",
       "      <td>0.365356</td>\n",
       "    </tr>\n",
       "    <tr>\n",
       "      <th>2020-12-30</th>\n",
       "      <td>-0.466841</td>\n",
       "      <td>-0.427706</td>\n",
       "      <td>1.805073</td>\n",
       "      <td>-1.455404</td>\n",
       "    </tr>\n",
       "    <tr>\n",
       "      <th>2020-12-26</th>\n",
       "      <td>-0.403194</td>\n",
       "      <td>-0.614242</td>\n",
       "      <td>-0.418047</td>\n",
       "      <td>0.980536</td>\n",
       "    </tr>\n",
       "    <tr>\n",
       "      <th>2020-12-24</th>\n",
       "      <td>-0.740713</td>\n",
       "      <td>-0.695086</td>\n",
       "      <td>0.255775</td>\n",
       "      <td>-1.299827</td>\n",
       "    </tr>\n",
       "    <tr>\n",
       "      <th>2020-12-31</th>\n",
       "      <td>1.205652</td>\n",
       "      <td>-0.743115</td>\n",
       "      <td>0.044895</td>\n",
       "      <td>-0.390259</td>\n",
       "    </tr>\n",
       "    <tr>\n",
       "      <th>2020-12-28</th>\n",
       "      <td>1.525497</td>\n",
       "      <td>-1.051442</td>\n",
       "      <td>0.016838</td>\n",
       "      <td>1.739871</td>\n",
       "    </tr>\n",
       "    <tr>\n",
       "      <th>2020-12-27</th>\n",
       "      <td>0.894844</td>\n",
       "      <td>-2.788811</td>\n",
       "      <td>0.102951</td>\n",
       "      <td>0.675394</td>\n",
       "    </tr>\n",
       "  </tbody>\n",
       "</table>\n",
       "</div>"
      ],
      "text/plain": [
       "                   A         B         C         D\n",
       "2020-12-29 -0.017569  0.622861 -0.827070 -0.003627\n",
       "2020-12-25 -0.238852 -0.258937 -0.846127  0.365356\n",
       "2020-12-30 -0.466841 -0.427706  1.805073 -1.455404\n",
       "2020-12-26 -0.403194 -0.614242 -0.418047  0.980536\n",
       "2020-12-24 -0.740713 -0.695086  0.255775 -1.299827\n",
       "2020-12-31  1.205652 -0.743115  0.044895 -0.390259\n",
       "2020-12-28  1.525497 -1.051442  0.016838  1.739871\n",
       "2020-12-27  0.894844 -2.788811  0.102951  0.675394"
      ]
     },
     "execution_count": 27,
     "metadata": {},
     "output_type": "execute_result"
    }
   ],
   "source": [
    "df_sort"
   ]
  },
  {
   "cell_type": "markdown",
   "metadata": {},
   "source": [
    "## 행의 범위 지정"
   ]
  },
  {
   "cell_type": "code",
   "execution_count": 28,
   "metadata": {
    "ExecuteTime": {
     "end_time": "2020-03-01T17:05:00.675345Z",
     "start_time": "2020-03-01T17:05:00.666419Z"
    }
   },
   "outputs": [
    {
     "data": {
      "text/plain": [
       "2020-12-24   -0.740713\n",
       "2020-12-25   -0.238852\n",
       "2020-12-26   -0.403194\n",
       "2020-12-27    0.894844\n",
       "2020-12-28    1.525497\n",
       "2020-12-29   -0.017569\n",
       "2020-12-30   -0.466841\n",
       "2020-12-31    1.205652\n",
       "Freq: D, Name: A, dtype: float64"
      ]
     },
     "execution_count": 28,
     "metadata": {},
     "output_type": "execute_result"
    }
   ],
   "source": [
    "df['A']"
   ]
  },
  {
   "cell_type": "code",
   "execution_count": 29,
   "metadata": {
    "ExecuteTime": {
     "end_time": "2020-03-01T17:05:00.682995Z",
     "start_time": "2020-03-01T17:05:00.676844Z"
    }
   },
   "outputs": [
    {
     "data": {
      "text/html": [
       "<div>\n",
       "<style>\n",
       "    .dataframe thead tr:only-child th {\n",
       "        text-align: right;\n",
       "    }\n",
       "\n",
       "    .dataframe thead th {\n",
       "        text-align: left;\n",
       "    }\n",
       "\n",
       "    .dataframe tbody tr th {\n",
       "        vertical-align: top;\n",
       "    }\n",
       "</style>\n",
       "<table border=\"1\" class=\"dataframe\">\n",
       "  <thead>\n",
       "    <tr style=\"text-align: right;\">\n",
       "      <th></th>\n",
       "      <th>A</th>\n",
       "      <th>B</th>\n",
       "      <th>C</th>\n",
       "      <th>D</th>\n",
       "    </tr>\n",
       "  </thead>\n",
       "  <tbody>\n",
       "    <tr>\n",
       "      <th>2020-12-26</th>\n",
       "      <td>-0.403194</td>\n",
       "      <td>-0.614242</td>\n",
       "      <td>-0.418047</td>\n",
       "      <td>0.980536</td>\n",
       "    </tr>\n",
       "    <tr>\n",
       "      <th>2020-12-27</th>\n",
       "      <td>0.894844</td>\n",
       "      <td>-2.788811</td>\n",
       "      <td>0.102951</td>\n",
       "      <td>0.675394</td>\n",
       "    </tr>\n",
       "    <tr>\n",
       "      <th>2020-12-28</th>\n",
       "      <td>1.525497</td>\n",
       "      <td>-1.051442</td>\n",
       "      <td>0.016838</td>\n",
       "      <td>1.739871</td>\n",
       "    </tr>\n",
       "    <tr>\n",
       "      <th>2020-12-29</th>\n",
       "      <td>-0.017569</td>\n",
       "      <td>0.622861</td>\n",
       "      <td>-0.827070</td>\n",
       "      <td>-0.003627</td>\n",
       "    </tr>\n",
       "  </tbody>\n",
       "</table>\n",
       "</div>"
      ],
      "text/plain": [
       "                   A         B         C         D\n",
       "2020-12-26 -0.403194 -0.614242 -0.418047  0.980536\n",
       "2020-12-27  0.894844 -2.788811  0.102951  0.675394\n",
       "2020-12-28  1.525497 -1.051442  0.016838  1.739871\n",
       "2020-12-29 -0.017569  0.622861 -0.827070 -0.003627"
      ]
     },
     "execution_count": 29,
     "metadata": {},
     "output_type": "execute_result"
    }
   ],
   "source": [
    "df[2:6]"
   ]
  },
  {
   "cell_type": "code",
   "execution_count": 30,
   "metadata": {
    "ExecuteTime": {
     "end_time": "2020-03-01T17:05:00.691377Z",
     "start_time": "2020-03-01T17:05:00.684554Z"
    }
   },
   "outputs": [
    {
     "data": {
      "text/html": [
       "<div>\n",
       "<style>\n",
       "    .dataframe thead tr:only-child th {\n",
       "        text-align: right;\n",
       "    }\n",
       "\n",
       "    .dataframe thead th {\n",
       "        text-align: left;\n",
       "    }\n",
       "\n",
       "    .dataframe tbody tr th {\n",
       "        vertical-align: top;\n",
       "    }\n",
       "</style>\n",
       "<table border=\"1\" class=\"dataframe\">\n",
       "  <thead>\n",
       "    <tr style=\"text-align: right;\">\n",
       "      <th></th>\n",
       "      <th>A</th>\n",
       "      <th>B</th>\n",
       "      <th>C</th>\n",
       "      <th>D</th>\n",
       "    </tr>\n",
       "  </thead>\n",
       "  <tbody>\n",
       "    <tr>\n",
       "      <th>2020-12-27</th>\n",
       "      <td>0.894844</td>\n",
       "      <td>-2.788811</td>\n",
       "      <td>0.102951</td>\n",
       "      <td>0.675394</td>\n",
       "    </tr>\n",
       "    <tr>\n",
       "      <th>2020-12-28</th>\n",
       "      <td>1.525497</td>\n",
       "      <td>-1.051442</td>\n",
       "      <td>0.016838</td>\n",
       "      <td>1.739871</td>\n",
       "    </tr>\n",
       "    <tr>\n",
       "      <th>2020-12-29</th>\n",
       "      <td>-0.017569</td>\n",
       "      <td>0.622861</td>\n",
       "      <td>-0.827070</td>\n",
       "      <td>-0.003627</td>\n",
       "    </tr>\n",
       "    <tr>\n",
       "      <th>2020-12-30</th>\n",
       "      <td>-0.466841</td>\n",
       "      <td>-0.427706</td>\n",
       "      <td>1.805073</td>\n",
       "      <td>-1.455404</td>\n",
       "    </tr>\n",
       "    <tr>\n",
       "      <th>2020-12-31</th>\n",
       "      <td>1.205652</td>\n",
       "      <td>-0.743115</td>\n",
       "      <td>0.044895</td>\n",
       "      <td>-0.390259</td>\n",
       "    </tr>\n",
       "  </tbody>\n",
       "</table>\n",
       "</div>"
      ],
      "text/plain": [
       "                   A         B         C         D\n",
       "2020-12-27  0.894844 -2.788811  0.102951  0.675394\n",
       "2020-12-28  1.525497 -1.051442  0.016838  1.739871\n",
       "2020-12-29 -0.017569  0.622861 -0.827070 -0.003627\n",
       "2020-12-30 -0.466841 -0.427706  1.805073 -1.455404\n",
       "2020-12-31  1.205652 -0.743115  0.044895 -0.390259"
      ]
     },
     "execution_count": 30,
     "metadata": {},
     "output_type": "execute_result"
    }
   ],
   "source": [
    "df['20201227':'20201231']"
   ]
  },
  {
   "cell_type": "code",
   "execution_count": 31,
   "metadata": {
    "ExecuteTime": {
     "end_time": "2020-03-01T17:05:00.699261Z",
     "start_time": "2020-03-01T17:05:00.692909Z"
    }
   },
   "outputs": [
    {
     "data": {
      "text/html": [
       "<div>\n",
       "<style>\n",
       "    .dataframe thead tr:only-child th {\n",
       "        text-align: right;\n",
       "    }\n",
       "\n",
       "    .dataframe thead th {\n",
       "        text-align: left;\n",
       "    }\n",
       "\n",
       "    .dataframe tbody tr th {\n",
       "        vertical-align: top;\n",
       "    }\n",
       "</style>\n",
       "<table border=\"1\" class=\"dataframe\">\n",
       "  <thead>\n",
       "    <tr style=\"text-align: right;\">\n",
       "      <th></th>\n",
       "      <th>A</th>\n",
       "      <th>B</th>\n",
       "      <th>C</th>\n",
       "      <th>D</th>\n",
       "    </tr>\n",
       "  </thead>\n",
       "  <tbody>\n",
       "    <tr>\n",
       "      <th>2020-12-27</th>\n",
       "      <td>0.894844</td>\n",
       "      <td>-2.788811</td>\n",
       "      <td>0.102951</td>\n",
       "      <td>0.675394</td>\n",
       "    </tr>\n",
       "    <tr>\n",
       "      <th>2020-12-28</th>\n",
       "      <td>1.525497</td>\n",
       "      <td>-1.051442</td>\n",
       "      <td>0.016838</td>\n",
       "      <td>1.739871</td>\n",
       "    </tr>\n",
       "    <tr>\n",
       "      <th>2020-12-29</th>\n",
       "      <td>-0.017569</td>\n",
       "      <td>0.622861</td>\n",
       "      <td>-0.827070</td>\n",
       "      <td>-0.003627</td>\n",
       "    </tr>\n",
       "    <tr>\n",
       "      <th>2020-12-30</th>\n",
       "      <td>-0.466841</td>\n",
       "      <td>-0.427706</td>\n",
       "      <td>1.805073</td>\n",
       "      <td>-1.455404</td>\n",
       "    </tr>\n",
       "    <tr>\n",
       "      <th>2020-12-31</th>\n",
       "      <td>1.205652</td>\n",
       "      <td>-0.743115</td>\n",
       "      <td>0.044895</td>\n",
       "      <td>-0.390259</td>\n",
       "    </tr>\n",
       "  </tbody>\n",
       "</table>\n",
       "</div>"
      ],
      "text/plain": [
       "                   A         B         C         D\n",
       "2020-12-27  0.894844 -2.788811  0.102951  0.675394\n",
       "2020-12-28  1.525497 -1.051442  0.016838  1.739871\n",
       "2020-12-29 -0.017569  0.622861 -0.827070 -0.003627\n",
       "2020-12-30 -0.466841 -0.427706  1.805073 -1.455404\n",
       "2020-12-31  1.205652 -0.743115  0.044895 -0.390259"
      ]
     },
     "execution_count": 31,
     "metadata": {},
     "output_type": "execute_result"
    }
   ],
   "source": [
    "df['20201227':]"
   ]
  },
  {
   "cell_type": "markdown",
   "metadata": {},
   "source": [
    "## 변수를 이용해서 특정 날짜의 데이터만 보기"
   ]
  },
  {
   "cell_type": "code",
   "execution_count": 32,
   "metadata": {
    "ExecuteTime": {
     "end_time": "2020-03-01T17:05:00.704481Z",
     "start_time": "2020-03-01T17:05:00.700704Z"
    }
   },
   "outputs": [
    {
     "data": {
      "text/plain": [
       "A   -0.740713\n",
       "B   -0.695086\n",
       "C    0.255775\n",
       "D   -1.299827\n",
       "Name: 2020-12-24 00:00:00, dtype: float64"
      ]
     },
     "execution_count": 32,
     "metadata": {},
     "output_type": "execute_result"
    }
   ],
   "source": [
    "df.loc[dates_xmas[0]]"
   ]
  },
  {
   "cell_type": "code",
   "execution_count": 33,
   "metadata": {
    "ExecuteTime": {
     "end_time": "2020-03-01T17:05:00.713050Z",
     "start_time": "2020-03-01T17:05:00.706164Z"
    }
   },
   "outputs": [
    {
     "data": {
      "text/html": [
       "<div>\n",
       "<style>\n",
       "    .dataframe thead tr:only-child th {\n",
       "        text-align: right;\n",
       "    }\n",
       "\n",
       "    .dataframe thead th {\n",
       "        text-align: left;\n",
       "    }\n",
       "\n",
       "    .dataframe tbody tr th {\n",
       "        vertical-align: top;\n",
       "    }\n",
       "</style>\n",
       "<table border=\"1\" class=\"dataframe\">\n",
       "  <thead>\n",
       "    <tr style=\"text-align: right;\">\n",
       "      <th></th>\n",
       "      <th>A</th>\n",
       "      <th>B</th>\n",
       "      <th>C</th>\n",
       "      <th>D</th>\n",
       "    </tr>\n",
       "  </thead>\n",
       "  <tbody>\n",
       "    <tr>\n",
       "      <th>2020-12-27</th>\n",
       "      <td>0.894844</td>\n",
       "      <td>-2.788811</td>\n",
       "      <td>0.102951</td>\n",
       "      <td>0.675394</td>\n",
       "    </tr>\n",
       "    <tr>\n",
       "      <th>2020-12-28</th>\n",
       "      <td>1.525497</td>\n",
       "      <td>-1.051442</td>\n",
       "      <td>0.016838</td>\n",
       "      <td>1.739871</td>\n",
       "    </tr>\n",
       "    <tr>\n",
       "      <th>2020-12-29</th>\n",
       "      <td>-0.017569</td>\n",
       "      <td>0.622861</td>\n",
       "      <td>-0.827070</td>\n",
       "      <td>-0.003627</td>\n",
       "    </tr>\n",
       "  </tbody>\n",
       "</table>\n",
       "</div>"
      ],
      "text/plain": [
       "                   A         B         C         D\n",
       "2020-12-27  0.894844 -2.788811  0.102951  0.675394\n",
       "2020-12-28  1.525497 -1.051442  0.016838  1.739871\n",
       "2020-12-29 -0.017569  0.622861 -0.827070 -0.003627"
      ]
     },
     "execution_count": 33,
     "metadata": {},
     "output_type": "execute_result"
    }
   ],
   "source": [
    "df.loc[dates_xmas[3:6]]"
   ]
  },
  {
   "cell_type": "code",
   "execution_count": 34,
   "metadata": {
    "ExecuteTime": {
     "end_time": "2020-03-01T17:05:00.721973Z",
     "start_time": "2020-03-01T17:05:00.714723Z"
    }
   },
   "outputs": [
    {
     "data": {
      "text/html": [
       "<div>\n",
       "<style>\n",
       "    .dataframe thead tr:only-child th {\n",
       "        text-align: right;\n",
       "    }\n",
       "\n",
       "    .dataframe thead th {\n",
       "        text-align: left;\n",
       "    }\n",
       "\n",
       "    .dataframe tbody tr th {\n",
       "        vertical-align: top;\n",
       "    }\n",
       "</style>\n",
       "<table border=\"1\" class=\"dataframe\">\n",
       "  <thead>\n",
       "    <tr style=\"text-align: right;\">\n",
       "      <th></th>\n",
       "      <th>A</th>\n",
       "      <th>B</th>\n",
       "      <th>C</th>\n",
       "      <th>D</th>\n",
       "    </tr>\n",
       "  </thead>\n",
       "  <tbody>\n",
       "    <tr>\n",
       "      <th>2020-12-24</th>\n",
       "      <td>-0.740713</td>\n",
       "      <td>-0.695086</td>\n",
       "      <td>0.255775</td>\n",
       "      <td>-1.299827</td>\n",
       "    </tr>\n",
       "    <tr>\n",
       "      <th>2020-12-25</th>\n",
       "      <td>-0.238852</td>\n",
       "      <td>-0.258937</td>\n",
       "      <td>-0.846127</td>\n",
       "      <td>0.365356</td>\n",
       "    </tr>\n",
       "    <tr>\n",
       "      <th>2020-12-26</th>\n",
       "      <td>-0.403194</td>\n",
       "      <td>-0.614242</td>\n",
       "      <td>-0.418047</td>\n",
       "      <td>0.980536</td>\n",
       "    </tr>\n",
       "    <tr>\n",
       "      <th>2020-12-27</th>\n",
       "      <td>0.894844</td>\n",
       "      <td>-2.788811</td>\n",
       "      <td>0.102951</td>\n",
       "      <td>0.675394</td>\n",
       "    </tr>\n",
       "    <tr>\n",
       "      <th>2020-12-28</th>\n",
       "      <td>1.525497</td>\n",
       "      <td>-1.051442</td>\n",
       "      <td>0.016838</td>\n",
       "      <td>1.739871</td>\n",
       "    </tr>\n",
       "    <tr>\n",
       "      <th>2020-12-29</th>\n",
       "      <td>-0.017569</td>\n",
       "      <td>0.622861</td>\n",
       "      <td>-0.827070</td>\n",
       "      <td>-0.003627</td>\n",
       "    </tr>\n",
       "    <tr>\n",
       "      <th>2020-12-30</th>\n",
       "      <td>-0.466841</td>\n",
       "      <td>-0.427706</td>\n",
       "      <td>1.805073</td>\n",
       "      <td>-1.455404</td>\n",
       "    </tr>\n",
       "    <tr>\n",
       "      <th>2020-12-31</th>\n",
       "      <td>1.205652</td>\n",
       "      <td>-0.743115</td>\n",
       "      <td>0.044895</td>\n",
       "      <td>-0.390259</td>\n",
       "    </tr>\n",
       "  </tbody>\n",
       "</table>\n",
       "</div>"
      ],
      "text/plain": [
       "                   A         B         C         D\n",
       "2020-12-24 -0.740713 -0.695086  0.255775 -1.299827\n",
       "2020-12-25 -0.238852 -0.258937 -0.846127  0.365356\n",
       "2020-12-26 -0.403194 -0.614242 -0.418047  0.980536\n",
       "2020-12-27  0.894844 -2.788811  0.102951  0.675394\n",
       "2020-12-28  1.525497 -1.051442  0.016838  1.739871\n",
       "2020-12-29 -0.017569  0.622861 -0.827070 -0.003627\n",
       "2020-12-30 -0.466841 -0.427706  1.805073 -1.455404\n",
       "2020-12-31  1.205652 -0.743115  0.044895 -0.390259"
      ]
     },
     "execution_count": 34,
     "metadata": {},
     "output_type": "execute_result"
    }
   ],
   "source": [
    "df.loc[dates_xmas[:]]"
   ]
  },
  {
   "cell_type": "code",
   "execution_count": 35,
   "metadata": {
    "ExecuteTime": {
     "end_time": "2020-03-01T17:05:00.729845Z",
     "start_time": "2020-03-01T17:05:00.723506Z"
    }
   },
   "outputs": [
    {
     "data": {
      "text/html": [
       "<div>\n",
       "<style>\n",
       "    .dataframe thead tr:only-child th {\n",
       "        text-align: right;\n",
       "    }\n",
       "\n",
       "    .dataframe thead th {\n",
       "        text-align: left;\n",
       "    }\n",
       "\n",
       "    .dataframe tbody tr th {\n",
       "        vertical-align: top;\n",
       "    }\n",
       "</style>\n",
       "<table border=\"1\" class=\"dataframe\">\n",
       "  <thead>\n",
       "    <tr style=\"text-align: right;\">\n",
       "      <th></th>\n",
       "      <th>A</th>\n",
       "      <th>B</th>\n",
       "      <th>C</th>\n",
       "      <th>D</th>\n",
       "    </tr>\n",
       "  </thead>\n",
       "  <tbody>\n",
       "    <tr>\n",
       "      <th>2020-12-24</th>\n",
       "      <td>-0.740713</td>\n",
       "      <td>-0.695086</td>\n",
       "      <td>0.255775</td>\n",
       "      <td>-1.299827</td>\n",
       "    </tr>\n",
       "    <tr>\n",
       "      <th>2020-12-25</th>\n",
       "      <td>-0.238852</td>\n",
       "      <td>-0.258937</td>\n",
       "      <td>-0.846127</td>\n",
       "      <td>0.365356</td>\n",
       "    </tr>\n",
       "    <tr>\n",
       "      <th>2020-12-26</th>\n",
       "      <td>-0.403194</td>\n",
       "      <td>-0.614242</td>\n",
       "      <td>-0.418047</td>\n",
       "      <td>0.980536</td>\n",
       "    </tr>\n",
       "    <tr>\n",
       "      <th>2020-12-27</th>\n",
       "      <td>0.894844</td>\n",
       "      <td>-2.788811</td>\n",
       "      <td>0.102951</td>\n",
       "      <td>0.675394</td>\n",
       "    </tr>\n",
       "  </tbody>\n",
       "</table>\n",
       "</div>"
      ],
      "text/plain": [
       "                   A         B         C         D\n",
       "2020-12-24 -0.740713 -0.695086  0.255775 -1.299827\n",
       "2020-12-25 -0.238852 -0.258937 -0.846127  0.365356\n",
       "2020-12-26 -0.403194 -0.614242 -0.418047  0.980536\n",
       "2020-12-27  0.894844 -2.788811  0.102951  0.675394"
      ]
     },
     "execution_count": 35,
     "metadata": {},
     "output_type": "execute_result"
    }
   ],
   "source": [
    "df.loc['20201224':'20201227']"
   ]
  },
  {
   "cell_type": "code",
   "execution_count": 36,
   "metadata": {
    "ExecuteTime": {
     "end_time": "2020-03-01T17:05:00.736123Z",
     "start_time": "2020-03-01T17:05:00.731449Z"
    }
   },
   "outputs": [
    {
     "data": {
      "text/plain": [
       "A   -0.740713\n",
       "B   -0.695086\n",
       "Name: 2020-12-24 00:00:00, dtype: float64"
      ]
     },
     "execution_count": 36,
     "metadata": {},
     "output_type": "execute_result"
    }
   ],
   "source": [
    "df.loc[dates_xmas[0],['A','B']]"
   ]
  },
  {
   "cell_type": "code",
   "execution_count": 37,
   "metadata": {
    "ExecuteTime": {
     "end_time": "2020-03-01T17:05:00.743654Z",
     "start_time": "2020-03-01T17:05:00.737668Z"
    }
   },
   "outputs": [
    {
     "data": {
      "text/html": [
       "<div>\n",
       "<style>\n",
       "    .dataframe thead tr:only-child th {\n",
       "        text-align: right;\n",
       "    }\n",
       "\n",
       "    .dataframe thead th {\n",
       "        text-align: left;\n",
       "    }\n",
       "\n",
       "    .dataframe tbody tr th {\n",
       "        vertical-align: top;\n",
       "    }\n",
       "</style>\n",
       "<table border=\"1\" class=\"dataframe\">\n",
       "  <thead>\n",
       "    <tr style=\"text-align: right;\">\n",
       "      <th></th>\n",
       "      <th>A</th>\n",
       "      <th>B</th>\n",
       "    </tr>\n",
       "  </thead>\n",
       "  <tbody>\n",
       "    <tr>\n",
       "      <th>2020-12-27</th>\n",
       "      <td>0.894844</td>\n",
       "      <td>-2.788811</td>\n",
       "    </tr>\n",
       "    <tr>\n",
       "      <th>2020-12-28</th>\n",
       "      <td>1.525497</td>\n",
       "      <td>-1.051442</td>\n",
       "    </tr>\n",
       "    <tr>\n",
       "      <th>2020-12-29</th>\n",
       "      <td>-0.017569</td>\n",
       "      <td>0.622861</td>\n",
       "    </tr>\n",
       "  </tbody>\n",
       "</table>\n",
       "</div>"
      ],
      "text/plain": [
       "                   A         B\n",
       "2020-12-27  0.894844 -2.788811\n",
       "2020-12-28  1.525497 -1.051442\n",
       "2020-12-29 -0.017569  0.622861"
      ]
     },
     "execution_count": 37,
     "metadata": {},
     "output_type": "execute_result"
    }
   ],
   "source": [
    "df.loc[dates_xmas[3:6],['A','B']]"
   ]
  },
  {
   "cell_type": "code",
   "execution_count": 38,
   "metadata": {
    "ExecuteTime": {
     "end_time": "2020-03-01T17:05:00.754825Z",
     "start_time": "2020-03-01T17:05:00.745884Z"
    }
   },
   "outputs": [
    {
     "data": {
      "text/html": [
       "<div>\n",
       "<style>\n",
       "    .dataframe thead tr:only-child th {\n",
       "        text-align: right;\n",
       "    }\n",
       "\n",
       "    .dataframe thead th {\n",
       "        text-align: left;\n",
       "    }\n",
       "\n",
       "    .dataframe tbody tr th {\n",
       "        vertical-align: top;\n",
       "    }\n",
       "</style>\n",
       "<table border=\"1\" class=\"dataframe\">\n",
       "  <thead>\n",
       "    <tr style=\"text-align: right;\">\n",
       "      <th></th>\n",
       "      <th>A</th>\n",
       "      <th>B</th>\n",
       "    </tr>\n",
       "  </thead>\n",
       "  <tbody>\n",
       "    <tr>\n",
       "      <th>2020-12-24</th>\n",
       "      <td>-0.740713</td>\n",
       "      <td>-0.695086</td>\n",
       "    </tr>\n",
       "    <tr>\n",
       "      <th>2020-12-25</th>\n",
       "      <td>-0.238852</td>\n",
       "      <td>-0.258937</td>\n",
       "    </tr>\n",
       "    <tr>\n",
       "      <th>2020-12-26</th>\n",
       "      <td>-0.403194</td>\n",
       "      <td>-0.614242</td>\n",
       "    </tr>\n",
       "    <tr>\n",
       "      <th>2020-12-27</th>\n",
       "      <td>0.894844</td>\n",
       "      <td>-2.788811</td>\n",
       "    </tr>\n",
       "    <tr>\n",
       "      <th>2020-12-28</th>\n",
       "      <td>1.525497</td>\n",
       "      <td>-1.051442</td>\n",
       "    </tr>\n",
       "    <tr>\n",
       "      <th>2020-12-29</th>\n",
       "      <td>-0.017569</td>\n",
       "      <td>0.622861</td>\n",
       "    </tr>\n",
       "    <tr>\n",
       "      <th>2020-12-30</th>\n",
       "      <td>-0.466841</td>\n",
       "      <td>-0.427706</td>\n",
       "    </tr>\n",
       "    <tr>\n",
       "      <th>2020-12-31</th>\n",
       "      <td>1.205652</td>\n",
       "      <td>-0.743115</td>\n",
       "    </tr>\n",
       "  </tbody>\n",
       "</table>\n",
       "</div>"
      ],
      "text/plain": [
       "                   A         B\n",
       "2020-12-24 -0.740713 -0.695086\n",
       "2020-12-25 -0.238852 -0.258937\n",
       "2020-12-26 -0.403194 -0.614242\n",
       "2020-12-27  0.894844 -2.788811\n",
       "2020-12-28  1.525497 -1.051442\n",
       "2020-12-29 -0.017569  0.622861\n",
       "2020-12-30 -0.466841 -0.427706\n",
       "2020-12-31  1.205652 -0.743115"
      ]
     },
     "execution_count": 38,
     "metadata": {},
     "output_type": "execute_result"
    }
   ],
   "source": [
    "df.loc[dates_xmas[:],['A','B']]"
   ]
  },
  {
   "cell_type": "code",
   "execution_count": 39,
   "metadata": {
    "ExecuteTime": {
     "end_time": "2020-03-01T17:05:00.763782Z",
     "start_time": "2020-03-01T17:05:00.757184Z"
    }
   },
   "outputs": [
    {
     "data": {
      "text/html": [
       "<div>\n",
       "<style>\n",
       "    .dataframe thead tr:only-child th {\n",
       "        text-align: right;\n",
       "    }\n",
       "\n",
       "    .dataframe thead th {\n",
       "        text-align: left;\n",
       "    }\n",
       "\n",
       "    .dataframe tbody tr th {\n",
       "        vertical-align: top;\n",
       "    }\n",
       "</style>\n",
       "<table border=\"1\" class=\"dataframe\">\n",
       "  <thead>\n",
       "    <tr style=\"text-align: right;\">\n",
       "      <th></th>\n",
       "      <th>A</th>\n",
       "      <th>B</th>\n",
       "    </tr>\n",
       "  </thead>\n",
       "  <tbody>\n",
       "    <tr>\n",
       "      <th>2020-12-24</th>\n",
       "      <td>-0.740713</td>\n",
       "      <td>-0.695086</td>\n",
       "    </tr>\n",
       "    <tr>\n",
       "      <th>2020-12-25</th>\n",
       "      <td>-0.238852</td>\n",
       "      <td>-0.258937</td>\n",
       "    </tr>\n",
       "    <tr>\n",
       "      <th>2020-12-26</th>\n",
       "      <td>-0.403194</td>\n",
       "      <td>-0.614242</td>\n",
       "    </tr>\n",
       "    <tr>\n",
       "      <th>2020-12-27</th>\n",
       "      <td>0.894844</td>\n",
       "      <td>-2.788811</td>\n",
       "    </tr>\n",
       "  </tbody>\n",
       "</table>\n",
       "</div>"
      ],
      "text/plain": [
       "                   A         B\n",
       "2020-12-24 -0.740713 -0.695086\n",
       "2020-12-25 -0.238852 -0.258937\n",
       "2020-12-26 -0.403194 -0.614242\n",
       "2020-12-27  0.894844 -2.788811"
      ]
     },
     "execution_count": 39,
     "metadata": {},
     "output_type": "execute_result"
    }
   ],
   "source": [
    "df.loc['20201224':'20201227',['A','B']]"
   ]
  },
  {
   "cell_type": "markdown",
   "metadata": {},
   "source": [
    "## 행과 열의 번호를 이용해서 데이터에 접근"
   ]
  },
  {
   "cell_type": "code",
   "execution_count": 40,
   "metadata": {
    "ExecuteTime": {
     "end_time": "2020-03-01T17:05:00.768731Z",
     "start_time": "2020-03-01T17:05:00.765264Z"
    }
   },
   "outputs": [
    {
     "data": {
      "text/plain": [
       "A    0.894844\n",
       "B   -2.788811\n",
       "C    0.102951\n",
       "D    0.675394\n",
       "Name: 2020-12-27 00:00:00, dtype: float64"
      ]
     },
     "execution_count": 40,
     "metadata": {},
     "output_type": "execute_result"
    }
   ],
   "source": [
    "df.iloc[3]"
   ]
  },
  {
   "cell_type": "code",
   "execution_count": 41,
   "metadata": {
    "ExecuteTime": {
     "end_time": "2020-03-01T17:05:00.776671Z",
     "start_time": "2020-03-01T17:05:00.770036Z"
    }
   },
   "outputs": [
    {
     "data": {
      "text/html": [
       "<div>\n",
       "<style>\n",
       "    .dataframe thead tr:only-child th {\n",
       "        text-align: right;\n",
       "    }\n",
       "\n",
       "    .dataframe thead th {\n",
       "        text-align: left;\n",
       "    }\n",
       "\n",
       "    .dataframe tbody tr th {\n",
       "        vertical-align: top;\n",
       "    }\n",
       "</style>\n",
       "<table border=\"1\" class=\"dataframe\">\n",
       "  <thead>\n",
       "    <tr style=\"text-align: right;\">\n",
       "      <th></th>\n",
       "      <th>A</th>\n",
       "      <th>B</th>\n",
       "      <th>C</th>\n",
       "      <th>D</th>\n",
       "    </tr>\n",
       "  </thead>\n",
       "  <tbody>\n",
       "    <tr>\n",
       "      <th>2020-12-25</th>\n",
       "      <td>-0.238852</td>\n",
       "      <td>-0.258937</td>\n",
       "      <td>-0.846127</td>\n",
       "      <td>0.365356</td>\n",
       "    </tr>\n",
       "    <tr>\n",
       "      <th>2020-12-26</th>\n",
       "      <td>-0.403194</td>\n",
       "      <td>-0.614242</td>\n",
       "      <td>-0.418047</td>\n",
       "      <td>0.980536</td>\n",
       "    </tr>\n",
       "    <tr>\n",
       "      <th>2020-12-27</th>\n",
       "      <td>0.894844</td>\n",
       "      <td>-2.788811</td>\n",
       "      <td>0.102951</td>\n",
       "      <td>0.675394</td>\n",
       "    </tr>\n",
       "  </tbody>\n",
       "</table>\n",
       "</div>"
      ],
      "text/plain": [
       "                   A         B         C         D\n",
       "2020-12-25 -0.238852 -0.258937 -0.846127  0.365356\n",
       "2020-12-26 -0.403194 -0.614242 -0.418047  0.980536\n",
       "2020-12-27  0.894844 -2.788811  0.102951  0.675394"
      ]
     },
     "execution_count": 41,
     "metadata": {},
     "output_type": "execute_result"
    }
   ],
   "source": [
    "df.iloc[1:4]"
   ]
  },
  {
   "cell_type": "code",
   "execution_count": 42,
   "metadata": {
    "ExecuteTime": {
     "end_time": "2020-03-01T17:05:00.783768Z",
     "start_time": "2020-03-01T17:05:00.778123Z"
    }
   },
   "outputs": [
    {
     "data": {
      "text/html": [
       "<div>\n",
       "<style>\n",
       "    .dataframe thead tr:only-child th {\n",
       "        text-align: right;\n",
       "    }\n",
       "\n",
       "    .dataframe thead th {\n",
       "        text-align: left;\n",
       "    }\n",
       "\n",
       "    .dataframe tbody tr th {\n",
       "        vertical-align: top;\n",
       "    }\n",
       "</style>\n",
       "<table border=\"1\" class=\"dataframe\">\n",
       "  <thead>\n",
       "    <tr style=\"text-align: right;\">\n",
       "      <th></th>\n",
       "      <th>B</th>\n",
       "      <th>C</th>\n",
       "    </tr>\n",
       "  </thead>\n",
       "  <tbody>\n",
       "    <tr>\n",
       "      <th>2020-12-25</th>\n",
       "      <td>-0.258937</td>\n",
       "      <td>-0.846127</td>\n",
       "    </tr>\n",
       "    <tr>\n",
       "      <th>2020-12-26</th>\n",
       "      <td>-0.614242</td>\n",
       "      <td>-0.418047</td>\n",
       "    </tr>\n",
       "    <tr>\n",
       "      <th>2020-12-27</th>\n",
       "      <td>-2.788811</td>\n",
       "      <td>0.102951</td>\n",
       "    </tr>\n",
       "  </tbody>\n",
       "</table>\n",
       "</div>"
      ],
      "text/plain": [
       "                   B         C\n",
       "2020-12-25 -0.258937 -0.846127\n",
       "2020-12-26 -0.614242 -0.418047\n",
       "2020-12-27 -2.788811  0.102951"
      ]
     },
     "execution_count": 42,
     "metadata": {},
     "output_type": "execute_result"
    }
   ],
   "source": [
    "df.iloc[1:4,1:3]"
   ]
  },
  {
   "cell_type": "code",
   "execution_count": 43,
   "metadata": {
    "ExecuteTime": {
     "end_time": "2020-03-01T17:05:00.791512Z",
     "start_time": "2020-03-01T17:05:00.785178Z"
    }
   },
   "outputs": [
    {
     "data": {
      "text/html": [
       "<div>\n",
       "<style>\n",
       "    .dataframe thead tr:only-child th {\n",
       "        text-align: right;\n",
       "    }\n",
       "\n",
       "    .dataframe thead th {\n",
       "        text-align: left;\n",
       "    }\n",
       "\n",
       "    .dataframe tbody tr th {\n",
       "        vertical-align: top;\n",
       "    }\n",
       "</style>\n",
       "<table border=\"1\" class=\"dataframe\">\n",
       "  <thead>\n",
       "    <tr style=\"text-align: right;\">\n",
       "      <th></th>\n",
       "      <th>A</th>\n",
       "      <th>D</th>\n",
       "    </tr>\n",
       "  </thead>\n",
       "  <tbody>\n",
       "    <tr>\n",
       "      <th>2020-12-25</th>\n",
       "      <td>-0.238852</td>\n",
       "      <td>0.365356</td>\n",
       "    </tr>\n",
       "    <tr>\n",
       "      <th>2020-12-27</th>\n",
       "      <td>0.894844</td>\n",
       "      <td>0.675394</td>\n",
       "    </tr>\n",
       "    <tr>\n",
       "      <th>2020-12-31</th>\n",
       "      <td>1.205652</td>\n",
       "      <td>-0.390259</td>\n",
       "    </tr>\n",
       "  </tbody>\n",
       "</table>\n",
       "</div>"
      ],
      "text/plain": [
       "                   A         D\n",
       "2020-12-25 -0.238852  0.365356\n",
       "2020-12-27  0.894844  0.675394\n",
       "2020-12-31  1.205652 -0.390259"
      ]
     },
     "execution_count": 43,
     "metadata": {},
     "output_type": "execute_result"
    }
   ],
   "source": [
    "df.iloc[[1,3,7],[0,3]]"
   ]
  },
  {
   "cell_type": "markdown",
   "metadata": {},
   "source": [
    "## 특정 조건 만족하는 데이터"
   ]
  },
  {
   "cell_type": "code",
   "execution_count": 44,
   "metadata": {
    "ExecuteTime": {
     "end_time": "2020-03-01T17:05:00.800091Z",
     "start_time": "2020-03-01T17:05:00.792740Z"
    }
   },
   "outputs": [
    {
     "data": {
      "text/html": [
       "<div>\n",
       "<style>\n",
       "    .dataframe thead tr:only-child th {\n",
       "        text-align: right;\n",
       "    }\n",
       "\n",
       "    .dataframe thead th {\n",
       "        text-align: left;\n",
       "    }\n",
       "\n",
       "    .dataframe tbody tr th {\n",
       "        vertical-align: top;\n",
       "    }\n",
       "</style>\n",
       "<table border=\"1\" class=\"dataframe\">\n",
       "  <thead>\n",
       "    <tr style=\"text-align: right;\">\n",
       "      <th></th>\n",
       "      <th>A</th>\n",
       "      <th>B</th>\n",
       "      <th>C</th>\n",
       "      <th>D</th>\n",
       "    </tr>\n",
       "  </thead>\n",
       "  <tbody>\n",
       "    <tr>\n",
       "      <th>2020-12-27</th>\n",
       "      <td>0.894844</td>\n",
       "      <td>-2.788811</td>\n",
       "      <td>0.102951</td>\n",
       "      <td>0.675394</td>\n",
       "    </tr>\n",
       "    <tr>\n",
       "      <th>2020-12-28</th>\n",
       "      <td>1.525497</td>\n",
       "      <td>-1.051442</td>\n",
       "      <td>0.016838</td>\n",
       "      <td>1.739871</td>\n",
       "    </tr>\n",
       "    <tr>\n",
       "      <th>2020-12-31</th>\n",
       "      <td>1.205652</td>\n",
       "      <td>-0.743115</td>\n",
       "      <td>0.044895</td>\n",
       "      <td>-0.390259</td>\n",
       "    </tr>\n",
       "  </tbody>\n",
       "</table>\n",
       "</div>"
      ],
      "text/plain": [
       "                   A         B         C         D\n",
       "2020-12-27  0.894844 -2.788811  0.102951  0.675394\n",
       "2020-12-28  1.525497 -1.051442  0.016838  1.739871\n",
       "2020-12-31  1.205652 -0.743115  0.044895 -0.390259"
      ]
     },
     "execution_count": 44,
     "metadata": {},
     "output_type": "execute_result"
    }
   ],
   "source": [
    "df[df.A > 0.5]"
   ]
  },
  {
   "cell_type": "code",
   "execution_count": 45,
   "metadata": {
    "ExecuteTime": {
     "end_time": "2020-03-01T17:05:00.808960Z",
     "start_time": "2020-03-01T17:05:00.801485Z"
    }
   },
   "outputs": [
    {
     "data": {
      "text/html": [
       "<div>\n",
       "<style>\n",
       "    .dataframe thead tr:only-child th {\n",
       "        text-align: right;\n",
       "    }\n",
       "\n",
       "    .dataframe thead th {\n",
       "        text-align: left;\n",
       "    }\n",
       "\n",
       "    .dataframe tbody tr th {\n",
       "        vertical-align: top;\n",
       "    }\n",
       "</style>\n",
       "<table border=\"1\" class=\"dataframe\">\n",
       "  <thead>\n",
       "    <tr style=\"text-align: right;\">\n",
       "      <th></th>\n",
       "      <th>A</th>\n",
       "      <th>B</th>\n",
       "      <th>C</th>\n",
       "      <th>D</th>\n",
       "    </tr>\n",
       "  </thead>\n",
       "  <tbody>\n",
       "    <tr>\n",
       "      <th>2020-12-27</th>\n",
       "      <td>0.894844</td>\n",
       "      <td>-2.788811</td>\n",
       "      <td>0.102951</td>\n",
       "      <td>0.675394</td>\n",
       "    </tr>\n",
       "    <tr>\n",
       "      <th>2020-12-28</th>\n",
       "      <td>1.525497</td>\n",
       "      <td>-1.051442</td>\n",
       "      <td>0.016838</td>\n",
       "      <td>1.739871</td>\n",
       "    </tr>\n",
       "    <tr>\n",
       "      <th>2020-12-31</th>\n",
       "      <td>1.205652</td>\n",
       "      <td>-0.743115</td>\n",
       "      <td>0.044895</td>\n",
       "      <td>-0.390259</td>\n",
       "    </tr>\n",
       "  </tbody>\n",
       "</table>\n",
       "</div>"
      ],
      "text/plain": [
       "                   A         B         C         D\n",
       "2020-12-27  0.894844 -2.788811  0.102951  0.675394\n",
       "2020-12-28  1.525497 -1.051442  0.016838  1.739871\n",
       "2020-12-31  1.205652 -0.743115  0.044895 -0.390259"
      ]
     },
     "execution_count": 45,
     "metadata": {},
     "output_type": "execute_result"
    }
   ],
   "source": [
    "df[df['A'] > 0.5]"
   ]
  },
  {
   "cell_type": "code",
   "execution_count": 46,
   "metadata": {
    "ExecuteTime": {
     "end_time": "2020-03-01T17:05:00.818970Z",
     "start_time": "2020-03-01T17:05:00.810329Z"
    }
   },
   "outputs": [
    {
     "data": {
      "text/html": [
       "<div>\n",
       "<style>\n",
       "    .dataframe thead tr:only-child th {\n",
       "        text-align: right;\n",
       "    }\n",
       "\n",
       "    .dataframe thead th {\n",
       "        text-align: left;\n",
       "    }\n",
       "\n",
       "    .dataframe tbody tr th {\n",
       "        vertical-align: top;\n",
       "    }\n",
       "</style>\n",
       "<table border=\"1\" class=\"dataframe\">\n",
       "  <thead>\n",
       "    <tr style=\"text-align: right;\">\n",
       "      <th></th>\n",
       "      <th>A</th>\n",
       "      <th>B</th>\n",
       "      <th>C</th>\n",
       "      <th>D</th>\n",
       "    </tr>\n",
       "  </thead>\n",
       "  <tbody>\n",
       "    <tr>\n",
       "      <th>2020-12-24</th>\n",
       "      <td>NaN</td>\n",
       "      <td>NaN</td>\n",
       "      <td>NaN</td>\n",
       "      <td>NaN</td>\n",
       "    </tr>\n",
       "    <tr>\n",
       "      <th>2020-12-25</th>\n",
       "      <td>NaN</td>\n",
       "      <td>NaN</td>\n",
       "      <td>NaN</td>\n",
       "      <td>NaN</td>\n",
       "    </tr>\n",
       "    <tr>\n",
       "      <th>2020-12-26</th>\n",
       "      <td>NaN</td>\n",
       "      <td>NaN</td>\n",
       "      <td>NaN</td>\n",
       "      <td>0.980536</td>\n",
       "    </tr>\n",
       "    <tr>\n",
       "      <th>2020-12-27</th>\n",
       "      <td>0.894844</td>\n",
       "      <td>NaN</td>\n",
       "      <td>NaN</td>\n",
       "      <td>0.675394</td>\n",
       "    </tr>\n",
       "    <tr>\n",
       "      <th>2020-12-28</th>\n",
       "      <td>1.525497</td>\n",
       "      <td>NaN</td>\n",
       "      <td>NaN</td>\n",
       "      <td>1.739871</td>\n",
       "    </tr>\n",
       "    <tr>\n",
       "      <th>2020-12-29</th>\n",
       "      <td>NaN</td>\n",
       "      <td>0.622861</td>\n",
       "      <td>NaN</td>\n",
       "      <td>NaN</td>\n",
       "    </tr>\n",
       "    <tr>\n",
       "      <th>2020-12-30</th>\n",
       "      <td>NaN</td>\n",
       "      <td>NaN</td>\n",
       "      <td>1.805073</td>\n",
       "      <td>NaN</td>\n",
       "    </tr>\n",
       "    <tr>\n",
       "      <th>2020-12-31</th>\n",
       "      <td>1.205652</td>\n",
       "      <td>NaN</td>\n",
       "      <td>NaN</td>\n",
       "      <td>NaN</td>\n",
       "    </tr>\n",
       "  </tbody>\n",
       "</table>\n",
       "</div>"
      ],
      "text/plain": [
       "                   A         B         C         D\n",
       "2020-12-24       NaN       NaN       NaN       NaN\n",
       "2020-12-25       NaN       NaN       NaN       NaN\n",
       "2020-12-26       NaN       NaN       NaN  0.980536\n",
       "2020-12-27  0.894844       NaN       NaN  0.675394\n",
       "2020-12-28  1.525497       NaN       NaN  1.739871\n",
       "2020-12-29       NaN  0.622861       NaN       NaN\n",
       "2020-12-30       NaN       NaN  1.805073       NaN\n",
       "2020-12-31  1.205652       NaN       NaN       NaN"
      ]
     },
     "execution_count": 46,
     "metadata": {},
     "output_type": "execute_result"
    }
   ],
   "source": [
    "df[df > 0.5]"
   ]
  },
  {
   "cell_type": "markdown",
   "metadata": {},
   "source": [
    "## 데이터 복사"
   ]
  },
  {
   "cell_type": "markdown",
   "metadata": {},
   "source": [
    "##### DataFrame을 복사할 때 '='기호를 이용해서 복사하면 실제 데이터의 내용이 복사되는 것이 아니라 데이터 위치만 복사되기 때문에 원본 데이터는 하나만 있게 됨\n",
    "\n",
    "* df를 사용할 수 없음, df_copy에 따라 데이터의 내용이 같이 변함(데이터는 하나)"
   ]
  },
  {
   "cell_type": "code",
   "execution_count": 47,
   "metadata": {
    "ExecuteTime": {
     "end_time": "2020-03-01T17:05:00.822116Z",
     "start_time": "2020-03-01T17:05:00.820243Z"
    },
    "hide_input": false
   },
   "outputs": [],
   "source": [
    "# df_copy = df"
   ]
  },
  {
   "cell_type": "code",
   "execution_count": 48,
   "metadata": {
    "ExecuteTime": {
     "end_time": "2020-03-01T17:05:00.825241Z",
     "start_time": "2020-03-01T17:05:00.823468Z"
    }
   },
   "outputs": [],
   "source": [
    "# df_copy['E'] = ['one','one','two','three','four','three','seven','eight']"
   ]
  },
  {
   "cell_type": "code",
   "execution_count": 49,
   "metadata": {
    "ExecuteTime": {
     "end_time": "2020-03-01T17:05:00.828212Z",
     "start_time": "2020-03-01T17:05:00.826442Z"
    }
   },
   "outputs": [],
   "source": [
    "# df_copy"
   ]
  },
  {
   "cell_type": "markdown",
   "metadata": {},
   "source": [
    "##### 데이터의 내용까지 복사 : copy()"
   ]
  },
  {
   "cell_type": "code",
   "execution_count": 50,
   "metadata": {
    "ExecuteTime": {
     "end_time": "2020-03-01T17:05:00.831532Z",
     "start_time": "2020-03-01T17:05:00.829418Z"
    }
   },
   "outputs": [],
   "source": [
    "df_copy_1 = df.copy()"
   ]
  },
  {
   "cell_type": "code",
   "execution_count": 51,
   "metadata": {
    "ExecuteTime": {
     "end_time": "2020-03-01T17:05:00.836144Z",
     "start_time": "2020-03-01T17:05:00.832791Z"
    }
   },
   "outputs": [],
   "source": [
    "df_copy_1['E'] = ['one','one','two','three','four','three','seven','eight']"
   ]
  },
  {
   "cell_type": "code",
   "execution_count": 52,
   "metadata": {
    "ExecuteTime": {
     "end_time": "2020-03-01T17:05:00.845351Z",
     "start_time": "2020-03-01T17:05:00.837574Z"
    },
    "scrolled": true
   },
   "outputs": [
    {
     "data": {
      "text/html": [
       "<div>\n",
       "<style>\n",
       "    .dataframe thead tr:only-child th {\n",
       "        text-align: right;\n",
       "    }\n",
       "\n",
       "    .dataframe thead th {\n",
       "        text-align: left;\n",
       "    }\n",
       "\n",
       "    .dataframe tbody tr th {\n",
       "        vertical-align: top;\n",
       "    }\n",
       "</style>\n",
       "<table border=\"1\" class=\"dataframe\">\n",
       "  <thead>\n",
       "    <tr style=\"text-align: right;\">\n",
       "      <th></th>\n",
       "      <th>A</th>\n",
       "      <th>B</th>\n",
       "      <th>C</th>\n",
       "      <th>D</th>\n",
       "      <th>E</th>\n",
       "    </tr>\n",
       "  </thead>\n",
       "  <tbody>\n",
       "    <tr>\n",
       "      <th>2020-12-24</th>\n",
       "      <td>-0.740713</td>\n",
       "      <td>-0.695086</td>\n",
       "      <td>0.255775</td>\n",
       "      <td>-1.299827</td>\n",
       "      <td>one</td>\n",
       "    </tr>\n",
       "    <tr>\n",
       "      <th>2020-12-25</th>\n",
       "      <td>-0.238852</td>\n",
       "      <td>-0.258937</td>\n",
       "      <td>-0.846127</td>\n",
       "      <td>0.365356</td>\n",
       "      <td>one</td>\n",
       "    </tr>\n",
       "    <tr>\n",
       "      <th>2020-12-26</th>\n",
       "      <td>-0.403194</td>\n",
       "      <td>-0.614242</td>\n",
       "      <td>-0.418047</td>\n",
       "      <td>0.980536</td>\n",
       "      <td>two</td>\n",
       "    </tr>\n",
       "    <tr>\n",
       "      <th>2020-12-27</th>\n",
       "      <td>0.894844</td>\n",
       "      <td>-2.788811</td>\n",
       "      <td>0.102951</td>\n",
       "      <td>0.675394</td>\n",
       "      <td>three</td>\n",
       "    </tr>\n",
       "    <tr>\n",
       "      <th>2020-12-28</th>\n",
       "      <td>1.525497</td>\n",
       "      <td>-1.051442</td>\n",
       "      <td>0.016838</td>\n",
       "      <td>1.739871</td>\n",
       "      <td>four</td>\n",
       "    </tr>\n",
       "    <tr>\n",
       "      <th>2020-12-29</th>\n",
       "      <td>-0.017569</td>\n",
       "      <td>0.622861</td>\n",
       "      <td>-0.827070</td>\n",
       "      <td>-0.003627</td>\n",
       "      <td>three</td>\n",
       "    </tr>\n",
       "    <tr>\n",
       "      <th>2020-12-30</th>\n",
       "      <td>-0.466841</td>\n",
       "      <td>-0.427706</td>\n",
       "      <td>1.805073</td>\n",
       "      <td>-1.455404</td>\n",
       "      <td>seven</td>\n",
       "    </tr>\n",
       "    <tr>\n",
       "      <th>2020-12-31</th>\n",
       "      <td>1.205652</td>\n",
       "      <td>-0.743115</td>\n",
       "      <td>0.044895</td>\n",
       "      <td>-0.390259</td>\n",
       "      <td>eight</td>\n",
       "    </tr>\n",
       "  </tbody>\n",
       "</table>\n",
       "</div>"
      ],
      "text/plain": [
       "                   A         B         C         D      E\n",
       "2020-12-24 -0.740713 -0.695086  0.255775 -1.299827    one\n",
       "2020-12-25 -0.238852 -0.258937 -0.846127  0.365356    one\n",
       "2020-12-26 -0.403194 -0.614242 -0.418047  0.980536    two\n",
       "2020-12-27  0.894844 -2.788811  0.102951  0.675394  three\n",
       "2020-12-28  1.525497 -1.051442  0.016838  1.739871   four\n",
       "2020-12-29 -0.017569  0.622861 -0.827070 -0.003627  three\n",
       "2020-12-30 -0.466841 -0.427706  1.805073 -1.455404  seven\n",
       "2020-12-31  1.205652 -0.743115  0.044895 -0.390259  eight"
      ]
     },
     "execution_count": 52,
     "metadata": {},
     "output_type": "execute_result"
    }
   ],
   "source": [
    "df_copy_1"
   ]
  },
  {
   "cell_type": "markdown",
   "metadata": {},
   "source": [
    "## isin()"
   ]
  },
  {
   "cell_type": "code",
   "execution_count": 53,
   "metadata": {
    "ExecuteTime": {
     "end_time": "2020-03-01T17:05:00.854904Z",
     "start_time": "2020-03-01T17:05:00.846707Z"
    }
   },
   "outputs": [
    {
     "data": {
      "text/plain": [
       "2020-12-24     True\n",
       "2020-12-25     True\n",
       "2020-12-26    False\n",
       "2020-12-27    False\n",
       "2020-12-28     True\n",
       "2020-12-29    False\n",
       "2020-12-30    False\n",
       "2020-12-31    False\n",
       "Freq: D, Name: E, dtype: bool"
      ]
     },
     "execution_count": 53,
     "metadata": {},
     "output_type": "execute_result"
    }
   ],
   "source": [
    "df_copy_1['E'].isin(['one','four'])"
   ]
  },
  {
   "cell_type": "code",
   "execution_count": 54,
   "metadata": {
    "ExecuteTime": {
     "end_time": "2020-03-01T17:05:00.864326Z",
     "start_time": "2020-03-01T17:05:00.856361Z"
    }
   },
   "outputs": [
    {
     "data": {
      "text/html": [
       "<div>\n",
       "<style>\n",
       "    .dataframe thead tr:only-child th {\n",
       "        text-align: right;\n",
       "    }\n",
       "\n",
       "    .dataframe thead th {\n",
       "        text-align: left;\n",
       "    }\n",
       "\n",
       "    .dataframe tbody tr th {\n",
       "        vertical-align: top;\n",
       "    }\n",
       "</style>\n",
       "<table border=\"1\" class=\"dataframe\">\n",
       "  <thead>\n",
       "    <tr style=\"text-align: right;\">\n",
       "      <th></th>\n",
       "      <th>A</th>\n",
       "      <th>B</th>\n",
       "      <th>C</th>\n",
       "      <th>D</th>\n",
       "      <th>E</th>\n",
       "    </tr>\n",
       "  </thead>\n",
       "  <tbody>\n",
       "    <tr>\n",
       "      <th>2020-12-24</th>\n",
       "      <td>-0.740713</td>\n",
       "      <td>-0.695086</td>\n",
       "      <td>0.255775</td>\n",
       "      <td>-1.299827</td>\n",
       "      <td>one</td>\n",
       "    </tr>\n",
       "    <tr>\n",
       "      <th>2020-12-25</th>\n",
       "      <td>-0.238852</td>\n",
       "      <td>-0.258937</td>\n",
       "      <td>-0.846127</td>\n",
       "      <td>0.365356</td>\n",
       "      <td>one</td>\n",
       "    </tr>\n",
       "    <tr>\n",
       "      <th>2020-12-28</th>\n",
       "      <td>1.525497</td>\n",
       "      <td>-1.051442</td>\n",
       "      <td>0.016838</td>\n",
       "      <td>1.739871</td>\n",
       "      <td>four</td>\n",
       "    </tr>\n",
       "  </tbody>\n",
       "</table>\n",
       "</div>"
      ],
      "text/plain": [
       "                   A         B         C         D     E\n",
       "2020-12-24 -0.740713 -0.695086  0.255775 -1.299827   one\n",
       "2020-12-25 -0.238852 -0.258937 -0.846127  0.365356   one\n",
       "2020-12-28  1.525497 -1.051442  0.016838  1.739871  four"
      ]
     },
     "execution_count": 54,
     "metadata": {},
     "output_type": "execute_result"
    }
   ],
   "source": [
    "df_copy_1[df_copy_1['E'].isin(['one','four'])]"
   ]
  },
  {
   "cell_type": "markdown",
   "metadata": {
    "ExecuteTime": {
     "end_time": "2020-03-01T13:17:50.439210Z",
     "start_time": "2020-03-01T13:17:50.436934Z"
    }
   },
   "source": [
    "## 통계 느낌의 데이터 - apply"
   ]
  },
  {
   "cell_type": "code",
   "execution_count": 55,
   "metadata": {
    "ExecuteTime": {
     "end_time": "2020-03-01T17:05:00.874515Z",
     "start_time": "2020-03-01T17:05:00.865671Z"
    }
   },
   "outputs": [
    {
     "data": {
      "text/html": [
       "<div>\n",
       "<style>\n",
       "    .dataframe thead tr:only-child th {\n",
       "        text-align: right;\n",
       "    }\n",
       "\n",
       "    .dataframe thead th {\n",
       "        text-align: left;\n",
       "    }\n",
       "\n",
       "    .dataframe tbody tr th {\n",
       "        vertical-align: top;\n",
       "    }\n",
       "</style>\n",
       "<table border=\"1\" class=\"dataframe\">\n",
       "  <thead>\n",
       "    <tr style=\"text-align: right;\">\n",
       "      <th></th>\n",
       "      <th>A</th>\n",
       "      <th>B</th>\n",
       "      <th>C</th>\n",
       "      <th>D</th>\n",
       "    </tr>\n",
       "  </thead>\n",
       "  <tbody>\n",
       "    <tr>\n",
       "      <th>2020-12-24</th>\n",
       "      <td>-0.740713</td>\n",
       "      <td>-0.695086</td>\n",
       "      <td>0.255775</td>\n",
       "      <td>-1.299827</td>\n",
       "    </tr>\n",
       "    <tr>\n",
       "      <th>2020-12-25</th>\n",
       "      <td>-0.979565</td>\n",
       "      <td>-0.954023</td>\n",
       "      <td>-0.590352</td>\n",
       "      <td>-0.934471</td>\n",
       "    </tr>\n",
       "    <tr>\n",
       "      <th>2020-12-26</th>\n",
       "      <td>-1.382759</td>\n",
       "      <td>-1.568265</td>\n",
       "      <td>-1.008400</td>\n",
       "      <td>0.046065</td>\n",
       "    </tr>\n",
       "    <tr>\n",
       "      <th>2020-12-27</th>\n",
       "      <td>-0.487915</td>\n",
       "      <td>-4.357075</td>\n",
       "      <td>-0.905448</td>\n",
       "      <td>0.721459</td>\n",
       "    </tr>\n",
       "    <tr>\n",
       "      <th>2020-12-28</th>\n",
       "      <td>1.037582</td>\n",
       "      <td>-5.408517</td>\n",
       "      <td>-0.888611</td>\n",
       "      <td>2.461330</td>\n",
       "    </tr>\n",
       "    <tr>\n",
       "      <th>2020-12-29</th>\n",
       "      <td>1.020013</td>\n",
       "      <td>-4.785656</td>\n",
       "      <td>-1.715681</td>\n",
       "      <td>2.457704</td>\n",
       "    </tr>\n",
       "    <tr>\n",
       "      <th>2020-12-30</th>\n",
       "      <td>0.553172</td>\n",
       "      <td>-5.213362</td>\n",
       "      <td>0.089393</td>\n",
       "      <td>1.002299</td>\n",
       "    </tr>\n",
       "    <tr>\n",
       "      <th>2020-12-31</th>\n",
       "      <td>1.758824</td>\n",
       "      <td>-5.956477</td>\n",
       "      <td>0.134288</td>\n",
       "      <td>0.612041</td>\n",
       "    </tr>\n",
       "  </tbody>\n",
       "</table>\n",
       "</div>"
      ],
      "text/plain": [
       "                   A         B         C         D\n",
       "2020-12-24 -0.740713 -0.695086  0.255775 -1.299827\n",
       "2020-12-25 -0.979565 -0.954023 -0.590352 -0.934471\n",
       "2020-12-26 -1.382759 -1.568265 -1.008400  0.046065\n",
       "2020-12-27 -0.487915 -4.357075 -0.905448  0.721459\n",
       "2020-12-28  1.037582 -5.408517 -0.888611  2.461330\n",
       "2020-12-29  1.020013 -4.785656 -1.715681  2.457704\n",
       "2020-12-30  0.553172 -5.213362  0.089393  1.002299\n",
       "2020-12-31  1.758824 -5.956477  0.134288  0.612041"
      ]
     },
     "execution_count": 55,
     "metadata": {},
     "output_type": "execute_result"
    }
   ],
   "source": [
    "df.apply(np.cumsum) # 누적합"
   ]
  },
  {
   "cell_type": "code",
   "execution_count": 56,
   "metadata": {
    "ExecuteTime": {
     "end_time": "2020-03-01T17:05:00.883578Z",
     "start_time": "2020-03-01T17:05:00.876264Z"
    }
   },
   "outputs": [
    {
     "data": {
      "text/html": [
       "<div>\n",
       "<style>\n",
       "    .dataframe thead tr:only-child th {\n",
       "        text-align: right;\n",
       "    }\n",
       "\n",
       "    .dataframe thead th {\n",
       "        text-align: left;\n",
       "    }\n",
       "\n",
       "    .dataframe tbody tr th {\n",
       "        vertical-align: top;\n",
       "    }\n",
       "</style>\n",
       "<table border=\"1\" class=\"dataframe\">\n",
       "  <thead>\n",
       "    <tr style=\"text-align: right;\">\n",
       "      <th></th>\n",
       "      <th>A</th>\n",
       "      <th>B</th>\n",
       "      <th>C</th>\n",
       "      <th>D</th>\n",
       "      <th>E</th>\n",
       "    </tr>\n",
       "  </thead>\n",
       "  <tbody>\n",
       "    <tr>\n",
       "      <th>2020-12-24</th>\n",
       "      <td>-0.740713</td>\n",
       "      <td>-0.695086</td>\n",
       "      <td>0.255775</td>\n",
       "      <td>-1.299827</td>\n",
       "      <td>one</td>\n",
       "    </tr>\n",
       "    <tr>\n",
       "      <th>2020-12-25</th>\n",
       "      <td>-0.238852</td>\n",
       "      <td>-0.258937</td>\n",
       "      <td>-0.846127</td>\n",
       "      <td>0.365356</td>\n",
       "      <td>one</td>\n",
       "    </tr>\n",
       "    <tr>\n",
       "      <th>2020-12-26</th>\n",
       "      <td>-0.403194</td>\n",
       "      <td>-0.614242</td>\n",
       "      <td>-0.418047</td>\n",
       "      <td>0.980536</td>\n",
       "      <td>two</td>\n",
       "    </tr>\n",
       "    <tr>\n",
       "      <th>2020-12-27</th>\n",
       "      <td>0.894844</td>\n",
       "      <td>-2.788811</td>\n",
       "      <td>0.102951</td>\n",
       "      <td>0.675394</td>\n",
       "      <td>three</td>\n",
       "    </tr>\n",
       "    <tr>\n",
       "      <th>2020-12-28</th>\n",
       "      <td>1.525497</td>\n",
       "      <td>-1.051442</td>\n",
       "      <td>0.016838</td>\n",
       "      <td>1.739871</td>\n",
       "      <td>four</td>\n",
       "    </tr>\n",
       "    <tr>\n",
       "      <th>2020-12-29</th>\n",
       "      <td>-0.017569</td>\n",
       "      <td>0.622861</td>\n",
       "      <td>-0.827070</td>\n",
       "      <td>-0.003627</td>\n",
       "      <td>three</td>\n",
       "    </tr>\n",
       "    <tr>\n",
       "      <th>2020-12-30</th>\n",
       "      <td>-0.466841</td>\n",
       "      <td>-0.427706</td>\n",
       "      <td>1.805073</td>\n",
       "      <td>-1.455404</td>\n",
       "      <td>seven</td>\n",
       "    </tr>\n",
       "    <tr>\n",
       "      <th>2020-12-31</th>\n",
       "      <td>1.205652</td>\n",
       "      <td>-0.743115</td>\n",
       "      <td>0.044895</td>\n",
       "      <td>-0.390259</td>\n",
       "      <td>eight</td>\n",
       "    </tr>\n",
       "  </tbody>\n",
       "</table>\n",
       "</div>"
      ],
      "text/plain": [
       "                   A         B         C         D      E\n",
       "2020-12-24 -0.740713 -0.695086  0.255775 -1.299827    one\n",
       "2020-12-25 -0.238852 -0.258937 -0.846127  0.365356    one\n",
       "2020-12-26 -0.403194 -0.614242 -0.418047  0.980536    two\n",
       "2020-12-27  0.894844 -2.788811  0.102951  0.675394  three\n",
       "2020-12-28  1.525497 -1.051442  0.016838  1.739871   four\n",
       "2020-12-29 -0.017569  0.622861 -0.827070 -0.003627  three\n",
       "2020-12-30 -0.466841 -0.427706  1.805073 -1.455404  seven\n",
       "2020-12-31  1.205652 -0.743115  0.044895 -0.390259  eight"
      ]
     },
     "execution_count": 56,
     "metadata": {},
     "output_type": "execute_result"
    }
   ],
   "source": [
    "df_copy_1"
   ]
  },
  {
   "cell_type": "code",
   "execution_count": 57,
   "metadata": {
    "ExecuteTime": {
     "end_time": "2020-03-01T17:05:00.893523Z",
     "start_time": "2020-03-01T17:05:00.884810Z"
    }
   },
   "outputs": [
    {
     "data": {
      "text/html": [
       "<div>\n",
       "<style>\n",
       "    .dataframe thead tr:only-child th {\n",
       "        text-align: right;\n",
       "    }\n",
       "\n",
       "    .dataframe thead th {\n",
       "        text-align: left;\n",
       "    }\n",
       "\n",
       "    .dataframe tbody tr th {\n",
       "        vertical-align: top;\n",
       "    }\n",
       "</style>\n",
       "<table border=\"1\" class=\"dataframe\">\n",
       "  <thead>\n",
       "    <tr style=\"text-align: right;\">\n",
       "      <th></th>\n",
       "      <th>A</th>\n",
       "      <th>B</th>\n",
       "      <th>C</th>\n",
       "      <th>D</th>\n",
       "    </tr>\n",
       "  </thead>\n",
       "  <tbody>\n",
       "    <tr>\n",
       "      <th>2020-12-24</th>\n",
       "      <td>-0.740713</td>\n",
       "      <td>-0.695086</td>\n",
       "      <td>0.255775</td>\n",
       "      <td>-1.299827</td>\n",
       "    </tr>\n",
       "    <tr>\n",
       "      <th>2020-12-25</th>\n",
       "      <td>-0.979565</td>\n",
       "      <td>-0.954023</td>\n",
       "      <td>-0.590352</td>\n",
       "      <td>-0.934471</td>\n",
       "    </tr>\n",
       "    <tr>\n",
       "      <th>2020-12-26</th>\n",
       "      <td>-1.382759</td>\n",
       "      <td>-1.568265</td>\n",
       "      <td>-1.008400</td>\n",
       "      <td>0.046065</td>\n",
       "    </tr>\n",
       "    <tr>\n",
       "      <th>2020-12-27</th>\n",
       "      <td>-0.487915</td>\n",
       "      <td>-4.357075</td>\n",
       "      <td>-0.905448</td>\n",
       "      <td>0.721459</td>\n",
       "    </tr>\n",
       "    <tr>\n",
       "      <th>2020-12-28</th>\n",
       "      <td>1.037582</td>\n",
       "      <td>-5.408517</td>\n",
       "      <td>-0.888611</td>\n",
       "      <td>2.461330</td>\n",
       "    </tr>\n",
       "    <tr>\n",
       "      <th>2020-12-29</th>\n",
       "      <td>1.020013</td>\n",
       "      <td>-4.785656</td>\n",
       "      <td>-1.715681</td>\n",
       "      <td>2.457704</td>\n",
       "    </tr>\n",
       "    <tr>\n",
       "      <th>2020-12-30</th>\n",
       "      <td>0.553172</td>\n",
       "      <td>-5.213362</td>\n",
       "      <td>0.089393</td>\n",
       "      <td>1.002299</td>\n",
       "    </tr>\n",
       "    <tr>\n",
       "      <th>2020-12-31</th>\n",
       "      <td>1.758824</td>\n",
       "      <td>-5.956477</td>\n",
       "      <td>0.134288</td>\n",
       "      <td>0.612041</td>\n",
       "    </tr>\n",
       "  </tbody>\n",
       "</table>\n",
       "</div>"
      ],
      "text/plain": [
       "                   A         B         C         D\n",
       "2020-12-24 -0.740713 -0.695086  0.255775 -1.299827\n",
       "2020-12-25 -0.979565 -0.954023 -0.590352 -0.934471\n",
       "2020-12-26 -1.382759 -1.568265 -1.008400  0.046065\n",
       "2020-12-27 -0.487915 -4.357075 -0.905448  0.721459\n",
       "2020-12-28  1.037582 -5.408517 -0.888611  2.461330\n",
       "2020-12-29  1.020013 -4.785656 -1.715681  2.457704\n",
       "2020-12-30  0.553172 -5.213362  0.089393  1.002299\n",
       "2020-12-31  1.758824 -5.956477  0.134288  0.612041"
      ]
     },
     "execution_count": 57,
     "metadata": {},
     "output_type": "execute_result"
    }
   ],
   "source": [
    "df.apply(np.cumsum, axis=0)"
   ]
  },
  {
   "cell_type": "code",
   "execution_count": 58,
   "metadata": {
    "ExecuteTime": {
     "end_time": "2020-03-01T17:05:00.904074Z",
     "start_time": "2020-03-01T17:05:00.895510Z"
    }
   },
   "outputs": [
    {
     "data": {
      "text/html": [
       "<div>\n",
       "<style>\n",
       "    .dataframe thead tr:only-child th {\n",
       "        text-align: right;\n",
       "    }\n",
       "\n",
       "    .dataframe thead th {\n",
       "        text-align: left;\n",
       "    }\n",
       "\n",
       "    .dataframe tbody tr th {\n",
       "        vertical-align: top;\n",
       "    }\n",
       "</style>\n",
       "<table border=\"1\" class=\"dataframe\">\n",
       "  <thead>\n",
       "    <tr style=\"text-align: right;\">\n",
       "      <th></th>\n",
       "      <th>A</th>\n",
       "      <th>B</th>\n",
       "      <th>C</th>\n",
       "      <th>D</th>\n",
       "    </tr>\n",
       "  </thead>\n",
       "  <tbody>\n",
       "    <tr>\n",
       "      <th>2020-12-24</th>\n",
       "      <td>-0.740713</td>\n",
       "      <td>-1.435799</td>\n",
       "      <td>-1.180024</td>\n",
       "      <td>-2.479851</td>\n",
       "    </tr>\n",
       "    <tr>\n",
       "      <th>2020-12-25</th>\n",
       "      <td>-0.238852</td>\n",
       "      <td>-0.497789</td>\n",
       "      <td>-1.343916</td>\n",
       "      <td>-0.978560</td>\n",
       "    </tr>\n",
       "    <tr>\n",
       "      <th>2020-12-26</th>\n",
       "      <td>-0.403194</td>\n",
       "      <td>-1.017436</td>\n",
       "      <td>-1.435483</td>\n",
       "      <td>-0.454947</td>\n",
       "    </tr>\n",
       "    <tr>\n",
       "      <th>2020-12-27</th>\n",
       "      <td>0.894844</td>\n",
       "      <td>-1.893966</td>\n",
       "      <td>-1.791015</td>\n",
       "      <td>-1.115621</td>\n",
       "    </tr>\n",
       "    <tr>\n",
       "      <th>2020-12-28</th>\n",
       "      <td>1.525497</td>\n",
       "      <td>0.474055</td>\n",
       "      <td>0.490892</td>\n",
       "      <td>2.230763</td>\n",
       "    </tr>\n",
       "    <tr>\n",
       "      <th>2020-12-29</th>\n",
       "      <td>-0.017569</td>\n",
       "      <td>0.605292</td>\n",
       "      <td>-0.221778</td>\n",
       "      <td>-0.225404</td>\n",
       "    </tr>\n",
       "    <tr>\n",
       "      <th>2020-12-30</th>\n",
       "      <td>-0.466841</td>\n",
       "      <td>-0.894547</td>\n",
       "      <td>0.910526</td>\n",
       "      <td>-0.544878</td>\n",
       "    </tr>\n",
       "    <tr>\n",
       "      <th>2020-12-31</th>\n",
       "      <td>1.205652</td>\n",
       "      <td>0.462537</td>\n",
       "      <td>0.507433</td>\n",
       "      <td>0.117174</td>\n",
       "    </tr>\n",
       "  </tbody>\n",
       "</table>\n",
       "</div>"
      ],
      "text/plain": [
       "                   A         B         C         D\n",
       "2020-12-24 -0.740713 -1.435799 -1.180024 -2.479851\n",
       "2020-12-25 -0.238852 -0.497789 -1.343916 -0.978560\n",
       "2020-12-26 -0.403194 -1.017436 -1.435483 -0.454947\n",
       "2020-12-27  0.894844 -1.893966 -1.791015 -1.115621\n",
       "2020-12-28  1.525497  0.474055  0.490892  2.230763\n",
       "2020-12-29 -0.017569  0.605292 -0.221778 -0.225404\n",
       "2020-12-30 -0.466841 -0.894547  0.910526 -0.544878\n",
       "2020-12-31  1.205652  0.462537  0.507433  0.117174"
      ]
     },
     "execution_count": 58,
     "metadata": {},
     "output_type": "execute_result"
    }
   ],
   "source": [
    "df.apply(np.cumsum, axis=1)"
   ]
  },
  {
   "cell_type": "code",
   "execution_count": 59,
   "metadata": {
    "ExecuteTime": {
     "end_time": "2020-03-01T17:05:00.908957Z",
     "start_time": "2020-03-01T17:05:00.905268Z"
    }
   },
   "outputs": [
    {
     "data": {
      "text/plain": [
       "A    0.219853\n",
       "B   -0.744560\n",
       "C    0.016786\n",
       "D    0.076505\n",
       "dtype: float64"
      ]
     },
     "execution_count": 59,
     "metadata": {},
     "output_type": "execute_result"
    }
   ],
   "source": [
    "df.apply(np.average, axis=0) # 열 기준"
   ]
  },
  {
   "cell_type": "code",
   "execution_count": 60,
   "metadata": {
    "ExecuteTime": {
     "end_time": "2020-03-01T17:05:00.918064Z",
     "start_time": "2020-03-01T17:05:00.910301Z"
    }
   },
   "outputs": [
    {
     "data": {
      "text/plain": [
       "2020-12-24   -0.619963\n",
       "2020-12-25   -0.244640\n",
       "2020-12-26   -0.113737\n",
       "2020-12-27   -0.278905\n",
       "2020-12-28    0.557691\n",
       "2020-12-29   -0.056351\n",
       "2020-12-30   -0.136220\n",
       "2020-12-31    0.029294\n",
       "Freq: D, dtype: float64"
      ]
     },
     "execution_count": 60,
     "metadata": {},
     "output_type": "execute_result"
    }
   ],
   "source": [
    "df.apply(np.average, axis=1) # 행 기준"
   ]
  },
  {
   "cell_type": "code",
   "execution_count": 61,
   "metadata": {
    "ExecuteTime": {
     "end_time": "2020-03-01T17:05:00.921704Z",
     "start_time": "2020-03-01T17:05:00.919507Z"
    }
   },
   "outputs": [],
   "source": [
    "def get_divide(df):\n",
    "    return (df['A'] + df['B'] + df['C'] + df['D']) / 4"
   ]
  },
  {
   "cell_type": "code",
   "execution_count": 62,
   "metadata": {
    "ExecuteTime": {
     "end_time": "2020-03-01T17:05:00.931288Z",
     "start_time": "2020-03-01T17:05:00.923015Z"
    }
   },
   "outputs": [
    {
     "data": {
      "text/plain": [
       "2020-12-24   -0.619963\n",
       "2020-12-25   -0.244640\n",
       "2020-12-26   -0.113737\n",
       "2020-12-27   -0.278905\n",
       "2020-12-28    0.557691\n",
       "2020-12-29   -0.056351\n",
       "2020-12-30   -0.136220\n",
       "2020-12-31    0.029294\n",
       "Freq: D, dtype: float64"
      ]
     },
     "execution_count": 62,
     "metadata": {},
     "output_type": "execute_result"
    }
   ],
   "source": [
    "df.apply(get_divide, axis=1)"
   ]
  },
  {
   "cell_type": "code",
   "execution_count": 63,
   "metadata": {
    "ExecuteTime": {
     "end_time": "2020-03-01T17:05:00.935534Z",
     "start_time": "2020-03-01T17:05:00.932567Z"
    }
   },
   "outputs": [],
   "source": [
    "df['average'] = df.apply(get_divide, axis=1)"
   ]
  },
  {
   "cell_type": "code",
   "execution_count": 64,
   "metadata": {
    "ExecuteTime": {
     "end_time": "2020-03-01T17:05:00.945239Z",
     "start_time": "2020-03-01T17:05:00.937197Z"
    }
   },
   "outputs": [
    {
     "data": {
      "text/html": [
       "<div>\n",
       "<style>\n",
       "    .dataframe thead tr:only-child th {\n",
       "        text-align: right;\n",
       "    }\n",
       "\n",
       "    .dataframe thead th {\n",
       "        text-align: left;\n",
       "    }\n",
       "\n",
       "    .dataframe tbody tr th {\n",
       "        vertical-align: top;\n",
       "    }\n",
       "</style>\n",
       "<table border=\"1\" class=\"dataframe\">\n",
       "  <thead>\n",
       "    <tr style=\"text-align: right;\">\n",
       "      <th></th>\n",
       "      <th>A</th>\n",
       "      <th>B</th>\n",
       "      <th>C</th>\n",
       "      <th>D</th>\n",
       "      <th>average</th>\n",
       "    </tr>\n",
       "  </thead>\n",
       "  <tbody>\n",
       "    <tr>\n",
       "      <th>2020-12-24</th>\n",
       "      <td>-0.740713</td>\n",
       "      <td>-0.695086</td>\n",
       "      <td>0.255775</td>\n",
       "      <td>-1.299827</td>\n",
       "      <td>-0.619963</td>\n",
       "    </tr>\n",
       "    <tr>\n",
       "      <th>2020-12-25</th>\n",
       "      <td>-0.238852</td>\n",
       "      <td>-0.258937</td>\n",
       "      <td>-0.846127</td>\n",
       "      <td>0.365356</td>\n",
       "      <td>-0.244640</td>\n",
       "    </tr>\n",
       "    <tr>\n",
       "      <th>2020-12-26</th>\n",
       "      <td>-0.403194</td>\n",
       "      <td>-0.614242</td>\n",
       "      <td>-0.418047</td>\n",
       "      <td>0.980536</td>\n",
       "      <td>-0.113737</td>\n",
       "    </tr>\n",
       "    <tr>\n",
       "      <th>2020-12-27</th>\n",
       "      <td>0.894844</td>\n",
       "      <td>-2.788811</td>\n",
       "      <td>0.102951</td>\n",
       "      <td>0.675394</td>\n",
       "      <td>-0.278905</td>\n",
       "    </tr>\n",
       "    <tr>\n",
       "      <th>2020-12-28</th>\n",
       "      <td>1.525497</td>\n",
       "      <td>-1.051442</td>\n",
       "      <td>0.016838</td>\n",
       "      <td>1.739871</td>\n",
       "      <td>0.557691</td>\n",
       "    </tr>\n",
       "    <tr>\n",
       "      <th>2020-12-29</th>\n",
       "      <td>-0.017569</td>\n",
       "      <td>0.622861</td>\n",
       "      <td>-0.827070</td>\n",
       "      <td>-0.003627</td>\n",
       "      <td>-0.056351</td>\n",
       "    </tr>\n",
       "    <tr>\n",
       "      <th>2020-12-30</th>\n",
       "      <td>-0.466841</td>\n",
       "      <td>-0.427706</td>\n",
       "      <td>1.805073</td>\n",
       "      <td>-1.455404</td>\n",
       "      <td>-0.136220</td>\n",
       "    </tr>\n",
       "    <tr>\n",
       "      <th>2020-12-31</th>\n",
       "      <td>1.205652</td>\n",
       "      <td>-0.743115</td>\n",
       "      <td>0.044895</td>\n",
       "      <td>-0.390259</td>\n",
       "      <td>0.029294</td>\n",
       "    </tr>\n",
       "  </tbody>\n",
       "</table>\n",
       "</div>"
      ],
      "text/plain": [
       "                   A         B         C         D   average\n",
       "2020-12-24 -0.740713 -0.695086  0.255775 -1.299827 -0.619963\n",
       "2020-12-25 -0.238852 -0.258937 -0.846127  0.365356 -0.244640\n",
       "2020-12-26 -0.403194 -0.614242 -0.418047  0.980536 -0.113737\n",
       "2020-12-27  0.894844 -2.788811  0.102951  0.675394 -0.278905\n",
       "2020-12-28  1.525497 -1.051442  0.016838  1.739871  0.557691\n",
       "2020-12-29 -0.017569  0.622861 -0.827070 -0.003627 -0.056351\n",
       "2020-12-30 -0.466841 -0.427706  1.805073 -1.455404 -0.136220\n",
       "2020-12-31  1.205652 -0.743115  0.044895 -0.390259  0.029294"
      ]
     },
     "execution_count": 64,
     "metadata": {},
     "output_type": "execute_result"
    }
   ],
   "source": [
    "df"
   ]
  },
  {
   "cell_type": "markdown",
   "metadata": {},
   "source": [
    "##### 최대값과 최소값의 차이(혹은 거리) one-line 함수인 lambda 사용"
   ]
  },
  {
   "cell_type": "code",
   "execution_count": 65,
   "metadata": {
    "ExecuteTime": {
     "end_time": "2020-03-01T17:05:00.951550Z",
     "start_time": "2020-03-01T17:05:00.946536Z"
    }
   },
   "outputs": [
    {
     "data": {
      "text/plain": [
       "A          2.266210\n",
       "B          3.411672\n",
       "C          2.651201\n",
       "D          3.195275\n",
       "average    1.177654\n",
       "dtype: float64"
      ]
     },
     "execution_count": 65,
     "metadata": {},
     "output_type": "execute_result"
    }
   ],
   "source": [
    "df.apply(lambda x: x.max() - x.min())"
   ]
  },
  {
   "cell_type": "code",
   "execution_count": 66,
   "metadata": {
    "ExecuteTime": {
     "end_time": "2020-03-01T17:05:00.962386Z",
     "start_time": "2020-03-01T17:05:00.952967Z"
    }
   },
   "outputs": [
    {
     "data": {
      "text/plain": [
       "2020-12-24    1.555602\n",
       "2020-12-25    1.211483\n",
       "2020-12-26    1.594778\n",
       "2020-12-27    3.683655\n",
       "2020-12-28    2.791313\n",
       "2020-12-29    1.449931\n",
       "2020-12-30    3.260477\n",
       "2020-12-31    1.948767\n",
       "Freq: D, dtype: float64"
      ]
     },
     "execution_count": 66,
     "metadata": {},
     "output_type": "execute_result"
    }
   ],
   "source": [
    "df.apply(lambda x: x.max() - x.min(), axis=1)"
   ]
  },
  {
   "cell_type": "code",
   "execution_count": null,
   "metadata": {},
   "outputs": [],
   "source": []
  },
  {
   "cell_type": "code",
   "execution_count": null,
   "metadata": {},
   "outputs": [],
   "source": []
  },
  {
   "cell_type": "markdown",
   "metadata": {},
   "source": [
    "## 재색인(reindex)\n",
    "* 새로운 색인에 맞도록 객체를 새로 생성하는 기능, row, column, index 모두 변경 가능"
   ]
  },
  {
   "cell_type": "markdown",
   "metadata": {},
   "source": [
    "##### Series 객체의 reindex"
   ]
  },
  {
   "cell_type": "code",
   "execution_count": 67,
   "metadata": {
    "ExecuteTime": {
     "end_time": "2020-03-01T17:05:00.966417Z",
     "start_time": "2020-03-01T17:05:00.963657Z"
    }
   },
   "outputs": [],
   "source": [
    "obj = pd.Series([2.3, 4.5, -4.1, 3.5], index=[\"D\",\"A\",\"V\",\"E\"])"
   ]
  },
  {
   "cell_type": "code",
   "execution_count": 68,
   "metadata": {
    "ExecuteTime": {
     "end_time": "2020-03-01T17:05:00.981292Z",
     "start_time": "2020-03-01T17:05:00.977810Z"
    }
   },
   "outputs": [
    {
     "data": {
      "text/plain": [
       "D    2.3\n",
       "A    4.5\n",
       "V   -4.1\n",
       "E    3.5\n",
       "dtype: float64"
      ]
     },
     "execution_count": 68,
     "metadata": {},
     "output_type": "execute_result"
    }
   ],
   "source": [
    "obj"
   ]
  },
  {
   "cell_type": "code",
   "execution_count": 69,
   "metadata": {
    "ExecuteTime": {
     "end_time": "2020-03-01T17:05:00.986952Z",
     "start_time": "2020-03-01T17:05:00.984413Z"
    }
   },
   "outputs": [],
   "source": [
    "obj = obj.reindex([\"D\",\"A\",\"J\",\"V\",\"E\",\"K\"])"
   ]
  },
  {
   "cell_type": "code",
   "execution_count": 70,
   "metadata": {
    "ExecuteTime": {
     "end_time": "2020-03-01T17:05:00.991684Z",
     "start_time": "2020-03-01T17:05:00.988369Z"
    }
   },
   "outputs": [
    {
     "data": {
      "text/plain": [
       "D    2.3\n",
       "A    4.5\n",
       "J    NaN\n",
       "V   -4.1\n",
       "E    3.5\n",
       "K    NaN\n",
       "dtype: float64"
      ]
     },
     "execution_count": 70,
     "metadata": {},
     "output_type": "execute_result"
    }
   ],
   "source": [
    "obj"
   ]
  },
  {
   "cell_type": "code",
   "execution_count": 71,
   "metadata": {
    "ExecuteTime": {
     "end_time": "2020-03-01T17:05:00.995716Z",
     "start_time": "2020-03-01T17:05:00.993059Z"
    }
   },
   "outputs": [],
   "source": [
    "obj = obj.reindex([\"D\",\"A\",\"J\",\"V\",\"E\",\"K\",\"G\",\"U\"], fill_value=0.0)"
   ]
  },
  {
   "cell_type": "code",
   "execution_count": 72,
   "metadata": {
    "ExecuteTime": {
     "end_time": "2020-03-01T17:05:01.000570Z",
     "start_time": "2020-03-01T17:05:00.997069Z"
    }
   },
   "outputs": [
    {
     "data": {
      "text/plain": [
       "D    2.3\n",
       "A    4.5\n",
       "J    NaN\n",
       "V   -4.1\n",
       "E    3.5\n",
       "K    NaN\n",
       "G    0.0\n",
       "U    0.0\n",
       "dtype: float64"
      ]
     },
     "execution_count": 72,
     "metadata": {},
     "output_type": "execute_result"
    }
   ],
   "source": [
    "obj"
   ]
  },
  {
   "cell_type": "markdown",
   "metadata": {},
   "source": [
    "##### DataFrame reindex"
   ]
  },
  {
   "cell_type": "code",
   "execution_count": 73,
   "metadata": {
    "ExecuteTime": {
     "end_time": "2020-03-01T17:05:01.004515Z",
     "start_time": "2020-03-01T17:05:01.001871Z"
    }
   },
   "outputs": [],
   "source": [
    "df_re = pd.DataFrame(np.arange(9).reshape(3,3),\n",
    "                     index=[\"C\",\"A\",\"T\"],\n",
    "                     columns=[\"D\",\"O\",\"G\"])"
   ]
  },
  {
   "cell_type": "code",
   "execution_count": 74,
   "metadata": {
    "ExecuteTime": {
     "end_time": "2020-03-01T17:05:01.010943Z",
     "start_time": "2020-03-01T17:05:01.005834Z"
    }
   },
   "outputs": [
    {
     "data": {
      "text/html": [
       "<div>\n",
       "<style>\n",
       "    .dataframe thead tr:only-child th {\n",
       "        text-align: right;\n",
       "    }\n",
       "\n",
       "    .dataframe thead th {\n",
       "        text-align: left;\n",
       "    }\n",
       "\n",
       "    .dataframe tbody tr th {\n",
       "        vertical-align: top;\n",
       "    }\n",
       "</style>\n",
       "<table border=\"1\" class=\"dataframe\">\n",
       "  <thead>\n",
       "    <tr style=\"text-align: right;\">\n",
       "      <th></th>\n",
       "      <th>D</th>\n",
       "      <th>O</th>\n",
       "      <th>G</th>\n",
       "    </tr>\n",
       "  </thead>\n",
       "  <tbody>\n",
       "    <tr>\n",
       "      <th>C</th>\n",
       "      <td>0</td>\n",
       "      <td>1</td>\n",
       "      <td>2</td>\n",
       "    </tr>\n",
       "    <tr>\n",
       "      <th>A</th>\n",
       "      <td>3</td>\n",
       "      <td>4</td>\n",
       "      <td>5</td>\n",
       "    </tr>\n",
       "    <tr>\n",
       "      <th>T</th>\n",
       "      <td>6</td>\n",
       "      <td>7</td>\n",
       "      <td>8</td>\n",
       "    </tr>\n",
       "  </tbody>\n",
       "</table>\n",
       "</div>"
      ],
      "text/plain": [
       "   D  O  G\n",
       "C  0  1  2\n",
       "A  3  4  5\n",
       "T  6  7  8"
      ]
     },
     "execution_count": 74,
     "metadata": {},
     "output_type": "execute_result"
    }
   ],
   "source": [
    "df_re"
   ]
  },
  {
   "cell_type": "code",
   "execution_count": 75,
   "metadata": {
    "ExecuteTime": {
     "end_time": "2020-03-01T17:05:01.014748Z",
     "start_time": "2020-03-01T17:05:01.012141Z"
    }
   },
   "outputs": [],
   "source": [
    "df_re = df_re.reindex([\"C\",\"A\",\"T\",\"S\"])"
   ]
  },
  {
   "cell_type": "code",
   "execution_count": 76,
   "metadata": {
    "ExecuteTime": {
     "end_time": "2020-03-01T17:05:01.022303Z",
     "start_time": "2020-03-01T17:05:01.016102Z"
    }
   },
   "outputs": [
    {
     "data": {
      "text/html": [
       "<div>\n",
       "<style>\n",
       "    .dataframe thead tr:only-child th {\n",
       "        text-align: right;\n",
       "    }\n",
       "\n",
       "    .dataframe thead th {\n",
       "        text-align: left;\n",
       "    }\n",
       "\n",
       "    .dataframe tbody tr th {\n",
       "        vertical-align: top;\n",
       "    }\n",
       "</style>\n",
       "<table border=\"1\" class=\"dataframe\">\n",
       "  <thead>\n",
       "    <tr style=\"text-align: right;\">\n",
       "      <th></th>\n",
       "      <th>D</th>\n",
       "      <th>O</th>\n",
       "      <th>G</th>\n",
       "    </tr>\n",
       "  </thead>\n",
       "  <tbody>\n",
       "    <tr>\n",
       "      <th>C</th>\n",
       "      <td>0.0</td>\n",
       "      <td>1.0</td>\n",
       "      <td>2.0</td>\n",
       "    </tr>\n",
       "    <tr>\n",
       "      <th>A</th>\n",
       "      <td>3.0</td>\n",
       "      <td>4.0</td>\n",
       "      <td>5.0</td>\n",
       "    </tr>\n",
       "    <tr>\n",
       "      <th>T</th>\n",
       "      <td>6.0</td>\n",
       "      <td>7.0</td>\n",
       "      <td>8.0</td>\n",
       "    </tr>\n",
       "    <tr>\n",
       "      <th>S</th>\n",
       "      <td>NaN</td>\n",
       "      <td>NaN</td>\n",
       "      <td>NaN</td>\n",
       "    </tr>\n",
       "  </tbody>\n",
       "</table>\n",
       "</div>"
      ],
      "text/plain": [
       "     D    O    G\n",
       "C  0.0  1.0  2.0\n",
       "A  3.0  4.0  5.0\n",
       "T  6.0  7.0  8.0\n",
       "S  NaN  NaN  NaN"
      ]
     },
     "execution_count": 76,
     "metadata": {},
     "output_type": "execute_result"
    }
   ],
   "source": [
    "df_re"
   ]
  },
  {
   "cell_type": "code",
   "execution_count": 77,
   "metadata": {
    "ExecuteTime": {
     "end_time": "2020-03-01T17:05:01.026573Z",
     "start_time": "2020-03-01T17:05:01.023821Z"
    }
   },
   "outputs": [],
   "source": [
    "df_re = df_re.reindex(columns=[\"D\",\"O\",\"G\",\"B\"])"
   ]
  },
  {
   "cell_type": "code",
   "execution_count": 78,
   "metadata": {
    "ExecuteTime": {
     "end_time": "2020-03-01T17:05:01.035204Z",
     "start_time": "2020-03-01T17:05:01.028423Z"
    }
   },
   "outputs": [
    {
     "data": {
      "text/html": [
       "<div>\n",
       "<style>\n",
       "    .dataframe thead tr:only-child th {\n",
       "        text-align: right;\n",
       "    }\n",
       "\n",
       "    .dataframe thead th {\n",
       "        text-align: left;\n",
       "    }\n",
       "\n",
       "    .dataframe tbody tr th {\n",
       "        vertical-align: top;\n",
       "    }\n",
       "</style>\n",
       "<table border=\"1\" class=\"dataframe\">\n",
       "  <thead>\n",
       "    <tr style=\"text-align: right;\">\n",
       "      <th></th>\n",
       "      <th>D</th>\n",
       "      <th>O</th>\n",
       "      <th>G</th>\n",
       "      <th>B</th>\n",
       "    </tr>\n",
       "  </thead>\n",
       "  <tbody>\n",
       "    <tr>\n",
       "      <th>C</th>\n",
       "      <td>0.0</td>\n",
       "      <td>1.0</td>\n",
       "      <td>2.0</td>\n",
       "      <td>NaN</td>\n",
       "    </tr>\n",
       "    <tr>\n",
       "      <th>A</th>\n",
       "      <td>3.0</td>\n",
       "      <td>4.0</td>\n",
       "      <td>5.0</td>\n",
       "      <td>NaN</td>\n",
       "    </tr>\n",
       "    <tr>\n",
       "      <th>T</th>\n",
       "      <td>6.0</td>\n",
       "      <td>7.0</td>\n",
       "      <td>8.0</td>\n",
       "      <td>NaN</td>\n",
       "    </tr>\n",
       "    <tr>\n",
       "      <th>S</th>\n",
       "      <td>NaN</td>\n",
       "      <td>NaN</td>\n",
       "      <td>NaN</td>\n",
       "      <td>NaN</td>\n",
       "    </tr>\n",
       "  </tbody>\n",
       "</table>\n",
       "</div>"
      ],
      "text/plain": [
       "     D    O    G   B\n",
       "C  0.0  1.0  2.0 NaN\n",
       "A  3.0  4.0  5.0 NaN\n",
       "T  6.0  7.0  8.0 NaN\n",
       "S  NaN  NaN  NaN NaN"
      ]
     },
     "execution_count": 78,
     "metadata": {},
     "output_type": "execute_result"
    }
   ],
   "source": [
    "df_re"
   ]
  },
  {
   "cell_type": "code",
   "execution_count": 79,
   "metadata": {
    "ExecuteTime": {
     "end_time": "2020-03-01T17:05:01.039916Z",
     "start_time": "2020-03-01T17:05:01.036771Z"
    }
   },
   "outputs": [],
   "source": [
    "df_re2 = pd.DataFrame(np.arange(16).reshape(4,4),\n",
    "                     index=[\"a\",\"b\",\"c\",\"d\"],\n",
    "                     columns=[\"x\",\"y\",\"z\",\"w\"])"
   ]
  },
  {
   "cell_type": "code",
   "execution_count": 80,
   "metadata": {
    "ExecuteTime": {
     "end_time": "2020-03-01T17:05:01.047658Z",
     "start_time": "2020-03-01T17:05:01.041504Z"
    }
   },
   "outputs": [
    {
     "data": {
      "text/html": [
       "<div>\n",
       "<style>\n",
       "    .dataframe thead tr:only-child th {\n",
       "        text-align: right;\n",
       "    }\n",
       "\n",
       "    .dataframe thead th {\n",
       "        text-align: left;\n",
       "    }\n",
       "\n",
       "    .dataframe tbody tr th {\n",
       "        vertical-align: top;\n",
       "    }\n",
       "</style>\n",
       "<table border=\"1\" class=\"dataframe\">\n",
       "  <thead>\n",
       "    <tr style=\"text-align: right;\">\n",
       "      <th></th>\n",
       "      <th>x</th>\n",
       "      <th>y</th>\n",
       "      <th>z</th>\n",
       "      <th>w</th>\n",
       "    </tr>\n",
       "  </thead>\n",
       "  <tbody>\n",
       "    <tr>\n",
       "      <th>a</th>\n",
       "      <td>0</td>\n",
       "      <td>1</td>\n",
       "      <td>2</td>\n",
       "      <td>3</td>\n",
       "    </tr>\n",
       "    <tr>\n",
       "      <th>b</th>\n",
       "      <td>4</td>\n",
       "      <td>5</td>\n",
       "      <td>6</td>\n",
       "      <td>7</td>\n",
       "    </tr>\n",
       "    <tr>\n",
       "      <th>c</th>\n",
       "      <td>8</td>\n",
       "      <td>9</td>\n",
       "      <td>10</td>\n",
       "      <td>11</td>\n",
       "    </tr>\n",
       "    <tr>\n",
       "      <th>d</th>\n",
       "      <td>12</td>\n",
       "      <td>13</td>\n",
       "      <td>14</td>\n",
       "      <td>15</td>\n",
       "    </tr>\n",
       "  </tbody>\n",
       "</table>\n",
       "</div>"
      ],
      "text/plain": [
       "    x   y   z   w\n",
       "a   0   1   2   3\n",
       "b   4   5   6   7\n",
       "c   8   9  10  11\n",
       "d  12  13  14  15"
      ]
     },
     "execution_count": 80,
     "metadata": {},
     "output_type": "execute_result"
    }
   ],
   "source": [
    "df_re2"
   ]
  },
  {
   "cell_type": "code",
   "execution_count": 81,
   "metadata": {
    "ExecuteTime": {
     "end_time": "2020-03-01T17:05:01.057891Z",
     "start_time": "2020-03-01T17:05:01.049246Z"
    }
   },
   "outputs": [
    {
     "data": {
      "text/html": [
       "<div>\n",
       "<style>\n",
       "    .dataframe thead tr:only-child th {\n",
       "        text-align: right;\n",
       "    }\n",
       "\n",
       "    .dataframe thead th {\n",
       "        text-align: left;\n",
       "    }\n",
       "\n",
       "    .dataframe tbody tr th {\n",
       "        vertical-align: top;\n",
       "    }\n",
       "</style>\n",
       "<table border=\"1\" class=\"dataframe\">\n",
       "  <thead>\n",
       "    <tr style=\"text-align: right;\">\n",
       "      <th></th>\n",
       "      <th>x</th>\n",
       "      <th>y</th>\n",
       "      <th>z</th>\n",
       "      <th>w</th>\n",
       "      <th>q</th>\n",
       "    </tr>\n",
       "  </thead>\n",
       "  <tbody>\n",
       "    <tr>\n",
       "      <th>a</th>\n",
       "      <td>0.0</td>\n",
       "      <td>1.0</td>\n",
       "      <td>2.0</td>\n",
       "      <td>3.0</td>\n",
       "      <td>NaN</td>\n",
       "    </tr>\n",
       "    <tr>\n",
       "      <th>b</th>\n",
       "      <td>4.0</td>\n",
       "      <td>5.0</td>\n",
       "      <td>6.0</td>\n",
       "      <td>7.0</td>\n",
       "      <td>NaN</td>\n",
       "    </tr>\n",
       "    <tr>\n",
       "      <th>c</th>\n",
       "      <td>8.0</td>\n",
       "      <td>9.0</td>\n",
       "      <td>10.0</td>\n",
       "      <td>11.0</td>\n",
       "      <td>NaN</td>\n",
       "    </tr>\n",
       "    <tr>\n",
       "      <th>e</th>\n",
       "      <td>NaN</td>\n",
       "      <td>NaN</td>\n",
       "      <td>NaN</td>\n",
       "      <td>NaN</td>\n",
       "      <td>NaN</td>\n",
       "    </tr>\n",
       "    <tr>\n",
       "      <th>d</th>\n",
       "      <td>12.0</td>\n",
       "      <td>13.0</td>\n",
       "      <td>14.0</td>\n",
       "      <td>15.0</td>\n",
       "      <td>NaN</td>\n",
       "    </tr>\n",
       "  </tbody>\n",
       "</table>\n",
       "</div>"
      ],
      "text/plain": [
       "      x     y     z     w   q\n",
       "a   0.0   1.0   2.0   3.0 NaN\n",
       "b   4.0   5.0   6.0   7.0 NaN\n",
       "c   8.0   9.0  10.0  11.0 NaN\n",
       "e   NaN   NaN   NaN   NaN NaN\n",
       "d  12.0  13.0  14.0  15.0 NaN"
      ]
     },
     "execution_count": 81,
     "metadata": {},
     "output_type": "execute_result"
    }
   ],
   "source": [
    "df_re3 = df_re2.reindex(index=[\"a\",\"b\",\"c\",\"e\",\"d\"], columns=[\"x\",\"y\",\"z\",\"w\",\"q\"])\n",
    "df_re3"
   ]
  },
  {
   "cell_type": "markdown",
   "metadata": {},
   "source": [
    "## drop()\n",
    "* index명을 사용해서 행을 삭제할 때는 ()안에 삭제할 행의 이름을 입력\n",
    "* 주의할 점은 index명을 사용한다는 것이다. "
   ]
  },
  {
   "cell_type": "markdown",
   "metadata": {},
   "source": [
    "##### 'index명' 또는 'index순서'로 행 삭제"
   ]
  },
  {
   "cell_type": "code",
   "execution_count": 82,
   "metadata": {
    "ExecuteTime": {
     "end_time": "2020-03-01T17:05:01.066404Z",
     "start_time": "2020-03-01T17:05:01.059317Z"
    }
   },
   "outputs": [
    {
     "data": {
      "text/html": [
       "<div>\n",
       "<style>\n",
       "    .dataframe thead tr:only-child th {\n",
       "        text-align: right;\n",
       "    }\n",
       "\n",
       "    .dataframe thead th {\n",
       "        text-align: left;\n",
       "    }\n",
       "\n",
       "    .dataframe tbody tr th {\n",
       "        vertical-align: top;\n",
       "    }\n",
       "</style>\n",
       "<table border=\"1\" class=\"dataframe\">\n",
       "  <thead>\n",
       "    <tr style=\"text-align: right;\">\n",
       "      <th></th>\n",
       "      <th>one</th>\n",
       "      <th>two</th>\n",
       "      <th>three</th>\n",
       "      <th>four</th>\n",
       "    </tr>\n",
       "  </thead>\n",
       "  <tbody>\n",
       "    <tr>\n",
       "      <th>seoul</th>\n",
       "      <td>0</td>\n",
       "      <td>1</td>\n",
       "      <td>2</td>\n",
       "      <td>3</td>\n",
       "    </tr>\n",
       "    <tr>\n",
       "      <th>busan</th>\n",
       "      <td>4</td>\n",
       "      <td>5</td>\n",
       "      <td>6</td>\n",
       "      <td>7</td>\n",
       "    </tr>\n",
       "    <tr>\n",
       "      <th>daegu</th>\n",
       "      <td>8</td>\n",
       "      <td>9</td>\n",
       "      <td>10</td>\n",
       "      <td>11</td>\n",
       "    </tr>\n",
       "    <tr>\n",
       "      <th>incheon</th>\n",
       "      <td>12</td>\n",
       "      <td>13</td>\n",
       "      <td>14</td>\n",
       "      <td>15</td>\n",
       "    </tr>\n",
       "  </tbody>\n",
       "</table>\n",
       "</div>"
      ],
      "text/plain": [
       "         one  two  three  four\n",
       "seoul      0    1      2     3\n",
       "busan      4    5      6     7\n",
       "daegu      8    9     10    11\n",
       "incheon   12   13     14    15"
      ]
     },
     "execution_count": 82,
     "metadata": {},
     "output_type": "execute_result"
    }
   ],
   "source": [
    "df9 = pd.DataFrame(np.arange(16).reshape(4,4),\n",
    "                   index=['seoul','busan','daegu','incheon'],\n",
    "                   columns=['one','two','three','four'])\n",
    "df9"
   ]
  },
  {
   "cell_type": "code",
   "execution_count": 83,
   "metadata": {
    "ExecuteTime": {
     "end_time": "2020-03-01T17:05:01.074346Z",
     "start_time": "2020-03-01T17:05:01.068005Z"
    }
   },
   "outputs": [
    {
     "data": {
      "text/html": [
       "<div>\n",
       "<style>\n",
       "    .dataframe thead tr:only-child th {\n",
       "        text-align: right;\n",
       "    }\n",
       "\n",
       "    .dataframe thead th {\n",
       "        text-align: left;\n",
       "    }\n",
       "\n",
       "    .dataframe tbody tr th {\n",
       "        vertical-align: top;\n",
       "    }\n",
       "</style>\n",
       "<table border=\"1\" class=\"dataframe\">\n",
       "  <thead>\n",
       "    <tr style=\"text-align: right;\">\n",
       "      <th></th>\n",
       "      <th>one</th>\n",
       "      <th>two</th>\n",
       "      <th>three</th>\n",
       "      <th>four</th>\n",
       "    </tr>\n",
       "  </thead>\n",
       "  <tbody>\n",
       "    <tr>\n",
       "      <th>daegu</th>\n",
       "      <td>8</td>\n",
       "      <td>9</td>\n",
       "      <td>10</td>\n",
       "      <td>11</td>\n",
       "    </tr>\n",
       "    <tr>\n",
       "      <th>incheon</th>\n",
       "      <td>12</td>\n",
       "      <td>13</td>\n",
       "      <td>14</td>\n",
       "      <td>15</td>\n",
       "    </tr>\n",
       "  </tbody>\n",
       "</table>\n",
       "</div>"
      ],
      "text/plain": [
       "         one  two  three  four\n",
       "daegu      8    9     10    11\n",
       "incheon   12   13     14    15"
      ]
     },
     "execution_count": 83,
     "metadata": {},
     "output_type": "execute_result"
    }
   ],
   "source": [
    "df_row = df9.drop(['seoul','busan'])\n",
    "df_row"
   ]
  },
  {
   "cell_type": "markdown",
   "metadata": {},
   "source": [
    "##### column과 axis를 같이 줘야 column이 삭제됨"
   ]
  },
  {
   "cell_type": "code",
   "execution_count": 84,
   "metadata": {
    "ExecuteTime": {
     "end_time": "2020-03-01T17:05:01.081830Z",
     "start_time": "2020-03-01T17:05:01.075921Z"
    }
   },
   "outputs": [
    {
     "data": {
      "text/html": [
       "<div>\n",
       "<style>\n",
       "    .dataframe thead tr:only-child th {\n",
       "        text-align: right;\n",
       "    }\n",
       "\n",
       "    .dataframe thead th {\n",
       "        text-align: left;\n",
       "    }\n",
       "\n",
       "    .dataframe tbody tr th {\n",
       "        vertical-align: top;\n",
       "    }\n",
       "</style>\n",
       "<table border=\"1\" class=\"dataframe\">\n",
       "  <thead>\n",
       "    <tr style=\"text-align: right;\">\n",
       "      <th></th>\n",
       "      <th>three</th>\n",
       "      <th>four</th>\n",
       "    </tr>\n",
       "  </thead>\n",
       "  <tbody>\n",
       "    <tr>\n",
       "      <th>seoul</th>\n",
       "      <td>2</td>\n",
       "      <td>3</td>\n",
       "    </tr>\n",
       "    <tr>\n",
       "      <th>busan</th>\n",
       "      <td>6</td>\n",
       "      <td>7</td>\n",
       "    </tr>\n",
       "    <tr>\n",
       "      <th>daegu</th>\n",
       "      <td>10</td>\n",
       "      <td>11</td>\n",
       "    </tr>\n",
       "    <tr>\n",
       "      <th>incheon</th>\n",
       "      <td>14</td>\n",
       "      <td>15</td>\n",
       "    </tr>\n",
       "  </tbody>\n",
       "</table>\n",
       "</div>"
      ],
      "text/plain": [
       "         three  four\n",
       "seoul        2     3\n",
       "busan        6     7\n",
       "daegu       10    11\n",
       "incheon     14    15"
      ]
     },
     "execution_count": 84,
     "metadata": {},
     "output_type": "execute_result"
    }
   ],
   "source": [
    "df_column = df9.drop(['one','two'], axis=1)\n",
    "df_column"
   ]
  },
  {
   "cell_type": "markdown",
   "metadata": {},
   "source": [
    "## 문자열 컬럼을 숫자형으로\n",
    "\n",
    "* pd.to_numeric()\n",
    "* astype()"
   ]
  },
  {
   "cell_type": "markdown",
   "metadata": {},
   "source": [
    "##### pd.to_numeric()"
   ]
  },
  {
   "cell_type": "code",
   "execution_count": 85,
   "metadata": {
    "ExecuteTime": {
     "end_time": "2020-03-01T17:05:01.086313Z",
     "start_time": "2020-03-01T17:05:01.083153Z"
    }
   },
   "outputs": [
    {
     "data": {
      "text/plain": [
       "dtype('O')"
      ]
     },
     "execution_count": 85,
     "metadata": {},
     "output_type": "execute_result"
    }
   ],
   "source": [
    "s = pd.Series(['1.0', '2', '-3'])\n",
    "s.dtypes"
   ]
  },
  {
   "cell_type": "code",
   "execution_count": 86,
   "metadata": {
    "ExecuteTime": {
     "end_time": "2020-03-01T17:05:01.091015Z",
     "start_time": "2020-03-01T17:05:01.087765Z"
    }
   },
   "outputs": [
    {
     "data": {
      "text/plain": [
       "dtype('float64')"
      ]
     },
     "execution_count": 86,
     "metadata": {},
     "output_type": "execute_result"
    }
   ],
   "source": [
    "s1 = pd.to_numeric(s)\n",
    "s1.dtypes"
   ]
  },
  {
   "cell_type": "code",
   "execution_count": 87,
   "metadata": {
    "ExecuteTime": {
     "end_time": "2020-03-01T17:05:01.096280Z",
     "start_time": "2020-03-01T17:05:01.092298Z"
    },
    "scrolled": true
   },
   "outputs": [
    {
     "data": {
      "text/plain": [
       "0    1.0\n",
       "1    2.0\n",
       "2   -3.0\n",
       "dtype: float32"
      ]
     },
     "execution_count": 87,
     "metadata": {},
     "output_type": "execute_result"
    }
   ],
   "source": [
    "pd.to_numeric(s, downcast='float')"
   ]
  },
  {
   "cell_type": "code",
   "execution_count": 88,
   "metadata": {
    "ExecuteTime": {
     "end_time": "2020-03-01T17:05:01.102621Z",
     "start_time": "2020-03-01T17:05:01.098093Z"
    }
   },
   "outputs": [
    {
     "data": {
      "text/plain": [
       "0    1\n",
       "1    2\n",
       "2   -3\n",
       "dtype: int8"
      ]
     },
     "execution_count": 88,
     "metadata": {},
     "output_type": "execute_result"
    }
   ],
   "source": [
    "pd.to_numeric(s, downcast='signed')"
   ]
  },
  {
   "cell_type": "code",
   "execution_count": 89,
   "metadata": {
    "ExecuteTime": {
     "end_time": "2020-03-01T17:05:01.107119Z",
     "start_time": "2020-03-01T17:05:01.104449Z"
    }
   },
   "outputs": [],
   "source": [
    "s = pd.Series(['apple', '1.0', '2', -3])"
   ]
  },
  {
   "cell_type": "code",
   "execution_count": 90,
   "metadata": {
    "ExecuteTime": {
     "end_time": "2020-03-01T17:05:01.112716Z",
     "start_time": "2020-03-01T17:05:01.108697Z"
    }
   },
   "outputs": [
    {
     "data": {
      "text/plain": [
       "0    apple\n",
       "1      1.0\n",
       "2        2\n",
       "3       -3\n",
       "dtype: object"
      ]
     },
     "execution_count": 90,
     "metadata": {},
     "output_type": "execute_result"
    }
   ],
   "source": [
    "pd.to_numeric(s, errors='ignore')"
   ]
  },
  {
   "cell_type": "code",
   "execution_count": 91,
   "metadata": {
    "ExecuteTime": {
     "end_time": "2020-03-01T17:05:01.118389Z",
     "start_time": "2020-03-01T17:05:01.114187Z"
    }
   },
   "outputs": [
    {
     "data": {
      "text/plain": [
       "0    NaN\n",
       "1    1.0\n",
       "2    2.0\n",
       "3   -3.0\n",
       "dtype: float64"
      ]
     },
     "execution_count": 91,
     "metadata": {},
     "output_type": "execute_result"
    }
   ],
   "source": [
    "pd.to_numeric(s, errors='coerce')"
   ]
  },
  {
   "cell_type": "code",
   "execution_count": 92,
   "metadata": {
    "ExecuteTime": {
     "end_time": "2020-03-01T17:05:01.123037Z",
     "start_time": "2020-03-01T17:05:01.119975Z"
    }
   },
   "outputs": [],
   "source": [
    "df_str = pd.DataFrame({'col_str' : ['1','2','3','4','5']})"
   ]
  },
  {
   "cell_type": "code",
   "execution_count": 93,
   "metadata": {
    "ExecuteTime": {
     "end_time": "2020-03-01T17:05:01.129534Z",
     "start_time": "2020-03-01T17:05:01.124739Z"
    }
   },
   "outputs": [
    {
     "data": {
      "text/html": [
       "<div>\n",
       "<style>\n",
       "    .dataframe thead tr:only-child th {\n",
       "        text-align: right;\n",
       "    }\n",
       "\n",
       "    .dataframe thead th {\n",
       "        text-align: left;\n",
       "    }\n",
       "\n",
       "    .dataframe tbody tr th {\n",
       "        vertical-align: top;\n",
       "    }\n",
       "</style>\n",
       "<table border=\"1\" class=\"dataframe\">\n",
       "  <thead>\n",
       "    <tr style=\"text-align: right;\">\n",
       "      <th></th>\n",
       "      <th>col_str</th>\n",
       "    </tr>\n",
       "  </thead>\n",
       "  <tbody>\n",
       "    <tr>\n",
       "      <th>0</th>\n",
       "      <td>1</td>\n",
       "    </tr>\n",
       "    <tr>\n",
       "      <th>1</th>\n",
       "      <td>2</td>\n",
       "    </tr>\n",
       "    <tr>\n",
       "      <th>2</th>\n",
       "      <td>3</td>\n",
       "    </tr>\n",
       "    <tr>\n",
       "      <th>3</th>\n",
       "      <td>4</td>\n",
       "    </tr>\n",
       "    <tr>\n",
       "      <th>4</th>\n",
       "      <td>5</td>\n",
       "    </tr>\n",
       "  </tbody>\n",
       "</table>\n",
       "</div>"
      ],
      "text/plain": [
       "  col_str\n",
       "0       1\n",
       "1       2\n",
       "2       3\n",
       "3       4\n",
       "4       5"
      ]
     },
     "execution_count": 93,
     "metadata": {},
     "output_type": "execute_result"
    }
   ],
   "source": [
    "df_str"
   ]
  },
  {
   "cell_type": "code",
   "execution_count": 94,
   "metadata": {
    "ExecuteTime": {
     "end_time": "2020-03-01T17:05:01.134549Z",
     "start_time": "2020-03-01T17:05:01.130947Z"
    }
   },
   "outputs": [
    {
     "data": {
      "text/plain": [
       "col_str    object\n",
       "dtype: object"
      ]
     },
     "execution_count": 94,
     "metadata": {},
     "output_type": "execute_result"
    }
   ],
   "source": [
    "df_str.dtypes"
   ]
  },
  {
   "cell_type": "code",
   "execution_count": 95,
   "metadata": {
    "ExecuteTime": {
     "end_time": "2020-03-01T17:05:01.139055Z",
     "start_time": "2020-03-01T17:05:01.135942Z"
    }
   },
   "outputs": [],
   "source": [
    "df_str['col_int'] = pd.to_numeric(df_str['col_str'])"
   ]
  },
  {
   "cell_type": "code",
   "execution_count": 96,
   "metadata": {
    "ExecuteTime": {
     "end_time": "2020-03-01T17:05:01.144210Z",
     "start_time": "2020-03-01T17:05:01.140627Z"
    }
   },
   "outputs": [
    {
     "data": {
      "text/plain": [
       "col_str    object\n",
       "col_int     int64\n",
       "dtype: object"
      ]
     },
     "execution_count": 96,
     "metadata": {},
     "output_type": "execute_result"
    }
   ],
   "source": [
    "df_str.dtypes"
   ]
  },
  {
   "cell_type": "code",
   "execution_count": 97,
   "metadata": {
    "ExecuteTime": {
     "end_time": "2020-03-01T17:05:01.150443Z",
     "start_time": "2020-03-01T17:05:01.145469Z"
    },
    "scrolled": true
   },
   "outputs": [
    {
     "data": {
      "text/html": [
       "<div>\n",
       "<style>\n",
       "    .dataframe thead tr:only-child th {\n",
       "        text-align: right;\n",
       "    }\n",
       "\n",
       "    .dataframe thead th {\n",
       "        text-align: left;\n",
       "    }\n",
       "\n",
       "    .dataframe tbody tr th {\n",
       "        vertical-align: top;\n",
       "    }\n",
       "</style>\n",
       "<table border=\"1\" class=\"dataframe\">\n",
       "  <thead>\n",
       "    <tr style=\"text-align: right;\">\n",
       "      <th></th>\n",
       "      <th>col_str</th>\n",
       "      <th>col_int</th>\n",
       "    </tr>\n",
       "  </thead>\n",
       "  <tbody>\n",
       "    <tr>\n",
       "      <th>0</th>\n",
       "      <td>1</td>\n",
       "      <td>1</td>\n",
       "    </tr>\n",
       "    <tr>\n",
       "      <th>1</th>\n",
       "      <td>2</td>\n",
       "      <td>2</td>\n",
       "    </tr>\n",
       "    <tr>\n",
       "      <th>2</th>\n",
       "      <td>3</td>\n",
       "      <td>3</td>\n",
       "    </tr>\n",
       "    <tr>\n",
       "      <th>3</th>\n",
       "      <td>4</td>\n",
       "      <td>4</td>\n",
       "    </tr>\n",
       "    <tr>\n",
       "      <th>4</th>\n",
       "      <td>5</td>\n",
       "      <td>5</td>\n",
       "    </tr>\n",
       "  </tbody>\n",
       "</table>\n",
       "</div>"
      ],
      "text/plain": [
       "  col_str  col_int\n",
       "0       1        1\n",
       "1       2        2\n",
       "2       3        3\n",
       "3       4        4\n",
       "4       5        5"
      ]
     },
     "execution_count": 97,
     "metadata": {},
     "output_type": "execute_result"
    }
   ],
   "source": [
    "df_str"
   ]
  },
  {
   "cell_type": "markdown",
   "metadata": {},
   "source": [
    "##### astype() - Dataframe 내 모든 문자열 칼럼을 float로 한꺼번에 변환하기"
   ]
  },
  {
   "cell_type": "code",
   "execution_count": 98,
   "metadata": {
    "ExecuteTime": {
     "end_time": "2020-03-01T17:05:01.158693Z",
     "start_time": "2020-03-01T17:05:01.152294Z"
    }
   },
   "outputs": [
    {
     "data": {
      "text/html": [
       "<div>\n",
       "<style>\n",
       "    .dataframe thead tr:only-child th {\n",
       "        text-align: right;\n",
       "    }\n",
       "\n",
       "    .dataframe thead th {\n",
       "        text-align: left;\n",
       "    }\n",
       "\n",
       "    .dataframe tbody tr th {\n",
       "        vertical-align: top;\n",
       "    }\n",
       "</style>\n",
       "<table border=\"1\" class=\"dataframe\">\n",
       "  <thead>\n",
       "    <tr style=\"text-align: right;\">\n",
       "      <th></th>\n",
       "      <th>col_str_1</th>\n",
       "      <th>col_str_2</th>\n",
       "    </tr>\n",
       "  </thead>\n",
       "  <tbody>\n",
       "    <tr>\n",
       "      <th>0</th>\n",
       "      <td>1</td>\n",
       "      <td>4.1</td>\n",
       "    </tr>\n",
       "    <tr>\n",
       "      <th>1</th>\n",
       "      <td>2</td>\n",
       "      <td>5.5</td>\n",
       "    </tr>\n",
       "    <tr>\n",
       "      <th>2</th>\n",
       "      <td>3</td>\n",
       "      <td>6.0</td>\n",
       "    </tr>\n",
       "  </tbody>\n",
       "</table>\n",
       "</div>"
      ],
      "text/plain": [
       "  col_str_1 col_str_2\n",
       "0         1       4.1\n",
       "1         2       5.5\n",
       "2         3       6.0"
      ]
     },
     "execution_count": 98,
     "metadata": {},
     "output_type": "execute_result"
    }
   ],
   "source": [
    "df4 = pd.DataFrame({'col_str_1': ['1', '2', '3'], \n",
    "                   'col_str_2': ['4.1', '5.5', '6.0']})\n",
    "df4"
   ]
  },
  {
   "cell_type": "code",
   "execution_count": 99,
   "metadata": {
    "ExecuteTime": {
     "end_time": "2020-03-01T17:05:01.163791Z",
     "start_time": "2020-03-01T17:05:01.160234Z"
    }
   },
   "outputs": [
    {
     "data": {
      "text/plain": [
       "col_str_1    object\n",
       "col_str_2    object\n",
       "dtype: object"
      ]
     },
     "execution_count": 99,
     "metadata": {},
     "output_type": "execute_result"
    }
   ],
   "source": [
    "df4.dtypes"
   ]
  },
  {
   "cell_type": "code",
   "execution_count": 100,
   "metadata": {
    "ExecuteTime": {
     "end_time": "2020-03-01T17:05:01.170424Z",
     "start_time": "2020-03-01T17:05:01.165117Z"
    }
   },
   "outputs": [
    {
     "data": {
      "text/html": [
       "<div>\n",
       "<style>\n",
       "    .dataframe thead tr:only-child th {\n",
       "        text-align: right;\n",
       "    }\n",
       "\n",
       "    .dataframe thead th {\n",
       "        text-align: left;\n",
       "    }\n",
       "\n",
       "    .dataframe tbody tr th {\n",
       "        vertical-align: top;\n",
       "    }\n",
       "</style>\n",
       "<table border=\"1\" class=\"dataframe\">\n",
       "  <thead>\n",
       "    <tr style=\"text-align: right;\">\n",
       "      <th></th>\n",
       "      <th>col_str_1</th>\n",
       "      <th>col_str_2</th>\n",
       "    </tr>\n",
       "  </thead>\n",
       "  <tbody>\n",
       "    <tr>\n",
       "      <th>0</th>\n",
       "      <td>1.0</td>\n",
       "      <td>4.1</td>\n",
       "    </tr>\n",
       "    <tr>\n",
       "      <th>1</th>\n",
       "      <td>2.0</td>\n",
       "      <td>5.5</td>\n",
       "    </tr>\n",
       "    <tr>\n",
       "      <th>2</th>\n",
       "      <td>3.0</td>\n",
       "      <td>6.0</td>\n",
       "    </tr>\n",
       "  </tbody>\n",
       "</table>\n",
       "</div>"
      ],
      "text/plain": [
       "   col_str_1  col_str_2\n",
       "0        1.0        4.1\n",
       "1        2.0        5.5\n",
       "2        3.0        6.0"
      ]
     },
     "execution_count": 100,
     "metadata": {},
     "output_type": "execute_result"
    }
   ],
   "source": [
    "df5 = df4.astype(float)\n",
    "df5"
   ]
  },
  {
   "cell_type": "code",
   "execution_count": 101,
   "metadata": {
    "ExecuteTime": {
     "end_time": "2020-03-01T17:05:01.175550Z",
     "start_time": "2020-03-01T17:05:01.172128Z"
    }
   },
   "outputs": [
    {
     "data": {
      "text/plain": [
       "col_str_1    float64\n",
       "col_str_2    float64\n",
       "dtype: object"
      ]
     },
     "execution_count": 101,
     "metadata": {},
     "output_type": "execute_result"
    }
   ],
   "source": [
    "df5.dtypes"
   ]
  },
  {
   "cell_type": "markdown",
   "metadata": {},
   "source": [
    "# 판다스 이용해서 데이터 파악"
   ]
  },
  {
   "cell_type": "code",
   "execution_count": 102,
   "metadata": {
    "ExecuteTime": {
     "end_time": "2020-03-01T17:05:01.188157Z",
     "start_time": "2020-03-01T17:05:01.177110Z"
    }
   },
   "outputs": [
    {
     "data": {
      "text/html": [
       "<div>\n",
       "<style>\n",
       "    .dataframe thead tr:only-child th {\n",
       "        text-align: right;\n",
       "    }\n",
       "\n",
       "    .dataframe thead th {\n",
       "        text-align: left;\n",
       "    }\n",
       "\n",
       "    .dataframe tbody tr th {\n",
       "        vertical-align: top;\n",
       "    }\n",
       "</style>\n",
       "<table border=\"1\" class=\"dataframe\">\n",
       "  <thead>\n",
       "    <tr style=\"text-align: right;\">\n",
       "      <th></th>\n",
       "      <th>기관명</th>\n",
       "      <th>소계</th>\n",
       "      <th>2013년 이전</th>\n",
       "      <th>2014년</th>\n",
       "      <th>2015년</th>\n",
       "      <th>2016년</th>\n",
       "      <th>2017년</th>\n",
       "      <th>2018년</th>\n",
       "    </tr>\n",
       "  </thead>\n",
       "  <tbody>\n",
       "    <tr>\n",
       "      <th>0</th>\n",
       "      <td>강 남 구</td>\n",
       "      <td>5221</td>\n",
       "      <td>2455</td>\n",
       "      <td>430</td>\n",
       "      <td>546</td>\n",
       "      <td>765</td>\n",
       "      <td>577</td>\n",
       "      <td>448</td>\n",
       "    </tr>\n",
       "    <tr>\n",
       "      <th>1</th>\n",
       "      <td>강 동 구</td>\n",
       "      <td>1879</td>\n",
       "      <td>824</td>\n",
       "      <td>59</td>\n",
       "      <td>144</td>\n",
       "      <td>194</td>\n",
       "      <td>273</td>\n",
       "      <td>385</td>\n",
       "    </tr>\n",
       "    <tr>\n",
       "      <th>2</th>\n",
       "      <td>강 북 구</td>\n",
       "      <td>1265</td>\n",
       "      <td>472</td>\n",
       "      <td>74</td>\n",
       "      <td>145</td>\n",
       "      <td>254</td>\n",
       "      <td>1</td>\n",
       "      <td>319</td>\n",
       "    </tr>\n",
       "    <tr>\n",
       "      <th>3</th>\n",
       "      <td>강 서 구</td>\n",
       "      <td>1617</td>\n",
       "      <td>492</td>\n",
       "      <td>230</td>\n",
       "      <td>187</td>\n",
       "      <td>190</td>\n",
       "      <td>264</td>\n",
       "      <td>254</td>\n",
       "    </tr>\n",
       "    <tr>\n",
       "      <th>4</th>\n",
       "      <td>관 악 구</td>\n",
       "      <td>3985</td>\n",
       "      <td>905</td>\n",
       "      <td>487</td>\n",
       "      <td>609</td>\n",
       "      <td>619</td>\n",
       "      <td>694</td>\n",
       "      <td>671</td>\n",
       "    </tr>\n",
       "  </tbody>\n",
       "</table>\n",
       "</div>"
      ],
      "text/plain": [
       "     기관명    소계  2013년 이전  2014년  2015년  2016년  2017년  2018년\n",
       "0  강 남 구  5221      2455    430    546    765    577    448\n",
       "1  강 동 구  1879       824     59    144    194    273    385\n",
       "2  강 북 구  1265       472     74    145    254      1    319\n",
       "3  강 서 구  1617       492    230    187    190    264    254\n",
       "4  관 악 구  3985       905    487    609    619    694    671"
      ]
     },
     "execution_count": 102,
     "metadata": {},
     "output_type": "execute_result"
    }
   ],
   "source": [
    "import pandas as pd\n",
    "cctv_seoul = pd.read_csv('./data/cctv_in_seoul.csv', encoding='utf-8', thousands=',')\n",
    "cctv_seoul.dropna(inplace=True)\n",
    "cctv_seoul.head()"
   ]
  },
  {
   "cell_type": "markdown",
   "metadata": {},
   "source": [
    "##### cctv의 전체 개수가 가장 작은 구 : 도봉구 < 강북구 < 종로구 < 중구 < 중랑구"
   ]
  },
  {
   "cell_type": "code",
   "execution_count": 103,
   "metadata": {
    "ExecuteTime": {
     "end_time": "2020-03-01T17:05:01.198627Z",
     "start_time": "2020-03-01T17:05:01.189484Z"
    }
   },
   "outputs": [
    {
     "data": {
      "text/html": [
       "<div>\n",
       "<style>\n",
       "    .dataframe thead tr:only-child th {\n",
       "        text-align: right;\n",
       "    }\n",
       "\n",
       "    .dataframe thead th {\n",
       "        text-align: left;\n",
       "    }\n",
       "\n",
       "    .dataframe tbody tr th {\n",
       "        vertical-align: top;\n",
       "    }\n",
       "</style>\n",
       "<table border=\"1\" class=\"dataframe\">\n",
       "  <thead>\n",
       "    <tr style=\"text-align: right;\">\n",
       "      <th></th>\n",
       "      <th>기관명</th>\n",
       "      <th>소계</th>\n",
       "      <th>2013년 이전</th>\n",
       "      <th>2014년</th>\n",
       "      <th>2015년</th>\n",
       "      <th>2016년</th>\n",
       "      <th>2017년</th>\n",
       "      <th>2018년</th>\n",
       "    </tr>\n",
       "  </thead>\n",
       "  <tbody>\n",
       "    <tr>\n",
       "      <th>9</th>\n",
       "      <td>도 봉 구</td>\n",
       "      <td>858</td>\n",
       "      <td>271</td>\n",
       "      <td>185</td>\n",
       "      <td>59</td>\n",
       "      <td>155</td>\n",
       "      <td>117</td>\n",
       "      <td>71</td>\n",
       "    </tr>\n",
       "    <tr>\n",
       "      <th>2</th>\n",
       "      <td>강 북 구</td>\n",
       "      <td>1265</td>\n",
       "      <td>472</td>\n",
       "      <td>74</td>\n",
       "      <td>145</td>\n",
       "      <td>254</td>\n",
       "      <td>1</td>\n",
       "      <td>319</td>\n",
       "    </tr>\n",
       "    <tr>\n",
       "      <th>22</th>\n",
       "      <td>종 로 구</td>\n",
       "      <td>1471</td>\n",
       "      <td>614</td>\n",
       "      <td>132</td>\n",
       "      <td>195</td>\n",
       "      <td>148</td>\n",
       "      <td>281</td>\n",
       "      <td>101</td>\n",
       "    </tr>\n",
       "    <tr>\n",
       "      <th>23</th>\n",
       "      <td>중     구</td>\n",
       "      <td>1544</td>\n",
       "      <td>304</td>\n",
       "      <td>80</td>\n",
       "      <td>245</td>\n",
       "      <td>270</td>\n",
       "      <td>317</td>\n",
       "      <td>328</td>\n",
       "    </tr>\n",
       "    <tr>\n",
       "      <th>24</th>\n",
       "      <td>중 랑 구</td>\n",
       "      <td>1577</td>\n",
       "      <td>509</td>\n",
       "      <td>770</td>\n",
       "      <td>102</td>\n",
       "      <td>121</td>\n",
       "      <td>66</td>\n",
       "      <td>9</td>\n",
       "    </tr>\n",
       "  </tbody>\n",
       "</table>\n",
       "</div>"
      ],
      "text/plain": [
       "        기관명    소계  2013년 이전  2014년  2015년  2016년  2017년  2018년\n",
       "9     도 봉 구   858       271    185     59    155    117     71\n",
       "2     강 북 구  1265       472     74    145    254      1    319\n",
       "22    종 로 구  1471       614    132    195    148    281    101\n",
       "23  중     구  1544       304     80    245    270    317    328\n",
       "24    중 랑 구  1577       509    770    102    121     66      9"
      ]
     },
     "execution_count": 103,
     "metadata": {},
     "output_type": "execute_result"
    }
   ],
   "source": [
    "cctv_seoul.sort_values(by='소계', ascending=True).head()"
   ]
  },
  {
   "cell_type": "markdown",
   "metadata": {},
   "source": [
    "##### cctv의 개수가 가장 많은 구 : 강남구 > 관악구 > 구로구 > 동내문구 > 성북구"
   ]
  },
  {
   "cell_type": "code",
   "execution_count": 104,
   "metadata": {
    "ExecuteTime": {
     "end_time": "2020-03-01T17:05:01.208605Z",
     "start_time": "2020-03-01T17:05:01.199868Z"
    }
   },
   "outputs": [
    {
     "data": {
      "text/html": [
       "<div>\n",
       "<style>\n",
       "    .dataframe thead tr:only-child th {\n",
       "        text-align: right;\n",
       "    }\n",
       "\n",
       "    .dataframe thead th {\n",
       "        text-align: left;\n",
       "    }\n",
       "\n",
       "    .dataframe tbody tr th {\n",
       "        vertical-align: top;\n",
       "    }\n",
       "</style>\n",
       "<table border=\"1\" class=\"dataframe\">\n",
       "  <thead>\n",
       "    <tr style=\"text-align: right;\">\n",
       "      <th></th>\n",
       "      <th>기관명</th>\n",
       "      <th>소계</th>\n",
       "      <th>2013년 이전</th>\n",
       "      <th>2014년</th>\n",
       "      <th>2015년</th>\n",
       "      <th>2016년</th>\n",
       "      <th>2017년</th>\n",
       "      <th>2018년</th>\n",
       "    </tr>\n",
       "  </thead>\n",
       "  <tbody>\n",
       "    <tr>\n",
       "      <th>0</th>\n",
       "      <td>강 남 구</td>\n",
       "      <td>5221</td>\n",
       "      <td>2455</td>\n",
       "      <td>430</td>\n",
       "      <td>546</td>\n",
       "      <td>765</td>\n",
       "      <td>577</td>\n",
       "      <td>448</td>\n",
       "    </tr>\n",
       "    <tr>\n",
       "      <th>4</th>\n",
       "      <td>관 악 구</td>\n",
       "      <td>3985</td>\n",
       "      <td>905</td>\n",
       "      <td>487</td>\n",
       "      <td>609</td>\n",
       "      <td>619</td>\n",
       "      <td>694</td>\n",
       "      <td>671</td>\n",
       "    </tr>\n",
       "    <tr>\n",
       "      <th>6</th>\n",
       "      <td>구 로 구</td>\n",
       "      <td>3227</td>\n",
       "      <td>1420</td>\n",
       "      <td>187</td>\n",
       "      <td>268</td>\n",
       "      <td>326</td>\n",
       "      <td>540</td>\n",
       "      <td>486</td>\n",
       "    </tr>\n",
       "    <tr>\n",
       "      <th>10</th>\n",
       "      <td>동대문구</td>\n",
       "      <td>3073</td>\n",
       "      <td>1070</td>\n",
       "      <td>1326</td>\n",
       "      <td>111</td>\n",
       "      <td>233</td>\n",
       "      <td>136</td>\n",
       "      <td>197</td>\n",
       "    </tr>\n",
       "    <tr>\n",
       "      <th>16</th>\n",
       "      <td>성 북 구</td>\n",
       "      <td>3003</td>\n",
       "      <td>1167</td>\n",
       "      <td>241</td>\n",
       "      <td>279</td>\n",
       "      <td>388</td>\n",
       "      <td>285</td>\n",
       "      <td>643</td>\n",
       "    </tr>\n",
       "  </tbody>\n",
       "</table>\n",
       "</div>"
      ],
      "text/plain": [
       "      기관명    소계  2013년 이전  2014년  2015년  2016년  2017년  2018년\n",
       "0   강 남 구  5221      2455    430    546    765    577    448\n",
       "4   관 악 구  3985       905    487    609    619    694    671\n",
       "6   구 로 구  3227      1420    187    268    326    540    486\n",
       "10   동대문구  3073      1070   1326    111    233    136    197\n",
       "16  성 북 구  3003      1167    241    279    388    285    643"
      ]
     },
     "execution_count": 104,
     "metadata": {},
     "output_type": "execute_result"
    }
   ],
   "source": [
    "cctv_seoul.sort_values(by='소계', ascending=False).head()"
   ]
  },
  {
   "cell_type": "markdown",
   "metadata": {},
   "source": [
    "##### 2014년부터 2018년까지 최근 5년간 cctv 증가율"
   ]
  },
  {
   "cell_type": "code",
   "execution_count": 114,
   "metadata": {
    "ExecuteTime": {
     "end_time": "2020-03-01T17:16:42.869314Z",
     "start_time": "2020-03-01T17:16:42.865525Z"
    },
    "scrolled": true
   },
   "outputs": [],
   "source": [
    "cctv_seoul['최근증가율'] = ((cctv_seoul['2018년'] + cctv_seoul['2017년'] + cctv_seoul['2016년'] + \\\n",
    "                       cctv_seoul['2015년'] + cctv_seoul['2014년']) / cctv_seoul['2013년 이전']) * 100"
   ]
  },
  {
   "cell_type": "code",
   "execution_count": 113,
   "metadata": {
    "ExecuteTime": {
     "end_time": "2020-03-01T17:16:33.359374Z",
     "start_time": "2020-03-01T17:16:33.350523Z"
    }
   },
   "outputs": [
    {
     "data": {
      "text/html": [
       "<div>\n",
       "<style>\n",
       "    .dataframe thead tr:only-child th {\n",
       "        text-align: right;\n",
       "    }\n",
       "\n",
       "    .dataframe thead th {\n",
       "        text-align: left;\n",
       "    }\n",
       "\n",
       "    .dataframe tbody tr th {\n",
       "        vertical-align: top;\n",
       "    }\n",
       "</style>\n",
       "<table border=\"1\" class=\"dataframe\">\n",
       "  <thead>\n",
       "    <tr style=\"text-align: right;\">\n",
       "      <th></th>\n",
       "      <th>기관명</th>\n",
       "      <th>소계</th>\n",
       "      <th>2013년 이전</th>\n",
       "      <th>2014년</th>\n",
       "      <th>2015년</th>\n",
       "      <th>2016년</th>\n",
       "      <th>2017년</th>\n",
       "      <th>2018년</th>\n",
       "      <th>최근증가율</th>\n",
       "    </tr>\n",
       "  </thead>\n",
       "  <tbody>\n",
       "    <tr>\n",
       "      <th>0</th>\n",
       "      <td>강 남 구</td>\n",
       "      <td>5221</td>\n",
       "      <td>2455</td>\n",
       "      <td>430</td>\n",
       "      <td>546</td>\n",
       "      <td>765</td>\n",
       "      <td>577</td>\n",
       "      <td>448</td>\n",
       "      <td>112.668024</td>\n",
       "    </tr>\n",
       "    <tr>\n",
       "      <th>1</th>\n",
       "      <td>강 동 구</td>\n",
       "      <td>1879</td>\n",
       "      <td>824</td>\n",
       "      <td>59</td>\n",
       "      <td>144</td>\n",
       "      <td>194</td>\n",
       "      <td>273</td>\n",
       "      <td>385</td>\n",
       "      <td>128.033981</td>\n",
       "    </tr>\n",
       "    <tr>\n",
       "      <th>2</th>\n",
       "      <td>강 북 구</td>\n",
       "      <td>1265</td>\n",
       "      <td>472</td>\n",
       "      <td>74</td>\n",
       "      <td>145</td>\n",
       "      <td>254</td>\n",
       "      <td>1</td>\n",
       "      <td>319</td>\n",
       "      <td>168.008475</td>\n",
       "    </tr>\n",
       "    <tr>\n",
       "      <th>3</th>\n",
       "      <td>강 서 구</td>\n",
       "      <td>1617</td>\n",
       "      <td>492</td>\n",
       "      <td>230</td>\n",
       "      <td>187</td>\n",
       "      <td>190</td>\n",
       "      <td>264</td>\n",
       "      <td>254</td>\n",
       "      <td>228.658537</td>\n",
       "    </tr>\n",
       "    <tr>\n",
       "      <th>4</th>\n",
       "      <td>관 악 구</td>\n",
       "      <td>3985</td>\n",
       "      <td>905</td>\n",
       "      <td>487</td>\n",
       "      <td>609</td>\n",
       "      <td>619</td>\n",
       "      <td>694</td>\n",
       "      <td>671</td>\n",
       "      <td>340.331492</td>\n",
       "    </tr>\n",
       "  </tbody>\n",
       "</table>\n",
       "</div>"
      ],
      "text/plain": [
       "     기관명    소계  2013년 이전  2014년  2015년  2016년  2017년  2018년       최근증가율\n",
       "0  강 남 구  5221      2455    430    546    765    577    448  112.668024\n",
       "1  강 동 구  1879       824     59    144    194    273    385  128.033981\n",
       "2  강 북 구  1265       472     74    145    254      1    319  168.008475\n",
       "3  강 서 구  1617       492    230    187    190    264    254  228.658537\n",
       "4  관 악 구  3985       905    487    609    619    694    671  340.331492"
      ]
     },
     "execution_count": 113,
     "metadata": {},
     "output_type": "execute_result"
    }
   ],
   "source": [
    "cctv_seoul.head()"
   ]
  },
  {
   "cell_type": "markdown",
   "metadata": {},
   "source": [
    "##### 최근 5년간 cctv가 그 이전 대비 많이 증가한 구 : 금천구 > 영등포구 > 중구 > 동작구 > 관악구"
   ]
  },
  {
   "cell_type": "code",
   "execution_count": 112,
   "metadata": {
    "ExecuteTime": {
     "end_time": "2020-03-01T17:16:24.629810Z",
     "start_time": "2020-03-01T17:16:24.618231Z"
    },
    "scrolled": false
   },
   "outputs": [
    {
     "data": {
      "text/html": [
       "<div>\n",
       "<style>\n",
       "    .dataframe thead tr:only-child th {\n",
       "        text-align: right;\n",
       "    }\n",
       "\n",
       "    .dataframe thead th {\n",
       "        text-align: left;\n",
       "    }\n",
       "\n",
       "    .dataframe tbody tr th {\n",
       "        vertical-align: top;\n",
       "    }\n",
       "</style>\n",
       "<table border=\"1\" class=\"dataframe\">\n",
       "  <thead>\n",
       "    <tr style=\"text-align: right;\">\n",
       "      <th></th>\n",
       "      <th>기관명</th>\n",
       "      <th>소계</th>\n",
       "      <th>2013년 이전</th>\n",
       "      <th>2014년</th>\n",
       "      <th>2015년</th>\n",
       "      <th>2016년</th>\n",
       "      <th>2017년</th>\n",
       "      <th>2018년</th>\n",
       "      <th>최근증가율</th>\n",
       "    </tr>\n",
       "  </thead>\n",
       "  <tbody>\n",
       "    <tr>\n",
       "      <th>7</th>\n",
       "      <td>금 천 구</td>\n",
       "      <td>1634</td>\n",
       "      <td>286</td>\n",
       "      <td>101</td>\n",
       "      <td>382</td>\n",
       "      <td>136</td>\n",
       "      <td>199</td>\n",
       "      <td>530</td>\n",
       "      <td>471.328671</td>\n",
       "    </tr>\n",
       "    <tr>\n",
       "      <th>19</th>\n",
       "      <td>영등포구</td>\n",
       "      <td>2495</td>\n",
       "      <td>459</td>\n",
       "      <td>217</td>\n",
       "      <td>366</td>\n",
       "      <td>289</td>\n",
       "      <td>371</td>\n",
       "      <td>793</td>\n",
       "      <td>443.572985</td>\n",
       "    </tr>\n",
       "    <tr>\n",
       "      <th>23</th>\n",
       "      <td>중     구</td>\n",
       "      <td>1544</td>\n",
       "      <td>304</td>\n",
       "      <td>80</td>\n",
       "      <td>245</td>\n",
       "      <td>270</td>\n",
       "      <td>317</td>\n",
       "      <td>328</td>\n",
       "      <td>407.894737</td>\n",
       "    </tr>\n",
       "    <tr>\n",
       "      <th>11</th>\n",
       "      <td>동 작 구</td>\n",
       "      <td>1780</td>\n",
       "      <td>360</td>\n",
       "      <td>503</td>\n",
       "      <td>130</td>\n",
       "      <td>254</td>\n",
       "      <td>278</td>\n",
       "      <td>255</td>\n",
       "      <td>394.444444</td>\n",
       "    </tr>\n",
       "    <tr>\n",
       "      <th>4</th>\n",
       "      <td>관 악 구</td>\n",
       "      <td>3985</td>\n",
       "      <td>905</td>\n",
       "      <td>487</td>\n",
       "      <td>609</td>\n",
       "      <td>619</td>\n",
       "      <td>694</td>\n",
       "      <td>671</td>\n",
       "      <td>340.331492</td>\n",
       "    </tr>\n",
       "  </tbody>\n",
       "</table>\n",
       "</div>"
      ],
      "text/plain": [
       "        기관명    소계  2013년 이전  2014년  2015년  2016년  2017년  2018년       최근증가율\n",
       "7     금 천 구  1634       286    101    382    136    199    530  471.328671\n",
       "19     영등포구  2495       459    217    366    289    371    793  443.572985\n",
       "23  중     구  1544       304     80    245    270    317    328  407.894737\n",
       "11    동 작 구  1780       360    503    130    254    278    255  394.444444\n",
       "4     관 악 구  3985       905    487    609    619    694    671  340.331492"
      ]
     },
     "execution_count": 112,
     "metadata": {},
     "output_type": "execute_result"
    }
   ],
   "source": [
    "cctv_seoul.sort_values(by='최근증가율', ascending=False).head()"
   ]
  },
  {
   "cell_type": "code",
   "execution_count": null,
   "metadata": {},
   "outputs": [],
   "source": []
  }
 ],
 "metadata": {
  "kernelspec": {
   "display_name": "Python 3",
   "language": "python",
   "name": "python3"
  },
  "language_info": {
   "codemirror_mode": {
    "name": "ipython",
    "version": 3
   },
   "file_extension": ".py",
   "mimetype": "text/x-python",
   "name": "python",
   "nbconvert_exporter": "python",
   "pygments_lexer": "ipython3",
   "version": "3.6.10"
  },
  "toc": {
   "base_numbering": "1",
   "nav_menu": {},
   "number_sections": true,
   "sideBar": true,
   "skip_h1_title": false,
   "title_cell": "Table of Contents",
   "title_sidebar": "Table of Contents",
   "toc_cell": false,
   "toc_position": {
    "height": "811px",
    "left": "1848px",
    "top": "210px",
    "width": "260.344px"
   },
   "toc_section_display": true,
   "toc_window_display": true
  },
  "varInspector": {
   "cols": {
    "lenName": 16,
    "lenType": 16,
    "lenVar": 40
   },
   "kernels_config": {
    "python": {
     "delete_cmd_postfix": "",
     "delete_cmd_prefix": "del ",
     "library": "var_list.py",
     "varRefreshCmd": "print(var_dic_list())"
    },
    "r": {
     "delete_cmd_postfix": ") ",
     "delete_cmd_prefix": "rm(",
     "library": "var_list.r",
     "varRefreshCmd": "cat(var_dic_list()) "
    }
   },
   "oldHeight": 798,
   "position": {
    "height": "794px",
    "left": "1960px",
    "right": "20px",
    "top": "195px",
    "width": "457px"
   },
   "types_to_exclude": [
    "module",
    "function",
    "builtin_function_or_method",
    "instance",
    "_Feature"
   ],
   "varInspector_section_display": "block",
   "window_display": true
  }
 },
 "nbformat": 4,
 "nbformat_minor": 4
}
